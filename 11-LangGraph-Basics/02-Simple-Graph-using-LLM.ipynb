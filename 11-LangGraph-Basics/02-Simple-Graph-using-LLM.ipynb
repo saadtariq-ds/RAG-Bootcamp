{
 "cells": [
  {
   "cell_type": "markdown",
   "id": "3cf5510c",
   "metadata": {},
   "source": [
    "## Setup and Import Libraries"
   ]
  },
  {
   "cell_type": "code",
   "execution_count": 1,
   "id": "f4b609f7",
   "metadata": {},
   "outputs": [],
   "source": [
    "import os\n",
    "from typing_extensions import TypedDict\n",
    "from typing import Annotated\n",
    "from langgraph.graph.message import add_messages\n",
    "from langgraph.graph import StateGraph, START, END\n",
    "from langchain.chat_models import init_chat_model\n",
    "from dotenv import load_dotenv"
   ]
  },
  {
   "cell_type": "code",
   "execution_count": 2,
   "id": "706e3590",
   "metadata": {},
   "outputs": [
    {
     "data": {
      "text/plain": [
       "True"
      ]
     },
     "execution_count": 2,
     "metadata": {},
     "output_type": "execute_result"
    }
   ],
   "source": [
    "load_dotenv()"
   ]
  },
  {
   "cell_type": "code",
   "execution_count": 3,
   "id": "19c04202",
   "metadata": {},
   "outputs": [],
   "source": [
    "os.environ[\"GROQ_API_KEY\"]=os.getenv(\"GROQ_API_KEY\")"
   ]
  },
  {
   "cell_type": "code",
   "execution_count": 4,
   "id": "a30dc6bc",
   "metadata": {},
   "outputs": [
    {
     "data": {
      "text/plain": [
       "AIMessage(content=\"Hey Saad,\\n\\nThat's great! Cricket is a fantastic sport. 🏏\\n\\nWhat position do you like to play? \\n\\nDo you have a favorite team or player? 😊\\n\\n\", additional_kwargs={}, response_metadata={'token_usage': {'completion_tokens': 42, 'prompt_tokens': 19, 'total_tokens': 61, 'completion_time': 0.076363636, 'prompt_time': 0.001325299, 'queue_time': 0.25533085, 'total_time': 0.077688935}, 'model_name': 'gemma2-9b-it', 'system_fingerprint': 'fp_10c08bf97d', 'service_tier': 'on_demand', 'finish_reason': 'stop', 'logprobs': None}, id='run--7a380d51-a7ab-486e-aa91-146cebdae61e-0', usage_metadata={'input_tokens': 19, 'output_tokens': 42, 'total_tokens': 61})"
      ]
     },
     "execution_count": 4,
     "metadata": {},
     "output_type": "execute_result"
    }
   ],
   "source": [
    "llm=init_chat_model(model=\"groq:gemma2-9b-it\")\n",
    "llm.invoke(\"Hey I am Saad and i like to play cricket\")"
   ]
  },
  {
   "cell_type": "markdown",
   "id": "11edf7bd",
   "metadata": {},
   "source": [
    "## Creating Nodes"
   ]
  },
  {
   "cell_type": "code",
   "execution_count": 5,
   "id": "1767725a",
   "metadata": {},
   "outputs": [],
   "source": [
    "class State(TypedDict):\n",
    "    messages:Annotated[list,add_messages]"
   ]
  },
  {
   "cell_type": "code",
   "execution_count": 6,
   "id": "b0e50861",
   "metadata": {},
   "outputs": [],
   "source": [
    "def superbot(state:State):\n",
    "    return {\"messages\":[llm.invoke(state['messages'])]}"
   ]
  },
  {
   "cell_type": "code",
   "execution_count": 7,
   "id": "04f94015",
   "metadata": {},
   "outputs": [],
   "source": [
    "graph = StateGraph(State)\n",
    "\n",
    "# Add Nodes\n",
    "graph.add_node(node=\"SuperBot\", action=superbot)\n",
    "\n",
    "# Add Edges\n",
    "graph.add_edge(start_key=START, end_key=\"SuperBot\")\n",
    "graph.add_edge(start_key=\"SuperBot\", end_key=END)\n",
    "\n",
    "# Compile Graph\n",
    "compiled_graph = graph.compile()"
   ]
  },
  {
   "cell_type": "code",
   "execution_count": 8,
   "id": "658c6070",
   "metadata": {},
   "outputs": [
    {
     "data": {
      "image/png": "[encoded data removed]",
      "text/plain": [
       "<IPython.core.display.Image object>"
      ]
     },
     "metadata": {},
     "output_type": "display_data"
    }
   ],
   "source": [
    "from IPython.display import Image, display\n",
    "display(Image(compiled_graph.get_graph().draw_mermaid_png()))"
   ]
  },
  {
   "cell_type": "markdown",
   "id": "749f7fc5",
   "metadata": {},
   "source": [
    "### Invoation"
   ]
  },
  {
   "cell_type": "code",
   "execution_count": 9,
   "id": "2af3501c",
   "metadata": {},
   "outputs": [
    {
     "data": {
      "text/plain": [
       "{'messages': [HumanMessage(content='Hi! My name is Saad and I like to play Cricket', additional_kwargs={}, response_metadata={}, id='cba157ad-e875-4fca-8539-1879ebd7442d'),\n",
       "  AIMessage(content=\"Hi Saad,\\n\\nIt's nice to meet you! Cricket is a great sport. 🏏  \\n\\nDo you have a favorite team or player? 😊  \\n\\n\", additional_kwargs={}, response_metadata={'token_usage': {'completion_tokens': 37, 'prompt_tokens': 21, 'total_tokens': 58, 'completion_time': 0.067272727, 'prompt_time': 0.001338148, 'queue_time': 0.258187941, 'total_time': 0.068610875}, 'model_name': 'gemma2-9b-it', 'system_fingerprint': 'fp_10c08bf97d', 'service_tier': 'on_demand', 'finish_reason': 'stop', 'logprobs': None}, id='run--a661c800-7ae3-4d94-aa77-b5a7458cc572-0', usage_metadata={'input_tokens': 21, 'output_tokens': 37, 'total_tokens': 58})]}"
      ]
     },
     "execution_count": 9,
     "metadata": {},
     "output_type": "execute_result"
    }
   ],
   "source": [
    "query = \"Hi! My name is Saad and I like to play Cricket\"\n",
    "\n",
    "compiled_graph.invoke({'messages':query})"
   ]
  },
  {
   "cell_type": "markdown",
   "id": "e356139d",
   "metadata": {},
   "source": [
    "### Streaming The Responses"
   ]
  },
  {
   "cell_type": "code",
   "execution_count": 10,
   "id": "ac6a7394",
   "metadata": {},
   "outputs": [
    {
     "name": "stdout",
     "output_type": "stream",
     "text": [
      "{'SuperBot': {'messages': [AIMessage(content=\"Hi Saad, it's nice to meet you!\\n\\nWhat can I do for you today?\\n\", additional_kwargs={}, response_metadata={'token_usage': {'completion_tokens': 23, 'prompt_tokens': 15, 'total_tokens': 38, 'completion_time': 0.041818182, 'prompt_time': 0.001252098, 'queue_time': 0.256984441, 'total_time': 0.04307028}, 'model_name': 'gemma2-9b-it', 'system_fingerprint': 'fp_10c08bf97d', 'service_tier': 'on_demand', 'finish_reason': 'stop', 'logprobs': None}, id='run--6a17a4b0-4108-4e95-a92b-971c57293488-0', usage_metadata={'input_tokens': 15, 'output_tokens': 23, 'total_tokens': 38})]}}\n"
     ]
    }
   ],
   "source": [
    "query = \"Hi! My name is Saad\"\n",
    "\n",
    "for event in compiled_graph.stream({\"messages\":query}):\n",
    "    print(event)"
   ]
  },
  {
   "cell_type": "code",
   "execution_count": 11,
   "id": "b7cb9861",
   "metadata": {},
   "outputs": [
    {
     "name": "stdout",
     "output_type": "stream",
     "text": [
      "{'messages': [HumanMessage(content='Hi! My name is Saad', additional_kwargs={}, response_metadata={}, id='2f3903b6-76de-4b91-a7b4-9f184fb31ba1')]}\n",
      "{'messages': [HumanMessage(content='Hi! My name is Saad', additional_kwargs={}, response_metadata={}, id='2f3903b6-76de-4b91-a7b4-9f184fb31ba1'), AIMessage(content=\"Hi Saad, it's nice to meet you! 👋\\n\\nWhat can I do for you today? 😄  \\n\", additional_kwargs={}, response_metadata={'token_usage': {'completion_tokens': 26, 'prompt_tokens': 15, 'total_tokens': 41, 'completion_time': 0.047272727, 'prompt_time': 0.001245998, 'queue_time': 0.253730562, 'total_time': 0.048518725}, 'model_name': 'gemma2-9b-it', 'system_fingerprint': 'fp_10c08bf97d', 'service_tier': 'on_demand', 'finish_reason': 'stop', 'logprobs': None}, id='run--db2f4b52-16fa-4539-a965-42a3bd51e4bc-0', usage_metadata={'input_tokens': 15, 'output_tokens': 26, 'total_tokens': 41})]}\n"
     ]
    }
   ],
   "source": [
    "query = \"Hi! My name is Saad\"\n",
    "\n",
    "for event in compiled_graph.stream({\"messages\":query}, stream_mode=\"values\"):\n",
    "    print(event)"
   ]
  },
  {
   "cell_type": "code",
   "execution_count": 12,
   "id": "c6752078",
   "metadata": {},
   "outputs": [
    {
     "name": "stdout",
     "output_type": "stream",
     "text": [
      "{'SuperBot': {'messages': [AIMessage(content=\"Hi Saad, it's nice to meet you! 👋\\n\\nWhat can I do for you today?\\n\", additional_kwargs={}, response_metadata={'token_usage': {'completion_tokens': 24, 'prompt_tokens': 15, 'total_tokens': 39, 'completion_time': 0.043636364, 'prompt_time': 0.001245439, 'queue_time': 0.255060411, 'total_time': 0.044881803}, 'model_name': 'gemma2-9b-it', 'system_fingerprint': 'fp_10c08bf97d', 'service_tier': 'on_demand', 'finish_reason': 'stop', 'logprobs': None}, id='run--44669c38-9eaa-4f68-96a9-61502c98fe19-0', usage_metadata={'input_tokens': 15, 'output_tokens': 24, 'total_tokens': 39})]}}\n"
     ]
    }
   ],
   "source": [
    "query = \"Hi! My name is Saad\"\n",
    "\n",
    "for event in compiled_graph.stream({\"messages\":query}, stream_mode=\"updates\"):\n",
    "    print(event)"
   ]
  },
  {
   "cell_type": "code",
   "execution_count": null,
   "id": "c88a12aa",
   "metadata": {},
   "outputs": [],
   "source": []
  }
 ],
 "metadata": {
  "kernelspec": {
   "display_name": "RAG-Bootcamp",
   "language": "python",
   "name": "python3"
  },
  "language_info": {
   "codemirror_mode": {
    "name": "ipython",
    "version": 3
   },
   "file_extension": ".py",
   "mimetype": "text/x-python",
   "name": "python",
   "nbconvert_exporter": "python",
   "pygments_lexer": "ipython3",
   "version": "3.12.7"
  }
 },
 "nbformat": 4,
 "nbformat_minor": 5
}
