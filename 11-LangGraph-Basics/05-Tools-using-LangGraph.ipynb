{
 "cells": [
  {
   "cell_type": "markdown",
   "id": "6d1f8336",
   "metadata": {},
   "source": [
    "## Setup and Import Libraries"
   ]
  },
  {
   "cell_type": "code",
   "execution_count": 1,
   "id": "2c8950d8",
   "metadata": {},
   "outputs": [],
   "source": [
    "import os\n",
    "from pprint import pprint\n",
    "from typing import Annotated\n",
    "from typing_extensions import TypedDict\n",
    "from langchain_core.messages import AnyMessage\n",
    "from langchain.chat_models import init_chat_model\n",
    "from langchain_core.messages import AIMessage,HumanMessage\n",
    "from langgraph.graph.message import add_messages\n",
    "from langgraph.graph import StateGraph, START, END\n",
    "from langgraph.prebuilt import ToolNode\n",
    "from langgraph.prebuilt import tools_condition\n",
    "from IPython.display import Image, display\n",
    "from dotenv import load_dotenv\n"
   ]
  },
  {
   "cell_type": "code",
   "execution_count": 2,
   "id": "bebde61d",
   "metadata": {},
   "outputs": [
    {
     "data": {
      "text/plain": [
       "True"
      ]
     },
     "execution_count": 2,
     "metadata": {},
     "output_type": "execute_result"
    }
   ],
   "source": [
    "load_dotenv()"
   ]
  },
  {
   "cell_type": "code",
   "execution_count": 3,
   "id": "0cfb5e87",
   "metadata": {},
   "outputs": [],
   "source": [
    "os.environ[\"OPENAI_API_KEY\"] = os.getenv(\"OPENAI_API_KEY\")"
   ]
  },
  {
   "cell_type": "code",
   "execution_count": 4,
   "id": "ec67f3fd",
   "metadata": {},
   "outputs": [],
   "source": [
    "llm = init_chat_model(model=\"openai:o4-mini\")"
   ]
  },
  {
   "cell_type": "markdown",
   "id": "b9f5df99",
   "metadata": {},
   "source": [
    "## How to use chat messages as our graph state\n",
    "\n",
    "### Messages\n",
    "\n",
    "We can use messages which can be used to capture different roles within a conversation.\n",
    "LangChain has various message types including HumanMessage, AIMessage, SystemMessage and ToolMessage.\n",
    "These represent a message from the user, from chat model, for the chat model to instruct behavior, and from a tool call.\n",
    "\n",
    "Every message have these important components.\n",
    "\n",
    "- content - content of the message\n",
    "- name - Specify the name of author\n",
    "- response_metadata - optionally, a dict of metadata (e.g., often populated by model provider for AIMessages)"
   ]
  },
  {
   "cell_type": "code",
   "execution_count": 5,
   "id": "b2b60d70",
   "metadata": {},
   "outputs": [
    {
     "name": "stdout",
     "output_type": "stream",
     "text": [
      "==================================\u001b[1m Ai Message \u001b[0m==================================\n",
      "Name: LLMModel\n",
      "\n",
      "Please tell me how can I help\n",
      "================================\u001b[1m Human Message \u001b[0m=================================\n",
      "Name: Saad\n",
      "\n",
      "I want to learn coding\n",
      "==================================\u001b[1m Ai Message \u001b[0m==================================\n",
      "Name: LLMModel\n",
      "\n",
      "Which programming language you want to learn\n",
      "================================\u001b[1m Human Message \u001b[0m=================================\n",
      "Name: Saad\n",
      "\n",
      "I want to learn python programming language\n"
     ]
    }
   ],
   "source": [
    "messages=[AIMessage(content=f\"Please tell me how can I help\", name=\"LLMModel\")]\n",
    "messages.append(HumanMessage(content=f\"I want to learn coding\", name=\"Saad\"))\n",
    "messages.append(AIMessage(content=f\"Which programming language you want to learn\", name=\"LLMModel\"))\n",
    "messages.append(HumanMessage(content=f\"I want to learn python programming language\", name=\"Saad\"))\n",
    "\n",
    "for message in messages:\n",
    "    message.pretty_print()"
   ]
  },
  {
   "cell_type": "markdown",
   "id": "29cdd6ea",
   "metadata": {},
   "source": [
    "## Chat Models"
   ]
  },
  {
   "cell_type": "code",
   "execution_count": 6,
   "id": "26cdb9a2",
   "metadata": {},
   "outputs": [
    {
     "data": {
      "text/plain": [
       "AIMessage(content='Here’s a step‐by‐step plan to get you started with Python:\\n\\n1. Install Python & Pick an Editor  \\n   • Download Python (3.x) from python.org and run the installer (check “Add to PATH”).  \\n   • Choose an editor/IDE:  \\n     – VS Code (free, extensible)  \\n     – PyCharm Community Edition  \\n     – Jupyter Notebook (great for data‐science experiments)  \\n\\n2. Learn the Basics  \\n   a. Syntax & Data Types  \\n     – Variables, numbers (int, float), strings  \\n     – Lists, tuples, dictionaries, sets  \\n   b. Control Flow  \\n     – if/elif/else  \\n     – for loops, while loops  \\n     – list comprehensions  \\n   c. Functions & Modules  \\n     – def, return, parameters  \\n     – import statements  \\n   d. File I/O & Exceptions  \\n     – open/read/write files  \\n     – try/except blocks  \\n\\n   Sample “Hello, world!”  \\n     ```python\\n     def greet(name):\\n         return f\"Hello, {name}!\"\\n     print(greet(\"Saad\"))\\n     ```\\n\\n3. Practice with Small Projects  \\n   • Calculator (basic arithmetic)  \\n   • To-do list CLI app (read/write tasks to a file)  \\n   • Web scraper using requests + BeautifulSoup  \\n   • Simple game (guess-the-number)  \\n\\n4. Use Online Tutorials & Exercises  \\n   • Interactive courses:  \\n     – Codecademy’s Python track  \\n     – freeCodeCamp (YouTube or interactive site)  \\n     – Coursera/edX (“Python for Everybody”)  \\n   • Exercise sites:  \\n     – HackerRank, LeetCode (easy Python challenges)  \\n     – Codewars (kata practice)  \\n\\n5. Read a Beginner Book  \\n   • “Automate the Boring Stuff with Python” by Al Sweigart  \\n   • “Python Crash Course” by Eric Matthes  \\n\\n6. Join the Community  \\n   • Stack Overflow (search & ask questions)  \\n   • Reddit r/learnpython  \\n   • Discord or Slack groups for Python learners  \\n\\n7. Next Steps & Specializations  \\n   • Web Development: Flask, Django  \\n   • Data Science: NumPy, pandas, Matplotlib, Jupyter  \\n   • Machine Learning: scikit-learn, TensorFlow, PyTorch  \\n   • Automation & Scripting: os, shutil, subprocess modules  \\n\\n8. Build a Portfolio  \\n   • Host code on GitHub  \\n   • Put small projects on your portfolio site  \\n   • Contribute to open-source or join hackathons  \\n\\nTips for steady progress:  \\n– Code every day, even 20–30 minutes.  \\n– Read other people’s code on GitHub.  \\n– When stuck, Google the exact error message.  \\n\\nGood luck on your Python journey!', additional_kwargs={'refusal': None}, response_metadata={'token_usage': {'completion_tokens': 796, 'prompt_tokens': 62, 'total_tokens': 858, 'completion_tokens_details': {'accepted_prediction_tokens': 0, 'audio_tokens': 0, 'reasoning_tokens': 192, 'rejected_prediction_tokens': 0}, 'prompt_tokens_details': {'audio_tokens': 0, 'cached_tokens': 0}}, 'model_name': 'o4-mini-2025-04-16', 'system_fingerprint': None, 'id': 'chatcmpl-CEuuKBOmTPjRILlzpCEwnf4MFvQNz', 'service_tier': 'default', 'finish_reason': 'stop', 'logprobs': None}, id='run--5ba2223b-b706-4de4-960a-8f72ee5f33f2-0', usage_metadata={'input_tokens': 62, 'output_tokens': 796, 'total_tokens': 858, 'input_token_details': {'audio': 0, 'cache_read': 0}, 'output_token_details': {'audio': 0, 'reasoning': 192}})"
      ]
     },
     "execution_count": 6,
     "metadata": {},
     "output_type": "execute_result"
    }
   ],
   "source": [
    "result = llm.invoke(input=messages)\n",
    "result"
   ]
  },
  {
   "cell_type": "code",
   "execution_count": 7,
   "id": "96443df5",
   "metadata": {},
   "outputs": [
    {
     "data": {
      "text/plain": [
       "{'token_usage': {'completion_tokens': 796,\n",
       "  'prompt_tokens': 62,\n",
       "  'total_tokens': 858,\n",
       "  'completion_tokens_details': {'accepted_prediction_tokens': 0,\n",
       "   'audio_tokens': 0,\n",
       "   'reasoning_tokens': 192,\n",
       "   'rejected_prediction_tokens': 0},\n",
       "  'prompt_tokens_details': {'audio_tokens': 0, 'cached_tokens': 0}},\n",
       " 'model_name': 'o4-mini-2025-04-16',\n",
       " 'system_fingerprint': None,\n",
       " 'id': 'chatcmpl-CEuuKBOmTPjRILlzpCEwnf4MFvQNz',\n",
       " 'service_tier': 'default',\n",
       " 'finish_reason': 'stop',\n",
       " 'logprobs': None}"
      ]
     },
     "execution_count": 7,
     "metadata": {},
     "output_type": "execute_result"
    }
   ],
   "source": [
    "result.response_metadata"
   ]
  },
  {
   "cell_type": "markdown",
   "id": "b196e7ae",
   "metadata": {},
   "source": [
    "## Tools\n",
    "\n",
    "Tools can be integrated with the LLM models to interact with external systems. External systems can be API's, third party tools.\n",
    "\n",
    "Whenever a query is asked the model can choose to call the tool and this query is based on the \n",
    "natural language input and this will return an output that matches the tool's schema"
   ]
  },
  {
   "cell_type": "code",
   "execution_count": 8,
   "id": "8410cb9e",
   "metadata": {},
   "outputs": [],
   "source": [
    "def add(a:int, b:int)-> int:\n",
    "    \"\"\" Add a and b\n",
    "    Args:\n",
    "        a (int): first int\n",
    "        b (int): second int\n",
    "\n",
    "    Returns:\n",
    "        int\n",
    "    \"\"\"\n",
    "    return a + b"
   ]
  },
  {
   "cell_type": "markdown",
   "id": "430dfa67",
   "metadata": {},
   "source": [
    "## Binding Tool with LLM"
   ]
  },
  {
   "cell_type": "code",
   "execution_count": 9,
   "id": "ef955733",
   "metadata": {},
   "outputs": [],
   "source": [
    "llm_with_tools = llm.bind_tools([add])"
   ]
  },
  {
   "cell_type": "code",
   "execution_count": 10,
   "id": "d5519f79",
   "metadata": {},
   "outputs": [],
   "source": [
    "tool_call = llm_with_tools.invoke([HumanMessage(content=f\"What is 2 plus 2\", name=\"Saad\")])"
   ]
  },
  {
   "cell_type": "code",
   "execution_count": 11,
   "id": "bf4f0267",
   "metadata": {},
   "outputs": [
    {
     "data": {
      "text/plain": [
       "[]"
      ]
     },
     "execution_count": 11,
     "metadata": {},
     "output_type": "execute_result"
    }
   ],
   "source": [
    "tool_call.tool_calls"
   ]
  },
  {
   "cell_type": "markdown",
   "id": "85a4fcfe",
   "metadata": {},
   "source": [
    "## Using Messages as State"
   ]
  },
  {
   "cell_type": "code",
   "execution_count": 12,
   "id": "5ea4da52",
   "metadata": {},
   "outputs": [],
   "source": [
    "class State(TypedDict):\n",
    "    messages:list[AnyMessage]"
   ]
  },
  {
   "cell_type": "markdown",
   "id": "b65dc121",
   "metadata": {},
   "source": [
    "## Reducers\n",
    "\n",
    "Now, we have a minor problem!\n",
    "\n",
    "As we discussed, each node will return a new value for our state key messages.\n",
    "\n",
    "But, this new value will override the prior messages value.\n",
    "\n",
    "As our graph runs, we want to append messages to our messages state key.\n",
    "\n",
    "We can use reducer functions to address this.\n",
    "\n",
    "Reducers allow us to specify how state updates are performed.\n",
    "\n",
    "If no reducer function is specified, then it is assumed that updates to the key should override it as we saw before.\n",
    "\n",
    "But, to append messages, we can use the pre-built add_messages reducer.\n",
    "\n",
    "This ensures that any messages are appended to the existing list of messages.\n",
    "\n",
    "We simply need to annotate our messages key with the add_messages reducer function as metadata."
   ]
  },
  {
   "cell_type": "code",
   "execution_count": 13,
   "id": "93a55a8c",
   "metadata": {},
   "outputs": [],
   "source": [
    "class State(TypedDict):\n",
    "    messages:Annotated[list[AnyMessage], add_messages]"
   ]
  },
  {
   "cell_type": "markdown",
   "id": "6b76bf89",
   "metadata": {},
   "source": [
    "### Reducers with add_messages"
   ]
  },
  {
   "cell_type": "code",
   "execution_count": 14,
   "id": "0064013c",
   "metadata": {},
   "outputs": [
    {
     "data": {
      "text/plain": [
       "[AIMessage(content='Please tell me how can I help', additional_kwargs={}, response_metadata={}, name='LLMModel'),\n",
       " HumanMessage(content='I want to learn coding', additional_kwargs={}, response_metadata={}, name='Saad')]"
      ]
     },
     "execution_count": 14,
     "metadata": {},
     "output_type": "execute_result"
    }
   ],
   "source": [
    "initial_messages = [AIMessage(content=f\"Please tell me how can I help\", name=\"LLMModel\")]\n",
    "initial_messages.append(HumanMessage(content=f\"I want to learn coding\", name=\"Saad\"))\n",
    "\n",
    "initial_messages"
   ]
  },
  {
   "cell_type": "code",
   "execution_count": 15,
   "id": "f794cecd",
   "metadata": {},
   "outputs": [
    {
     "data": {
      "text/plain": [
       "AIMessage(content='Which programming language you want to learn', additional_kwargs={}, response_metadata={}, name='LLMModel')"
      ]
     },
     "execution_count": 15,
     "metadata": {},
     "output_type": "execute_result"
    }
   ],
   "source": [
    "ai_message = AIMessage(content=f\"Which programming language you want to learn\", name=\"LLMModel\")\n",
    "\n",
    "ai_message"
   ]
  },
  {
   "cell_type": "code",
   "execution_count": 16,
   "id": "5a896036",
   "metadata": {},
   "outputs": [
    {
     "data": {
      "text/plain": [
       "[AIMessage(content='Please tell me how can I help', additional_kwargs={}, response_metadata={}, name='LLMModel', id='928c6523-e265-46c8-8ee1-12707bf38ab6'),\n",
       " HumanMessage(content='I want to learn coding', additional_kwargs={}, response_metadata={}, name='Saad', id='6fd24bef-3db6-4a3e-9d8b-b9b51964aa90'),\n",
       " AIMessage(content='Which programming language you want to learn', additional_kwargs={}, response_metadata={}, name='LLMModel', id='482b7569-8184-45b0-aa95-ab336745e9f7')]"
      ]
     },
     "execution_count": 16,
     "metadata": {},
     "output_type": "execute_result"
    }
   ],
   "source": [
    "add_messages(initial_messages, ai_message)"
   ]
  },
  {
   "cell_type": "markdown",
   "id": "9bb32da9",
   "metadata": {},
   "source": [
    "## Chatbot Node Functionality"
   ]
  },
  {
   "cell_type": "code",
   "execution_count": 17,
   "id": "44408878",
   "metadata": {},
   "outputs": [],
   "source": [
    "def llm_tool(state:State):\n",
    "    return {\"messages\": [llm_with_tools.invoke(input=state[\"messages\"])]}"
   ]
  },
  {
   "cell_type": "markdown",
   "id": "ae779c61",
   "metadata": {},
   "source": [
    "## Build Graph"
   ]
  },
  {
   "cell_type": "code",
   "execution_count": 18,
   "id": "0c708338",
   "metadata": {},
   "outputs": [
    {
     "data": {
      "image/png": "[encoded data removed]",
      "text/plain": [
       "<IPython.core.display.Image object>"
      ]
     },
     "metadata": {},
     "output_type": "display_data"
    }
   ],
   "source": [
    "graph_builder = StateGraph(State)\n",
    "\n",
    "# Add Nodes\n",
    "graph_builder.add_node(node=\"llm_tool\", action=llm_tool)\n",
    "\n",
    "# Add Edges\n",
    "graph_builder.add_edge(start_key=START, end_key=\"llm_tool\")\n",
    "graph_builder.add_edge(start_key=\"llm_tool\", end_key=END)\n",
    "\n",
    "# Compile Graph\n",
    "compiled_graph = graph_builder.compile()\n",
    "\n",
    "# Display Graph\n",
    "display(Image(compiled_graph.get_graph().draw_mermaid_png()))"
   ]
  },
  {
   "cell_type": "markdown",
   "id": "d1455c6a",
   "metadata": {},
   "source": [
    "## Invocation"
   ]
  },
  {
   "cell_type": "code",
   "execution_count": 19,
   "id": "29bb6695",
   "metadata": {},
   "outputs": [
    {
     "name": "stdout",
     "output_type": "stream",
     "text": [
      "================================\u001b[1m Human Message \u001b[0m=================================\n",
      "\n",
      "What is 2 plus 2\n",
      "==================================\u001b[1m Ai Message \u001b[0m==================================\n",
      "\n",
      "2 plus 2 equals 4.\n"
     ]
    }
   ],
   "source": [
    "messages = compiled_graph.invoke({\"messages\":\"What is 2 plus 2\"})\n",
    "\n",
    "for message in messages[\"messages\"]:\n",
    "    message.pretty_print()"
   ]
  },
  {
   "cell_type": "markdown",
   "id": "0e7876e4",
   "metadata": {},
   "source": [
    "## Adding Tool Node"
   ]
  },
  {
   "cell_type": "code",
   "execution_count": 21,
   "id": "078ea0cc",
   "metadata": {},
   "outputs": [],
   "source": [
    "tools=[add]"
   ]
  },
  {
   "cell_type": "code",
   "execution_count": 22,
   "id": "c86c2a13",
   "metadata": {},
   "outputs": [
    {
     "data": {
      "image/png": "[encoded data removed]",
      "text/plain": [
       "<IPython.core.display.Image object>"
      ]
     },
     "metadata": {},
     "output_type": "display_data"
    }
   ],
   "source": [
    "graph_builder = StateGraph(State)\n",
    "\n",
    "## Add nodes\n",
    "graph_builder.add_node(node=\"llm_tool\", action=llm_tool)\n",
    "graph_builder.add_node(node=\"tools\", action=ToolNode(tools))\n",
    "\n",
    "## Add Edge\n",
    "graph_builder.add_edge(start_key=START, end_key=\"llm_tool\")\n",
    "graph_builder.add_conditional_edges(\n",
    "    source=\"llm_tool\",\n",
    "    # If the latest message (result) from assistant is a tool call -> tools_condition routes to tools\n",
    "    # If the latest message (result) from assistant is a not a tool call -> tools_condition routes to END\n",
    "    path=tools_condition\n",
    ")\n",
    "graph_builder.add_edge(start_key=\"tools\", end_key=END)\n",
    "\n",
    "# Compile Graph\n",
    "compiled_graph = graph_builder.compile()\n",
    "\n",
    "# Display Graph\n",
    "display(Image(compiled_graph.get_graph().draw_mermaid_png()))"
   ]
  },
  {
   "cell_type": "code",
   "execution_count": 23,
   "id": "51eec533",
   "metadata": {},
   "outputs": [
    {
     "name": "stdout",
     "output_type": "stream",
     "text": [
      "================================\u001b[1m Human Message \u001b[0m=================================\n",
      "\n",
      "What is 2 plus 2\n",
      "==================================\u001b[1m Ai Message \u001b[0m==================================\n",
      "Tool Calls:\n",
      "  add (call_SPcW05p99tjExUSOrIwpy5aG)\n",
      " Call ID: call_SPcW05p99tjExUSOrIwpy5aG\n",
      "  Args:\n",
      "    a: 2\n",
      "    b: 2\n",
      "=================================\u001b[1m Tool Message \u001b[0m=================================\n",
      "Name: add\n",
      "\n",
      "4\n"
     ]
    }
   ],
   "source": [
    "messages = compiled_graph.invoke({\"messages\":\"What is 2 plus 2\"})\n",
    "\n",
    "for message in messages[\"messages\"]:\n",
    "    message.pretty_print()"
   ]
  },
  {
   "cell_type": "code",
   "execution_count": 24,
   "id": "62b29ecb",
   "metadata": {},
   "outputs": [
    {
     "name": "stdout",
     "output_type": "stream",
     "text": [
      "================================\u001b[1m Human Message \u001b[0m=================================\n",
      "\n",
      "What Machine Learning\n",
      "==================================\u001b[1m Ai Message \u001b[0m==================================\n",
      "\n",
      "Machine learning (ML) is a subfield of artificial intelligence (AI) focused on building algorithms and statistical models that enable computers to “learn” patterns and make predictions or decisions without being explicitly programmed for every specific task. Instead of following step-by-step instructions written by a programmer, an ML system identifies structure in data and uses it to infer rules or predictions.\n",
      "\n",
      "Key points:\n",
      "\n",
      "1. How it works  \n",
      "   • Data collection: gather historical examples (features and, in supervised cases, labels)  \n",
      "   • Feature engineering: clean, normalize and transform raw inputs into useful numerical representations  \n",
      "   • Model training: use an algorithm to adjust internal parameters so the model’s outputs match known answers (supervised) or discover hidden structure (unsupervised)  \n",
      "   • Evaluation: measure performance on held-out data to estimate real-world accuracy  \n",
      "   • Prediction/deployment: apply the trained model to new, unseen data  \n",
      "\n",
      "2. Main learning paradigms  \n",
      "   • Supervised learning: model learns from labeled examples  \n",
      "     – Classification (e.g., spam vs. non-spam email)  \n",
      "     – Regression (e.g., predicting housing prices)  \n",
      "   • Unsupervised learning: model finds patterns without labels  \n",
      "     – Clustering (e.g., customer segmentation)  \n",
      "     – Dimensionality reduction (e.g., PCA for visualization)  \n",
      "   • Semi-supervised learning: mix of labeled and unlabeled data  \n",
      "   • Reinforcement learning: an agent learns by trial and error to maximize rewards (e.g., game playing, robotics)  \n",
      "\n",
      "3. Common algorithms  \n",
      "   • Linear models: linear regression, logistic regression  \n",
      "   • Tree-based: decision trees, random forests, gradient boosting machines  \n",
      "   • Support vector machines (SVM)  \n",
      "   • Neural networks and deep learning (CNNs for images, RNNs or Transformers for sequence data)  \n",
      "   • Clustering algorithms: k-means, hierarchical clustering  \n",
      "   • Probabilistic models: naive Bayes, Gaussian mixture models  \n",
      "\n",
      "4. Typical applications  \n",
      "   • Computer vision (face recognition, object detection)  \n",
      "   • Natural language processing (machine translation, sentiment analysis)  \n",
      "   • Recommendation systems (Netflix, Amazon)  \n",
      "   • Fraud detection and anomaly detection  \n",
      "   • Autonomous vehicles and robotics  \n",
      "   • Predictive maintenance, healthcare diagnostics  \n",
      "\n",
      "5. Challenges and considerations  \n",
      "   • Data quality and quantity: more and cleaner data generally improve model accuracy  \n",
      "   • Overfitting vs. underfitting: balancing model complexity to generalize well  \n",
      "   • Interpretability: understanding why a model makes a particular decision  \n",
      "   • Fairness and bias: ensuring models don’t propagate or amplify societal biases  \n",
      "   • Deployment and monitoring: models drift over time and need upkeep  \n",
      "\n",
      "With the right data, tools and expertise, machine learning can automate complex tasks, uncover hidden insights, and drive smarter decision-making across nearly every industry.\n"
     ]
    }
   ],
   "source": [
    "messages = compiled_graph.invoke({\"messages\":\"What Machine Learning\"})\n",
    "\n",
    "for message in messages[\"messages\"]:\n",
    "    message.pretty_print()"
   ]
  },
  {
   "cell_type": "code",
   "execution_count": null,
   "id": "697dc41d",
   "metadata": {},
   "outputs": [],
   "source": []
  }
 ],
 "metadata": {
  "kernelspec": {
   "display_name": "RAG-Bootcamp",
   "language": "python",
   "name": "python3"
  },
  "language_info": {
   "codemirror_mode": {
    "name": "ipython",
    "version": 3
   },
   "file_extension": ".py",
   "mimetype": "text/x-python",
   "name": "python",
   "nbconvert_exporter": "python",
   "pygments_lexer": "ipython3",
   "version": "3.12.7"
  }
 },
 "nbformat": 4,
 "nbformat_minor": 5
}
