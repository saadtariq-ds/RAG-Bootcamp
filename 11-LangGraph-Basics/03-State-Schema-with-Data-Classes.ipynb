{
 "cells": [
  {
   "cell_type": "markdown",
   "id": "15e210bc",
   "metadata": {},
   "source": [
    "## Setup and Import Libraries"
   ]
  },
  {
   "cell_type": "code",
   "execution_count": 1,
   "id": "0f346641",
   "metadata": {},
   "outputs": [],
   "source": [
    "import os\n",
    "import random\n",
    "from typing_extensions import TypedDict\n",
    "from typing import Literal\n",
    "from dataclasses import dataclass\n",
    "from langgraph.graph import StateGraph, START, END\n",
    "from IPython.display import Image, display"
   ]
  },
  {
   "cell_type": "markdown",
   "id": "93f41c9e",
   "metadata": {},
   "source": [
    "##  State Schema With DataClasses\n",
    "\n",
    "When we define a LangGraph StateGraph, we use a state schema.\n",
    "\n",
    "The state schema represents the structure and types of data that our graph will use.\n",
    "\n",
    "All nodes are expected to communicate with that schema.\n",
    "\n",
    "LangGraph offers flexibility in how you define your state schema, accommodating various Python types and validation approaches!\n",
    "\n",
    "we can use the TypedDict class from python's typing module.\n",
    "\n",
    "It allows you to specify keys and their corresponding value types.\n",
    "\n",
    "But, note that these are type hints.\n",
    "\n",
    "They can be used by static type checkers (like mypy) or IDEs to catch potential type-related errors before the code is run.\n",
    "\n",
    "But they are not enforced at runtime!"
   ]
  },
  {
   "cell_type": "code",
   "execution_count": 2,
   "id": "729d0ab1",
   "metadata": {},
   "outputs": [],
   "source": [
    "class TypedDictState(TypedDict):\n",
    "    name:str\n",
    "    game:Literal[\"Cricket\", \"Badminton\"]"
   ]
  },
  {
   "cell_type": "code",
   "execution_count": 3,
   "id": "dbdec211",
   "metadata": {},
   "outputs": [],
   "source": [
    "def play_game(state:TypedDictState):\n",
    "    print(\"---Play Game node has been called--\")\n",
    "    return {\"name\":state['name'] + \" want to play \"}\n",
    "\n",
    "def cricket(state:TypedDictState):\n",
    "    print(\"-- Cricket node has been called--\")\n",
    "    return {\"name\":state[\"name\"] + \" cricket\",\"game\":\"Cricket\"}\n",
    "\n",
    "def badminton(state:TypedDictState):\n",
    "    print(\"-- Badminton node has been called--\")\n",
    "    return {\"name\":state[\"name\"] + \" badminton\",\"game\":\"Badminton\"}"
   ]
  },
  {
   "cell_type": "code",
   "execution_count": 4,
   "id": "8a553a5d",
   "metadata": {},
   "outputs": [],
   "source": [
    "def decide_play(state:TypedDictState) -> Literal[\"Cricket\",\"Badminton\"]:\n",
    "    if random.random() < 0.5:\n",
    "        return \"Cricket\"\n",
    "    else:\n",
    "        return \"Badminton\""
   ]
  },
  {
   "cell_type": "code",
   "execution_count": 5,
   "id": "c457b0f0",
   "metadata": {},
   "outputs": [
    {
     "data": {
      "image/png": "[encoded data removed]",
      "text/plain": [
       "<IPython.core.display.Image object>"
      ]
     },
     "metadata": {},
     "output_type": "display_data"
    }
   ],
   "source": [
    "graph_builder = StateGraph(TypedDictState)\n",
    "\n",
    "# Add Nodes\n",
    "graph_builder.add_node(node=\"PlayGame\", action=play_game)\n",
    "graph_builder.add_node(node=\"Cricket\", action=cricket)\n",
    "graph_builder.add_node(node=\"Badminton\", action=badminton)\n",
    "\n",
    "# Add Edges\n",
    "graph_builder.add_edge(start_key=START, end_key=\"PlayGame\")\n",
    "graph_builder.add_conditional_edges(source=\"PlayGame\", path=decide_play)\n",
    "graph_builder.add_edge(start_key=\"Cricket\", end_key=END)\n",
    "graph_builder.add_edge(start_key=\"Badminton\", end_key=END)\n",
    "\n",
    "# Compile Graph\n",
    "compiled_graph = graph_builder.compile()\n",
    "\n",
    "# Display Graph\n",
    "display(Image(compiled_graph.get_graph().draw_mermaid_png()))"
   ]
  },
  {
   "cell_type": "code",
   "execution_count": 6,
   "id": "1d25cb49",
   "metadata": {},
   "outputs": [
    {
     "name": "stdout",
     "output_type": "stream",
     "text": [
      "---Play Game node has been called--\n",
      "-- Badminton node has been called--\n"
     ]
    },
    {
     "data": {
      "text/plain": [
       "{'name': 'Saad Tariq want to play  badminton', 'game': 'Badminton'}"
      ]
     },
     "execution_count": 6,
     "metadata": {},
     "output_type": "execute_result"
    }
   ],
   "source": [
    "compiled_graph.invoke({\"name\":\"Saad Tariq\"})"
   ]
  },
  {
   "cell_type": "code",
   "execution_count": 7,
   "id": "bd43c359",
   "metadata": {},
   "outputs": [
    {
     "name": "stdout",
     "output_type": "stream",
     "text": [
      "---Play Game node has been called--\n",
      "-- Cricket node has been called--\n"
     ]
    },
    {
     "data": {
      "text/plain": [
       "{'name': 'John Doe want to play  cricket', 'game': 'Cricket'}"
      ]
     },
     "execution_count": 7,
     "metadata": {},
     "output_type": "execute_result"
    }
   ],
   "source": [
    "compiled_graph.invoke({\"name\":\"John Doe\"})"
   ]
  },
  {
   "cell_type": "markdown",
   "id": "04659877",
   "metadata": {},
   "source": [
    "## Using Data Classes\n",
    "\n",
    "Python's dataclasses provide another way to define structured data.\n",
    "\n",
    "Dataclasses offer a concise syntax for creating classes that are primarily used to store data."
   ]
  },
  {
   "cell_type": "code",
   "execution_count": 8,
   "id": "e9efbfa3",
   "metadata": {},
   "outputs": [],
   "source": [
    "@dataclass\n",
    "class DataClassState:\n",
    "    name:str\n",
    "    game:Literal[\"Badminton\",\"Cricket\"]"
   ]
  },
  {
   "cell_type": "code",
   "execution_count": 9,
   "id": "2c0b2d46",
   "metadata": {},
   "outputs": [],
   "source": [
    "def play_game(state:DataClassState):\n",
    "    print(\"---Play Game node has been called--\")\n",
    "    return {\"name\":state.name + \" want to play \"}\n",
    "\n",
    "def cricket(state:DataClassState):\n",
    "    print(\"-- Cricket node has been called--\")\n",
    "    return {\"name\":state.name + \" cricket\",\"game\":\"Cricket\"}\n",
    "\n",
    "def badminton(state:DataClassState):\n",
    "    print(\"-- badminton node has been called--\")\n",
    "    return {\"name\":state.name + \" badminton\",\"game\":\"Badminton\"}"
   ]
  },
  {
   "cell_type": "code",
   "execution_count": 10,
   "id": "c469febd",
   "metadata": {},
   "outputs": [],
   "source": [
    "def decide_play(state:DataClassState) -> Literal[\"Cricket\",\"Badminton\"]:\n",
    "    if random.random() < 0.5:\n",
    "        return \"Cricket\"\n",
    "    else:\n",
    "        return \"Badminton\""
   ]
  },
  {
   "cell_type": "code",
   "execution_count": 11,
   "id": "917aa2f0",
   "metadata": {},
   "outputs": [
    {
     "data": {
      "image/png": "[encoded data removed]",
      "text/plain": [
       "<IPython.core.display.Image object>"
      ]
     },
     "metadata": {},
     "output_type": "display_data"
    }
   ],
   "source": [
    "graph_builder = StateGraph(DataClassState)\n",
    "\n",
    "# Add Nodes\n",
    "graph_builder.add_node(node=\"PlayGame\", action=play_game)\n",
    "graph_builder.add_node(node=\"Cricket\", action=cricket)\n",
    "graph_builder.add_node(node=\"Badminton\", action=badminton)\n",
    "\n",
    "# Add Edges\n",
    "graph_builder.add_edge(start_key=START, end_key=\"PlayGame\")\n",
    "graph_builder.add_conditional_edges(source=\"PlayGame\", path=decide_play)\n",
    "graph_builder.add_edge(start_key=\"Cricket\", end_key=END)\n",
    "graph_builder.add_edge(start_key=\"Badminton\", end_key=END)\n",
    "\n",
    "# Compile Graph\n",
    "compiled_graph = graph_builder.compile()\n",
    "\n",
    "# Display Graph\n",
    "display(Image(compiled_graph.get_graph().draw_mermaid_png()))"
   ]
  },
  {
   "cell_type": "code",
   "execution_count": 12,
   "id": "c522d31f",
   "metadata": {},
   "outputs": [
    {
     "name": "stdout",
     "output_type": "stream",
     "text": [
      "---Play Game node has been called--\n",
      "-- badminton node has been called--\n"
     ]
    },
    {
     "data": {
      "text/plain": [
       "{'name': 'Saad Tariq want to play  badminton', 'game': 'Badminton'}"
      ]
     },
     "execution_count": 12,
     "metadata": {},
     "output_type": "execute_result"
    }
   ],
   "source": [
    "compiled_graph.invoke(DataClassState(name=\"Saad Tariq\", game=\"Cricket\"))"
   ]
  },
  {
   "cell_type": "code",
   "execution_count": 14,
   "id": "b972af3a",
   "metadata": {},
   "outputs": [
    {
     "name": "stdout",
     "output_type": "stream",
     "text": [
      "---Play Game node has been called--\n",
      "-- badminton node has been called--\n"
     ]
    },
    {
     "data": {
      "text/plain": [
       "{'name': 'John Doe want to play  badminton', 'game': 'Badminton'}"
      ]
     },
     "execution_count": 14,
     "metadata": {},
     "output_type": "execute_result"
    }
   ],
   "source": [
    "compiled_graph.invoke(DataClassState(name=\"John Doe\", game=\"Badminton\"))"
   ]
  },
  {
   "cell_type": "code",
   "execution_count": null,
   "id": "d278de92",
   "metadata": {},
   "outputs": [],
   "source": []
  }
 ],
 "metadata": {
  "kernelspec": {
   "display_name": "RAG-Bootcamp",
   "language": "python",
   "name": "python3"
  },
  "language_info": {
   "codemirror_mode": {
    "name": "ipython",
    "version": 3
   },
   "file_extension": ".py",
   "mimetype": "text/x-python",
   "name": "python",
   "nbconvert_exporter": "python",
   "pygments_lexer": "ipython3",
   "version": "3.12.7"
  }
 },
 "nbformat": 4,
 "nbformat_minor": 5
}
