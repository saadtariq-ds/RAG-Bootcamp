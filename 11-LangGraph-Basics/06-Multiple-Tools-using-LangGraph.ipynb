{
 "cells": [
  {
   "cell_type": "markdown",
   "id": "b38da558",
   "metadata": {},
   "source": [
    "## Setup and Import Libraries"
   ]
  },
  {
   "cell_type": "code",
   "execution_count": 1,
   "id": "ad929939",
   "metadata": {},
   "outputs": [],
   "source": [
    "import os\n",
    "from typing_extensions import TypedDict\n",
    "from typing import Annotated\n",
    "from langchain_groq import ChatGroq\n",
    "from langchain_community.tools import ArxivQueryRun,WikipediaQueryRun\n",
    "from langchain_community.utilities import WikipediaAPIWrapper,ArxivAPIWrapper\n",
    "from langchain_tavily import TavilySearch\n",
    "from langchain_core.messages import AIMessage, HumanMessage\n",
    "from langchain_core.messages import AnyMessage\n",
    "from langgraph.graph.message import add_messages\n",
    "from langgraph.graph import StateGraph, START, END\n",
    "from langgraph.prebuilt import ToolNode\n",
    "from langgraph.prebuilt import tools_condition\n",
    "from IPython.display import Image, display\n",
    "from pprint import pprint\n",
    "from dotenv import load_dotenv"
   ]
  },
  {
   "cell_type": "code",
   "execution_count": 2,
   "id": "211a24fe",
   "metadata": {},
   "outputs": [
    {
     "data": {
      "text/plain": [
       "True"
      ]
     },
     "execution_count": 2,
     "metadata": {},
     "output_type": "execute_result"
    }
   ],
   "source": [
    "load_dotenv()"
   ]
  },
  {
   "cell_type": "code",
   "execution_count": 3,
   "id": "d57707f4",
   "metadata": {},
   "outputs": [],
   "source": [
    "os.environ[\"GROQ_API_KEY\"] = os.getenv(\"GROQ_API_KEY\")\n",
    "os.environ[\"TAVILY_API_KEY\"] = os.getenv(\"TAVILY_API_KEY\")"
   ]
  },
  {
   "cell_type": "code",
   "execution_count": 4,
   "id": "61d52402",
   "metadata": {},
   "outputs": [],
   "source": [
    "llm = ChatGroq(model=\"gemma2-9b-it\")"
   ]
  },
  {
   "cell_type": "markdown",
   "id": "eed5b5c8",
   "metadata": {},
   "source": [
    "## Creating Arxiv Wrapper"
   ]
  },
  {
   "cell_type": "code",
   "execution_count": 5,
   "id": "879c7492",
   "metadata": {},
   "outputs": [
    {
     "name": "stdout",
     "output_type": "stream",
     "text": [
      "arxiv\n"
     ]
    }
   ],
   "source": [
    "arxiv_api_wrapper = ArxivAPIWrapper(\n",
    "    top_k_results=2,\n",
    "    doc_content_chars_max=500\n",
    ")\n",
    "\n",
    "arxiv_query_tool = ArxivQueryRun(api_wrapper=arxiv_api_wrapper)\n",
    "\n",
    "print(arxiv_query_tool.name)"
   ]
  },
  {
   "cell_type": "code",
   "execution_count": 6,
   "id": "021919f7",
   "metadata": {},
   "outputs": [
    {
     "data": {
      "text/plain": [
       "\"Published: 2024-07-22\\nTitle: Attention Is All You Need But You Don't Need All Of It For Inference of Large Language Models\\nAuthors: Georgy Tyukin, Gbetondji J-S Dovonon, Jean Kaddour, Pasquale Minervini\\nSummary: The inference demand for LLMs has skyrocketed in recent months, and serving\\nmodels with low latencies remains challenging due to the quadratic input length\\ncomplexity of the attention layers. In this work, we investigate the effect of\\ndropping MLP and attention layers at inference time o\""
      ]
     },
     "execution_count": 6,
     "metadata": {},
     "output_type": "execute_result"
    }
   ],
   "source": [
    "arxiv_query_tool.invoke(input=\"Attention is all you need\")"
   ]
  },
  {
   "cell_type": "markdown",
   "id": "21cdf912",
   "metadata": {},
   "source": [
    "## Creating Wikipedia Wrapper"
   ]
  },
  {
   "cell_type": "code",
   "execution_count": 7,
   "id": "626cb9ad",
   "metadata": {},
   "outputs": [
    {
     "name": "stdout",
     "output_type": "stream",
     "text": [
      "wikipedia\n"
     ]
    }
   ],
   "source": [
    "wikipedia_api_wrapper = WikipediaAPIWrapper(\n",
    "    top_k_results=2,\n",
    "    doc_content_chars_max=500\n",
    ")\n",
    "\n",
    "wikipedia_query_tool = WikipediaQueryRun(api_wrapper=wikipedia_api_wrapper)\n",
    "\n",
    "print(wikipedia_query_tool.name)"
   ]
  },
  {
   "cell_type": "code",
   "execution_count": 8,
   "id": "abbd7106",
   "metadata": {},
   "outputs": [
    {
     "data": {
      "text/plain": [
       "'Page: Machine learning\\nSummary: Machine learning (ML) is a field of study in artificial intelligence concerned with the development and study of statistical algorithms that can learn from data and generalise to unseen data, and thus perform tasks without explicit instructions. Within a subdiscipline in machine learning, advances in the field of deep learning have allowed neural networks, a class of statistical algorithms, to surpass many previous machine learning approaches in performance.\\nML fi'"
      ]
     },
     "execution_count": 8,
     "metadata": {},
     "output_type": "execute_result"
    }
   ],
   "source": [
    "wikipedia_query_tool.invoke(input=\"What is Machine Learning?\")"
   ]
  },
  {
   "cell_type": "markdown",
   "id": "ae291614",
   "metadata": {},
   "source": [
    "## Tavily Search Tool"
   ]
  },
  {
   "cell_type": "code",
   "execution_count": 9,
   "id": "16575749",
   "metadata": {},
   "outputs": [],
   "source": [
    "tavily_query_tool = TavilySearch(\n",
    "    max_results=5,\n",
    "    topic=\"general\"\n",
    ")"
   ]
  },
  {
   "cell_type": "code",
   "execution_count": 10,
   "id": "26cf62fa",
   "metadata": {},
   "outputs": [
    {
     "data": {
      "text/plain": [
       "{'query': 'Provide me the recent update on FIFA World Cup 2026',\n",
       " 'follow_up_questions': None,\n",
       " 'answer': None,\n",
       " 'images': [],\n",
       " 'results': [{'url': 'https://www.nbcnews.com/sports/world-cup',\n",
       "   'title': 'FIFA World Cup 2026: Latest News, Photo and Video',\n",
       "   'content': 'Trump creates White House task force for the 2026 World Cup. The United States is preparing to co-host the tournament alongside Canada and Mexico.',\n",
       "   'score': 0.5568099,\n",
       "   'raw_content': None},\n",
       "  {'url': 'https://www.roadtrips.com/world-cup/2026-world-cup-packages/schedule/',\n",
       "   'title': '2026 World Cup Schedule – USA, Canada and Mexico',\n",
       "   'content': 'The next World Cup will take place from Thursday, June 11 to Sunday, July 19, 2026. The tournament will be hosted across the United States, Canada, and Mexico,',\n",
       "   'score': 0.5530473,\n",
       "   'raw_content': None},\n",
       "  {'url': 'https://www.youtube.com/watch?v=YvTEWX1XvwY',\n",
       "   'title': '2026 FIFA World Cup tickets go on sale at 8 a.m.',\n",
       "   'content': 'The World Cup kicks off next summer, with SoFi Stadium hosting some of the matches. Michelle Valles reports for the NBC4 News at 6 a.m. on',\n",
       "   'score': 0.33711678,\n",
       "   'raw_content': None},\n",
       "  {'url': 'https://www.youtube.com/watch?v=KsqQuV9IhEg',\n",
       "   'title': '4 things to watch ahead of the 2026 World Cup',\n",
       "   'content': \"The first lottery for tickets to the 2026 Men's World Cup is now open. The upcoming tournament, co-hosted by the United States, Mexico and\",\n",
       "   'score': 0.3344378,\n",
       "   'raw_content': None},\n",
       "  {'url': 'https://www.bbc.com/sport/football/world-cup',\n",
       "   'title': 'FIFA World Cup 2026',\n",
       "   'content': 'Why will September international break be longer from 2026? · Cape Verde on brink of 2026 World Cup - who has qualified so far? · England thrash Serbia - have',\n",
       "   'score': 0.32572478,\n",
       "   'raw_content': None}],\n",
       " 'response_time': 1.52,\n",
       " 'request_id': '1be60f3f-6a76-4e80-8cd2-5fe7f54da61a'}"
      ]
     },
     "execution_count": 10,
     "metadata": {},
     "output_type": "execute_result"
    }
   ],
   "source": [
    "tavily_query_tool.invoke(input=\"Provide me the recent update on FIFA World Cup 2026\")"
   ]
  },
  {
   "cell_type": "markdown",
   "id": "de716a89",
   "metadata": {},
   "source": [
    "## Combining Tools"
   ]
  },
  {
   "cell_type": "code",
   "execution_count": 11,
   "id": "cef32627",
   "metadata": {},
   "outputs": [],
   "source": [
    "tools = [arxiv_query_tool, wikipedia_query_tool, tavily_query_tool]"
   ]
  },
  {
   "cell_type": "markdown",
   "id": "8d155e2a",
   "metadata": {},
   "source": [
    "## Binding Tools with LLM"
   ]
  },
  {
   "cell_type": "code",
   "execution_count": 12,
   "id": "319c03aa",
   "metadata": {},
   "outputs": [],
   "source": [
    "llm_with_tools = llm.bind_tools(tools)"
   ]
  },
  {
   "cell_type": "code",
   "execution_count": 13,
   "id": "c445bb75",
   "metadata": {},
   "outputs": [
    {
     "data": {
      "text/plain": [
       "[{'name': 'tavily_search',\n",
       "  'args': {'query': 'recent AI news', 'time_range': 'day'},\n",
       "  'id': '9qqncwr0w',\n",
       "  'type': 'tool_call'}]"
      ]
     },
     "execution_count": 13,
     "metadata": {},
     "output_type": "execute_result"
    }
   ],
   "source": [
    "llm_with_tools.invoke([HumanMessage(content=f\"What is the recent AI News\")]).tool_calls"
   ]
  },
  {
   "cell_type": "code",
   "execution_count": 15,
   "id": "8867ab01",
   "metadata": {},
   "outputs": [
    {
     "data": {
      "text/plain": [
       "AIMessage(content='', additional_kwargs={'tool_calls': [{'id': 'c5myhwk9e', 'function': {'arguments': '{\"query\":\"recent AI news\",\"search_depth\":\"advanced\",\"time_range\":\"week\"}', 'name': 'tavily_search'}, 'type': 'function'}]}, response_metadata={'token_usage': {'completion_tokens': 104, 'prompt_tokens': 3303, 'total_tokens': 3407, 'completion_time': 0.189090909, 'prompt_time': 0.067975907, 'queue_time': 0.261042762, 'total_time': 0.257066816}, 'model_name': 'gemma2-9b-it', 'system_fingerprint': 'fp_10c08bf97d', 'service_tier': 'on_demand', 'finish_reason': 'tool_calls', 'logprobs': None}, id='run--15520755-54a5-40c8-b5e1-c40b32d041d9-0', tool_calls=[{'name': 'tavily_search', 'args': {'query': 'recent AI news', 'search_depth': 'advanced', 'time_range': 'week'}, 'id': 'c5myhwk9e', 'type': 'tool_call'}], usage_metadata={'input_tokens': 3303, 'output_tokens': 104, 'total_tokens': 3407})"
      ]
     },
     "execution_count": 15,
     "metadata": {},
     "output_type": "execute_result"
    }
   ],
   "source": [
    "llm_with_tools.invoke([HumanMessage(content=f\"What is the recent AI News\")])"
   ]
  },
  {
   "cell_type": "markdown",
   "id": "bfbb9ff2",
   "metadata": {},
   "source": [
    "## Create Chatbot with LangGraph"
   ]
  },
  {
   "cell_type": "code",
   "execution_count": 16,
   "id": "48b60106",
   "metadata": {},
   "outputs": [],
   "source": [
    "class State(TypedDict):\n",
    "    messages:Annotated[list[AnyMessage], add_messages]"
   ]
  },
  {
   "cell_type": "code",
   "execution_count": 17,
   "id": "cfb67079",
   "metadata": {},
   "outputs": [],
   "source": [
    "def tool_calling_llm(state:State):\n",
    "    return {\"messages\":[llm_with_tools.invoke(state[\"messages\"])]}"
   ]
  },
  {
   "cell_type": "code",
   "execution_count": 18,
   "id": "54f4ff56",
   "metadata": {},
   "outputs": [
    {
     "data": {
      "image/png": "[encoded data removed]",
      "text/plain": [
       "<IPython.core.display.Image object>"
      ]
     },
     "metadata": {},
     "output_type": "display_data"
    }
   ],
   "source": [
    "# Build graph\n",
    "graph_builder = StateGraph(State)\n",
    "\n",
    "# Add Nodes\n",
    "graph_builder.add_node(node=\"tool_calling_llm\", action=tool_calling_llm)\n",
    "graph_builder.add_node(node=\"tools\", action=ToolNode(tools=tools))\n",
    "\n",
    "# Add Edges\n",
    "graph_builder.add_edge(start_key=START, end_key=\"tool_calling_llm\")\n",
    "graph_builder.add_conditional_edges(\n",
    "    source=\"tool_calling_llm\",\n",
    "    # If the latest message (result) from assistant is a tool call -> tools_condition routes to tools\n",
    "    # If the latest message (result) from assistant is a not a tool call -> tools_condition routes to END\n",
    "    path=tools_condition\n",
    ")\n",
    "graph_builder.add_edge(start_key=\"tools\", end_key=END)\n",
    "\n",
    "# Compile Graph\n",
    "compiled_graph = graph_builder.compile()\n",
    "\n",
    "# Display Graph\n",
    "display(Image(compiled_graph.get_graph().draw_mermaid_png()))\n"
   ]
  },
  {
   "cell_type": "code",
   "execution_count": null,
   "id": "2ad98e1e",
   "metadata": {},
   "outputs": [
    {
     "name": "stdout",
     "output_type": "stream",
     "text": [
      "================================\u001b[1m Human Message \u001b[0m=================================\n",
      "\n",
      "1706.03762\n",
      "==================================\u001b[1m Ai Message \u001b[0m==================================\n",
      "Tool Calls:\n",
      "  arxiv (6nqwsspm7)\n",
      " Call ID: 6nqwsspm7\n",
      "  Args:\n",
      "    query: 1706.03762\n",
      "=================================\u001b[1m Tool Message \u001b[0m=================================\n",
      "Name: arxiv\n",
      "\n",
      "Published: 2023-08-02\n",
      "Title: Attention Is All You Need\n",
      "Authors: Ashish Vaswani, Noam Shazeer, Niki Parmar, Jakob Uszkoreit, Llion Jones, Aidan N. Gomez, Lukasz Kaiser, Illia Polosukhin\n",
      "Summary: The dominant sequence transduction models are based on complex recurrent or\n",
      "convolutional neural networks in an encoder-decoder configuration. The best\n",
      "performing models also connect the encoder and decoder through an attention\n",
      "mechanism. We propose a new simple network architecture, the Transformer, base\n"
     ]
    }
   ],
   "source": [
    "# messages = compiled_graph.invoke({\"messages\":HumanMessage(content=\"Attention is all you need\")})\n",
    "messages = compiled_graph.invoke({\"messages\":HumanMessage(content=\"1706.03762\")})\n",
    "for message in messages['messages']:\n",
    "    message.pretty_print()"
   ]
  },
  {
   "cell_type": "code",
   "execution_count": 21,
   "id": "56d5079a",
   "metadata": {},
   "outputs": [
    {
     "name": "stdout",
     "output_type": "stream",
     "text": [
      "================================\u001b[1m Human Message \u001b[0m=================================\n",
      "\n",
      "Provide me the top 10 recent AI news\n",
      "==================================\u001b[1m Ai Message \u001b[0m==================================\n",
      "Tool Calls:\n",
      "  tavily_search (28g14cryn)\n",
      " Call ID: 28g14cryn\n",
      "  Args:\n",
      "    query: AI news\n",
      "    time_range: week\n",
      "=================================\u001b[1m Tool Message \u001b[0m=================================\n",
      "Name: tavily_search\n",
      "\n",
      "{\"query\": \"AI news\", \"follow_up_questions\": null, \"answer\": null, \"images\": [], \"results\": [{\"url\": \"https://www.artificialintelligence-news.com/\", \"title\": \"AI News | Latest AI News, Analysis & Events\", \"content\": \"*   [Categories](https://www.artificialintelligence-news.com/#) *   [AI and Us](https://www.artificialintelligence-news.com/categories/ai-and-us/) *   [World of Work](https://www.artificialintelligence-news.com/categories/ai-and-us/world-of-work/) *   [AI in Action](https://www.artificialintelligence-news.com/categories/ai-in-action/) *   [Creative Industries](https://www.artificialintelligence-news.com/categories/ai-in-action/creative-industries/) *   [Marketing AI](https://www.artificialintelligence-news.com/categories/ai-in-action/marketing-ai/) *   [Utilities](https://www.artificialintelligence-news.com/categories/ai-in-action/utilities/) *   [Service Industry AI](https://www.artificialintelligence-news.com/categories/ai-in-action/service-industry-ai/) *   [Multimodal AI](https://www.artificialintelligence-news.com/categories/how-it-works/multimodal-ai/) *   [Inside AI](https://www.artificialintelligence-news.com/categories/inside-ai/) *   [Features](https://www.artificialintelligence-news.com/categories/features/) *   [All Categories](https://www.artificialintelligence-news.com/all-categories/) *   [About Us](https://www.artificialintelligence-news.com/about-us/) *   [Categories](https://www.artificialintelligence-news.com/#) *   [AI and Us](https://www.artificialintelligence-news.com/categories/ai-and-us/) *   [World of Work](https://www.artificialintelligence-news.com/categories/ai-and-us/world-of-work/) *   [AI in Action](https://www.artificialintelligence-news.com/categories/ai-in-action/) *   [Creative Industries](https://www.artificialintelligence-news.com/categories/ai-in-action/creative-industries/) *   [Marketing AI](https://www.artificialintelligence-news.com/categories/ai-in-action/marketing-ai/) *   [Utilities](https://www.artificialintelligence-news.com/categories/ai-in-action/utilities/) *   [Service Industry AI](https://www.artificialintelligence-news.com/categories/ai-in-action/service-industry-ai/) *   [Multimodal AI](https://www.artificialintelligence-news.com/categories/how-it-works/multimodal-ai/) *   [Inside AI](https://www.artificialintelligence-news.com/categories/inside-ai/) [![Image 28](https://www.artificialintelligence-news.com/wp-content/uploads/2024/12/Screenshot-2024-12-05-100411-1024x435.png)](https://www.artificialintelligence-news.com/resources/trends-in-ai-for-crm-report/) [![Image 29](https://www.artificialintelligence-news.com/wp-content/uploads/2024/06/webinar-template-with-speakers-blue-4-1024x576.png)](https://www.artificialintelligence-news.com/resources/webinar-unleashing-the-power-of-data-and-ai-in-customer-experience-management-cxm/) ![Image 33](https://www.artificialintelligence-news.com/wp-content/uploads/2025/09/placeholder-5-1024x683.png) ![Image 36](https://www.artificialintelligence-news.com/wp-content/uploads/2025/09/placeholder-5-1024x683.png) [![Image 38](https://www.artificialintelligence-news.com/wp-content/uploads/2023/10/600x300-EU259-1024x512.png)](https://www.artificialintelligence-news.com/events/ai-big-data-expo-europe-2025-2/) ![Image 39](https://www.artificialintelligence-news.com/wp-content/uploads/2025/09/placeholder-5-1024x683.png) ![Image 47](https://www.artificialintelligence-news.com/wp-content/uploads/2025/01/cropped-AI-News-White-1024x196.png) *   [About Us](https://www.artificialintelligence-news.com/about-us/) *   [About Us](https://www.artificialintelligence-news.com/about-us/) *   [AI and Us](https://www.artificialintelligence-news.com/categories/ai-and-us/) *   [AI in Action](https://www.artificialintelligence-news.com/categories/ai-in-action/) *   [Inside AI](https://www.artificialintelligence-news.com/categories/inside-ai/) *   [All Categories](https://www.artificialintelligence-news.com/all-categories/) *   [AI and Us](https://www.artificialintelligence-news.com/categories/ai-and-us/) *   [AI in Action](https://www.artificialintelligence-news.com/categories/ai-in-action/) *   [Inside AI](https://www.artificialintelligence-news.com/categories/inside-ai/) *   [All Categories](https://www.artificialintelligence-news.com/all-categories/)\", \"score\": 0.8325776, \"raw_content\": null}, {\"url\": \"https://blog.google/technology/ai/google-ai-updates-august-2025/\", \"title\": \"The latest AI news we announced in August\", \"content\": \"*   [See all](https://blog.google/products/explore-get-answers/) *   [See all](https://blog.google/products/cloud/) *   [AI](https://blog.google/technology/ai/) *   [AI](https://blog.google/technology/ai/) *   [See all](https://blog.google/products/explore-get-answers/) *   [See all](https://blog.google/products/cloud/) *   [AI](https://blog.google/technology/ai/) 3.   [AI](https://blog.google/technology/ai/) We had an [AI Mode in Search](https://blog.google/products/search/ai-mode-agentic-personalized/) expansion, a new line of [Pixel hardware](https://blog.google/products/pixel/made-by-google-2025/) that includes our most advanced on-device AI and plenty of other news to round out the month — including a new image editing release in the Gemini app ([Nano Banana](https://gemini.google/overview/image-generation/?utm_source=keywordblog&utm_medium=referral)) and Google DeepMind’s first real-time interactive general-purpose world AI model, [Genie 3](https://deepmind.google/discover/blog/genie-3-a-new-frontier-for-world-models/). [**We expanded AI Mode in Search and added new agentic features**](https://blog.google/products/search/ai-mode-agentic-personalized/). *   [AI](https://blog.google/technology/ai/) [![Image 11](https://storage.googleapis.com/gweb-uniblog-publish-prod/images/03-ai-literacy-social-sharing-192.width-300.format-webp.webp) Learning & Education #### AI Quests: Bringing AI literacy to the classroom By Ronit Levavi Morad Sep 09, 2025](https://blog.google/outreach-initiatives/education/ai-quests/) Sep 08, 2025](https://blog.google/products/search/google-doodles-show-how-ai-mode-can-help-you-learn/)\", \"score\": 0.7703443, \"raw_content\": null}, {\"url\": \"https://www.youtube.com/watch?v=pzLjQffN0I0\", \"title\": \"we just reached PEAK AI hype\", \"content\": \"we just reached PEAK AI hype\\nWes Roth\\n296000 subscribers\\n548 likes\\n17594 views\\n11 Sep 2025\\nThe latest AI News. Learn about LLMs, Gen AI and get ready for the rollout of AGI. Wes Roth covers the latest happenings in the world of OpenAI, Google, Anthropic, NVIDIA and Open Source AI.\\n\\n______________________________________________\\nMy Links 🔗\\n➡️ Twitter: https://x.com/WesRothMoney\\n➡️ AI Newsletter: https://natural20.beehiiv.com/subscribe\\n\\nWant to work with me?\\nBrand, sponsorship & business inquiries: wesroth@smoothmedia.co\\n\\nCheck out my AI Podcast where me and Dylan interview AI experts:\\nhttps://www.youtube.com/@Wes-Dylan\\n______________________________________________\\n\\n\\n\\n#ai #openai #llm\\n95 comments\\n\", \"score\": 0.7606688, \"raw_content\": null}, {\"url\": \"https://www.npr.org/sections/shots-health-news/2025/09/11/nx-s1-5537067/ai-medicine-privacy-test-results\", \"title\": \"Patients turn to AI to interpret lab tests, with mixed results\", \"content\": \"**Patients turn to AI to interpret lab tests, with mixed results : Shots - Health News** **While patients wait to hear back from their doctors about test results, many turn to AI assistants for answers. Using generative AI demands a new type of digital health literacy that includes asking questions in a particular way, verifying responses with other AI models, talking to your health care team, and protecting your privacy online, said Salmi and Dave deBronkart, a cancer survivor and patient advocate who writes a blog devoted to patients' use of AI. Stanford Health Care has launched an AI assistant that helps its physicians draft interpretations of clinical tests and lab results to send to patients.\", \"score\": 0.47913864, \"raw_content\": null}, {\"url\": \"https://abcnews.go.com/US/wireStory/ai-tools-reshape-education-schools-struggle-draw-line-125501970\", \"title\": \"As AI tools reshape education, schools struggle with how to ...\", \"content\": \"As AI technology rapidly improves and becomes more entwined with daily life, it is transforming how students learn and study, how teachers teach, and it's\", \"score\": 0.28624454, \"raw_content\": null}], \"response_time\": 0.98, \"request_id\": \"64238862-819d-4b81-a295-d9b504dd8192\"}\n"
     ]
    }
   ],
   "source": [
    "messages = compiled_graph.invoke({\"messages\":HumanMessage(content=\"Provide me the top 10 recent AI news\")})\n",
    "for message in messages['messages']:\n",
    "    message.pretty_print()"
   ]
  },
  {
   "cell_type": "code",
   "execution_count": 22,
   "id": "0a4854fd",
   "metadata": {},
   "outputs": [
    {
     "name": "stdout",
     "output_type": "stream",
     "text": [
      "================================\u001b[1m Human Message \u001b[0m=================================\n",
      "\n",
      "What is machine learning\n",
      "==================================\u001b[1m Ai Message \u001b[0m==================================\n",
      "Tool Calls:\n",
      "  wikipedia (zmsq6749n)\n",
      " Call ID: zmsq6749n\n",
      "  Args:\n",
      "    query: machine learning\n",
      "=================================\u001b[1m Tool Message \u001b[0m=================================\n",
      "Name: wikipedia\n",
      "\n",
      "Page: Machine learning\n",
      "Summary: Machine learning (ML) is a field of study in artificial intelligence concerned with the development and study of statistical algorithms that can learn from data and generalise to unseen data, and thus perform tasks without explicit instructions. Within a subdiscipline in machine learning, advances in the field of deep learning have allowed neural networks, a class of statistical algorithms, to surpass many previous machine learning approaches in performance.\n",
      "ML fi\n"
     ]
    }
   ],
   "source": [
    "messages = compiled_graph.invoke({\"messages\":HumanMessage(content=\"What is machine learning\")})\n",
    "for message in messages['messages']:\n",
    "    message.pretty_print()"
   ]
  },
  {
   "cell_type": "code",
   "execution_count": null,
   "id": "613c68e5",
   "metadata": {},
   "outputs": [],
   "source": []
  }
 ],
 "metadata": {
  "kernelspec": {
   "display_name": "RAG-Bootcamp",
   "language": "python",
   "name": "python3"
  },
  "language_info": {
   "codemirror_mode": {
    "name": "ipython",
    "version": 3
   },
   "file_extension": ".py",
   "mimetype": "text/x-python",
   "name": "python",
   "nbconvert_exporter": "python",
   "pygments_lexer": "ipython3",
   "version": "3.12.7"
  }
 },
 "nbformat": 4,
 "nbformat_minor": 5
}
