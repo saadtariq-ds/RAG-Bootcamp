{
 "cells": [
  {
   "cell_type": "markdown",
   "id": "d1adac38",
   "metadata": {},
   "source": [
    "# Tool creation for RAG agents with langgraph \n",
    "To create tools for RAG agents using LangGraph, you're essentially building LLM-invocable functions that your agent can call as part of its reasoning + acting loop (ReAct).\n",
    "\n",
    "LangGraph uses the Tool abstraction from LangChain and fully supports tools for:\n",
    "\n",
    "- RAG retrieval\n",
    "- Search\n",
    "- Wikipedia\n",
    "- SQL\n",
    "- Web APIs\n",
    "- Calculators, etc.\n",
    "\n",
    "## ✅ Tool Design Requirements\n",
    "A LangGraph tool must:\n",
    "\n",
    "- Have a name\n",
    "- Have a description (used by the LLM to decide when to use it)\n",
    "- Have a callable func, accepting a single input (usually str) and returning str"
   ]
  },
  {
   "cell_type": "markdown",
   "id": "4140a4f6",
   "metadata": {},
   "source": [
    "## Setup and Import Libraries"
   ]
  },
  {
   "cell_type": "code",
   "execution_count": null,
   "id": "60fd0038",
   "metadata": {},
   "outputs": [
    {
     "name": "stderr",
     "output_type": "stream",
     "text": [
      "USER_AGENT environment variable not set, consider setting it to identify your requests.\n"
     ]
    }
   ],
   "source": [
    "import os\n",
    "from typing import Annotated, TypedDict, Sequence\n",
    "from langchain.agents import Tool\n",
    "from langchain.tools import WikipediaQueryRun\n",
    "from langchain.utilities import WikipediaAPIWrapper\n",
    "from langchain_community.vectorstores import FAISS\n",
    "from langchain_openai import OpenAIEmbeddings\n",
    "from langchain_community.document_loaders import ArxivLoader, TextLoader\n",
    "from langchain_community.tools import WikipediaQueryRun\n",
    "from langchain_community.utilities import WikipediaAPIWrapper\n",
    "from langchain.text_splitter import RecursiveCharacterTextSplitter\n",
    "from langchain_core.messages import BaseMessage, HumanMessage\n",
    "from langchain.chat_models import init_chat_model\n",
    "from langgraph.prebuilt import create_react_agent\n",
    "from langgraph.graph import END\n",
    "from langgraph.graph import StateGraph\n",
    "from langgraph.graph.message import add_messages\n",
    "from dotenv import load_dotenv"
   ]
  },
  {
   "cell_type": "code",
   "execution_count": 2,
   "id": "63f1d2fd",
   "metadata": {},
   "outputs": [
    {
     "data": {
      "text/plain": [
       "True"
      ]
     },
     "execution_count": 2,
     "metadata": {},
     "output_type": "execute_result"
    }
   ],
   "source": [
    "load_dotenv()"
   ]
  },
  {
   "cell_type": "code",
   "execution_count": 3,
   "id": "01bacdda",
   "metadata": {},
   "outputs": [],
   "source": [
    "os.environ[\"OPENAI_API_KEY\"] = os.getenv(\"OPENAI_API_KEY\")"
   ]
  },
  {
   "cell_type": "code",
   "execution_count": 4,
   "id": "27a6c2da",
   "metadata": {},
   "outputs": [],
   "source": [
    "embedding = OpenAIEmbeddings()\n",
    "llm = init_chat_model(\"openai:gpt-4o\")"
   ]
  },
  {
   "cell_type": "markdown",
   "id": "96a9c6db",
   "metadata": {},
   "source": [
    "## Creating Multiple Tools"
   ]
  },
  {
   "cell_type": "markdown",
   "id": "d5a7ad4c",
   "metadata": {},
   "source": [
    "### Creating Retriever Tool"
   ]
  },
  {
   "cell_type": "code",
   "execution_count": 5,
   "id": "9153763e",
   "metadata": {},
   "outputs": [],
   "source": [
    "def make_retriever_tool_from_text(file, tool_name, description):\n",
    "    documents = TextLoader(file, encoding=\"utf-8\").load()\n",
    "    chunks = RecursiveCharacterTextSplitter(chunk_size=500, chunk_overlap=50).split_documents(documents=documents)\n",
    "    vector_store = FAISS.from_documents(documents=chunks, embedding=embedding)\n",
    "    retriever = vector_store.as_retriever()\n",
    "\n",
    "    def tool_func(query:str)->str:\n",
    "        print(f\"📚 Using tool: {tool_name}\")\n",
    "        results = retriever.invoke(input=query)\n",
    "        return \"\\n\\n\".join(result.page_content for result in results)\n",
    "    \n",
    "    return Tool(name=tool_name, description=description, func=tool_func)"
   ]
  },
  {
   "cell_type": "markdown",
   "id": "6218e094",
   "metadata": {},
   "source": [
    "### Creating Wikipedia Tool"
   ]
  },
  {
   "cell_type": "code",
   "execution_count": 7,
   "id": "1994aebb",
   "metadata": {},
   "outputs": [],
   "source": [
    "wikipedia_tool = Tool(\n",
    "    name=\"Wikipedia\",\n",
    "    description=\"Use this tool to fetch general world knowledge from Wikipedia.\",\n",
    "    func=WikipediaQueryRun(api_wrapper=WikipediaAPIWrapper())\n",
    ")"
   ]
  },
  {
   "cell_type": "markdown",
   "id": "538f782c",
   "metadata": {},
   "source": [
    "### Creating Arxiv Tool"
   ]
  },
  {
   "cell_type": "code",
   "execution_count": 8,
   "id": "5a655d79",
   "metadata": {},
   "outputs": [],
   "source": [
    "def arxiv_search(query: str) -> str:\n",
    "    print(\"🧪 Searching ArXiv...\")\n",
    "    results = ArxivLoader(query=query).load()\n",
    "    return \"\\n\\n\".join(result.page_content[:1000] for result in results[:2]) or \"No papers found.\"\n",
    "\n",
    "arxiv_tool = Tool(\n",
    "    name=\"ArxivSearch\",\n",
    "    description=\"Use this tool to fetch recent academic papers on technical topics.\",\n",
    "    func=arxiv_search\n",
    ")"
   ]
  },
  {
   "cell_type": "markdown",
   "id": "02b97cf4",
   "metadata": {},
   "source": [
    "### Creating Tools using Retriever Tool"
   ]
  },
  {
   "cell_type": "code",
   "execution_count": 9,
   "id": "4a73df5d",
   "metadata": {},
   "outputs": [
    {
     "data": {
      "text/plain": [
       "Tool(name='InternalTechDocs', description='Search internal tech documents for proprietary architecture and methods.', func=<function make_retriever_tool_from_text.<locals>.tool_func at 0x0000022A01126FC0>)"
      ]
     },
     "execution_count": 9,
     "metadata": {},
     "output_type": "execute_result"
    }
   ],
   "source": [
    "internel_document_tool = make_retriever_tool_from_text(\n",
    "    file=\"internal_docs.txt\",\n",
    "    tool_name=\"InternalTechDocs\",\n",
    "    description=\"Search internal tech documents for proprietary architecture and methods.\"\n",
    ")\n",
    "\n",
    "internel_document_tool"
   ]
  },
  {
   "cell_type": "code",
   "execution_count": 10,
   "id": "2ef3c672",
   "metadata": {},
   "outputs": [
    {
     "data": {
      "text/plain": [
       "Tool(name='InternalResearchNotes', description='Search internal research notes for experimental results and agent designs.', func=<function make_retriever_tool_from_text.<locals>.tool_func at 0x0000022A0113EA20>)"
      ]
     },
     "execution_count": 10,
     "metadata": {},
     "output_type": "execute_result"
    }
   ],
   "source": [
    "research_notes_tool = make_retriever_tool_from_text(\n",
    "    file=\"research_notes.txt\",\n",
    "    tool_name=\"InternalResearchNotes\",\n",
    "    description=\"Search internal research notes for experimental results and agent designs.\"\n",
    ")\n",
    "\n",
    "research_notes_tool"
   ]
  },
  {
   "cell_type": "markdown",
   "id": "3e37c924",
   "metadata": {},
   "source": [
    "## Creating ReAct Node"
   ]
  },
  {
   "cell_type": "code",
   "execution_count": 12,
   "id": "51e1cd4f",
   "metadata": {},
   "outputs": [],
   "source": [
    "tools=[\n",
    "    wikipedia_tool, arxiv_tool, \n",
    "    internel_document_tool, research_notes_tool\n",
    "]"
   ]
  },
  {
   "cell_type": "code",
   "execution_count": 13,
   "id": "aa1fa4e0",
   "metadata": {},
   "outputs": [
    {
     "data": {
      "image/png": "[encoded data removed]",
      "text/plain": [
       "<langgraph.graph.state.CompiledStateGraph object at 0x0000022A022A7320>"
      ]
     },
     "execution_count": 13,
     "metadata": {},
     "output_type": "execute_result"
    }
   ],
   "source": [
    "react_node = create_react_agent(\n",
    "    model=llm, tools=tools\n",
    ")\n",
    "\n",
    "react_node"
   ]
  },
  {
   "cell_type": "markdown",
   "id": "fdadbe5f",
   "metadata": {},
   "source": [
    "## Build Graph"
   ]
  },
  {
   "cell_type": "code",
   "execution_count": 14,
   "id": "0a40508f",
   "metadata": {},
   "outputs": [],
   "source": [
    "class AgentState(TypedDict):\n",
    "    messages: Annotated[Sequence[BaseMessage], add_messages]"
   ]
  },
  {
   "cell_type": "code",
   "execution_count": 15,
   "id": "d4cfb078",
   "metadata": {},
   "outputs": [
    {
     "data": {
      "image/png": "[encoded data removed]",
      "text/plain": [
       "<langgraph.graph.state.CompiledStateGraph object at 0x0000022A022BB350>"
      ]
     },
     "execution_count": 15,
     "metadata": {},
     "output_type": "execute_result"
    }
   ],
   "source": [
    "graph = StateGraph(AgentState)\n",
    "\n",
    "# Add Nodes\n",
    "graph.add_node(node=\"agentic_rag\", action=react_node)\n",
    "\n",
    "# Set Entry Point\n",
    "graph.set_entry_point(key=\"agentic_rag\")\n",
    "\n",
    "# Add Edges\n",
    "graph.add_edge(start_key=\"agentic_rag\", end_key=END)\n",
    "\n",
    "# Compile Graph\n",
    "compiled_graph = graph.compile()\n",
    "\n",
    "# Display Graph\n",
    "compiled_graph"
   ]
  },
  {
   "cell_type": "code",
   "execution_count": 16,
   "id": "4964e9b3",
   "metadata": {},
   "outputs": [
    {
     "name": "stdout",
     "output_type": "stream",
     "text": [
      "📚 Using tool: InternalResearchNotes\n",
      "🧪 Searching ArXiv...\n",
      "\n",
      "✅ Final Answer:\n",
      " Here's what our internal research notes say about transformer variants, along with a recent update from ArXiv on the topic:\n",
      "\n",
      "### Internal Research Notes:\n",
      "1. **EfficientFormer:**\n",
      "   - Achieved a top-1 accuracy of 92.4% on TinyImageNet.\n",
      "   - Peak memory usage of 290MB with a batch size of 16.\n",
      "   - Deployed on Raspberry Pi 4 and performs well in quantized int8 mode with no significant drop in accuracy.\n",
      "\n",
      "2. **Longformer:**\n",
      "   - Evaluated on customer support logs with a maximum of 8192 tokens.\n",
      "   - Experienced latency greater than 1.2 seconds per query in a streaming setting.\n",
      "   - Chunk-based hybrid attention may help in reducing delays.\n",
      "\n",
      "3. **Reformer:**\n",
      "   - Faced challenges such as bucket collisions, inconsistent loss spikes after 5k steps, and sparse gradient updates during LSH attention.\n",
      "   - Attempted solutions include gradient clipping, warmup scheduler, and memory-efficient attention modules.\n",
      "\n",
      "4. **TinyBERT:**\n",
      "   - Used for classification tasks, such as support ticket priority tagging, achieving an 87% F1 score with some confusion in ambiguous classes.\n",
      "   - Works well with a 2-layer FFN adapter for domain transfer.\n",
      "\n",
      "5. **Additional Experiments:**\n",
      "   - FlashAttention2 has been integrated into LLaMA2, reducing context latency by approximately 50%.\n",
      "   - \"Chain-of-Thought\" prompting outperforms direct answer prompting by 8% on logic tasks, with reflective prompting increasing accuracy by 3%.\n",
      "   - Hybrid dense + sparse retrieval experiments showed FAISS being more efficient but providing slightly lower recall than Weaviate, which has helpful GraphQL filtering.\n",
      "   - LoRA tuning for adapter-based fine-tuning reduces GPU memory footprint by 60% and is compatible with the PEFT library.\n",
      "\n",
      "### ArXiv Search Results:\n",
      "The ArXiv search encountered an error, preventing me from retrieving recent papers on transformer variants. However, based on recent trends, researchers are likely exploring improvements in transformer architecture efficiency, memory usage, and deployment on edge devices, along with innovative applications in various domain-specific tasks.\n",
      "\n",
      "If you have any specific questions or need further assistance, feel free to ask!\n"
     ]
    }
   ],
   "source": [
    "query = \"What do our internal research notes say about transformer variants, and what does ArXiv suggest recently?\"\n",
    "\n",
    "state = {\"messages\": [HumanMessage(content=query)]}\n",
    "result = compiled_graph.invoke(input=state)\n",
    "\n",
    "print(\"\\n✅ Final Answer:\\n\", result[\"messages\"][-1].content)"
   ]
  },
  {
   "cell_type": "code",
   "execution_count": null,
   "id": "56cfff61",
   "metadata": {},
   "outputs": [],
   "source": []
  }
 ],
 "metadata": {
  "kernelspec": {
   "display_name": "RAG-Bootcamp",
   "language": "python",
   "name": "python3"
  },
  "language_info": {
   "codemirror_mode": {
    "name": "ipython",
    "version": 3
   },
   "file_extension": ".py",
   "mimetype": "text/x-python",
   "name": "python",
   "nbconvert_exporter": "python",
   "pygments_lexer": "ipython3",
   "version": "3.12.7"
  }
 },
 "nbformat": 4,
 "nbformat_minor": 5
}
