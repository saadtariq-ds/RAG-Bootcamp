{
 "cells": [
  {
   "cell_type": "markdown",
   "id": "456a9947",
   "metadata": {},
   "source": [
    "## Setup and Import Libraries"
   ]
  },
  {
   "cell_type": "code",
   "execution_count": 1,
   "id": "b949c65e",
   "metadata": {},
   "outputs": [],
   "source": [
    "import os\n",
    "from langchain_groq import ChatGroq\n",
    "from langchain.chat_models import init_chat_model\n",
    "\n",
    "from dotenv import load_dotenv"
   ]
  },
  {
   "cell_type": "code",
   "execution_count": 2,
   "id": "abc85dcf",
   "metadata": {},
   "outputs": [
    {
     "data": {
      "text/plain": [
       "True"
      ]
     },
     "execution_count": 2,
     "metadata": {},
     "output_type": "execute_result"
    }
   ],
   "source": [
    "load_dotenv()"
   ]
  },
  {
   "cell_type": "code",
   "execution_count": 3,
   "id": "7aabda39",
   "metadata": {},
   "outputs": [],
   "source": [
    "os.environ[\"GROQ_API_KEY\"] = os.getenv(\"GROQ_API_KEY\")"
   ]
  },
  {
   "cell_type": "markdown",
   "id": "231b7e76",
   "metadata": {},
   "source": [
    "## Using GROQ's LLM"
   ]
  },
  {
   "cell_type": "markdown",
   "id": "2193568e",
   "metadata": {},
   "source": [
    "### Method 1: Using ChatGroq"
   ]
  },
  {
   "cell_type": "code",
   "execution_count": 4,
   "id": "dba57adc",
   "metadata": {},
   "outputs": [
    {
     "data": {
      "text/plain": [
       "ChatGroq(client=<groq.resources.chat.completions.Completions object at 0x0000016D0F1A2A20>, async_client=<groq.resources.chat.completions.AsyncCompletions object at 0x0000016D0F23BD70>, model_name='openai/gpt-oss-20b', model_kwargs={}, groq_api_key=SecretStr('**********'))"
      ]
     },
     "execution_count": 4,
     "metadata": {},
     "output_type": "execute_result"
    }
   ],
   "source": [
    "llm = ChatGroq(model=\"openai/gpt-oss-20b\")\n",
    "\n",
    "llm"
   ]
  },
  {
   "cell_type": "code",
   "execution_count": 5,
   "id": "e9f5c417",
   "metadata": {},
   "outputs": [
    {
     "data": {
      "text/plain": [
       "AIMessage(content='**Machine Learning (ML)** is a branch of computer science that gives computers the ability to learn from data and improve their performance on a task without being explicitly programmed for every detail.\\n\\n---\\n\\n### Core idea\\n- **Data → Patterns → Decision**  \\n  A machine‑learning system starts with a set of examples (data). It looks for patterns or regularities in those examples and then uses the discovered patterns to make predictions or decisions on new, unseen data.\\n\\n### How it works\\n1. **Collect data** – Gather examples that include both inputs (features) and, for many tasks, correct outputs (labels).  \\n2. **Choose a model** – Pick a mathematical function or algorithm that can represent the relationship between inputs and outputs.  \\n3. **Train** – Adjust the model’s internal parameters so that its predictions match the known outputs as closely as possible.  \\n4. **Validate / test** – Evaluate the trained model on new data to ensure it generalizes beyond the training set.  \\n5. **Deploy** – Use the model in real‑world applications (e.g., spam filtering, image recognition, recommendation engines).\\n\\n### Types of learning\\n| Type | What it learns | Typical use cases |\\n|------|----------------|-------------------|\\n| **Supervised** | Maps inputs to known outputs (labels). | Image classification, speech recognition, credit scoring. |\\n| **Unsupervised** | Discovers hidden structure in unlabeled data. | Clustering customers, anomaly detection, dimensionality reduction. |\\n| **Semi‑supervised** | Combines a small amount of labeled data with a large amount of unlabeled data. | Text classification when labeled data is scarce. |\\n| **Reinforcement** | Learns a policy to maximize cumulative reward through trial‑and‑error interactions. | Robotics, game playing (AlphaGo), autonomous driving. |\\n\\n### Why it matters\\n- **Automation of complex tasks** that are hard to code rule‑by‑rule.  \\n- **Adaptivity**: Models can improve over time as more data arrives.  \\n- **Scalability**: Once trained, models can process millions of instances quickly.\\n\\n### Real‑world examples\\n- **Recommendation systems** (Netflix, Amazon) – suggest movies or products you might like.  \\n- **Computer vision** – self‑driving cars detect pedestrians and traffic signs.  \\n- **Natural language processing** – chatbots understand and generate human‑like text.  \\n- **Healthcare** – predict patient readmission risk or detect diseases from imaging.\\n\\n---\\n\\n**Bottom line:** Machine learning is the science of letting computers learn patterns from data, so they can perform tasks—like classifying images, predicting outcomes, or making recommendations—without being explicitly programmed for each specific instance.', additional_kwargs={'reasoning_content': 'We need to answer \"What is Machine Learning?\" The user likely wants an explanation. We should be concise but thorough. Use simple language, mention supervised/unsupervised, training data, models, predictions, examples. Possibly mention AI. Provide a definition. Maybe give analogies. Provide some context. Should be accessible. No constraints. We\\'ll answer.'}, response_metadata={'token_usage': {'completion_tokens': 641, 'prompt_tokens': 76, 'total_tokens': 717, 'completion_time': 0.570355221, 'prompt_time': 0.004843682, 'queue_time': 0.002829283, 'total_time': 0.575198903}, 'model_name': 'openai/gpt-oss-20b', 'system_fingerprint': 'fp_a5ac2a5d7b', 'service_tier': 'on_demand', 'finish_reason': 'stop', 'logprobs': None}, id='run--98e5d2c8-d2f7-4bd9-b019-9685a0ace734-0', usage_metadata={'input_tokens': 76, 'output_tokens': 641, 'total_tokens': 717})"
      ]
     },
     "execution_count": 5,
     "metadata": {},
     "output_type": "execute_result"
    }
   ],
   "source": [
    "llm.invoke(input=\"What is Machine Learning?\")"
   ]
  },
  {
   "cell_type": "markdown",
   "id": "c51182a5",
   "metadata": {},
   "source": [
    "### Method 2: Using Init Chat Method"
   ]
  },
  {
   "cell_type": "code",
   "execution_count": 8,
   "id": "7b446e4f",
   "metadata": {},
   "outputs": [
    {
     "data": {
      "text/plain": [
       "ChatGroq(client=<groq.resources.chat.completions.Completions object at 0x0000016D1037FCE0>, async_client=<groq.resources.chat.completions.AsyncCompletions object at 0x0000016D105B9280>, model_name='openai/gpt-oss-20b', model_kwargs={}, groq_api_key=SecretStr('**********'))"
      ]
     },
     "execution_count": 8,
     "metadata": {},
     "output_type": "execute_result"
    }
   ],
   "source": [
    "init_llm = init_chat_model(model=\"groq:openai/gpt-oss-20b\")\n",
    "\n",
    "init_llm"
   ]
  },
  {
   "cell_type": "code",
   "execution_count": 9,
   "id": "30c85be2",
   "metadata": {},
   "outputs": [
    {
     "data": {
      "text/plain": [
       "AIMessage(content='**Machine Learning (ML)** is a field of computer science that gives computers the ability to learn patterns from data and make predictions or decisions without being explicitly programmed for every specific task.\\n\\n---\\n\\n## 1. Core Idea\\n- **Learning from data**: Instead of writing rules for every situation, an ML system is trained on examples (data) and learns the underlying patterns.\\n- **Improvement over time**: As it sees more data, it refines its internal model to produce better results.\\n\\n---\\n\\n## 2. How It Works (High‑Level Steps)\\n\\n| Step | What Happens | Example |\\n|------|--------------|---------|\\n| **1. Gather Data** | Collect raw information relevant to the problem. | Thousands of labeled photos for a cat‑vs‑dog classifier. |\\n| **2. Prepare Data** | Clean, transform, and split into training, validation, and test sets. | Normalize pixel values, split 80/10/10. |\\n| **3. Choose a Model** | Pick an algorithm that can represent the pattern. | Linear regression, decision tree, neural network. |\\n| **4. Train** | Feed the training data into the model; it adjusts internal parameters to reduce error. | Gradient descent adjusts weights in a neural net. |\\n| **5. Validate** | Tune hyper‑parameters and prevent overfitting using the validation set. | Adjust learning rate or regularization strength. |\\n| **6. Test** | Measure performance on unseen data to estimate real‑world accuracy. | Accuracy, F1‑score, mean squared error. |\\n| **7. Deploy** | Use the trained model in a production system to make predictions. | Real‑time spam filter in an email client. |\\n\\n---\\n\\n## 3. Main Learning Paradigms\\n\\n| Paradigm | Description | Typical Use‑Cases |\\n|----------|-------------|-------------------|\\n| **Supervised Learning** | Learns a mapping from inputs to labeled outputs. | Image classification, spam detection, regression. |\\n| **Unsupervised Learning** | Discovers hidden structure without labels. | Clustering, dimensionality reduction, anomaly detection. |\\n| **Reinforcement Learning** | Learns by interacting with an environment and receiving rewards. | Game playing, robotics, recommendation engines. |\\n| **Semi‑Supervised / Self‑Supervised** | Uses a mix of labeled and unlabeled data or pretext tasks. | Natural language pre‑training (BERT, GPT). |\\n| **Transfer Learning** | Re‑uses a pre‑trained model on a new but related task. | Fine‑tuning ImageNet models for medical imaging. |\\n\\n---\\n\\n## 4. Common Algorithms & Models\\n\\n- **Linear models**: Linear regression, logistic regression.\\n- **Tree‑based**: Decision trees, Random Forest, Gradient Boosting (XGBoost, LightGBM).\\n- **Kernel methods**: Support Vector Machines (SVM).\\n- **Neural networks**: Feed‑forward nets, Convolutional Neural Networks (CNNs), Recurrent Neural Networks (RNNs), Transformers.\\n- **Probabilistic models**: Naïve Bayes, Hidden Markov Models.\\n- **Clustering**: k‑means, DBSCAN, hierarchical clustering.\\n\\n---\\n\\n## 5. Key Concepts\\n\\n| Concept | Why It Matters |\\n|---------|----------------|\\n| **Overfitting** | Model learns noise instead of signal; generalizes poorly. |\\n| **Underfitting** | Model too simple to capture underlying pattern. |\\n| **Bias–Variance Trade‑off** | Balancing model complexity and generalization. |\\n| **Feature Engineering** | Selecting and transforming raw data into useful inputs. |\\n| **Evaluation Metrics** | Accuracy, precision, recall, F1, ROC‑AUC, RMSE, etc. |\\n| **Cross‑Validation** | Robustly estimating model performance. |\\n| **Deployment & Monitoring** | Ensuring models stay accurate over time (concept drift). |\\n\\n---\\n\\n## 6. Real‑World Applications\\n\\n| Domain | ML Use |\\n|--------|--------|\\n| **Computer Vision** | Face recognition, autonomous driving, medical image analysis. |\\n| **Natural Language Processing** | Machine translation, sentiment analysis, chatbots. |\\n| **Recommendation Systems** | Product suggestions on e‑commerce sites. |\\n| **Finance** | Credit scoring, fraud detection, algorithmic trading. |\\n| **Healthcare** | Predictive diagnostics, drug discovery, personalized treatment. |\\n| **Robotics & IoT** | Sensor fusion, predictive maintenance, autonomous robots. |\\n| **Gaming** | AI opponents, procedural content generation. |\\n\\n---\\n\\n## 7. A Simple Example (Python + Scikit‑Learn)\\n\\n```python\\nfrom sklearn.datasets import load_iris\\nfrom sklearn.model_selection import train_test_split\\nfrom sklearn.ensemble import RandomForestClassifier\\nfrom sklearn.metrics import accuracy_score\\n\\n# 1. Load data\\nX, y = load_iris(return_X_y=True)\\n\\n# 2. Split\\nX_train, X_test, y_train, y_test = train_test_split(\\n    X, y, test_size=0.2, random_state=42)\\n\\n# 3. Model\\nclf = RandomForestClassifier(n_estimators=100, random_state=42)\\n\\n# 4. Train\\nclf.fit(X_train, y_train)\\n\\n# 5. Predict & evaluate\\npred = clf.predict(X_test)\\nprint(\"Accuracy:\", accuracy_score(y_test, pred))\\n```\\n\\n> **Result**: ≈ 97\\u202f% accuracy on the Iris dataset.\\n\\n---\\n\\n## 8. Takeaway\\n\\n- **Machine Learning** is the art and science of teaching computers to learn from data.\\n- It powers many of the “smart” features we use daily, from recommending a song to diagnosing a disease.\\n- A good ML project involves data collection, careful preprocessing, selecting an appropriate model, rigorous validation, and ongoing monitoring after deployment.\\n\\nFeel free to ask if you\\'d like deeper dives into any of the topics above!', additional_kwargs={'reasoning_content': 'The user asks: \"What is Machine Learning?\" They probably want a concise explanation. Could provide definition, context, types, applications, maybe some examples. They might want an overview. We can give a definition: ML is a subset of AI that allows systems to learn patterns from data, improving performance over time without being explicitly programmed. Could mention supervised, unsupervised, reinforcement learning. Provide examples. Also mention training, features, model, inference. Maybe mention typical algorithms: linear regression, decision trees, SVM, neural networks. Provide a short summary. Also mention data, training set, test set, validation, overfitting, generalization. Also mention applications: image recognition, NLP, recommendation systems, autonomous vehicles, etc. Provide a clear answer. Use friendly tone.\\n\\nWe can also mention that ML is not just AI but a method for building AI. Provide references. Possibly ask if they want deeper. But likely a concise answer. Let\\'s produce a clear explanation.'}, response_metadata={'token_usage': {'completion_tokens': 1440, 'prompt_tokens': 76, 'total_tokens': 1516, 'completion_time': 1.295888929, 'prompt_time': 0.004903778, 'queue_time': 0.002623492, 'total_time': 1.300792707}, 'model_name': 'openai/gpt-oss-20b', 'system_fingerprint': 'fp_59f77feedf', 'service_tier': 'on_demand', 'finish_reason': 'stop', 'logprobs': None}, id='run--a48ded92-1301-46f7-b5e3-7b38ccd9671b-0', usage_metadata={'input_tokens': 76, 'output_tokens': 1440, 'total_tokens': 1516})"
      ]
     },
     "execution_count": 9,
     "metadata": {},
     "output_type": "execute_result"
    }
   ],
   "source": [
    "init_llm.invoke(input=\"What is Machine Learning?\")"
   ]
  },
  {
   "cell_type": "code",
   "execution_count": null,
   "id": "646b3d25",
   "metadata": {},
   "outputs": [],
   "source": []
  }
 ],
 "metadata": {
  "kernelspec": {
   "display_name": "RAG-Bootcamp",
   "language": "python",
   "name": "python3"
  },
  "language_info": {
   "codemirror_mode": {
    "name": "ipython",
    "version": 3
   },
   "file_extension": ".py",
   "mimetype": "text/x-python",
   "name": "python",
   "nbconvert_exporter": "python",
   "pygments_lexer": "ipython3",
   "version": "3.12.7"
  }
 },
 "nbformat": 4,
 "nbformat_minor": 5
}
