{
 "cells": [
  {
   "cell_type": "markdown",
   "id": "21805f63",
   "metadata": {},
   "source": [
    "## Setup and Import Libraries"
   ]
  },
  {
   "cell_type": "code",
   "execution_count": null,
   "id": "995a4373",
   "metadata": {},
   "outputs": [],
   "source": [
    "import os\n",
    "import numpy as np\n",
    "from typing import List\n",
    "from langchain_core.documents import Document\n",
    "from langchain_core.prompts import ChatPromptTemplate, PromptTemplate\n",
    "from langchain_core.runnables import RunnablePassthrough\n",
    "from langchain_core.output_parsers import StrOutputParser\n",
    "from langchain_core.messages import HumanMessage, AIMessage\n",
    "from langchain_text_splitters import RecursiveCharacterTextSplitter\n",
    "from langchain_openai import OpenAIEmbeddings, ChatOpenAI\n",
    "from langchain_community.vectorstores import FAISS\n",
    "from langchain_community.document_loaders import TextLoader, PyPDFLoader\n",
    "from langchain.chains.retrieval import create_retrieval_chain\n",
    "from langchain.chains.combine_documents import create_stuff_documents_chain\n",
    "from langchain.chat_models import init_chat_model\n",
    "from dotenv import load_dotenv\n",
    "\n",
    "import warnings\n",
    "warnings.filterwarnings('ignore')"
   ]
  },
  {
   "cell_type": "code",
   "execution_count": 17,
   "id": "43ae4fad",
   "metadata": {},
   "outputs": [
    {
     "data": {
      "text/plain": [
       "True"
      ]
     },
     "execution_count": 17,
     "metadata": {},
     "output_type": "execute_result"
    }
   ],
   "source": [
    "load_dotenv()"
   ]
  },
  {
   "cell_type": "code",
   "execution_count": 18,
   "id": "3362232c",
   "metadata": {},
   "outputs": [],
   "source": [
    "os.environ[\"OPENAI_API_KEY\"] = os.getenv(\"OPENAI_API_KEY\")\n",
    "os.environ[\"GROQ_API_KEY\"] = os.getenv(\"GROQ_API_KEY\")"
   ]
  },
  {
   "cell_type": "code",
   "execution_count": 19,
   "id": "459d03de",
   "metadata": {},
   "outputs": [],
   "source": [
    "llm = ChatOpenAI(model='gpt-3.5-turbo')\n",
    "embeddings = OpenAIEmbeddings(model=\"text-embedding-3-small\")\n",
    "groq_llm = init_chat_model(model=\"groq:openai/gpt-oss-20b\")"
   ]
  },
  {
   "cell_type": "markdown",
   "id": "f3071a60",
   "metadata": {},
   "source": [
    "## Data Ingestion and Processing"
   ]
  },
  {
   "cell_type": "code",
   "execution_count": 5,
   "id": "3e868c43",
   "metadata": {},
   "outputs": [
    {
     "name": "stdout",
     "output_type": "stream",
     "text": [
      "[Document(metadata={'source': 'AI Introduction', 'page': 1, 'topic': 'AI'}, page_content='\\n        Artificial Intelligence (AI) is the simulation of human intelligence in machines.\\n        These systems are designed to think like humans and mimic their actions.\\n        AI can be categorized into narrow AI and general AI.\\n        '), Document(metadata={'source': 'ML Basics', 'page': 1, 'topic': 'ML'}, page_content='\\n        Machine Learning is a subset of AI that enables systems to learn from data.\\n        Instead of being explicitly programmed, ML algorithms find patterns in data.\\n        Common types include supervised, unsupervised, and reinforcement learning.\\n        '), Document(metadata={'source': 'Deep Learning', 'page': 1, 'topic': 'DL'}, page_content='\\n        Deep Learning is a subset of machine learning based on artificial neural networks.\\n        It uses multiple layers to progressively extract higher-level features from raw input.\\n        Deep learning has revolutionized computer vision, NLP, and speech recognition.\\n        '), Document(metadata={'source': 'NLP Overview', 'page': 1, 'topic': 'NLP'}, page_content='\\n        Natural Language Processing (NLP) is a branch of AI that helps computers understand human language.\\n        It combines computational linguistics with machine learning and deep learning models.\\n        Applications include chatbots, translation, sentiment analysis, and text summarization.\\n        ')]\n"
     ]
    }
   ],
   "source": [
    "sample_documents = [\n",
    "    Document(\n",
    "        page_content=\"\"\"\n",
    "        Artificial Intelligence (AI) is the simulation of human intelligence in machines.\n",
    "        These systems are designed to think like humans and mimic their actions.\n",
    "        AI can be categorized into narrow AI and general AI.\n",
    "        \"\"\",\n",
    "        metadata={\"source\": \"AI Introduction\", \"page\": 1, \"topic\": \"AI\"}\n",
    "    ),\n",
    "    Document(\n",
    "        page_content=\"\"\"\n",
    "        Machine Learning is a subset of AI that enables systems to learn from data.\n",
    "        Instead of being explicitly programmed, ML algorithms find patterns in data.\n",
    "        Common types include supervised, unsupervised, and reinforcement learning.\n",
    "        \"\"\",\n",
    "        metadata={\"source\": \"ML Basics\", \"page\": 1, \"topic\": \"ML\"}\n",
    "    ),\n",
    "    Document(\n",
    "        page_content=\"\"\"\n",
    "        Deep Learning is a subset of machine learning based on artificial neural networks.\n",
    "        It uses multiple layers to progressively extract higher-level features from raw input.\n",
    "        Deep learning has revolutionized computer vision, NLP, and speech recognition.\n",
    "        \"\"\",\n",
    "        metadata={\"source\": \"Deep Learning\", \"page\": 1, \"topic\": \"DL\"}\n",
    "    ),\n",
    "    Document(\n",
    "        page_content=\"\"\"\n",
    "        Natural Language Processing (NLP) is a branch of AI that helps computers understand human language.\n",
    "        It combines computational linguistics with machine learning and deep learning models.\n",
    "        Applications include chatbots, translation, sentiment analysis, and text summarization.\n",
    "        \"\"\",\n",
    "        metadata={\"source\": \"NLP Overview\", \"page\": 1, \"topic\": \"NLP\"}\n",
    "    )\n",
    "]\n",
    "\n",
    "print(sample_documents)"
   ]
  },
  {
   "cell_type": "code",
   "execution_count": 6,
   "id": "568ca5c5",
   "metadata": {},
   "outputs": [],
   "source": [
    "text_splitter = RecursiveCharacterTextSplitter(\n",
    "    separators=[\" \"],\n",
    "    chunk_size=500,\n",
    "    chunk_overlap=50,\n",
    "    length_function=len)\n",
    "\n",
    "chunks = text_splitter.split_documents(documents=sample_documents)"
   ]
  },
  {
   "cell_type": "code",
   "execution_count": 7,
   "id": "d911f25d",
   "metadata": {},
   "outputs": [
    {
     "name": "stdout",
     "output_type": "stream",
     "text": [
      "page_content='Artificial Intelligence (AI) is the simulation of human intelligence in machines.\n",
      "        These systems are designed to think like humans and mimic their actions.\n",
      "        AI can be categorized into narrow AI and general AI.' metadata={'source': 'AI Introduction', 'page': 1, 'topic': 'AI'}\n",
      "\n",
      "page_content='Machine Learning is a subset of AI that enables systems to learn from data.\n",
      "        Instead of being explicitly programmed, ML algorithms find patterns in data.\n",
      "        Common types include supervised, unsupervised, and reinforcement learning.' metadata={'source': 'ML Basics', 'page': 1, 'topic': 'ML'}\n"
     ]
    }
   ],
   "source": [
    "print(chunks[0])\n",
    "print()\n",
    "print(chunks[1])"
   ]
  },
  {
   "cell_type": "code",
   "execution_count": 8,
   "id": "ca687421",
   "metadata": {},
   "outputs": [
    {
     "name": "stdout",
     "output_type": "stream",
     "text": [
      "Created 4 chunks from 4 documents\n",
      "\n",
      "Example chunk:\n",
      "Content: Artificial Intelligence (AI) is the simulation of human intelligence in machines.\n",
      "        These systems are designed to think like humans and mimic their actions.\n",
      "        AI can be categorized into narrow AI and general AI.\n",
      "Metadata: {'source': 'AI Introduction', 'page': 1, 'topic': 'AI'}\n"
     ]
    }
   ],
   "source": [
    "print(f\"Created {len(chunks)} chunks from {len(sample_documents)} documents\")\n",
    "print(\"\\nExample chunk:\")\n",
    "print(f\"Content: {chunks[0].page_content}\")\n",
    "print(f\"Metadata: {chunks[0].metadata}\")"
   ]
  },
  {
   "cell_type": "markdown",
   "id": "f7550fc6",
   "metadata": {},
   "source": [
    "## Create Vector Store"
   ]
  },
  {
   "cell_type": "code",
   "execution_count": 9,
   "id": "32d350de",
   "metadata": {},
   "outputs": [
    {
     "name": "stdout",
     "output_type": "stream",
     "text": [
      "Vector store created with 4 vectors\n"
     ]
    },
    {
     "data": {
      "text/plain": [
       "<langchain_community.vectorstores.faiss.FAISS at 0x1e38abe7200>"
      ]
     },
     "execution_count": 9,
     "metadata": {},
     "output_type": "execute_result"
    }
   ],
   "source": [
    "vector_store = FAISS.from_documents(\n",
    "    documents=chunks,\n",
    "    embedding=embeddings\n",
    ")\n",
    "\n",
    "print(f\"Vector store created with {vector_store.index.ntotal} vectors\")\n",
    "\n",
    "vector_store"
   ]
  },
  {
   "cell_type": "markdown",
   "id": "d91deb91",
   "metadata": {},
   "source": [
    "### Saving Vector Store"
   ]
  },
  {
   "cell_type": "code",
   "execution_count": 10,
   "id": "47bd6ea1",
   "metadata": {},
   "outputs": [
    {
     "name": "stdout",
     "output_type": "stream",
     "text": [
      "Vector store saved to 'faiss_index' directory\n"
     ]
    }
   ],
   "source": [
    "vector_store.save_local(\"faiss_index\")\n",
    "\n",
    "print(\"Vector store saved to 'faiss_index' directory\")"
   ]
  },
  {
   "cell_type": "markdown",
   "id": "22b41c4d",
   "metadata": {},
   "source": [
    "### Loading Vector Store"
   ]
  },
  {
   "cell_type": "code",
   "execution_count": 11,
   "id": "4967ba67",
   "metadata": {},
   "outputs": [
    {
     "name": "stdout",
     "output_type": "stream",
     "text": [
      "Loaded vector store contains 4 vectors\n"
     ]
    }
   ],
   "source": [
    "loaded_vector_store = FAISS.load_local(\n",
    "    \"faiss_index\",\n",
    "    embeddings,\n",
    "    allow_dangerous_deserialization=True\n",
    ")\n",
    "\n",
    "print(f\"Loaded vector store contains {loaded_vector_store.index.ntotal} vectors\")"
   ]
  },
  {
   "cell_type": "markdown",
   "id": "1faabac2",
   "metadata": {},
   "source": [
    "## Perform Similarity Search"
   ]
  },
  {
   "cell_type": "code",
   "execution_count": 12,
   "id": "4a6b4123",
   "metadata": {},
   "outputs": [
    {
     "name": "stdout",
     "output_type": "stream",
     "text": [
      "[Document(id='f350d08e-7b13-4c16-834e-dfc103a3a8a0', metadata={'source': 'Deep Learning', 'page': 1, 'topic': 'DL'}, page_content='Deep Learning is a subset of machine learning based on artificial neural networks.\\n        It uses multiple layers to progressively extract higher-level features from raw input.\\n        Deep learning has revolutionized computer vision, NLP, and speech recognition.'), Document(id='4bf0d25e-5e34-407d-ae14-e9b76562a874', metadata={'source': 'ML Basics', 'page': 1, 'topic': 'ML'}, page_content='Machine Learning is a subset of AI that enables systems to learn from data.\\n        Instead of being explicitly programmed, ML algorithms find patterns in data.\\n        Common types include supervised, unsupervised, and reinforcement learning.'), Document(id='713c8d02-2c42-4198-85bb-5aa7363efec9', metadata={'source': 'NLP Overview', 'page': 1, 'topic': 'NLP'}, page_content='Natural Language Processing (NLP) is a branch of AI that helps computers understand human language.\\n        It combines computational linguistics with machine learning and deep learning models.\\n        Applications include chatbots, translation, sentiment analysis, and text summarization.')]\n"
     ]
    }
   ],
   "source": [
    "query = \"What os Deep Learning\"\n",
    "\n",
    "results = loaded_vector_store.similarity_search(query=query, k=3)\n",
    "print(results)"
   ]
  },
  {
   "cell_type": "code",
   "execution_count": 13,
   "id": "29d52ad9",
   "metadata": {},
   "outputs": [
    {
     "name": "stdout",
     "output_type": "stream",
     "text": [
      "Query: What os Deep Learning\n",
      "Top 3 Similar Chunks\n",
      "\n",
      "1. Source: Deep Learning\n",
      "    Content: Deep Learning is a subset of machine learning based on artificial neural networks.\n",
      "        It uses multiple layers to progressively extract higher-level features from raw input.\n",
      "        Deep learning ...\n",
      "\n",
      "2. Source: ML Basics\n",
      "    Content: Machine Learning is a subset of AI that enables systems to learn from data.\n",
      "        Instead of being explicitly programmed, ML algorithms find patterns in data.\n",
      "        Common types include supervised...\n",
      "\n",
      "3. Source: NLP Overview\n",
      "    Content: Natural Language Processing (NLP) is a branch of AI that helps computers understand human language.\n",
      "        It combines computational linguistics with machine learning and deep learning models.\n",
      "      ...\n"
     ]
    }
   ],
   "source": [
    "print(f\"Query: {query}\")\n",
    "print(\"Top 3 Similar Chunks\")\n",
    "\n",
    "for i, result in enumerate(results):\n",
    "    print(f\"\\n{i + 1}. Source: {result.metadata['source']}\")\n",
    "    print(f\"    Content: {result.page_content[:200]}...\") "
   ]
  },
  {
   "cell_type": "code",
   "execution_count": 14,
   "id": "b91a6ab4",
   "metadata": {},
   "outputs": [
    {
     "name": "stdout",
     "output_type": "stream",
     "text": [
      "Query: What os Deep Learning\n",
      "Top 3 Similar Chunks with Score\n",
      "Score: 0.606\n",
      "Source: Deep Learning\n",
      "Content preview: Deep Learning is a subset of machine learning based on artificial neural networks.\n",
      "        It uses m...\n",
      "\n",
      "Score: 1.194\n",
      "Source: ML Basics\n",
      "Content preview: Machine Learning is a subset of AI that enables systems to learn from data.\n",
      "        Instead of being...\n",
      "\n",
      "Score: 1.278\n",
      "Source: NLP Overview\n",
      "Content preview: Natural Language Processing (NLP) is a branch of AI that helps computers understand human language.\n",
      "...\n",
      "\n"
     ]
    }
   ],
   "source": [
    "query = \"What os Deep Learning\"\n",
    "\n",
    "results_with_scores = loaded_vector_store.similarity_search_with_score(query=query, k=3)\n",
    "\n",
    "print(f\"Query: {query}\")\n",
    "print(\"Top 3 Similar Chunks with Score\")\n",
    "\n",
    "for result, score in results_with_scores:\n",
    "    print(f\"Score: {float(score):.3f}\")\n",
    "    print(f\"Source: {result.metadata.get(\"source\", \"N/A\")}\")\n",
    "    print(f\"Content preview: {result.page_content[:100]}...\\n\")"
   ]
  },
  {
   "cell_type": "markdown",
   "id": "4163d43e",
   "metadata": {},
   "source": [
    "### Search with Metadata Filtering"
   ]
  },
  {
   "cell_type": "code",
   "execution_count": 15,
   "id": "4bbcdfcf",
   "metadata": {},
   "outputs": [
    {
     "name": "stdout",
     "output_type": "stream",
     "text": [
      "[Document(id='4bf0d25e-5e34-407d-ae14-e9b76562a874', metadata={'source': 'ML Basics', 'page': 1, 'topic': 'ML'}, page_content='Machine Learning is a subset of AI that enables systems to learn from data.\\n        Instead of being explicitly programmed, ML algorithms find patterns in data.\\n        Common types include supervised, unsupervised, and reinforcement learning.')]\n"
     ]
    }
   ],
   "source": [
    "filter_dict = {\"topic\": \"ML\"}\n",
    "\n",
    "filtered_results = loaded_vector_store.similarity_search(\n",
    "    query=query, \n",
    "    k=3, \n",
    "    filter=filter_dict\n",
    ")\n",
    "\n",
    "print(filtered_results)"
   ]
  },
  {
   "cell_type": "markdown",
   "id": "243beedd",
   "metadata": {},
   "source": [
    "## Build RAG Chain with LCEL"
   ]
  },
  {
   "cell_type": "code",
   "execution_count": 20,
   "id": "ae021908",
   "metadata": {},
   "outputs": [],
   "source": [
    "simple_prompt = ChatPromptTemplate.from_template(\"\"\" \n",
    "Answer the question based only on the following context:\n",
    "Context: {context}\n",
    "                                                 \n",
    "Question: {question}\n",
    "\n",
    "Answer:                                                       \n",
    "\"\"\")"
   ]
  },
  {
   "cell_type": "code",
   "execution_count": 21,
   "id": "736efba4",
   "metadata": {},
   "outputs": [],
   "source": [
    "retriever = loaded_vector_store.as_retriever(\n",
    "    search_type=\"similarity\",\n",
    "    search_kwargs={\"k\":3}\n",
    ")"
   ]
  },
  {
   "cell_type": "code",
   "execution_count": null,
   "id": "68e302c4",
   "metadata": {},
   "outputs": [],
   "source": [
    "def format_documents(documents: List[Document]) -> str:\n",
    "    \"\"\"\n",
    "    Format documents for insertion into prompt\n",
    "    \"\"\"\n",
    "\n",
    "    formatted_document = []\n",
    "    for i, document in enumerate(documents):\n",
    "        source = document.metadata.get('source', 'Unknown')\n",
    "        formatted_document.append(f\"Document {i+1} (Source: {source}):\\n{document.page_content}\")\n",
    "\n",
    "    return \"\\n\\n\".join(formatted_document)"
   ]
  },
  {
   "cell_type": "code",
   "execution_count": 23,
   "id": "8dc235cf",
   "metadata": {},
   "outputs": [
    {
     "data": {
      "text/plain": [
       "{\n",
       "  context: VectorStoreRetriever(tags=['FAISS', 'OpenAIEmbeddings'], vectorstore=<langchain_community.vectorstores.faiss.FAISS object at 0x000001E38ABE72F0>, search_kwargs={'k': 3})\n",
       "           | RunnableLambda(format_documents),\n",
       "  question: RunnablePassthrough()\n",
       "}\n",
       "| ChatPromptTemplate(input_variables=['context', 'question'], input_types={}, partial_variables={}, messages=[HumanMessagePromptTemplate(prompt=PromptTemplate(input_variables=['context', 'question'], input_types={}, partial_variables={}, template=' \\nAnswer the question based only on the following context:\\nContext: {context}\\n\\nQuestion: {question}\\n\\nAnswer:                                                       \\n'), additional_kwargs={})])\n",
       "| ChatGroq(client=<groq.resources.chat.completions.Completions object at 0x000001E3896C7050>, async_client=<groq.resources.chat.completions.AsyncCompletions object at 0x000001E38A8A6060>, model_name='openai/gpt-oss-20b', model_kwargs={}, groq_api_key=SecretStr('**********'))\n",
       "| StrOutputParser()"
      ]
     },
     "execution_count": 23,
     "metadata": {},
     "output_type": "execute_result"
    }
   ],
   "source": [
    "simple_rag_chain = (\n",
    "    {\n",
    "        \"context\": retriever | format_documents,\n",
    "        \"question\": RunnablePassthrough()\n",
    "    }\n",
    "    | simple_prompt\n",
    "    | groq_llm\n",
    "    | StrOutputParser()\n",
    ")\n",
    "\n",
    "simple_rag_chain"
   ]
  },
  {
   "cell_type": "markdown",
   "id": "30ae62ff",
   "metadata": {},
   "source": [
    "## Conversational RAG Chain"
   ]
  },
  {
   "cell_type": "code",
   "execution_count": 24,
   "id": "eb2ee2b8",
   "metadata": {},
   "outputs": [],
   "source": [
    "conversational_prompt = ChatPromptTemplate.from_messages([\n",
    "    (\"system\", \"You are a helpful AI assistant. Use the provided context to answer questions.\"),\n",
    "    (\"placeholder\", \"{chat_history}\"),\n",
    "    (\"human\", \"Context: {context}\\n\\nQuestion: {input}\"),\n",
    "])"
   ]
  },
  {
   "cell_type": "code",
   "execution_count": 25,
   "id": "722d41a8",
   "metadata": {},
   "outputs": [
    {
     "data": {
      "text/plain": [
       "RunnableAssign(mapper={\n",
       "  context: RunnableLambda(lambda x: format_documents(retriever.invoke(x['input'])))\n",
       "})\n",
       "| ChatPromptTemplate(input_variables=['context', 'input'], optional_variables=['chat_history'], input_types={'chat_history': list[typing.Annotated[typing.Union[typing.Annotated[langchain_core.messages.ai.AIMessage, Tag(tag='ai')], typing.Annotated[langchain_core.messages.human.HumanMessage, Tag(tag='human')], typing.Annotated[langchain_core.messages.chat.ChatMessage, Tag(tag='chat')], typing.Annotated[langchain_core.messages.system.SystemMessage, Tag(tag='system')], typing.Annotated[langchain_core.messages.function.FunctionMessage, Tag(tag='function')], typing.Annotated[langchain_core.messages.tool.ToolMessage, Tag(tag='tool')], typing.Annotated[langchain_core.messages.ai.AIMessageChunk, Tag(tag='AIMessageChunk')], typing.Annotated[langchain_core.messages.human.HumanMessageChunk, Tag(tag='HumanMessageChunk')], typing.Annotated[langchain_core.messages.chat.ChatMessageChunk, Tag(tag='ChatMessageChunk')], typing.Annotated[langchain_core.messages.system.SystemMessageChunk, Tag(tag='SystemMessageChunk')], typing.Annotated[langchain_core.messages.function.FunctionMessageChunk, Tag(tag='FunctionMessageChunk')], typing.Annotated[langchain_core.messages.tool.ToolMessageChunk, Tag(tag='ToolMessageChunk')]], FieldInfo(annotation=NoneType, required=True, discriminator=Discriminator(discriminator=<function _get_type at 0x000001E38676F9C0>, custom_error_type=None, custom_error_message=None, custom_error_context=None))]]}, partial_variables={'chat_history': []}, messages=[SystemMessagePromptTemplate(prompt=PromptTemplate(input_variables=[], input_types={}, partial_variables={}, template='You are a helpful AI assistant. Use the provided context to answer questions.'), additional_kwargs={}), MessagesPlaceholder(variable_name='chat_history', optional=True), HumanMessagePromptTemplate(prompt=PromptTemplate(input_variables=['context', 'input'], input_types={}, partial_variables={}, template='Context: {context}\\n\\nQuestion: {input}'), additional_kwargs={})])\n",
       "| ChatOpenAI(client=<openai.resources.chat.completions.completions.Completions object at 0x000001E3895A4350>, async_client=<openai.resources.chat.completions.completions.AsyncCompletions object at 0x000001E3895A4470>, root_client=<openai.OpenAI object at 0x000001E3895A5850>, root_async_client=<openai.AsyncOpenAI object at 0x000001E3895A7C50>, model_kwargs={}, openai_api_key=SecretStr('**********'))\n",
       "| StrOutputParser()"
      ]
     },
     "execution_count": 25,
     "metadata": {},
     "output_type": "execute_result"
    }
   ],
   "source": [
    "def create_conversational_rag():\n",
    "    \"\"\"Create a conversational RAG chain with memory\"\"\"\n",
    "    return (\n",
    "        RunnablePassthrough.assign(\n",
    "            context=lambda x: format_documents(retriever.invoke(x[\"input\"]))\n",
    "        )\n",
    "        | conversational_prompt\n",
    "        | llm\n",
    "        | StrOutputParser()\n",
    "    )\n",
    "\n",
    "conversational_rag = create_conversational_rag()\n",
    "\n",
    "conversational_rag"
   ]
  },
  {
   "cell_type": "markdown",
   "id": "4fd1c702",
   "metadata": {},
   "source": [
    "## Streaming RAG Chain"
   ]
  },
  {
   "cell_type": "code",
   "execution_count": 26,
   "id": "8c378b23",
   "metadata": {},
   "outputs": [
    {
     "name": "stdout",
     "output_type": "stream",
     "text": [
      "Modern RAG chains created successfully!\n"
     ]
    }
   ],
   "source": [
    "streaming_rag_chain = (\n",
    "    {\n",
    "        \"context\": retriever | format_documents, \n",
    "        \"question\": RunnablePassthrough()\n",
    "    }\n",
    "    | simple_prompt\n",
    "    | llm\n",
    ")\n",
    "\n",
    "print(\"Modern RAG chains created successfully!\")"
   ]
  },
  {
   "cell_type": "markdown",
   "id": "6ce2513c",
   "metadata": {},
   "source": [
    "### Available chains:\n",
    "- Simple_rag_chain: Basic Q&A\"\n",
    "- Conversational_rag: Maintains conversation history\n",
    "- Streaming_rag_chain: Supports token streaming"
   ]
  },
  {
   "cell_type": "markdown",
   "id": "8070a0c8",
   "metadata": {},
   "source": [
    "## Test RAG Chains"
   ]
  },
  {
   "cell_type": "code",
   "execution_count": 27,
   "id": "0ffe841d",
   "metadata": {},
   "outputs": [],
   "source": [
    "def test_rag_chains(question: str):\n",
    "    \"\"\"\n",
    "    Test all RAG chain variants\n",
    "    \"\"\"\n",
    "\n",
    "    print(f\"Question: {question}\")\n",
    "    print(\"=\" * 80)\n",
    "\n",
    "    # 1. Simple RAG\n",
    "    print(\"\\n1. Simple RAG Chain:\")\n",
    "    answer = simple_rag_chain.invoke(question)\n",
    "    print(f\"Answer: {answer}\")\n",
    "\n",
    "    # 1. Streaming RAG\n",
    "    print(\"\\n2. Streaming RAG:\")\n",
    "    print(\"Answer: \", end=\"\", flush=True)\n",
    "    for chunk in streaming_rag_chain.stream(question):\n",
    "        print(chunk.content, end=\"\", flush=True)\n",
    "    print()"
   ]
  },
  {
   "cell_type": "code",
   "execution_count": 28,
   "id": "f97a2a88",
   "metadata": {},
   "outputs": [
    {
     "name": "stdout",
     "output_type": "stream",
     "text": [
      "Question: What is the difference between AI and machine learning\n",
      "================================================================================\n",
      "\n",
      "1. Simple RAG Chain:\n",
      "Answer: AI is the broader field that seeks to simulate human intelligence in machines—enabling systems to think, reason, and act like humans.  \n",
      "Machine learning is a specific subset of AI that focuses on algorithms that learn patterns from data rather than being explicitly programmed. Thus, all machine‑learning systems are AI, but not all AI systems use machine learning.\n",
      "\n",
      "2. Streaming RAG:\n",
      "Answer: AI is the simulation of human intelligence in machines, while machine learning is a subset of AI that enables systems to learn from data. AI focuses on mimicking human actions and thinking, while machine learning focuses on finding patterns in data without being explicitly programmed.\n"
     ]
    }
   ],
   "source": [
    "question = \"What is the difference between AI and machine learning\"\n",
    "\n",
    "test_rag_chains(question=question)"
   ]
  },
  {
   "cell_type": "code",
   "execution_count": 29,
   "id": "c9a83f2c",
   "metadata": {},
   "outputs": [
    {
     "name": "stdout",
     "output_type": "stream",
     "text": [
      "\n",
      "================================================================================\n",
      "\n",
      "Question: What is the difference between AI and Machine Learning?\n",
      "================================================================================\n",
      "\n",
      "1. Simple RAG Chain:\n",
      "Answer: **Answer:**  \n",
      "Artificial Intelligence (AI) is the broader field that simulates human intelligence in machines, enabling them to think and act like humans. Machine Learning (ML) is a subset of AI that focuses on enabling systems to learn from data by discovering patterns, rather than being explicitly programmed. Thus, ML is one approach within the larger domain of AI.\n",
      "\n",
      "2. Streaming RAG:\n",
      "Answer: AI is the simulation of human intelligence in machines, while Machine Learning is a subset of AI that enables systems to learn from data. AI is designed to think like humans and mimic their actions, while Machine Learning algorithms find patterns in data instead of being explicitly programmed.\n",
      "\n",
      "================================================================================\n",
      "\n",
      "Question: Explain deep learning in simple terms\n",
      "================================================================================\n",
      "\n",
      "1. Simple RAG Chain:\n",
      "Answer: Deep learning is a kind of machine learning that uses artificial neural networks with many layers.  \n",
      "These layers work together to look at raw data (like images, sounds, or text) and, step by step, pull out higher‑level patterns. Because of this layered approach, deep learning has become the driving force behind recent breakthroughs in computer vision, natural language processing, and speech recognition.\n",
      "\n",
      "2. Streaming RAG:\n",
      "Answer: Deep learning is a type of machine learning that uses artificial neural networks with multiple layers to identify patterns and features in data. It has greatly improved areas like computer vision, speech recognition, and Natural Language Processing by extracting higher-level information from raw input.\n",
      "\n",
      "================================================================================\n",
      "\n",
      "Question: How does NLP work?\n",
      "================================================================================\n",
      "\n",
      "1. Simple RAG Chain:\n",
      "Answer: NLP works by combining **computational linguistics**—the study of language structure and rules—with **machine learning** and **deep learning** techniques.  \n",
      "- **Computational linguistics** provides linguistic models and algorithms to parse, tokenize, and understand language syntax and semantics.  \n",
      "- **Machine learning** algorithms learn patterns from annotated language data (e.g., supervised classification for sentiment analysis).  \n",
      "- **Deep learning** models, built on artificial neural networks with multiple layers, automatically extract higher‑level language features from raw text, enabling tasks such as translation, summarization, and chatbot dialogue.  \n",
      "\n",
      "Together, these components allow computers to interpret, generate, and manipulate human language.\n",
      "\n",
      "2. Streaming RAG:\n",
      "Answer: NLP works by incorporating computational linguistics with machine learning and deep learning models to help computers understand human language.\n"
     ]
    }
   ],
   "source": [
    "test_questions = [\n",
    "    \"What is the difference between AI and Machine Learning?\",\n",
    "    \"Explain deep learning in simple terms\",\n",
    "    \"How does NLP work?\"\n",
    "]\n",
    "\n",
    "for question in test_questions:\n",
    "    print(\"\\n\" + \"=\" * 80 + \"\\n\")\n",
    "    test_rag_chains(question)"
   ]
  },
  {
   "cell_type": "code",
   "execution_count": 30,
   "id": "b0ca1f00",
   "metadata": {},
   "outputs": [
    {
     "name": "stdout",
     "output_type": "stream",
     "text": [
      "\n",
      "3. Conversational RAG Example:\n",
      "Question 1: What is machine learning?\n",
      "Answer 1: Machine Learning is a subset of AI that enables systems to learn from data without being explicitly programmed. It involves using algorithms to find patterns in data, and common types include supervised, unsupervised, and reinforcement learning.\n"
     ]
    }
   ],
   "source": [
    "print(\"\\n3. Conversational RAG Example:\")\n",
    "chat_history = []\n",
    "\n",
    "# First question\n",
    "question1 = \"What is machine learning?\"\n",
    "answer1 = conversational_rag.invoke({\n",
    "    \"input\": question1,\n",
    "    \"chat_history\": chat_history\n",
    "})\n",
    "\n",
    "print(f\"Question 1: {question1}\")\n",
    "print(f\"Answer 1: {answer1}\")"
   ]
  },
  {
   "cell_type": "code",
   "execution_count": 31,
   "id": "586698a2",
   "metadata": {},
   "outputs": [],
   "source": [
    "chat_history.extend([\n",
    "    HumanMessage(content=question1),\n",
    "    AIMessage(content=answer1)\n",
    "])"
   ]
  },
  {
   "cell_type": "code",
   "execution_count": 34,
   "id": "f1e6b8f7",
   "metadata": {},
   "outputs": [
    {
     "name": "stdout",
     "output_type": "stream",
     "text": [
      "\n",
      "Question 2: How is it different from traditional programming?\n",
      "Answer 2: Traditional programming involves writing explicit instructions for a computer to follow, while machine learning involves training algorithms to learn from data and make predictions or decisions based on that data. In traditional programming, the programmer specifies the rules and logic for the computer to execute, whereas in machine learning, the system learns from examples and data to improve its performance over time.\n"
     ]
    }
   ],
   "source": [
    "question2 = \"How is it different from traditional programming?\"\n",
    "\n",
    "answer2 = conversational_rag.invoke({\n",
    "    \"input\": question2,\n",
    "    \"chat_history\": chat_history\n",
    "})\n",
    "\n",
    "print(f\"\\nQuestion 2: {question2}\")\n",
    "print(f\"Answer 2: {answer2}\")"
   ]
  },
  {
   "cell_type": "code",
   "execution_count": null,
   "id": "e29080a5",
   "metadata": {},
   "outputs": [],
   "source": []
  }
 ],
 "metadata": {
  "kernelspec": {
   "display_name": "RAG-Bootcamp",
   "language": "python",
   "name": "python3"
  },
  "language_info": {
   "codemirror_mode": {
    "name": "ipython",
    "version": 3
   },
   "file_extension": ".py",
   "mimetype": "text/x-python",
   "name": "python",
   "nbconvert_exporter": "python",
   "pygments_lexer": "ipython3",
   "version": "3.12.7"
  }
 },
 "nbformat": 4,
 "nbformat_minor": 5
}
