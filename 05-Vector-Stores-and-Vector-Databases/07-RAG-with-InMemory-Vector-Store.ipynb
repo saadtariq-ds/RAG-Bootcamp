{
 "cells": [
  {
   "cell_type": "markdown",
   "id": "296562b1",
   "metadata": {},
   "source": [
    "## Setup and Import Libraries"
   ]
  },
  {
   "cell_type": "code",
   "execution_count": null,
   "id": "3d3aacdb",
   "metadata": {},
   "outputs": [],
   "source": [
    "import os\n",
    "from langchain.chat_models import init_chat_model\n",
    "from langchain_openai import OpenAIEmbeddings\n",
    "from langchain_core.vectorstores import InMemoryVectorStore\n",
    "from langchain_core.documents import Document\n",
    "from langchain_core.prompts import ChatPromptTemplate\n",
    "from langchain_core.output_parsers import StrOutputParser\n",
    "from langchain_core.runnables import RunnablePassthrough\n",
    "from dotenv import load_dotenv\n",
    "\n",
    "import warnings\n",
    "warnings.filterwarnings('ignore')"
   ]
  },
  {
   "cell_type": "code",
   "execution_count": 2,
   "id": "62596fa9",
   "metadata": {},
   "outputs": [
    {
     "data": {
      "text/plain": [
       "True"
      ]
     },
     "execution_count": 2,
     "metadata": {},
     "output_type": "execute_result"
    }
   ],
   "source": [
    "load_dotenv()"
   ]
  },
  {
   "cell_type": "code",
   "execution_count": 3,
   "id": "bb3899ae",
   "metadata": {},
   "outputs": [],
   "source": [
    "os.environ[\"OPENAI_API_KEY\"] = os.getenv(\"OPENAI_API_KEY\")\n",
    "os.environ[\"GROQ_API_KEY\"] = os.getenv(\"GROQ_API_KEY\")"
   ]
  },
  {
   "cell_type": "code",
   "execution_count": 4,
   "id": "140bdf9e",
   "metadata": {},
   "outputs": [],
   "source": [
    "embeddings = OpenAIEmbeddings(model=\"text-embedding-3-small\")\n",
    "llm = init_chat_model(model=\"groq:openai/gpt-oss-20b\")"
   ]
  },
  {
   "cell_type": "markdown",
   "id": "088305f4",
   "metadata": {},
   "source": [
    "## Creating InMemory Vector Store"
   ]
  },
  {
   "cell_type": "code",
   "execution_count": 5,
   "id": "b73a4fd3",
   "metadata": {},
   "outputs": [],
   "source": [
    "vector_store = InMemoryVectorStore(embedding=embeddings)"
   ]
  },
  {
   "cell_type": "code",
   "execution_count": 6,
   "id": "b7d34405",
   "metadata": {},
   "outputs": [
    {
     "data": {
      "text/plain": [
       "[Document(metadata={'source': 'tweet'}, page_content='I had chocolate chip pancakes and scrambled eggs for breakfast this morning.'),\n",
       " Document(metadata={'source': 'news'}, page_content='The weather forecast for tomorrow is cloudy and overcast, with a high of 62 degrees.'),\n",
       " Document(metadata={'source': 'tweet'}, page_content='Building an exciting new project with LangChain - come check it out!'),\n",
       " Document(metadata={'source': 'news'}, page_content='Robbers broke into the city bank and stole $1 million in cash.'),\n",
       " Document(metadata={'source': 'tweet'}, page_content=\"Wow! That was an amazing movie. I can't wait to see it again.\"),\n",
       " Document(metadata={'source': 'website'}, page_content='Is the new iPhone worth the price? Read this review to find out.'),\n",
       " Document(metadata={'source': 'website'}, page_content='The top 10 soccer players in the world right now.'),\n",
       " Document(metadata={'source': 'tweet'}, page_content='LangGraph is the best framework for building stateful, agentic applications!'),\n",
       " Document(metadata={'source': 'news'}, page_content='The stock market is down 500 points today due to fears of a recession.'),\n",
       " Document(metadata={'source': 'tweet'}, page_content='I have a bad feeling I am going to get deleted :(')]"
      ]
     },
     "execution_count": 6,
     "metadata": {},
     "output_type": "execute_result"
    }
   ],
   "source": [
    "documents = [\n",
    "    Document(\n",
    "        page_content=\"I had chocolate chip pancakes and scrambled eggs for breakfast this morning.\",\n",
    "        metadata={\"source\": \"tweet\"},\n",
    "    ),\n",
    "\n",
    "    Document(\n",
    "        page_content=\"The weather forecast for tomorrow is cloudy and overcast, with a high of 62 degrees.\",\n",
    "        metadata={\"source\": \"news\"},\n",
    "    ),\n",
    "\n",
    "    Document(\n",
    "        page_content=\"Building an exciting new project with LangChain - come check it out!\",\n",
    "        metadata={\"source\": \"tweet\"},\n",
    "    ),\n",
    "\n",
    "    Document(\n",
    "        page_content=\"Robbers broke into the city bank and stole $1 million in cash.\",\n",
    "        metadata={\"source\": \"news\"},\n",
    "    ),\n",
    "\n",
    "    Document(\n",
    "        page_content=\"Wow! That was an amazing movie. I can't wait to see it again.\",\n",
    "        metadata={\"source\": \"tweet\"},\n",
    "    ),\n",
    "\n",
    "    Document(\n",
    "        page_content=\"Is the new iPhone worth the price? Read this review to find out.\",\n",
    "        metadata={\"source\": \"website\"},\n",
    "    ),\n",
    "\n",
    "    Document(\n",
    "        page_content=\"The top 10 soccer players in the world right now.\",\n",
    "        metadata={\"source\": \"website\"},\n",
    "    ),\n",
    "\n",
    "    Document(\n",
    "        page_content=\"LangGraph is the best framework for building stateful, agentic applications!\",\n",
    "        metadata={\"source\": \"tweet\"},\n",
    "    ),\n",
    "\n",
    "    Document(\n",
    "        page_content=\"The stock market is down 500 points today due to fears of a recession.\",\n",
    "        metadata={\"source\": \"news\"},\n",
    "    ),\n",
    "\n",
    "    Document(\n",
    "        page_content=\"I have a bad feeling I am going to get deleted :(\",\n",
    "        metadata={\"source\": \"tweet\"},\n",
    "    ),\n",
    "]\n",
    "\n",
    "documents"
   ]
  },
  {
   "cell_type": "code",
   "execution_count": 7,
   "id": "3b31665d",
   "metadata": {},
   "outputs": [
    {
     "data": {
      "text/plain": [
       "['88f19987-04d7-4e32-90cb-388e787a6eaf',\n",
       " 'c13dbeb9-7f5a-44d0-90db-1eae33c96b8f',\n",
       " 'c0ca0253-53e3-4935-bb30-c81193669e2b',\n",
       " '93fa7038-052b-4c4d-ba41-41186c32feff',\n",
       " 'accc42e7-9350-4a65-a350-8ce9f362eec2',\n",
       " '49e4e127-1a4d-44bc-9500-3fb91952942e',\n",
       " '19b457a5-a43a-4b23-9ddd-471257658225',\n",
       " 'efa41ad0-7571-48c4-8532-4b23ca0e4ec4',\n",
       " '30aef707-f5cd-4fe1-a9b0-df6bb7e1b2b1',\n",
       " 'f02819b1-fcf0-4b2b-9860-5862265ca60d']"
      ]
     },
     "execution_count": 7,
     "metadata": {},
     "output_type": "execute_result"
    }
   ],
   "source": [
    "vector_store.add_documents(documents=documents)"
   ]
  },
  {
   "cell_type": "code",
   "execution_count": 8,
   "id": "d44ff9de",
   "metadata": {},
   "outputs": [
    {
     "data": {
      "text/plain": [
       "[Document(id='c13dbeb9-7f5a-44d0-90db-1eae33c96b8f', metadata={'source': 'news'}, page_content='The weather forecast for tomorrow is cloudy and overcast, with a high of 62 degrees.'),\n",
       " Document(id='f02819b1-fcf0-4b2b-9860-5862265ca60d', metadata={'source': 'tweet'}, page_content='I have a bad feeling I am going to get deleted :('),\n",
       " Document(id='30aef707-f5cd-4fe1-a9b0-df6bb7e1b2b1', metadata={'source': 'news'}, page_content='The stock market is down 500 points today due to fears of a recession.'),\n",
       " Document(id='88f19987-04d7-4e32-90cb-388e787a6eaf', metadata={'source': 'tweet'}, page_content='I had chocolate chip pancakes and scrambled eggs for breakfast this morning.')]"
      ]
     },
     "execution_count": 8,
     "metadata": {},
     "output_type": "execute_result"
    }
   ],
   "source": [
    "query = \"Hows the weather forecast\"\n",
    "\n",
    "vector_store.similarity_search(query=query)"
   ]
  },
  {
   "cell_type": "code",
   "execution_count": 9,
   "id": "41f26f72",
   "metadata": {},
   "outputs": [
    {
     "data": {
      "text/plain": [
       "[Document(id='c13dbeb9-7f5a-44d0-90db-1eae33c96b8f', metadata={'source': 'news'}, page_content='The weather forecast for tomorrow is cloudy and overcast, with a high of 62 degrees.'),\n",
       " Document(id='f02819b1-fcf0-4b2b-9860-5862265ca60d', metadata={'source': 'tweet'}, page_content='I have a bad feeling I am going to get deleted :(')]"
      ]
     },
     "execution_count": 9,
     "metadata": {},
     "output_type": "execute_result"
    }
   ],
   "source": [
    "query = \"Hows the weather forecast\"\n",
    "\n",
    "vector_store.similarity_search(query=query, k=2)"
   ]
  },
  {
   "cell_type": "code",
   "execution_count": 10,
   "id": "78aec9ca",
   "metadata": {},
   "outputs": [
    {
     "data": {
      "text/plain": [
       "VectorStoreRetriever(tags=['InMemoryVectorStore', 'OpenAIEmbeddings'], vectorstore=<langchain_core.vectorstores.in_memory.InMemoryVectorStore object at 0x0000023E5ABB3B60>, search_kwargs={'k': 2})"
      ]
     },
     "execution_count": 10,
     "metadata": {},
     "output_type": "execute_result"
    }
   ],
   "source": [
    "retriever = vector_store.as_retriever(\n",
    "    search_kwargs={\"k\":2}\n",
    ")\n",
    "\n",
    "retriever"
   ]
  },
  {
   "cell_type": "code",
   "execution_count": 11,
   "id": "9906299a",
   "metadata": {},
   "outputs": [
    {
     "data": {
      "text/plain": [
       "[Document(id='c13dbeb9-7f5a-44d0-90db-1eae33c96b8f', metadata={'source': 'news'}, page_content='The weather forecast for tomorrow is cloudy and overcast, with a high of 62 degrees.'),\n",
       " Document(id='f02819b1-fcf0-4b2b-9860-5862265ca60d', metadata={'source': 'tweet'}, page_content='I have a bad feeling I am going to get deleted :(')]"
      ]
     },
     "execution_count": 11,
     "metadata": {},
     "output_type": "execute_result"
    }
   ],
   "source": [
    "query = \"Hows the weather forecast\"\n",
    "\n",
    "retriever.invoke(input=query)"
   ]
  },
  {
   "cell_type": "markdown",
   "id": "bb061d29",
   "metadata": {},
   "source": [
    "## Creating RAG Chain"
   ]
  },
  {
   "cell_type": "code",
   "execution_count": null,
   "id": "d5476411",
   "metadata": {},
   "outputs": [
    {
     "data": {
      "text/plain": [
       "ChatPromptTemplate(input_variables=['context', 'question'], input_types={}, partial_variables={}, messages=[HumanMessagePromptTemplate(prompt=PromptTemplate(input_variables=['context', 'question'], input_types={}, partial_variables={}, template=\"Use the following context to answer the question. \\nIf you don't know the answer based on the context, say you don't know.\\nProvide specific details from the context to support your answer.\\n\\nContext:\\n{context}\\n\\nQuestion: {question}\\n\\nAnswer:\"), additional_kwargs={})])"
      ]
     },
     "execution_count": 12,
     "metadata": {},
     "output_type": "execute_result"
    }
   ],
   "source": [
    "system_prompt = ChatPromptTemplate.from_template(\"\"\"Use the following context to answer the question. \n",
    "If you don't know the answer based on the context, say you don't know.\n",
    "Provide specific details from the context to support your answer.\n",
    "\n",
    "Context:\n",
    "{context}\n",
    "\n",
    "Question: {question}\n",
    "\n",
    "Answer:\"\"\")\n",
    "\n",
    "system_prompt"
   ]
  },
  {
   "cell_type": "code",
   "execution_count": 13,
   "id": "58e37939",
   "metadata": {},
   "outputs": [],
   "source": [
    "def format_docs(documents):\n",
    "    return \"\\n\\n\".join(document.page_content for document in documents)"
   ]
  },
  {
   "cell_type": "code",
   "execution_count": null,
   "id": "73f96155",
   "metadata": {},
   "outputs": [
    {
     "data": {
      "text/plain": [
       "{\n",
       "  context: VectorStoreRetriever(tags=['InMemoryVectorStore', 'OpenAIEmbeddings'], vectorstore=<langchain_core.vectorstores.in_memory.InMemoryVectorStore object at 0x0000023E5ABB3B60>, search_kwargs={'k': 2})\n",
       "           | RunnableLambda(format_docs),\n",
       "  question: RunnablePassthrough()\n",
       "}\n",
       "| ChatPromptTemplate(input_variables=['context', 'question'], input_types={}, partial_variables={}, messages=[HumanMessagePromptTemplate(prompt=PromptTemplate(input_variables=['context', 'question'], input_types={}, partial_variables={}, template=\"Use the following context to answer the question. \\nIf you don't know the answer based on the context, say you don't know.\\nProvide specific details from the context to support your answer.\\n\\nContext:\\n{context}\\n\\nQuestion: {question}\\n\\nAnswer:\"), additional_kwargs={})])\n",
       "| ChatGroq(client=<groq.resources.chat.completions.Completions object at 0x0000023E5ADA47A0>, async_client=<groq.resources.chat.completions.AsyncCompletions object at 0x0000023E5ADE3E90>, model_name='openai/gpt-oss-20b', model_kwargs={}, groq_api_key=SecretStr('**********'))\n",
       "| StrOutputParser()"
      ]
     },
     "execution_count": 14,
     "metadata": {},
     "output_type": "execute_result"
    }
   ],
   "source": [
    "rag_chain = ({ \n",
    "        \"context\": retriever | format_docs,\n",
    "        \"question\": RunnablePassthrough()\n",
    "    }\n",
    "    | system_prompt\n",
    "    | llm\n",
    "    | StrOutputParser()\n",
    ")\n",
    "\n",
    "rag_chain"
   ]
  },
  {
   "cell_type": "code",
   "execution_count": 15,
   "id": "618ba3b3",
   "metadata": {},
   "outputs": [
    {
     "data": {
      "text/plain": [
       "'The forecast for tomorrow is cloudy and overcast, with a high of 62\\u202f°F.'"
      ]
     },
     "execution_count": 15,
     "metadata": {},
     "output_type": "execute_result"
    }
   ],
   "source": [
    "query = \"Hows the weather forecast\"\n",
    "\n",
    "response= rag_chain.invoke(query)\n",
    "response"
   ]
  },
  {
   "cell_type": "code",
   "execution_count": null,
   "id": "87ee248e",
   "metadata": {},
   "outputs": [],
   "source": [
    "def query_rag(question):\n",
    "    print(f\"Question: {question}\")\n",
    "    print(\"-\" * 50)\n",
    "    \n",
    "    answer = rag_chain.invoke(question)\n",
    "    print(f\"Answer: {answer}\")\n",
    "    \n",
    "    # Get source documents separately if needed\n",
    "    docs = retriever.get_relevant_documents(question)\n",
    "    print(\"\\nSource Documents:\")\n",
    "    for i, doc in enumerate(docs):\n",
    "        print(f\"\\n--- Source {i+1} ---\")\n",
    "        print(doc.page_content[:200] + \"...\")"
   ]
  },
  {
   "cell_type": "code",
   "execution_count": 17,
   "id": "9f971faf",
   "metadata": {},
   "outputs": [
    {
     "name": "stdout",
     "output_type": "stream",
     "text": [
      "Question: Hows the weather forecast\n",
      "--------------------------------------------------\n",
      "Answer: The forecast says tomorrow will be **cloudy and overcast** with a **high of 62 °F**.\n",
      "\n",
      "Source Documents:\n",
      "\n",
      "--- Source 1 ---\n",
      "The weather forecast for tomorrow is cloudy and overcast, with a high of 62 degrees....\n",
      "\n",
      "--- Source 2 ---\n",
      "I have a bad feeling I am going to get deleted :(...\n"
     ]
    }
   ],
   "source": [
    "question = \"Hows the weather forecast\"\n",
    "\n",
    "query_rag(question=question)"
   ]
  },
  {
   "cell_type": "code",
   "execution_count": null,
   "id": "494fc180",
   "metadata": {},
   "outputs": [],
   "source": []
  }
 ],
 "metadata": {
  "kernelspec": {
   "display_name": "RAG-Bootcamp",
   "language": "python",
   "name": "python3"
  },
  "language_info": {
   "codemirror_mode": {
    "name": "ipython",
    "version": 3
   },
   "file_extension": ".py",
   "mimetype": "text/x-python",
   "name": "python",
   "nbconvert_exporter": "python",
   "pygments_lexer": "ipython3",
   "version": "3.12.7"
  }
 },
 "nbformat": 4,
 "nbformat_minor": 5
}
