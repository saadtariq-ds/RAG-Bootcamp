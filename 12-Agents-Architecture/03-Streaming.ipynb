{
 "cells": [
  {
   "cell_type": "markdown",
   "id": "b2a1b1cd",
   "metadata": {},
   "source": [
    "## Setup and Import Libraries"
   ]
  },
  {
   "cell_type": "code",
   "execution_count": 1,
   "id": "fd07af89",
   "metadata": {},
   "outputs": [],
   "source": [
    "import os\n",
    "from typing_extensions import TypedDict\n",
    "from typing import Annotated\n",
    "from langchain_openai import ChatOpenAI\n",
    "from langchain_groq import ChatGroq\n",
    "from langgraph.graph.message import add_messages\n",
    "from langgraph.graph import StateGraph, START, END\n",
    "from langgraph.checkpoint.memory import MemorySaver\n",
    "from IPython.display import Image, display\n",
    "from dotenv import load_dotenv"
   ]
  },
  {
   "cell_type": "code",
   "execution_count": 2,
   "id": "a8c0da1e",
   "metadata": {},
   "outputs": [
    {
     "data": {
      "text/plain": [
       "True"
      ]
     },
     "execution_count": 2,
     "metadata": {},
     "output_type": "execute_result"
    }
   ],
   "source": [
    "load_dotenv()"
   ]
  },
  {
   "cell_type": "code",
   "execution_count": 3,
   "id": "071dfc14",
   "metadata": {},
   "outputs": [],
   "source": [
    "os.environ[\"GROQ_API_KEY\"] = os.getenv(\"GROQ_API_KEY\")\n",
    "os.environ[\"OPENAI_API_KEY\"] = os.getenv(\"OPENAI_API_KEY\")"
   ]
  },
  {
   "cell_type": "code",
   "execution_count": 4,
   "id": "76f4c4f2",
   "metadata": {},
   "outputs": [],
   "source": [
    "groq_llm = ChatGroq(model=\"gemma2-9b-it\")\n",
    "openai_llm = ChatOpenAI(model=\"gpt-4o\")"
   ]
  },
  {
   "cell_type": "markdown",
   "id": "cb282641",
   "metadata": {},
   "source": [
    "## Implement Simple Chatbot"
   ]
  },
  {
   "cell_type": "code",
   "execution_count": 5,
   "id": "c7052cb2",
   "metadata": {},
   "outputs": [],
   "source": [
    "class State(TypedDict):\n",
    "    messages: Annotated[list, add_messages]"
   ]
  },
  {
   "cell_type": "code",
   "execution_count": 6,
   "id": "232a1b8a",
   "metadata": {},
   "outputs": [],
   "source": [
    "memory = MemorySaver()"
   ]
  },
  {
   "cell_type": "code",
   "execution_count": 7,
   "id": "398a0009",
   "metadata": {},
   "outputs": [],
   "source": [
    "def superbot(state:State):\n",
    "    return {\"messages\":[groq_llm.invoke(state['messages'])]}"
   ]
  },
  {
   "cell_type": "code",
   "execution_count": 8,
   "id": "1a89d63a",
   "metadata": {},
   "outputs": [
    {
     "data": {
      "image/png": "[encoded data removed]",
      "text/plain": [
       "<IPython.core.display.Image object>"
      ]
     },
     "metadata": {},
     "output_type": "display_data"
    }
   ],
   "source": [
    "# Build Graph\n",
    "graph = StateGraph(State)\n",
    "\n",
    "## Add Nodes\n",
    "graph.add_node(node=\"SuperBot\", action=superbot)\n",
    "\n",
    "## Add Edges\n",
    "graph.add_edge(start_key=START, end_key=\"SuperBot\")\n",
    "graph.add_edge(start_key=\"SuperBot\", end_key=END)\n",
    "\n",
    "# Compile Graph\n",
    "compiled_graph = graph.compile(checkpointer=memory)\n",
    "\n",
    "\n",
    "## Display Graph\n",
    "display(Image(compiled_graph.get_graph().draw_mermaid_png()))"
   ]
  },
  {
   "cell_type": "code",
   "execution_count": 9,
   "id": "a7e24a19",
   "metadata": {},
   "outputs": [
    {
     "data": {
      "text/plain": [
       "{'messages': [HumanMessage(content='Hi,My name is Saad And I like cricket', additional_kwargs={}, response_metadata={}, id='72e5a64e-9938-4310-9b98-b0b057279a82'),\n",
       "  AIMessage(content=\"Hello Saad!\\n\\nIt's great to meet you.  \\n\\nCricket is a fantastic sport!  \\n\\nWhat do you enjoy most about it?  Do you have a favorite team or player? 😊 \\n\\n\", additional_kwargs={}, response_metadata={'token_usage': {'completion_tokens': 46, 'prompt_tokens': 19, 'total_tokens': 65, 'completion_time': 0.083636364, 'prompt_time': 0.00132678, 'queue_time': 0.254530429, 'total_time': 0.084963144}, 'model_name': 'gemma2-9b-it', 'system_fingerprint': 'fp_10c08bf97d', 'service_tier': 'on_demand', 'finish_reason': 'stop', 'logprobs': None}, id='run--a4ed2399-933a-4858-8b93-e07aae14bfb7-0', usage_metadata={'input_tokens': 19, 'output_tokens': 46, 'total_tokens': 65})]}"
      ]
     },
     "execution_count": 9,
     "metadata": {},
     "output_type": "execute_result"
    }
   ],
   "source": [
    "config = {\"configurable\": {\"thread_id\": \"1\"}}\n",
    "\n",
    "compiled_graph.invoke({'messages':\"Hi,My name is Saad And I like cricket\"}, config=config)"
   ]
  },
  {
   "cell_type": "markdown",
   "id": "1cbc2b3d",
   "metadata": {},
   "source": [
    "## Streaming\n",
    "\n",
    "Methods: .stream() and astream()\n",
    "\n",
    "- These methods are sync and async methods for streaming back results.\n",
    "\n",
    "Additional parameters in streaming modes for graph state\n",
    "\n",
    "- **values** : This streams the full state of the graph after each node is called.\n",
    "- **updates** : This streams updates to the state of the graph after each node is called."
   ]
  },
  {
   "cell_type": "markdown",
   "id": "c4e349d6",
   "metadata": {},
   "source": [
    "### Streaming with Stream Method"
   ]
  },
  {
   "cell_type": "code",
   "execution_count": 10,
   "id": "8d1582c2",
   "metadata": {},
   "outputs": [
    {
     "name": "stdout",
     "output_type": "stream",
     "text": [
      "{'SuperBot': {'messages': [AIMessage(content=\"Hello Saad!\\n\\nIt's great to meet you. Cricket is a wonderful sport. 🏏 \\n\\nWhat do you like most about cricket?  \\n\\n\", additional_kwargs={}, response_metadata={'token_usage': {'completion_tokens': 35, 'prompt_tokens': 19, 'total_tokens': 54, 'completion_time': 0.063636364, 'prompt_time': 0.00133652, 'queue_time': 0.246907719, 'total_time': 0.064972884}, 'model_name': 'gemma2-9b-it', 'system_fingerprint': 'fp_10c08bf97d', 'service_tier': 'on_demand', 'finish_reason': 'stop', 'logprobs': None}, id='run--1c684765-fb8f-4bce-8ad1-2eb7f96fdabf-0', usage_metadata={'input_tokens': 19, 'output_tokens': 35, 'total_tokens': 54})]}}\n"
     ]
    }
   ],
   "source": [
    "config = {\"configurable\": {\"thread_id\": \"2\"}}\n",
    "\n",
    "for chunk in compiled_graph.stream(\n",
    "    input={'messages':\"Hi,My name is Saad And I like cricket\"}, \n",
    "    config=config,\n",
    "    stream_mode=\"updates\"\n",
    "):\n",
    "    print(chunk)"
   ]
  },
  {
   "cell_type": "code",
   "execution_count": 11,
   "id": "61d4a5d9",
   "metadata": {},
   "outputs": [
    {
     "name": "stdout",
     "output_type": "stream",
     "text": [
      "{'messages': [HumanMessage(content='Hi,My name is Saad And I like cricket', additional_kwargs={}, response_metadata={}, id='f4aa3873-f5d2-4c33-9a99-1236f550f347'), AIMessage(content=\"Hello Saad!\\n\\nIt's great to meet you. Cricket is a wonderful sport. 🏏 \\n\\nWhat do you like most about cricket?  \\n\\n\", additional_kwargs={}, response_metadata={'token_usage': {'completion_tokens': 35, 'prompt_tokens': 19, 'total_tokens': 54, 'completion_time': 0.063636364, 'prompt_time': 0.00133652, 'queue_time': 0.246907719, 'total_time': 0.064972884}, 'model_name': 'gemma2-9b-it', 'system_fingerprint': 'fp_10c08bf97d', 'service_tier': 'on_demand', 'finish_reason': 'stop', 'logprobs': None}, id='run--1c684765-fb8f-4bce-8ad1-2eb7f96fdabf-0', usage_metadata={'input_tokens': 19, 'output_tokens': 35, 'total_tokens': 54}), HumanMessage(content='I also like football', additional_kwargs={}, response_metadata={}, id='81e733c9-6bdb-4736-89f6-4aa28d4a6017')]}\n",
      "{'messages': [HumanMessage(content='Hi,My name is Saad And I like cricket', additional_kwargs={}, response_metadata={}, id='f4aa3873-f5d2-4c33-9a99-1236f550f347'), AIMessage(content=\"Hello Saad!\\n\\nIt's great to meet you. Cricket is a wonderful sport. 🏏 \\n\\nWhat do you like most about cricket?  \\n\\n\", additional_kwargs={}, response_metadata={'token_usage': {'completion_tokens': 35, 'prompt_tokens': 19, 'total_tokens': 54, 'completion_time': 0.063636364, 'prompt_time': 0.00133652, 'queue_time': 0.246907719, 'total_time': 0.064972884}, 'model_name': 'gemma2-9b-it', 'system_fingerprint': 'fp_10c08bf97d', 'service_tier': 'on_demand', 'finish_reason': 'stop', 'logprobs': None}, id='run--1c684765-fb8f-4bce-8ad1-2eb7f96fdabf-0', usage_metadata={'input_tokens': 19, 'output_tokens': 35, 'total_tokens': 54}), HumanMessage(content='I also like football', additional_kwargs={}, response_metadata={}, id='81e733c9-6bdb-4736-89f6-4aa28d4a6017'), AIMessage(content=\"That's awesome, Saad!  Football and cricket are both fantastic sports.  \\n\\nDo you have a favorite team you follow in either sport?  🏈⚽️🏏  \\n\", additional_kwargs={}, response_metadata={'token_usage': {'completion_tokens': 39, 'prompt_tokens': 65, 'total_tokens': 104, 'completion_time': 0.070909091, 'prompt_time': 0.002197699, 'queue_time': 0.253536581, 'total_time': 0.07310679}, 'model_name': 'gemma2-9b-it', 'system_fingerprint': 'fp_10c08bf97d', 'service_tier': 'on_demand', 'finish_reason': 'stop', 'logprobs': None}, id='run--aecd78ad-05ca-4eb0-b951-960ad81e6444-0', usage_metadata={'input_tokens': 65, 'output_tokens': 39, 'total_tokens': 104})]}\n"
     ]
    }
   ],
   "source": [
    "for chunk in compiled_graph.stream(\n",
    "    input={'messages':\"I also like football\"}, \n",
    "    config=config,\n",
    "    stream_mode=\"values\"\n",
    "):\n",
    "    print(chunk)"
   ]
  },
  {
   "cell_type": "code",
   "execution_count": 12,
   "id": "e294c9d8",
   "metadata": {},
   "outputs": [
    {
     "name": "stdout",
     "output_type": "stream",
     "text": [
      "{'SuperBot': {'messages': [AIMessage(content=\"It seems like you have great taste in sports, Saad! \\n\\nDo you have a favorite team you follow in football? 🏈  I'd love to hear about them! \\n\", additional_kwargs={}, response_metadata={'token_usage': {'completion_tokens': 41, 'prompt_tokens': 116, 'total_tokens': 157, 'completion_time': 0.074545455, 'prompt_time': 0.003544138, 'queue_time': 0.255919301, 'total_time': 0.078089593}, 'model_name': 'gemma2-9b-it', 'system_fingerprint': 'fp_10c08bf97d', 'service_tier': 'on_demand', 'finish_reason': 'stop', 'logprobs': None}, id='run--772793a8-03f0-413f-b4c6-ccf9f7bc57f1-0', usage_metadata={'input_tokens': 116, 'output_tokens': 41, 'total_tokens': 157})]}}\n"
     ]
    }
   ],
   "source": [
    "for chunk in compiled_graph.stream(\n",
    "    input={'messages':\"I also like football\"}, \n",
    "    config=config,\n",
    "    stream_mode=\"updates\"\n",
    "):\n",
    "    print(chunk)"
   ]
  },
  {
   "cell_type": "code",
   "execution_count": 13,
   "id": "1072662b",
   "metadata": {},
   "outputs": [
    {
     "name": "stdout",
     "output_type": "stream",
     "text": [
      "{'messages': [HumanMessage(content='Hi,My name is Saad And I like cricket', additional_kwargs={}, response_metadata={}, id='f4aa3873-f5d2-4c33-9a99-1236f550f347'), AIMessage(content=\"Hello Saad!\\n\\nIt's great to meet you. Cricket is a wonderful sport. 🏏 \\n\\nWhat do you like most about cricket?  \\n\\n\", additional_kwargs={}, response_metadata={'token_usage': {'completion_tokens': 35, 'prompt_tokens': 19, 'total_tokens': 54, 'completion_time': 0.063636364, 'prompt_time': 0.00133652, 'queue_time': 0.246907719, 'total_time': 0.064972884}, 'model_name': 'gemma2-9b-it', 'system_fingerprint': 'fp_10c08bf97d', 'service_tier': 'on_demand', 'finish_reason': 'stop', 'logprobs': None}, id='run--1c684765-fb8f-4bce-8ad1-2eb7f96fdabf-0', usage_metadata={'input_tokens': 19, 'output_tokens': 35, 'total_tokens': 54}), HumanMessage(content='I also like football', additional_kwargs={}, response_metadata={}, id='81e733c9-6bdb-4736-89f6-4aa28d4a6017'), AIMessage(content=\"That's awesome, Saad!  Football and cricket are both fantastic sports.  \\n\\nDo you have a favorite team you follow in either sport?  🏈⚽️🏏  \\n\", additional_kwargs={}, response_metadata={'token_usage': {'completion_tokens': 39, 'prompt_tokens': 65, 'total_tokens': 104, 'completion_time': 0.070909091, 'prompt_time': 0.002197699, 'queue_time': 0.253536581, 'total_time': 0.07310679}, 'model_name': 'gemma2-9b-it', 'system_fingerprint': 'fp_10c08bf97d', 'service_tier': 'on_demand', 'finish_reason': 'stop', 'logprobs': None}, id='run--aecd78ad-05ca-4eb0-b951-960ad81e6444-0', usage_metadata={'input_tokens': 65, 'output_tokens': 39, 'total_tokens': 104}), HumanMessage(content='I also like football', additional_kwargs={}, response_metadata={}, id='70046190-2eb0-4472-9bc1-d0965d3c15cd'), AIMessage(content=\"It seems like you have great taste in sports, Saad! \\n\\nDo you have a favorite team you follow in football? 🏈  I'd love to hear about them! \\n\", additional_kwargs={}, response_metadata={'token_usage': {'completion_tokens': 41, 'prompt_tokens': 116, 'total_tokens': 157, 'completion_time': 0.074545455, 'prompt_time': 0.003544138, 'queue_time': 0.255919301, 'total_time': 0.078089593}, 'model_name': 'gemma2-9b-it', 'system_fingerprint': 'fp_10c08bf97d', 'service_tier': 'on_demand', 'finish_reason': 'stop', 'logprobs': None}, id='run--772793a8-03f0-413f-b4c6-ccf9f7bc57f1-0', usage_metadata={'input_tokens': 116, 'output_tokens': 41, 'total_tokens': 157}), HumanMessage(content='I love sports', additional_kwargs={}, response_metadata={}, id='ecf95197-4330-44c5-b8b0-9628b97360ed')]}\n",
      "{'messages': [HumanMessage(content='Hi,My name is Saad And I like cricket', additional_kwargs={}, response_metadata={}, id='f4aa3873-f5d2-4c33-9a99-1236f550f347'), AIMessage(content=\"Hello Saad!\\n\\nIt's great to meet you. Cricket is a wonderful sport. 🏏 \\n\\nWhat do you like most about cricket?  \\n\\n\", additional_kwargs={}, response_metadata={'token_usage': {'completion_tokens': 35, 'prompt_tokens': 19, 'total_tokens': 54, 'completion_time': 0.063636364, 'prompt_time': 0.00133652, 'queue_time': 0.246907719, 'total_time': 0.064972884}, 'model_name': 'gemma2-9b-it', 'system_fingerprint': 'fp_10c08bf97d', 'service_tier': 'on_demand', 'finish_reason': 'stop', 'logprobs': None}, id='run--1c684765-fb8f-4bce-8ad1-2eb7f96fdabf-0', usage_metadata={'input_tokens': 19, 'output_tokens': 35, 'total_tokens': 54}), HumanMessage(content='I also like football', additional_kwargs={}, response_metadata={}, id='81e733c9-6bdb-4736-89f6-4aa28d4a6017'), AIMessage(content=\"That's awesome, Saad!  Football and cricket are both fantastic sports.  \\n\\nDo you have a favorite team you follow in either sport?  🏈⚽️🏏  \\n\", additional_kwargs={}, response_metadata={'token_usage': {'completion_tokens': 39, 'prompt_tokens': 65, 'total_tokens': 104, 'completion_time': 0.070909091, 'prompt_time': 0.002197699, 'queue_time': 0.253536581, 'total_time': 0.07310679}, 'model_name': 'gemma2-9b-it', 'system_fingerprint': 'fp_10c08bf97d', 'service_tier': 'on_demand', 'finish_reason': 'stop', 'logprobs': None}, id='run--aecd78ad-05ca-4eb0-b951-960ad81e6444-0', usage_metadata={'input_tokens': 65, 'output_tokens': 39, 'total_tokens': 104}), HumanMessage(content='I also like football', additional_kwargs={}, response_metadata={}, id='70046190-2eb0-4472-9bc1-d0965d3c15cd'), AIMessage(content=\"It seems like you have great taste in sports, Saad! \\n\\nDo you have a favorite team you follow in football? 🏈  I'd love to hear about them! \\n\", additional_kwargs={}, response_metadata={'token_usage': {'completion_tokens': 41, 'prompt_tokens': 116, 'total_tokens': 157, 'completion_time': 0.074545455, 'prompt_time': 0.003544138, 'queue_time': 0.255919301, 'total_time': 0.078089593}, 'model_name': 'gemma2-9b-it', 'system_fingerprint': 'fp_10c08bf97d', 'service_tier': 'on_demand', 'finish_reason': 'stop', 'logprobs': None}, id='run--772793a8-03f0-413f-b4c6-ccf9f7bc57f1-0', usage_metadata={'input_tokens': 116, 'output_tokens': 41, 'total_tokens': 157}), HumanMessage(content='I love sports', additional_kwargs={}, response_metadata={}, id='ecf95197-4330-44c5-b8b0-9628b97360ed'), AIMessage(content=\"That's fantastic, Saad!  \\n\\nIs there a particular sport you're most passionate about, or do you enjoy them all equally? 🤔  Tell me more about what you love about sports!  💪🏆  \\n\", additional_kwargs={}, response_metadata={'token_usage': {'completion_tokens': 48, 'prompt_tokens': 168, 'total_tokens': 216, 'completion_time': 0.087272727, 'prompt_time': 0.003856148, 'queue_time': 0.254631451, 'total_time': 0.091128875}, 'model_name': 'gemma2-9b-it', 'system_fingerprint': 'fp_10c08bf97d', 'service_tier': 'on_demand', 'finish_reason': 'stop', 'logprobs': None}, id='run--a5fd15b9-8160-4742-b6d7-e6642b9dd88a-0', usage_metadata={'input_tokens': 168, 'output_tokens': 48, 'total_tokens': 216})]}\n"
     ]
    }
   ],
   "source": [
    "for chunk in compiled_graph.stream(\n",
    "    input={'messages':\"I love sports\"}, \n",
    "    config=config,\n",
    "    stream_mode=\"values\"\n",
    "):\n",
    "    print(chunk)"
   ]
  },
  {
   "cell_type": "markdown",
   "id": "5b166ae7",
   "metadata": {},
   "source": [
    "### Streaming The Responses With astream Method\n",
    "\n",
    "**Streaming tokens**\n",
    "We often want to stream more than graph state.\n",
    "\n",
    "In particular, with chat model calls it is common to stream the **tokens** as they are generated.\n",
    "\n",
    "We can do this using the .astream_events method, which streams back events as they happen inside nodes!\n",
    "\n",
    "Each event is a dict with a few keys:\n",
    "\n",
    "- event: This is the type of event that is being emitted.\n",
    "- name: This is the name of event.\n",
    "- data: This is the data associated with the event.\n",
    "- metadata: Containslanggraph_node, the node emitting the event."
   ]
  },
  {
   "cell_type": "code",
   "execution_count": 14,
   "id": "099ea61b",
   "metadata": {},
   "outputs": [
    {
     "name": "stdout",
     "output_type": "stream",
     "text": [
      "{'event': 'on_chain_start', 'data': {'input': {'messages': ['Hi My name is Saad and I like to play cricket']}}, 'name': 'LangGraph', 'tags': [], 'run_id': 'c31e5a77-c2ab-4de5-aacf-da3e9a66c7b8', 'metadata': {'thread_id': '3'}, 'parent_ids': []}\n",
      "{'event': 'on_chain_start', 'data': {'input': {'messages': [HumanMessage(content='Hi My name is Saad and I like to play cricket', additional_kwargs={}, response_metadata={}, id='15813995-9dee-4558-aeb2-0b86bc4ca4db')]}}, 'name': 'SuperBot', 'tags': ['graph:step:1'], 'run_id': 'dbef6fec-588f-4c16-9d55-e2aaca1dac50', 'metadata': {'thread_id': '3', 'langgraph_step': 1, 'langgraph_node': 'SuperBot', 'langgraph_triggers': ('branch:to:SuperBot',), 'langgraph_path': ('__pregel_pull', 'SuperBot'), 'langgraph_checkpoint_ns': 'SuperBot:6d13456d-ad4b-69c8-fcec-ceffe5d7db62'}, 'parent_ids': ['c31e5a77-c2ab-4de5-aacf-da3e9a66c7b8']}\n",
      "{'event': 'on_chat_model_start', 'data': {'input': {'messages': [[HumanMessage(content='Hi My name is Saad and I like to play cricket', additional_kwargs={}, response_metadata={}, id='15813995-9dee-4558-aeb2-0b86bc4ca4db')]]}}, 'name': 'ChatGroq', 'tags': ['seq:step:1'], 'run_id': '354442c6-1f1d-431d-ae61-541643e055a4', 'metadata': {'thread_id': '3', 'langgraph_step': 1, 'langgraph_node': 'SuperBot', 'langgraph_triggers': ('branch:to:SuperBot',), 'langgraph_path': ('__pregel_pull', 'SuperBot'), 'langgraph_checkpoint_ns': 'SuperBot:6d13456d-ad4b-69c8-fcec-ceffe5d7db62', 'checkpoint_ns': 'SuperBot:6d13456d-ad4b-69c8-fcec-ceffe5d7db62', 'ls_provider': 'groq', 'ls_model_name': 'gemma2-9b-it', 'ls_model_type': 'chat', 'ls_temperature': 0.7}, 'parent_ids': ['c31e5a77-c2ab-4de5-aacf-da3e9a66c7b8', 'dbef6fec-588f-4c16-9d55-e2aaca1dac50']}\n",
      "{'event': 'on_chat_model_stream', 'data': {'chunk': AIMessageChunk(content='', additional_kwargs={}, response_metadata={}, id='run--354442c6-1f1d-431d-ae61-541643e055a4')}, 'run_id': '354442c6-1f1d-431d-ae61-541643e055a4', 'name': 'ChatGroq', 'tags': ['seq:step:1'], 'metadata': {'thread_id': '3', 'langgraph_step': 1, 'langgraph_node': 'SuperBot', 'langgraph_triggers': ('branch:to:SuperBot',), 'langgraph_path': ('__pregel_pull', 'SuperBot'), 'langgraph_checkpoint_ns': 'SuperBot:6d13456d-ad4b-69c8-fcec-ceffe5d7db62', 'checkpoint_ns': 'SuperBot:6d13456d-ad4b-69c8-fcec-ceffe5d7db62', 'ls_provider': 'groq', 'ls_model_name': 'gemma2-9b-it', 'ls_model_type': 'chat', 'ls_temperature': 0.7}, 'parent_ids': ['c31e5a77-c2ab-4de5-aacf-da3e9a66c7b8', 'dbef6fec-588f-4c16-9d55-e2aaca1dac50']}\n",
      "{'event': 'on_chat_model_stream', 'data': {'chunk': AIMessageChunk(content='Hi', additional_kwargs={}, response_metadata={}, id='run--354442c6-1f1d-431d-ae61-541643e055a4')}, 'run_id': '354442c6-1f1d-431d-ae61-541643e055a4', 'name': 'ChatGroq', 'tags': ['seq:step:1'], 'metadata': {'thread_id': '3', 'langgraph_step': 1, 'langgraph_node': 'SuperBot', 'langgraph_triggers': ('branch:to:SuperBot',), 'langgraph_path': ('__pregel_pull', 'SuperBot'), 'langgraph_checkpoint_ns': 'SuperBot:6d13456d-ad4b-69c8-fcec-ceffe5d7db62', 'checkpoint_ns': 'SuperBot:6d13456d-ad4b-69c8-fcec-ceffe5d7db62', 'ls_provider': 'groq', 'ls_model_name': 'gemma2-9b-it', 'ls_model_type': 'chat', 'ls_temperature': 0.7}, 'parent_ids': ['c31e5a77-c2ab-4de5-aacf-da3e9a66c7b8', 'dbef6fec-588f-4c16-9d55-e2aaca1dac50']}\n",
      "{'event': 'on_chat_model_stream', 'data': {'chunk': AIMessageChunk(content=' Saad', additional_kwargs={}, response_metadata={}, id='run--354442c6-1f1d-431d-ae61-541643e055a4')}, 'run_id': '354442c6-1f1d-431d-ae61-541643e055a4', 'name': 'ChatGroq', 'tags': ['seq:step:1'], 'metadata': {'thread_id': '3', 'langgraph_step': 1, 'langgraph_node': 'SuperBot', 'langgraph_triggers': ('branch:to:SuperBot',), 'langgraph_path': ('__pregel_pull', 'SuperBot'), 'langgraph_checkpoint_ns': 'SuperBot:6d13456d-ad4b-69c8-fcec-ceffe5d7db62', 'checkpoint_ns': 'SuperBot:6d13456d-ad4b-69c8-fcec-ceffe5d7db62', 'ls_provider': 'groq', 'ls_model_name': 'gemma2-9b-it', 'ls_model_type': 'chat', 'ls_temperature': 0.7}, 'parent_ids': ['c31e5a77-c2ab-4de5-aacf-da3e9a66c7b8', 'dbef6fec-588f-4c16-9d55-e2aaca1dac50']}\n",
      "{'event': 'on_chat_model_stream', 'data': {'chunk': AIMessageChunk(content=',', additional_kwargs={}, response_metadata={}, id='run--354442c6-1f1d-431d-ae61-541643e055a4')}, 'run_id': '354442c6-1f1d-431d-ae61-541643e055a4', 'name': 'ChatGroq', 'tags': ['seq:step:1'], 'metadata': {'thread_id': '3', 'langgraph_step': 1, 'langgraph_node': 'SuperBot', 'langgraph_triggers': ('branch:to:SuperBot',), 'langgraph_path': ('__pregel_pull', 'SuperBot'), 'langgraph_checkpoint_ns': 'SuperBot:6d13456d-ad4b-69c8-fcec-ceffe5d7db62', 'checkpoint_ns': 'SuperBot:6d13456d-ad4b-69c8-fcec-ceffe5d7db62', 'ls_provider': 'groq', 'ls_model_name': 'gemma2-9b-it', 'ls_model_type': 'chat', 'ls_temperature': 0.7}, 'parent_ids': ['c31e5a77-c2ab-4de5-aacf-da3e9a66c7b8', 'dbef6fec-588f-4c16-9d55-e2aaca1dac50']}\n",
      "{'event': 'on_chat_model_stream', 'data': {'chunk': AIMessageChunk(content='\\n\\n', additional_kwargs={}, response_metadata={}, id='run--354442c6-1f1d-431d-ae61-541643e055a4')}, 'run_id': '354442c6-1f1d-431d-ae61-541643e055a4', 'name': 'ChatGroq', 'tags': ['seq:step:1'], 'metadata': {'thread_id': '3', 'langgraph_step': 1, 'langgraph_node': 'SuperBot', 'langgraph_triggers': ('branch:to:SuperBot',), 'langgraph_path': ('__pregel_pull', 'SuperBot'), 'langgraph_checkpoint_ns': 'SuperBot:6d13456d-ad4b-69c8-fcec-ceffe5d7db62', 'checkpoint_ns': 'SuperBot:6d13456d-ad4b-69c8-fcec-ceffe5d7db62', 'ls_provider': 'groq', 'ls_model_name': 'gemma2-9b-it', 'ls_model_type': 'chat', 'ls_temperature': 0.7}, 'parent_ids': ['c31e5a77-c2ab-4de5-aacf-da3e9a66c7b8', 'dbef6fec-588f-4c16-9d55-e2aaca1dac50']}\n",
      "{'event': 'on_chat_model_stream', 'data': {'chunk': AIMessageChunk(content='It', additional_kwargs={}, response_metadata={}, id='run--354442c6-1f1d-431d-ae61-541643e055a4')}, 'run_id': '354442c6-1f1d-431d-ae61-541643e055a4', 'name': 'ChatGroq', 'tags': ['seq:step:1'], 'metadata': {'thread_id': '3', 'langgraph_step': 1, 'langgraph_node': 'SuperBot', 'langgraph_triggers': ('branch:to:SuperBot',), 'langgraph_path': ('__pregel_pull', 'SuperBot'), 'langgraph_checkpoint_ns': 'SuperBot:6d13456d-ad4b-69c8-fcec-ceffe5d7db62', 'checkpoint_ns': 'SuperBot:6d13456d-ad4b-69c8-fcec-ceffe5d7db62', 'ls_provider': 'groq', 'ls_model_name': 'gemma2-9b-it', 'ls_model_type': 'chat', 'ls_temperature': 0.7}, 'parent_ids': ['c31e5a77-c2ab-4de5-aacf-da3e9a66c7b8', 'dbef6fec-588f-4c16-9d55-e2aaca1dac50']}\n",
      "{'event': 'on_chat_model_stream', 'data': {'chunk': AIMessageChunk(content=\"'\", additional_kwargs={}, response_metadata={}, id='run--354442c6-1f1d-431d-ae61-541643e055a4')}, 'run_id': '354442c6-1f1d-431d-ae61-541643e055a4', 'name': 'ChatGroq', 'tags': ['seq:step:1'], 'metadata': {'thread_id': '3', 'langgraph_step': 1, 'langgraph_node': 'SuperBot', 'langgraph_triggers': ('branch:to:SuperBot',), 'langgraph_path': ('__pregel_pull', 'SuperBot'), 'langgraph_checkpoint_ns': 'SuperBot:6d13456d-ad4b-69c8-fcec-ceffe5d7db62', 'checkpoint_ns': 'SuperBot:6d13456d-ad4b-69c8-fcec-ceffe5d7db62', 'ls_provider': 'groq', 'ls_model_name': 'gemma2-9b-it', 'ls_model_type': 'chat', 'ls_temperature': 0.7}, 'parent_ids': ['c31e5a77-c2ab-4de5-aacf-da3e9a66c7b8', 'dbef6fec-588f-4c16-9d55-e2aaca1dac50']}\n",
      "{'event': 'on_chat_model_stream', 'data': {'chunk': AIMessageChunk(content='s', additional_kwargs={}, response_metadata={}, id='run--354442c6-1f1d-431d-ae61-541643e055a4')}, 'run_id': '354442c6-1f1d-431d-ae61-541643e055a4', 'name': 'ChatGroq', 'tags': ['seq:step:1'], 'metadata': {'thread_id': '3', 'langgraph_step': 1, 'langgraph_node': 'SuperBot', 'langgraph_triggers': ('branch:to:SuperBot',), 'langgraph_path': ('__pregel_pull', 'SuperBot'), 'langgraph_checkpoint_ns': 'SuperBot:6d13456d-ad4b-69c8-fcec-ceffe5d7db62', 'checkpoint_ns': 'SuperBot:6d13456d-ad4b-69c8-fcec-ceffe5d7db62', 'ls_provider': 'groq', 'ls_model_name': 'gemma2-9b-it', 'ls_model_type': 'chat', 'ls_temperature': 0.7}, 'parent_ids': ['c31e5a77-c2ab-4de5-aacf-da3e9a66c7b8', 'dbef6fec-588f-4c16-9d55-e2aaca1dac50']}\n",
      "{'event': 'on_chat_model_stream', 'data': {'chunk': AIMessageChunk(content=' great', additional_kwargs={}, response_metadata={}, id='run--354442c6-1f1d-431d-ae61-541643e055a4')}, 'run_id': '354442c6-1f1d-431d-ae61-541643e055a4', 'name': 'ChatGroq', 'tags': ['seq:step:1'], 'metadata': {'thread_id': '3', 'langgraph_step': 1, 'langgraph_node': 'SuperBot', 'langgraph_triggers': ('branch:to:SuperBot',), 'langgraph_path': ('__pregel_pull', 'SuperBot'), 'langgraph_checkpoint_ns': 'SuperBot:6d13456d-ad4b-69c8-fcec-ceffe5d7db62', 'checkpoint_ns': 'SuperBot:6d13456d-ad4b-69c8-fcec-ceffe5d7db62', 'ls_provider': 'groq', 'ls_model_name': 'gemma2-9b-it', 'ls_model_type': 'chat', 'ls_temperature': 0.7}, 'parent_ids': ['c31e5a77-c2ab-4de5-aacf-da3e9a66c7b8', 'dbef6fec-588f-4c16-9d55-e2aaca1dac50']}\n",
      "{'event': 'on_chat_model_stream', 'data': {'chunk': AIMessageChunk(content=' to', additional_kwargs={}, response_metadata={}, id='run--354442c6-1f1d-431d-ae61-541643e055a4')}, 'run_id': '354442c6-1f1d-431d-ae61-541643e055a4', 'name': 'ChatGroq', 'tags': ['seq:step:1'], 'metadata': {'thread_id': '3', 'langgraph_step': 1, 'langgraph_node': 'SuperBot', 'langgraph_triggers': ('branch:to:SuperBot',), 'langgraph_path': ('__pregel_pull', 'SuperBot'), 'langgraph_checkpoint_ns': 'SuperBot:6d13456d-ad4b-69c8-fcec-ceffe5d7db62', 'checkpoint_ns': 'SuperBot:6d13456d-ad4b-69c8-fcec-ceffe5d7db62', 'ls_provider': 'groq', 'ls_model_name': 'gemma2-9b-it', 'ls_model_type': 'chat', 'ls_temperature': 0.7}, 'parent_ids': ['c31e5a77-c2ab-4de5-aacf-da3e9a66c7b8', 'dbef6fec-588f-4c16-9d55-e2aaca1dac50']}\n",
      "{'event': 'on_chat_model_stream', 'data': {'chunk': AIMessageChunk(content=' meet', additional_kwargs={}, response_metadata={}, id='run--354442c6-1f1d-431d-ae61-541643e055a4')}, 'run_id': '354442c6-1f1d-431d-ae61-541643e055a4', 'name': 'ChatGroq', 'tags': ['seq:step:1'], 'metadata': {'thread_id': '3', 'langgraph_step': 1, 'langgraph_node': 'SuperBot', 'langgraph_triggers': ('branch:to:SuperBot',), 'langgraph_path': ('__pregel_pull', 'SuperBot'), 'langgraph_checkpoint_ns': 'SuperBot:6d13456d-ad4b-69c8-fcec-ceffe5d7db62', 'checkpoint_ns': 'SuperBot:6d13456d-ad4b-69c8-fcec-ceffe5d7db62', 'ls_provider': 'groq', 'ls_model_name': 'gemma2-9b-it', 'ls_model_type': 'chat', 'ls_temperature': 0.7}, 'parent_ids': ['c31e5a77-c2ab-4de5-aacf-da3e9a66c7b8', 'dbef6fec-588f-4c16-9d55-e2aaca1dac50']}\n",
      "{'event': 'on_chat_model_stream', 'data': {'chunk': AIMessageChunk(content=' you', additional_kwargs={}, response_metadata={}, id='run--354442c6-1f1d-431d-ae61-541643e055a4')}, 'run_id': '354442c6-1f1d-431d-ae61-541643e055a4', 'name': 'ChatGroq', 'tags': ['seq:step:1'], 'metadata': {'thread_id': '3', 'langgraph_step': 1, 'langgraph_node': 'SuperBot', 'langgraph_triggers': ('branch:to:SuperBot',), 'langgraph_path': ('__pregel_pull', 'SuperBot'), 'langgraph_checkpoint_ns': 'SuperBot:6d13456d-ad4b-69c8-fcec-ceffe5d7db62', 'checkpoint_ns': 'SuperBot:6d13456d-ad4b-69c8-fcec-ceffe5d7db62', 'ls_provider': 'groq', 'ls_model_name': 'gemma2-9b-it', 'ls_model_type': 'chat', 'ls_temperature': 0.7}, 'parent_ids': ['c31e5a77-c2ab-4de5-aacf-da3e9a66c7b8', 'dbef6fec-588f-4c16-9d55-e2aaca1dac50']}\n",
      "{'event': 'on_chat_model_stream', 'data': {'chunk': AIMessageChunk(content='!', additional_kwargs={}, response_metadata={}, id='run--354442c6-1f1d-431d-ae61-541643e055a4')}, 'run_id': '354442c6-1f1d-431d-ae61-541643e055a4', 'name': 'ChatGroq', 'tags': ['seq:step:1'], 'metadata': {'thread_id': '3', 'langgraph_step': 1, 'langgraph_node': 'SuperBot', 'langgraph_triggers': ('branch:to:SuperBot',), 'langgraph_path': ('__pregel_pull', 'SuperBot'), 'langgraph_checkpoint_ns': 'SuperBot:6d13456d-ad4b-69c8-fcec-ceffe5d7db62', 'checkpoint_ns': 'SuperBot:6d13456d-ad4b-69c8-fcec-ceffe5d7db62', 'ls_provider': 'groq', 'ls_model_name': 'gemma2-9b-it', 'ls_model_type': 'chat', 'ls_temperature': 0.7}, 'parent_ids': ['c31e5a77-c2ab-4de5-aacf-da3e9a66c7b8', 'dbef6fec-588f-4c16-9d55-e2aaca1dac50']}\n",
      "{'event': 'on_chat_model_stream', 'data': {'chunk': AIMessageChunk(content=' Cricket', additional_kwargs={}, response_metadata={}, id='run--354442c6-1f1d-431d-ae61-541643e055a4')}, 'run_id': '354442c6-1f1d-431d-ae61-541643e055a4', 'name': 'ChatGroq', 'tags': ['seq:step:1'], 'metadata': {'thread_id': '3', 'langgraph_step': 1, 'langgraph_node': 'SuperBot', 'langgraph_triggers': ('branch:to:SuperBot',), 'langgraph_path': ('__pregel_pull', 'SuperBot'), 'langgraph_checkpoint_ns': 'SuperBot:6d13456d-ad4b-69c8-fcec-ceffe5d7db62', 'checkpoint_ns': 'SuperBot:6d13456d-ad4b-69c8-fcec-ceffe5d7db62', 'ls_provider': 'groq', 'ls_model_name': 'gemma2-9b-it', 'ls_model_type': 'chat', 'ls_temperature': 0.7}, 'parent_ids': ['c31e5a77-c2ab-4de5-aacf-da3e9a66c7b8', 'dbef6fec-588f-4c16-9d55-e2aaca1dac50']}\n",
      "{'event': 'on_chat_model_stream', 'data': {'chunk': AIMessageChunk(content=' is', additional_kwargs={}, response_metadata={}, id='run--354442c6-1f1d-431d-ae61-541643e055a4')}, 'run_id': '354442c6-1f1d-431d-ae61-541643e055a4', 'name': 'ChatGroq', 'tags': ['seq:step:1'], 'metadata': {'thread_id': '3', 'langgraph_step': 1, 'langgraph_node': 'SuperBot', 'langgraph_triggers': ('branch:to:SuperBot',), 'langgraph_path': ('__pregel_pull', 'SuperBot'), 'langgraph_checkpoint_ns': 'SuperBot:6d13456d-ad4b-69c8-fcec-ceffe5d7db62', 'checkpoint_ns': 'SuperBot:6d13456d-ad4b-69c8-fcec-ceffe5d7db62', 'ls_provider': 'groq', 'ls_model_name': 'gemma2-9b-it', 'ls_model_type': 'chat', 'ls_temperature': 0.7}, 'parent_ids': ['c31e5a77-c2ab-4de5-aacf-da3e9a66c7b8', 'dbef6fec-588f-4c16-9d55-e2aaca1dac50']}\n",
      "{'event': 'on_chat_model_stream', 'data': {'chunk': AIMessageChunk(content=' a', additional_kwargs={}, response_metadata={}, id='run--354442c6-1f1d-431d-ae61-541643e055a4')}, 'run_id': '354442c6-1f1d-431d-ae61-541643e055a4', 'name': 'ChatGroq', 'tags': ['seq:step:1'], 'metadata': {'thread_id': '3', 'langgraph_step': 1, 'langgraph_node': 'SuperBot', 'langgraph_triggers': ('branch:to:SuperBot',), 'langgraph_path': ('__pregel_pull', 'SuperBot'), 'langgraph_checkpoint_ns': 'SuperBot:6d13456d-ad4b-69c8-fcec-ceffe5d7db62', 'checkpoint_ns': 'SuperBot:6d13456d-ad4b-69c8-fcec-ceffe5d7db62', 'ls_provider': 'groq', 'ls_model_name': 'gemma2-9b-it', 'ls_model_type': 'chat', 'ls_temperature': 0.7}, 'parent_ids': ['c31e5a77-c2ab-4de5-aacf-da3e9a66c7b8', 'dbef6fec-588f-4c16-9d55-e2aaca1dac50']}\n",
      "{'event': 'on_chat_model_stream', 'data': {'chunk': AIMessageChunk(content=' wonderful', additional_kwargs={}, response_metadata={}, id='run--354442c6-1f1d-431d-ae61-541643e055a4')}, 'run_id': '354442c6-1f1d-431d-ae61-541643e055a4', 'name': 'ChatGroq', 'tags': ['seq:step:1'], 'metadata': {'thread_id': '3', 'langgraph_step': 1, 'langgraph_node': 'SuperBot', 'langgraph_triggers': ('branch:to:SuperBot',), 'langgraph_path': ('__pregel_pull', 'SuperBot'), 'langgraph_checkpoint_ns': 'SuperBot:6d13456d-ad4b-69c8-fcec-ceffe5d7db62', 'checkpoint_ns': 'SuperBot:6d13456d-ad4b-69c8-fcec-ceffe5d7db62', 'ls_provider': 'groq', 'ls_model_name': 'gemma2-9b-it', 'ls_model_type': 'chat', 'ls_temperature': 0.7}, 'parent_ids': ['c31e5a77-c2ab-4de5-aacf-da3e9a66c7b8', 'dbef6fec-588f-4c16-9d55-e2aaca1dac50']}\n",
      "{'event': 'on_chat_model_stream', 'data': {'chunk': AIMessageChunk(content=' sport', additional_kwargs={}, response_metadata={}, id='run--354442c6-1f1d-431d-ae61-541643e055a4')}, 'run_id': '354442c6-1f1d-431d-ae61-541643e055a4', 'name': 'ChatGroq', 'tags': ['seq:step:1'], 'metadata': {'thread_id': '3', 'langgraph_step': 1, 'langgraph_node': 'SuperBot', 'langgraph_triggers': ('branch:to:SuperBot',), 'langgraph_path': ('__pregel_pull', 'SuperBot'), 'langgraph_checkpoint_ns': 'SuperBot:6d13456d-ad4b-69c8-fcec-ceffe5d7db62', 'checkpoint_ns': 'SuperBot:6d13456d-ad4b-69c8-fcec-ceffe5d7db62', 'ls_provider': 'groq', 'ls_model_name': 'gemma2-9b-it', 'ls_model_type': 'chat', 'ls_temperature': 0.7}, 'parent_ids': ['c31e5a77-c2ab-4de5-aacf-da3e9a66c7b8', 'dbef6fec-588f-4c16-9d55-e2aaca1dac50']}\n",
      "{'event': 'on_chat_model_stream', 'data': {'chunk': AIMessageChunk(content='.', additional_kwargs={}, response_metadata={}, id='run--354442c6-1f1d-431d-ae61-541643e055a4')}, 'run_id': '354442c6-1f1d-431d-ae61-541643e055a4', 'name': 'ChatGroq', 'tags': ['seq:step:1'], 'metadata': {'thread_id': '3', 'langgraph_step': 1, 'langgraph_node': 'SuperBot', 'langgraph_triggers': ('branch:to:SuperBot',), 'langgraph_path': ('__pregel_pull', 'SuperBot'), 'langgraph_checkpoint_ns': 'SuperBot:6d13456d-ad4b-69c8-fcec-ceffe5d7db62', 'checkpoint_ns': 'SuperBot:6d13456d-ad4b-69c8-fcec-ceffe5d7db62', 'ls_provider': 'groq', 'ls_model_name': 'gemma2-9b-it', 'ls_model_type': 'chat', 'ls_temperature': 0.7}, 'parent_ids': ['c31e5a77-c2ab-4de5-aacf-da3e9a66c7b8', 'dbef6fec-588f-4c16-9d55-e2aaca1dac50']}\n",
      "{'event': 'on_chat_model_stream', 'data': {'chunk': AIMessageChunk(content='  ', additional_kwargs={}, response_metadata={}, id='run--354442c6-1f1d-431d-ae61-541643e055a4')}, 'run_id': '354442c6-1f1d-431d-ae61-541643e055a4', 'name': 'ChatGroq', 'tags': ['seq:step:1'], 'metadata': {'thread_id': '3', 'langgraph_step': 1, 'langgraph_node': 'SuperBot', 'langgraph_triggers': ('branch:to:SuperBot',), 'langgraph_path': ('__pregel_pull', 'SuperBot'), 'langgraph_checkpoint_ns': 'SuperBot:6d13456d-ad4b-69c8-fcec-ceffe5d7db62', 'checkpoint_ns': 'SuperBot:6d13456d-ad4b-69c8-fcec-ceffe5d7db62', 'ls_provider': 'groq', 'ls_model_name': 'gemma2-9b-it', 'ls_model_type': 'chat', 'ls_temperature': 0.7}, 'parent_ids': ['c31e5a77-c2ab-4de5-aacf-da3e9a66c7b8', 'dbef6fec-588f-4c16-9d55-e2aaca1dac50']}\n",
      "{'event': 'on_chat_model_stream', 'data': {'chunk': AIMessageChunk(content='\\n\\n', additional_kwargs={}, response_metadata={}, id='run--354442c6-1f1d-431d-ae61-541643e055a4')}, 'run_id': '354442c6-1f1d-431d-ae61-541643e055a4', 'name': 'ChatGroq', 'tags': ['seq:step:1'], 'metadata': {'thread_id': '3', 'langgraph_step': 1, 'langgraph_node': 'SuperBot', 'langgraph_triggers': ('branch:to:SuperBot',), 'langgraph_path': ('__pregel_pull', 'SuperBot'), 'langgraph_checkpoint_ns': 'SuperBot:6d13456d-ad4b-69c8-fcec-ceffe5d7db62', 'checkpoint_ns': 'SuperBot:6d13456d-ad4b-69c8-fcec-ceffe5d7db62', 'ls_provider': 'groq', 'ls_model_name': 'gemma2-9b-it', 'ls_model_type': 'chat', 'ls_temperature': 0.7}, 'parent_ids': ['c31e5a77-c2ab-4de5-aacf-da3e9a66c7b8', 'dbef6fec-588f-4c16-9d55-e2aaca1dac50']}\n",
      "{'event': 'on_chat_model_stream', 'data': {'chunk': AIMessageChunk(content='Do', additional_kwargs={}, response_metadata={}, id='run--354442c6-1f1d-431d-ae61-541643e055a4')}, 'run_id': '354442c6-1f1d-431d-ae61-541643e055a4', 'name': 'ChatGroq', 'tags': ['seq:step:1'], 'metadata': {'thread_id': '3', 'langgraph_step': 1, 'langgraph_node': 'SuperBot', 'langgraph_triggers': ('branch:to:SuperBot',), 'langgraph_path': ('__pregel_pull', 'SuperBot'), 'langgraph_checkpoint_ns': 'SuperBot:6d13456d-ad4b-69c8-fcec-ceffe5d7db62', 'checkpoint_ns': 'SuperBot:6d13456d-ad4b-69c8-fcec-ceffe5d7db62', 'ls_provider': 'groq', 'ls_model_name': 'gemma2-9b-it', 'ls_model_type': 'chat', 'ls_temperature': 0.7}, 'parent_ids': ['c31e5a77-c2ab-4de5-aacf-da3e9a66c7b8', 'dbef6fec-588f-4c16-9d55-e2aaca1dac50']}\n",
      "{'event': 'on_chat_model_stream', 'data': {'chunk': AIMessageChunk(content=' you', additional_kwargs={}, response_metadata={}, id='run--354442c6-1f1d-431d-ae61-541643e055a4')}, 'run_id': '354442c6-1f1d-431d-ae61-541643e055a4', 'name': 'ChatGroq', 'tags': ['seq:step:1'], 'metadata': {'thread_id': '3', 'langgraph_step': 1, 'langgraph_node': 'SuperBot', 'langgraph_triggers': ('branch:to:SuperBot',), 'langgraph_path': ('__pregel_pull', 'SuperBot'), 'langgraph_checkpoint_ns': 'SuperBot:6d13456d-ad4b-69c8-fcec-ceffe5d7db62', 'checkpoint_ns': 'SuperBot:6d13456d-ad4b-69c8-fcec-ceffe5d7db62', 'ls_provider': 'groq', 'ls_model_name': 'gemma2-9b-it', 'ls_model_type': 'chat', 'ls_temperature': 0.7}, 'parent_ids': ['c31e5a77-c2ab-4de5-aacf-da3e9a66c7b8', 'dbef6fec-588f-4c16-9d55-e2aaca1dac50']}\n",
      "{'event': 'on_chat_model_stream', 'data': {'chunk': AIMessageChunk(content=' have', additional_kwargs={}, response_metadata={}, id='run--354442c6-1f1d-431d-ae61-541643e055a4')}, 'run_id': '354442c6-1f1d-431d-ae61-541643e055a4', 'name': 'ChatGroq', 'tags': ['seq:step:1'], 'metadata': {'thread_id': '3', 'langgraph_step': 1, 'langgraph_node': 'SuperBot', 'langgraph_triggers': ('branch:to:SuperBot',), 'langgraph_path': ('__pregel_pull', 'SuperBot'), 'langgraph_checkpoint_ns': 'SuperBot:6d13456d-ad4b-69c8-fcec-ceffe5d7db62', 'checkpoint_ns': 'SuperBot:6d13456d-ad4b-69c8-fcec-ceffe5d7db62', 'ls_provider': 'groq', 'ls_model_name': 'gemma2-9b-it', 'ls_model_type': 'chat', 'ls_temperature': 0.7}, 'parent_ids': ['c31e5a77-c2ab-4de5-aacf-da3e9a66c7b8', 'dbef6fec-588f-4c16-9d55-e2aaca1dac50']}\n",
      "{'event': 'on_chat_model_stream', 'data': {'chunk': AIMessageChunk(content=' a', additional_kwargs={}, response_metadata={}, id='run--354442c6-1f1d-431d-ae61-541643e055a4')}, 'run_id': '354442c6-1f1d-431d-ae61-541643e055a4', 'name': 'ChatGroq', 'tags': ['seq:step:1'], 'metadata': {'thread_id': '3', 'langgraph_step': 1, 'langgraph_node': 'SuperBot', 'langgraph_triggers': ('branch:to:SuperBot',), 'langgraph_path': ('__pregel_pull', 'SuperBot'), 'langgraph_checkpoint_ns': 'SuperBot:6d13456d-ad4b-69c8-fcec-ceffe5d7db62', 'checkpoint_ns': 'SuperBot:6d13456d-ad4b-69c8-fcec-ceffe5d7db62', 'ls_provider': 'groq', 'ls_model_name': 'gemma2-9b-it', 'ls_model_type': 'chat', 'ls_temperature': 0.7}, 'parent_ids': ['c31e5a77-c2ab-4de5-aacf-da3e9a66c7b8', 'dbef6fec-588f-4c16-9d55-e2aaca1dac50']}\n",
      "{'event': 'on_chat_model_stream', 'data': {'chunk': AIMessageChunk(content=' favorite', additional_kwargs={}, response_metadata={}, id='run--354442c6-1f1d-431d-ae61-541643e055a4')}, 'run_id': '354442c6-1f1d-431d-ae61-541643e055a4', 'name': 'ChatGroq', 'tags': ['seq:step:1'], 'metadata': {'thread_id': '3', 'langgraph_step': 1, 'langgraph_node': 'SuperBot', 'langgraph_triggers': ('branch:to:SuperBot',), 'langgraph_path': ('__pregel_pull', 'SuperBot'), 'langgraph_checkpoint_ns': 'SuperBot:6d13456d-ad4b-69c8-fcec-ceffe5d7db62', 'checkpoint_ns': 'SuperBot:6d13456d-ad4b-69c8-fcec-ceffe5d7db62', 'ls_provider': 'groq', 'ls_model_name': 'gemma2-9b-it', 'ls_model_type': 'chat', 'ls_temperature': 0.7}, 'parent_ids': ['c31e5a77-c2ab-4de5-aacf-da3e9a66c7b8', 'dbef6fec-588f-4c16-9d55-e2aaca1dac50']}\n",
      "{'event': 'on_chat_model_stream', 'data': {'chunk': AIMessageChunk(content=' team', additional_kwargs={}, response_metadata={}, id='run--354442c6-1f1d-431d-ae61-541643e055a4')}, 'run_id': '354442c6-1f1d-431d-ae61-541643e055a4', 'name': 'ChatGroq', 'tags': ['seq:step:1'], 'metadata': {'thread_id': '3', 'langgraph_step': 1, 'langgraph_node': 'SuperBot', 'langgraph_triggers': ('branch:to:SuperBot',), 'langgraph_path': ('__pregel_pull', 'SuperBot'), 'langgraph_checkpoint_ns': 'SuperBot:6d13456d-ad4b-69c8-fcec-ceffe5d7db62', 'checkpoint_ns': 'SuperBot:6d13456d-ad4b-69c8-fcec-ceffe5d7db62', 'ls_provider': 'groq', 'ls_model_name': 'gemma2-9b-it', 'ls_model_type': 'chat', 'ls_temperature': 0.7}, 'parent_ids': ['c31e5a77-c2ab-4de5-aacf-da3e9a66c7b8', 'dbef6fec-588f-4c16-9d55-e2aaca1dac50']}\n",
      "{'event': 'on_chat_model_stream', 'data': {'chunk': AIMessageChunk(content=' or', additional_kwargs={}, response_metadata={}, id='run--354442c6-1f1d-431d-ae61-541643e055a4')}, 'run_id': '354442c6-1f1d-431d-ae61-541643e055a4', 'name': 'ChatGroq', 'tags': ['seq:step:1'], 'metadata': {'thread_id': '3', 'langgraph_step': 1, 'langgraph_node': 'SuperBot', 'langgraph_triggers': ('branch:to:SuperBot',), 'langgraph_path': ('__pregel_pull', 'SuperBot'), 'langgraph_checkpoint_ns': 'SuperBot:6d13456d-ad4b-69c8-fcec-ceffe5d7db62', 'checkpoint_ns': 'SuperBot:6d13456d-ad4b-69c8-fcec-ceffe5d7db62', 'ls_provider': 'groq', 'ls_model_name': 'gemma2-9b-it', 'ls_model_type': 'chat', 'ls_temperature': 0.7}, 'parent_ids': ['c31e5a77-c2ab-4de5-aacf-da3e9a66c7b8', 'dbef6fec-588f-4c16-9d55-e2aaca1dac50']}\n",
      "{'event': 'on_chat_model_stream', 'data': {'chunk': AIMessageChunk(content=' player', additional_kwargs={}, response_metadata={}, id='run--354442c6-1f1d-431d-ae61-541643e055a4')}, 'run_id': '354442c6-1f1d-431d-ae61-541643e055a4', 'name': 'ChatGroq', 'tags': ['seq:step:1'], 'metadata': {'thread_id': '3', 'langgraph_step': 1, 'langgraph_node': 'SuperBot', 'langgraph_triggers': ('branch:to:SuperBot',), 'langgraph_path': ('__pregel_pull', 'SuperBot'), 'langgraph_checkpoint_ns': 'SuperBot:6d13456d-ad4b-69c8-fcec-ceffe5d7db62', 'checkpoint_ns': 'SuperBot:6d13456d-ad4b-69c8-fcec-ceffe5d7db62', 'ls_provider': 'groq', 'ls_model_name': 'gemma2-9b-it', 'ls_model_type': 'chat', 'ls_temperature': 0.7}, 'parent_ids': ['c31e5a77-c2ab-4de5-aacf-da3e9a66c7b8', 'dbef6fec-588f-4c16-9d55-e2aaca1dac50']}\n",
      "{'event': 'on_chat_model_stream', 'data': {'chunk': AIMessageChunk(content='?', additional_kwargs={}, response_metadata={}, id='run--354442c6-1f1d-431d-ae61-541643e055a4')}, 'run_id': '354442c6-1f1d-431d-ae61-541643e055a4', 'name': 'ChatGroq', 'tags': ['seq:step:1'], 'metadata': {'thread_id': '3', 'langgraph_step': 1, 'langgraph_node': 'SuperBot', 'langgraph_triggers': ('branch:to:SuperBot',), 'langgraph_path': ('__pregel_pull', 'SuperBot'), 'langgraph_checkpoint_ns': 'SuperBot:6d13456d-ad4b-69c8-fcec-ceffe5d7db62', 'checkpoint_ns': 'SuperBot:6d13456d-ad4b-69c8-fcec-ceffe5d7db62', 'ls_provider': 'groq', 'ls_model_name': 'gemma2-9b-it', 'ls_model_type': 'chat', 'ls_temperature': 0.7}, 'parent_ids': ['c31e5a77-c2ab-4de5-aacf-da3e9a66c7b8', 'dbef6fec-588f-4c16-9d55-e2aaca1dac50']}\n",
      "{'event': 'on_chat_model_stream', 'data': {'chunk': AIMessageChunk(content=' What', additional_kwargs={}, response_metadata={}, id='run--354442c6-1f1d-431d-ae61-541643e055a4')}, 'run_id': '354442c6-1f1d-431d-ae61-541643e055a4', 'name': 'ChatGroq', 'tags': ['seq:step:1'], 'metadata': {'thread_id': '3', 'langgraph_step': 1, 'langgraph_node': 'SuperBot', 'langgraph_triggers': ('branch:to:SuperBot',), 'langgraph_path': ('__pregel_pull', 'SuperBot'), 'langgraph_checkpoint_ns': 'SuperBot:6d13456d-ad4b-69c8-fcec-ceffe5d7db62', 'checkpoint_ns': 'SuperBot:6d13456d-ad4b-69c8-fcec-ceffe5d7db62', 'ls_provider': 'groq', 'ls_model_name': 'gemma2-9b-it', 'ls_model_type': 'chat', 'ls_temperature': 0.7}, 'parent_ids': ['c31e5a77-c2ab-4de5-aacf-da3e9a66c7b8', 'dbef6fec-588f-4c16-9d55-e2aaca1dac50']}\n",
      "{'event': 'on_chat_model_stream', 'data': {'chunk': AIMessageChunk(content=' position', additional_kwargs={}, response_metadata={}, id='run--354442c6-1f1d-431d-ae61-541643e055a4')}, 'run_id': '354442c6-1f1d-431d-ae61-541643e055a4', 'name': 'ChatGroq', 'tags': ['seq:step:1'], 'metadata': {'thread_id': '3', 'langgraph_step': 1, 'langgraph_node': 'SuperBot', 'langgraph_triggers': ('branch:to:SuperBot',), 'langgraph_path': ('__pregel_pull', 'SuperBot'), 'langgraph_checkpoint_ns': 'SuperBot:6d13456d-ad4b-69c8-fcec-ceffe5d7db62', 'checkpoint_ns': 'SuperBot:6d13456d-ad4b-69c8-fcec-ceffe5d7db62', 'ls_provider': 'groq', 'ls_model_name': 'gemma2-9b-it', 'ls_model_type': 'chat', 'ls_temperature': 0.7}, 'parent_ids': ['c31e5a77-c2ab-4de5-aacf-da3e9a66c7b8', 'dbef6fec-588f-4c16-9d55-e2aaca1dac50']}\n",
      "{'event': 'on_chat_model_stream', 'data': {'chunk': AIMessageChunk(content=' do', additional_kwargs={}, response_metadata={}, id='run--354442c6-1f1d-431d-ae61-541643e055a4')}, 'run_id': '354442c6-1f1d-431d-ae61-541643e055a4', 'name': 'ChatGroq', 'tags': ['seq:step:1'], 'metadata': {'thread_id': '3', 'langgraph_step': 1, 'langgraph_node': 'SuperBot', 'langgraph_triggers': ('branch:to:SuperBot',), 'langgraph_path': ('__pregel_pull', 'SuperBot'), 'langgraph_checkpoint_ns': 'SuperBot:6d13456d-ad4b-69c8-fcec-ceffe5d7db62', 'checkpoint_ns': 'SuperBot:6d13456d-ad4b-69c8-fcec-ceffe5d7db62', 'ls_provider': 'groq', 'ls_model_name': 'gemma2-9b-it', 'ls_model_type': 'chat', 'ls_temperature': 0.7}, 'parent_ids': ['c31e5a77-c2ab-4de5-aacf-da3e9a66c7b8', 'dbef6fec-588f-4c16-9d55-e2aaca1dac50']}\n",
      "{'event': 'on_chat_model_stream', 'data': {'chunk': AIMessageChunk(content=' you', additional_kwargs={}, response_metadata={}, id='run--354442c6-1f1d-431d-ae61-541643e055a4')}, 'run_id': '354442c6-1f1d-431d-ae61-541643e055a4', 'name': 'ChatGroq', 'tags': ['seq:step:1'], 'metadata': {'thread_id': '3', 'langgraph_step': 1, 'langgraph_node': 'SuperBot', 'langgraph_triggers': ('branch:to:SuperBot',), 'langgraph_path': ('__pregel_pull', 'SuperBot'), 'langgraph_checkpoint_ns': 'SuperBot:6d13456d-ad4b-69c8-fcec-ceffe5d7db62', 'checkpoint_ns': 'SuperBot:6d13456d-ad4b-69c8-fcec-ceffe5d7db62', 'ls_provider': 'groq', 'ls_model_name': 'gemma2-9b-it', 'ls_model_type': 'chat', 'ls_temperature': 0.7}, 'parent_ids': ['c31e5a77-c2ab-4de5-aacf-da3e9a66c7b8', 'dbef6fec-588f-4c16-9d55-e2aaca1dac50']}\n",
      "{'event': 'on_chat_model_stream', 'data': {'chunk': AIMessageChunk(content=' play', additional_kwargs={}, response_metadata={}, id='run--354442c6-1f1d-431d-ae61-541643e055a4')}, 'run_id': '354442c6-1f1d-431d-ae61-541643e055a4', 'name': 'ChatGroq', 'tags': ['seq:step:1'], 'metadata': {'thread_id': '3', 'langgraph_step': 1, 'langgraph_node': 'SuperBot', 'langgraph_triggers': ('branch:to:SuperBot',), 'langgraph_path': ('__pregel_pull', 'SuperBot'), 'langgraph_checkpoint_ns': 'SuperBot:6d13456d-ad4b-69c8-fcec-ceffe5d7db62', 'checkpoint_ns': 'SuperBot:6d13456d-ad4b-69c8-fcec-ceffe5d7db62', 'ls_provider': 'groq', 'ls_model_name': 'gemma2-9b-it', 'ls_model_type': 'chat', 'ls_temperature': 0.7}, 'parent_ids': ['c31e5a77-c2ab-4de5-aacf-da3e9a66c7b8', 'dbef6fec-588f-4c16-9d55-e2aaca1dac50']}\n",
      "{'event': 'on_chat_model_stream', 'data': {'chunk': AIMessageChunk(content='?', additional_kwargs={}, response_metadata={}, id='run--354442c6-1f1d-431d-ae61-541643e055a4')}, 'run_id': '354442c6-1f1d-431d-ae61-541643e055a4', 'name': 'ChatGroq', 'tags': ['seq:step:1'], 'metadata': {'thread_id': '3', 'langgraph_step': 1, 'langgraph_node': 'SuperBot', 'langgraph_triggers': ('branch:to:SuperBot',), 'langgraph_path': ('__pregel_pull', 'SuperBot'), 'langgraph_checkpoint_ns': 'SuperBot:6d13456d-ad4b-69c8-fcec-ceffe5d7db62', 'checkpoint_ns': 'SuperBot:6d13456d-ad4b-69c8-fcec-ceffe5d7db62', 'ls_provider': 'groq', 'ls_model_name': 'gemma2-9b-it', 'ls_model_type': 'chat', 'ls_temperature': 0.7}, 'parent_ids': ['c31e5a77-c2ab-4de5-aacf-da3e9a66c7b8', 'dbef6fec-588f-4c16-9d55-e2aaca1dac50']}\n",
      "{'event': 'on_chat_model_stream', 'data': {'chunk': AIMessageChunk(content=' ', additional_kwargs={}, response_metadata={}, id='run--354442c6-1f1d-431d-ae61-541643e055a4')}, 'run_id': '354442c6-1f1d-431d-ae61-541643e055a4', 'name': 'ChatGroq', 'tags': ['seq:step:1'], 'metadata': {'thread_id': '3', 'langgraph_step': 1, 'langgraph_node': 'SuperBot', 'langgraph_triggers': ('branch:to:SuperBot',), 'langgraph_path': ('__pregel_pull', 'SuperBot'), 'langgraph_checkpoint_ns': 'SuperBot:6d13456d-ad4b-69c8-fcec-ceffe5d7db62', 'checkpoint_ns': 'SuperBot:6d13456d-ad4b-69c8-fcec-ceffe5d7db62', 'ls_provider': 'groq', 'ls_model_name': 'gemma2-9b-it', 'ls_model_type': 'chat', 'ls_temperature': 0.7}, 'parent_ids': ['c31e5a77-c2ab-4de5-aacf-da3e9a66c7b8', 'dbef6fec-588f-4c16-9d55-e2aaca1dac50']}\n",
      "{'event': 'on_chat_model_stream', 'data': {'chunk': AIMessageChunk(content='🏏', additional_kwargs={}, response_metadata={}, id='run--354442c6-1f1d-431d-ae61-541643e055a4')}, 'run_id': '354442c6-1f1d-431d-ae61-541643e055a4', 'name': 'ChatGroq', 'tags': ['seq:step:1'], 'metadata': {'thread_id': '3', 'langgraph_step': 1, 'langgraph_node': 'SuperBot', 'langgraph_triggers': ('branch:to:SuperBot',), 'langgraph_path': ('__pregel_pull', 'SuperBot'), 'langgraph_checkpoint_ns': 'SuperBot:6d13456d-ad4b-69c8-fcec-ceffe5d7db62', 'checkpoint_ns': 'SuperBot:6d13456d-ad4b-69c8-fcec-ceffe5d7db62', 'ls_provider': 'groq', 'ls_model_name': 'gemma2-9b-it', 'ls_model_type': 'chat', 'ls_temperature': 0.7}, 'parent_ids': ['c31e5a77-c2ab-4de5-aacf-da3e9a66c7b8', 'dbef6fec-588f-4c16-9d55-e2aaca1dac50']}\n",
      "{'event': 'on_chat_model_stream', 'data': {'chunk': AIMessageChunk(content='  ', additional_kwargs={}, response_metadata={}, id='run--354442c6-1f1d-431d-ae61-541643e055a4')}, 'run_id': '354442c6-1f1d-431d-ae61-541643e055a4', 'name': 'ChatGroq', 'tags': ['seq:step:1'], 'metadata': {'thread_id': '3', 'langgraph_step': 1, 'langgraph_node': 'SuperBot', 'langgraph_triggers': ('branch:to:SuperBot',), 'langgraph_path': ('__pregel_pull', 'SuperBot'), 'langgraph_checkpoint_ns': 'SuperBot:6d13456d-ad4b-69c8-fcec-ceffe5d7db62', 'checkpoint_ns': 'SuperBot:6d13456d-ad4b-69c8-fcec-ceffe5d7db62', 'ls_provider': 'groq', 'ls_model_name': 'gemma2-9b-it', 'ls_model_type': 'chat', 'ls_temperature': 0.7}, 'parent_ids': ['c31e5a77-c2ab-4de5-aacf-da3e9a66c7b8', 'dbef6fec-588f-4c16-9d55-e2aaca1dac50']}\n",
      "{'event': 'on_chat_model_stream', 'data': {'chunk': AIMessageChunk(content='\\n', additional_kwargs={}, response_metadata={}, id='run--354442c6-1f1d-431d-ae61-541643e055a4')}, 'run_id': '354442c6-1f1d-431d-ae61-541643e055a4', 'name': 'ChatGroq', 'tags': ['seq:step:1'], 'metadata': {'thread_id': '3', 'langgraph_step': 1, 'langgraph_node': 'SuperBot', 'langgraph_triggers': ('branch:to:SuperBot',), 'langgraph_path': ('__pregel_pull', 'SuperBot'), 'langgraph_checkpoint_ns': 'SuperBot:6d13456d-ad4b-69c8-fcec-ceffe5d7db62', 'checkpoint_ns': 'SuperBot:6d13456d-ad4b-69c8-fcec-ceffe5d7db62', 'ls_provider': 'groq', 'ls_model_name': 'gemma2-9b-it', 'ls_model_type': 'chat', 'ls_temperature': 0.7}, 'parent_ids': ['c31e5a77-c2ab-4de5-aacf-da3e9a66c7b8', 'dbef6fec-588f-4c16-9d55-e2aaca1dac50']}\n",
      "{'event': 'on_chat_model_stream', 'data': {'chunk': AIMessageChunk(content='\\n', additional_kwargs={}, response_metadata={}, id='run--354442c6-1f1d-431d-ae61-541643e055a4')}, 'run_id': '354442c6-1f1d-431d-ae61-541643e055a4', 'name': 'ChatGroq', 'tags': ['seq:step:1'], 'metadata': {'thread_id': '3', 'langgraph_step': 1, 'langgraph_node': 'SuperBot', 'langgraph_triggers': ('branch:to:SuperBot',), 'langgraph_path': ('__pregel_pull', 'SuperBot'), 'langgraph_checkpoint_ns': 'SuperBot:6d13456d-ad4b-69c8-fcec-ceffe5d7db62', 'checkpoint_ns': 'SuperBot:6d13456d-ad4b-69c8-fcec-ceffe5d7db62', 'ls_provider': 'groq', 'ls_model_name': 'gemma2-9b-it', 'ls_model_type': 'chat', 'ls_temperature': 0.7}, 'parent_ids': ['c31e5a77-c2ab-4de5-aacf-da3e9a66c7b8', 'dbef6fec-588f-4c16-9d55-e2aaca1dac50']}\n",
      "{'event': 'on_chat_model_stream', 'data': {'chunk': AIMessageChunk(content='', additional_kwargs={}, response_metadata={'finish_reason': 'stop', 'model_name': 'gemma2-9b-it', 'system_fingerprint': 'fp_10c08bf97d', 'service_tier': 'on_demand'}, id='run--354442c6-1f1d-431d-ae61-541643e055a4', usage_metadata={'input_tokens': 20, 'output_tokens': 42, 'total_tokens': 62})}, 'run_id': '354442c6-1f1d-431d-ae61-541643e055a4', 'name': 'ChatGroq', 'tags': ['seq:step:1'], 'metadata': {'thread_id': '3', 'langgraph_step': 1, 'langgraph_node': 'SuperBot', 'langgraph_triggers': ('branch:to:SuperBot',), 'langgraph_path': ('__pregel_pull', 'SuperBot'), 'langgraph_checkpoint_ns': 'SuperBot:6d13456d-ad4b-69c8-fcec-ceffe5d7db62', 'checkpoint_ns': 'SuperBot:6d13456d-ad4b-69c8-fcec-ceffe5d7db62', 'ls_provider': 'groq', 'ls_model_name': 'gemma2-9b-it', 'ls_model_type': 'chat', 'ls_temperature': 0.7}, 'parent_ids': ['c31e5a77-c2ab-4de5-aacf-da3e9a66c7b8', 'dbef6fec-588f-4c16-9d55-e2aaca1dac50']}\n",
      "{'event': 'on_chat_model_end', 'data': {'output': AIMessage(content=\"Hi Saad,\\n\\nIt's great to meet you! Cricket is a wonderful sport.  \\n\\nDo you have a favorite team or player? What position do you play? 🏏  \\n\\n\", additional_kwargs={}, response_metadata={'finish_reason': 'stop', 'model_name': 'gemma2-9b-it', 'system_fingerprint': 'fp_10c08bf97d', 'service_tier': 'on_demand'}, id='run--354442c6-1f1d-431d-ae61-541643e055a4', usage_metadata={'input_tokens': 20, 'output_tokens': 42, 'total_tokens': 62}), 'input': {'messages': [[HumanMessage(content='Hi My name is Saad and I like to play cricket', additional_kwargs={}, response_metadata={}, id='15813995-9dee-4558-aeb2-0b86bc4ca4db')]]}}, 'run_id': '354442c6-1f1d-431d-ae61-541643e055a4', 'name': 'ChatGroq', 'tags': ['seq:step:1'], 'metadata': {'thread_id': '3', 'langgraph_step': 1, 'langgraph_node': 'SuperBot', 'langgraph_triggers': ('branch:to:SuperBot',), 'langgraph_path': ('__pregel_pull', 'SuperBot'), 'langgraph_checkpoint_ns': 'SuperBot:6d13456d-ad4b-69c8-fcec-ceffe5d7db62', 'checkpoint_ns': 'SuperBot:6d13456d-ad4b-69c8-fcec-ceffe5d7db62', 'ls_provider': 'groq', 'ls_model_name': 'gemma2-9b-it', 'ls_model_type': 'chat', 'ls_temperature': 0.7}, 'parent_ids': ['c31e5a77-c2ab-4de5-aacf-da3e9a66c7b8', 'dbef6fec-588f-4c16-9d55-e2aaca1dac50']}\n",
      "{'event': 'on_chain_stream', 'run_id': 'dbef6fec-588f-4c16-9d55-e2aaca1dac50', 'name': 'SuperBot', 'tags': ['graph:step:1'], 'metadata': {'thread_id': '3', 'langgraph_step': 1, 'langgraph_node': 'SuperBot', 'langgraph_triggers': ('branch:to:SuperBot',), 'langgraph_path': ('__pregel_pull', 'SuperBot'), 'langgraph_checkpoint_ns': 'SuperBot:6d13456d-ad4b-69c8-fcec-ceffe5d7db62'}, 'data': {'chunk': {'messages': [AIMessage(content=\"Hi Saad,\\n\\nIt's great to meet you! Cricket is a wonderful sport.  \\n\\nDo you have a favorite team or player? What position do you play? 🏏  \\n\\n\", additional_kwargs={}, response_metadata={'finish_reason': 'stop', 'model_name': 'gemma2-9b-it', 'system_fingerprint': 'fp_10c08bf97d', 'service_tier': 'on_demand'}, id='run--354442c6-1f1d-431d-ae61-541643e055a4', usage_metadata={'input_tokens': 20, 'output_tokens': 42, 'total_tokens': 62})]}}, 'parent_ids': ['c31e5a77-c2ab-4de5-aacf-da3e9a66c7b8']}\n",
      "{'event': 'on_chain_end', 'data': {'output': {'messages': [AIMessage(content=\"Hi Saad,\\n\\nIt's great to meet you! Cricket is a wonderful sport.  \\n\\nDo you have a favorite team or player? What position do you play? 🏏  \\n\\n\", additional_kwargs={}, response_metadata={'finish_reason': 'stop', 'model_name': 'gemma2-9b-it', 'system_fingerprint': 'fp_10c08bf97d', 'service_tier': 'on_demand'}, id='run--354442c6-1f1d-431d-ae61-541643e055a4', usage_metadata={'input_tokens': 20, 'output_tokens': 42, 'total_tokens': 62})]}, 'input': {'messages': [HumanMessage(content='Hi My name is Saad and I like to play cricket', additional_kwargs={}, response_metadata={}, id='15813995-9dee-4558-aeb2-0b86bc4ca4db')]}}, 'run_id': 'dbef6fec-588f-4c16-9d55-e2aaca1dac50', 'name': 'SuperBot', 'tags': ['graph:step:1'], 'metadata': {'thread_id': '3', 'langgraph_step': 1, 'langgraph_node': 'SuperBot', 'langgraph_triggers': ('branch:to:SuperBot',), 'langgraph_path': ('__pregel_pull', 'SuperBot'), 'langgraph_checkpoint_ns': 'SuperBot:6d13456d-ad4b-69c8-fcec-ceffe5d7db62'}, 'parent_ids': ['c31e5a77-c2ab-4de5-aacf-da3e9a66c7b8']}\n",
      "{'event': 'on_chain_stream', 'run_id': 'c31e5a77-c2ab-4de5-aacf-da3e9a66c7b8', 'name': 'LangGraph', 'tags': [], 'metadata': {'thread_id': '3'}, 'data': {'chunk': {'SuperBot': {'messages': [AIMessage(content=\"Hi Saad,\\n\\nIt's great to meet you! Cricket is a wonderful sport.  \\n\\nDo you have a favorite team or player? What position do you play? 🏏  \\n\\n\", additional_kwargs={}, response_metadata={'finish_reason': 'stop', 'model_name': 'gemma2-9b-it', 'system_fingerprint': 'fp_10c08bf97d', 'service_tier': 'on_demand'}, id='run--354442c6-1f1d-431d-ae61-541643e055a4', usage_metadata={'input_tokens': 20, 'output_tokens': 42, 'total_tokens': 62})]}}}, 'parent_ids': []}\n",
      "{'event': 'on_chain_end', 'data': {'output': {'messages': [HumanMessage(content='Hi My name is Saad and I like to play cricket', additional_kwargs={}, response_metadata={}, id='15813995-9dee-4558-aeb2-0b86bc4ca4db'), AIMessage(content=\"Hi Saad,\\n\\nIt's great to meet you! Cricket is a wonderful sport.  \\n\\nDo you have a favorite team or player? What position do you play? 🏏  \\n\\n\", additional_kwargs={}, response_metadata={'finish_reason': 'stop', 'model_name': 'gemma2-9b-it', 'system_fingerprint': 'fp_10c08bf97d', 'service_tier': 'on_demand'}, id='run--354442c6-1f1d-431d-ae61-541643e055a4', usage_metadata={'input_tokens': 20, 'output_tokens': 42, 'total_tokens': 62})]}}, 'run_id': 'c31e5a77-c2ab-4de5-aacf-da3e9a66c7b8', 'name': 'LangGraph', 'tags': [], 'metadata': {'thread_id': '3'}, 'parent_ids': []}\n"
     ]
    }
   ],
   "source": [
    "config = {\"configurable\": {\"thread_id\": \"3\"}}\n",
    "\n",
    "async for event in compiled_graph.astream_events(\n",
    "    input={\"messages\":[\"Hi My name is Saad and I like to play cricket\"]}, \n",
    "    config=config,\n",
    "    version=\"v2\"\n",
    "):\n",
    "    print(event)"
   ]
  },
  {
   "cell_type": "code",
   "execution_count": null,
   "id": "1347f801",
   "metadata": {},
   "outputs": [],
   "source": []
  }
 ],
 "metadata": {
  "kernelspec": {
   "display_name": "RAG-Bootcamp",
   "language": "python",
   "name": "python3"
  },
  "language_info": {
   "codemirror_mode": {
    "name": "ipython",
    "version": 3
   },
   "file_extension": ".py",
   "mimetype": "text/x-python",
   "name": "python",
   "nbconvert_exporter": "python",
   "pygments_lexer": "ipython3",
   "version": "3.12.7"
  }
 },
 "nbformat": 4,
 "nbformat_minor": 5
}
