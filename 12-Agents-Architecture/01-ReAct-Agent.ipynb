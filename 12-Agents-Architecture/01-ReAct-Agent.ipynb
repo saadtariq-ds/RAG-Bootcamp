{
 "cells": [
  {
   "cell_type": "markdown",
   "id": "56de6fcd",
   "metadata": {},
   "source": [
    "## Setup and Import Libraries"
   ]
  },
  {
   "cell_type": "code",
   "execution_count": 1,
   "id": "04a808c9",
   "metadata": {},
   "outputs": [],
   "source": [
    "import os\n",
    "from typing_extensions import TypedDict\n",
    "from typing import Annotated\n",
    "from langchain_community.tools import ArxivQueryRun,WikipediaQueryRun\n",
    "from langchain_community.utilities import WikipediaAPIWrapper,ArxivAPIWrapper\n",
    "from langchain_tavily import TavilySearch\n",
    "from langchain_groq import ChatGroq\n",
    "from langchain_core.messages import AIMessage, HumanMessage, AnyMessage\n",
    "from langgraph.graph.message import add_messages\n",
    "from langgraph.graph import StateGraph, START, END\n",
    "from langgraph.prebuilt import ToolNode\n",
    "from langgraph.prebuilt import tools_condition\n",
    "from pprint import pprint\n",
    "from IPython.display import Image, display\n",
    "from dotenv import load_dotenv\n"
   ]
  },
  {
   "cell_type": "code",
   "execution_count": 2,
   "id": "659b51db",
   "metadata": {},
   "outputs": [
    {
     "data": {
      "text/plain": [
       "True"
      ]
     },
     "execution_count": 2,
     "metadata": {},
     "output_type": "execute_result"
    }
   ],
   "source": [
    "load_dotenv()"
   ]
  },
  {
   "cell_type": "code",
   "execution_count": 3,
   "id": "818af9b0",
   "metadata": {},
   "outputs": [],
   "source": [
    "os.environ[\"GROQ_API_KEY\"] = os.getenv(\"GROQ_API_KEY\")\n",
    "os.environ[\"TAVILY_API_KEY\"] = os.getenv(\"TAVILY_API_KEY\")\n",
    "os.environ[\"LANGSMITH_API_KEY\"] = os.getenv(\"LANGSMITH_API_KEY\")\n",
    "os.environ[\"LANGCHAIN_TRACING_V2\"] = \"true\"\n",
    "os.environ[\"LANGCHAIN_PROJECT\"] = \"ReAct-agent\""
   ]
  },
  {
   "cell_type": "code",
   "execution_count": 4,
   "id": "a8bb2725",
   "metadata": {},
   "outputs": [],
   "source": [
    "llm = ChatGroq(model=\"gemma2-9b-it\")"
   ]
  },
  {
   "cell_type": "markdown",
   "id": "49d04725",
   "metadata": {},
   "source": [
    "## Creating Arxiv Tool"
   ]
  },
  {
   "cell_type": "code",
   "execution_count": 5,
   "id": "6094bd48",
   "metadata": {},
   "outputs": [
    {
     "name": "stdout",
     "output_type": "stream",
     "text": [
      "arxiv\n"
     ]
    }
   ],
   "source": [
    "arxiv_api_wrapper = ArxivAPIWrapper(\n",
    "    top_k_results=2, \n",
    "    doc_content_chars_max=500\n",
    ")\n",
    "\n",
    "arxiv_tool = ArxivQueryRun(api_wrapper=arxiv_api_wrapper)\n",
    "\n",
    "print(arxiv_tool.name)"
   ]
  },
  {
   "cell_type": "code",
   "execution_count": 6,
   "id": "93e710e4",
   "metadata": {},
   "outputs": [
    {
     "data": {
      "text/plain": [
       "\"Published: 2024-07-22\\nTitle: Attention Is All You Need But You Don't Need All Of It For Inference of Large Language Models\\nAuthors: Georgy Tyukin, Gbetondji J-S Dovonon, Jean Kaddour, Pasquale Minervini\\nSummary: The inference demand for LLMs has skyrocketed in recent months, and serving\\nmodels with low latencies remains challenging due to the quadratic input length\\ncomplexity of the attention layers. In this work, we investigate the effect of\\ndropping MLP and attention layers at inference time o\""
      ]
     },
     "execution_count": 6,
     "metadata": {},
     "output_type": "execute_result"
    }
   ],
   "source": [
    "arxiv_tool.invoke(input=\"Attention is all you need\")"
   ]
  },
  {
   "cell_type": "markdown",
   "id": "eeb56555",
   "metadata": {},
   "source": [
    "## Creating Wikipedia Tool"
   ]
  },
  {
   "cell_type": "code",
   "execution_count": 7,
   "id": "56a271a5",
   "metadata": {},
   "outputs": [
    {
     "name": "stdout",
     "output_type": "stream",
     "text": [
      "wikipedia\n"
     ]
    }
   ],
   "source": [
    "wikipedia_api_wrapper = WikipediaAPIWrapper(\n",
    "    top_k_results=1,\n",
    "    doc_content_chars_max=500\n",
    ")\n",
    "\n",
    "wikipedia_tool = WikipediaQueryRun(api_wrapper=wikipedia_api_wrapper)\n",
    "\n",
    "print(wikipedia_tool.name)"
   ]
  },
  {
   "cell_type": "code",
   "execution_count": 8,
   "id": "c19a160d",
   "metadata": {},
   "outputs": [
    {
     "data": {
      "text/plain": [
       "'Page: Machine learning\\nSummary: Machine learning (ML) is a field of study in artificial intelligence concerned with the development and study of statistical algorithms that can learn from data and generalise to unseen data, and thus perform tasks without explicit instructions. Within a subdiscipline in machine learning, advances in the field of deep learning have allowed neural networks, a class of statistical algorithms, to surpass many previous machine learning approaches in performance.\\nML fi'"
      ]
     },
     "execution_count": 8,
     "metadata": {},
     "output_type": "execute_result"
    }
   ],
   "source": [
    "wikipedia_tool.invoke(input=\"What is Machine Learning\")"
   ]
  },
  {
   "cell_type": "markdown",
   "id": "8ff67963",
   "metadata": {},
   "source": [
    "## Creating Custom Tools"
   ]
  },
  {
   "cell_type": "code",
   "execution_count": 9,
   "id": "ecaf8f06",
   "metadata": {},
   "outputs": [],
   "source": [
    "def multiply(a: int, b: int) -> int:\n",
    "    \"\"\"Multiply a and b.\n",
    "\n",
    "    Args:\n",
    "        a: first int\n",
    "        b: second int\n",
    "    \"\"\"\n",
    "    return a * b\n",
    "\n",
    "\n",
    "def divide(a: int, b: int) -> float:\n",
    "    \"\"\"Divide a and b.\n",
    "\n",
    "    Args:\n",
    "        a: first int\n",
    "        b: second int\n",
    "    \"\"\"\n",
    "    return a / b\n",
    "\n",
    "\n",
    "def add(a: int, b: int) -> int:\n",
    "    \"\"\"Adds a and b.\n",
    "\n",
    "    Args:\n",
    "        a: first int\n",
    "        b: second int\n",
    "    \"\"\"\n",
    "    return a + b\n",
    "\n",
    "\n",
    "def subtract(a: int, b: int) -> int:\n",
    "    \"\"\"Subtract a and b.\n",
    "\n",
    "    Args:\n",
    "        a: first int\n",
    "        b: second int\n",
    "    \"\"\"\n",
    "    return a - b"
   ]
  },
  {
   "cell_type": "markdown",
   "id": "1bcc1bed",
   "metadata": {},
   "source": [
    "## Create Tavily Search Tool"
   ]
  },
  {
   "cell_type": "code",
   "execution_count": 10,
   "id": "c9a83965",
   "metadata": {},
   "outputs": [],
   "source": [
    "tavily_tool = TavilySearch(\n",
    "    max_results=3,\n",
    "    topic=\"general\", \n",
    ")"
   ]
  },
  {
   "cell_type": "code",
   "execution_count": null,
   "id": "c2140188",
   "metadata": {},
   "outputs": [
    {
     "data": {
      "text/plain": [
       "{'query': 'What happened at the last wimbledon',\n",
       " 'follow_up_questions': None,\n",
       " 'answer': None,\n",
       " 'images': [],\n",
       " 'results': [{'url': 'https://www.youtube.com/watch?v=tQU8vQvXKRQ',\n",
       "   'title': 'Amanda Anisimova | Post-match Press Conference | Wimbledon 2025',\n",
       "   'content': \"What went wrong | Amanda Anisimova | Post-match Press Conference | Wimbledon 2025\\nWimbledon\\n2470000 subscribers\\n3250 likes\\n343622 views\\n12 Jul 2025\\nUSA's Amanda Anisimova speaks after tough Ladies' Final loss to Poland's Iga Swiatek at Wimbledon 2025.\\n \\n#Wimbledon #Tennis #Interview #Wimbledon2025 #TheresOnlyOneWimbledon \\n\\nSUBSCRIBE to keep up with all The Championships action and news!  \\n\\nJoin myWimbledon for a personalised Wimbledon experience: http://wimbledon.com/mywimbledon \\n\\nTo follow all of the action as it happens go to: https://www.wimbledon.com/en_GB/scores/index.html \\n\\nTo license Wimbledon footage, visit: https://bit.ly/3fy0RbA\\n\\n\",\n",
       "   'score': 0.40995342,\n",
       "   'raw_content': None},\n",
       "  {'url': 'https://www.bbc.com/sport/tennis/live/c8d6p0375jjt',\n",
       "   'title': 'Wimbledon: Dimitrov retires injured while leading Sinner by two sets',\n",
       "   'content': \"But the enduring memory will, sadly, be that of a tearful Grigor Dimitrov who appeared set for a sensational upset of world number one Jannik Sinner until injury intervened. * Grigor Dimitrov retires with a two-set lead against Jannik Sinner after sustaining a pectoral muscle injury 5. ### 'Dimitrov has so many ways to win points'published at 21:23 British Summer Time 7 July 21:23 BST 7 July ### 'Dimitrov has been through so much'published at 21:02 British Summer Time 7 July 21:02 BST 7 July ### Sinner's five-set strugglespublished at 20:52 British Summer Time 7 July 20:52 BST 7 July Retired: Jannik Sinner (Italy) (Seed ranking 1) beat Grigor Dimitrov (Bulgaria) (Seed ranking 19)\",\n",
       "   'score': 0.39445806,\n",
       "   'raw_content': None},\n",
       "  {'url': 'https://www.youtube.com/watch?v=rKeqOS90-jU',\n",
       "   'title': 'Jannik Sinner | Championship Winning Moment | Wimbledon 2025',\n",
       "   'content': \"The moment he won Wimbledon | Jannik Sinner | Championship Winning Moment | Wimbledon 2025\\nWimbledon\\n2480000 subscribers\\n17432 likes\\n1112638 views\\n13 Jul 2025\\nWatch the Championship winning moment as Italy's Jannik Sinner overcomes Spain's Carlos Alcaraz on Centre Court in the final of Wimbledon 2025.\\n\\n#Wimbledon #Tennis #Moment #Wimbledon2025 #TheresOnlyOneWimbledon\\n\\nSUBSCRIBE to keep up with all The Championships action and news! \\n\\nJoin myWimbledon for a personalised Wimbledon experience: http://wimbledon.com/mywimbledon\\n\\nTo follow all of the action as it happens go to: https://www.wimbledon.com/en_GB/scores/index.html\\n\\nTo license Wimbledon footage, visit: https://bit.ly/3fy0RbA\\n\\n\",\n",
       "   'score': 0.3713423,\n",
       "   'raw_content': None}],\n",
       " 'response_time': 1.22,\n",
       " 'request_id': '5596ce3a-946a-4ed7-9034-38fa897f9428'}"
      ]
     },
     "execution_count": 11,
     "metadata": {},
     "output_type": "execute_result"
    }
   ],
   "source": [
    "tavily_tool.invoke(input=\"What happened at the last wimbledon\")"
   ]
  },
  {
   "cell_type": "code",
   "execution_count": 12,
   "id": "01fd9906",
   "metadata": {},
   "outputs": [
    {
     "data": {
      "text/plain": [
       "{'query': 'Provide me the recent AI news for march 3rd 2025',\n",
       " 'follow_up_questions': None,\n",
       " 'answer': None,\n",
       " 'images': [],\n",
       " 'results': [{'url': 'https://theaitrack.com/ai-news-march-2025-in-depth-and-concise/',\n",
       "   'title': 'AI News March 2025: In-Depth and Concise - The AI Track',\n",
       "   'content': 'AI NEWS March 2025 · OpenAI Secures Historic $40 Billion Investment at $300 Billion Valuation · Runway Released Gen-4 Video Generation Model · Alibaba Launches',\n",
       "   'score': 0.9008183,\n",
       "   'raw_content': None},\n",
       "  {'url': 'https://www.linkedin.com/pulse/weekly-ai-news-3-march-2025-aiforbusinessnet-johan-steyn-qrumf',\n",
       "   'title': 'Weekly AI News: 3 March 2025 - AIforBusiness.net - LinkedIn',\n",
       "   'content': \"This week's AI update explores some of the most impactful developments shaping technology and society. OpenAI has unveiled GPT-4.5, a cutting-\",\n",
       "   'score': 0.89279664,\n",
       "   'raw_content': None},\n",
       "  {'url': 'https://www.akhia.com/insights/benthinking/ai-round-up-week-of-march-03-2025',\n",
       "   'title': 'AI round-up: Week of March 3, 2025 - Akhia',\n",
       "   'content': \"Exploring the latest in AI advancements and ethical challenges, from Google's AI-only search to new AI models and the implications of unfiltered AI.\",\n",
       "   'score': 0.8858788,\n",
       "   'raw_content': None}],\n",
       " 'response_time': 1.13,\n",
       " 'request_id': 'e0a7c603-bf98-4ff8-ac8b-2005bb584c88'}"
      ]
     },
     "execution_count": 12,
     "metadata": {},
     "output_type": "execute_result"
    }
   ],
   "source": [
    "tavily_tool.invoke(\"Provide me the recent AI news for march 3rd 2025\")"
   ]
  },
  {
   "cell_type": "markdown",
   "id": "01bd29ac",
   "metadata": {},
   "source": [
    "## Combining and Binding Tools"
   ]
  },
  {
   "cell_type": "code",
   "execution_count": 13,
   "id": "33ae1a7c",
   "metadata": {},
   "outputs": [],
   "source": [
    "tools = [\n",
    "    arxiv_tool, wikipedia_tool, tavily_tool,\n",
    "    add, subtract, multiply, divide\n",
    "]"
   ]
  },
  {
   "cell_type": "code",
   "execution_count": 14,
   "id": "71e1b254",
   "metadata": {},
   "outputs": [],
   "source": [
    "llm_with_tools = llm.bind_tools(tools=tools)"
   ]
  },
  {
   "cell_type": "code",
   "execution_count": 15,
   "id": "84d4c10c",
   "metadata": {},
   "outputs": [
    {
     "data": {
      "text/plain": [
       "AIMessage(content='', additional_kwargs={'tool_calls': [{'id': 'xrjnhrgvz', 'function': {'arguments': '{\"query\":\"recent AI news\",\"time_range\":\"day\"}', 'name': 'tavily_search'}, 'type': 'function'}]}, response_metadata={'token_usage': {'completion_tokens': 94, 'prompt_tokens': 3859, 'total_tokens': 3953, 'completion_time': 0.170909091, 'prompt_time': 0.073084778, 'queue_time': 0.269766061, 'total_time': 0.243993869}, 'model_name': 'gemma2-9b-it', 'system_fingerprint': 'fp_10c08bf97d', 'service_tier': 'on_demand', 'finish_reason': 'tool_calls', 'logprobs': None}, id='run--be0ab222-103c-4450-ae6d-392fabbb8ec9-0', tool_calls=[{'name': 'tavily_search', 'args': {'query': 'recent AI news', 'time_range': 'day'}, 'id': 'xrjnhrgvz', 'type': 'tool_call'}], usage_metadata={'input_tokens': 3859, 'output_tokens': 94, 'total_tokens': 3953})"
      ]
     },
     "execution_count": 15,
     "metadata": {},
     "output_type": "execute_result"
    }
   ],
   "source": [
    "query = \"What is the recent AI News\"\n",
    "\n",
    "llm_with_tools.invoke([HumanMessage(content=query)])"
   ]
  },
  {
   "cell_type": "code",
   "execution_count": 16,
   "id": "f2e16a70",
   "metadata": {},
   "outputs": [
    {
     "data": {
      "text/plain": [
       "[{'name': 'tavily_search',\n",
       "  'args': {'query': 'recent AI news', 'time_range': 'day'},\n",
       "  'id': '1t63fjmza',\n",
       "  'type': 'tool_call'}]"
      ]
     },
     "execution_count": 16,
     "metadata": {},
     "output_type": "execute_result"
    }
   ],
   "source": [
    "llm_with_tools.invoke([HumanMessage(content=query)]).tool_calls"
   ]
  },
  {
   "cell_type": "markdown",
   "id": "3c2f68d5",
   "metadata": {},
   "source": [
    "## Creating Graph"
   ]
  },
  {
   "cell_type": "code",
   "execution_count": 17,
   "id": "3740cf5a",
   "metadata": {},
   "outputs": [],
   "source": [
    "class State(TypedDict):\n",
    "    messages:Annotated[list[AnyMessage], add_messages]"
   ]
  },
  {
   "cell_type": "code",
   "execution_count": 18,
   "id": "cb2ac2a6",
   "metadata": {},
   "outputs": [],
   "source": [
    "def tool_calling_llm(state:State):\n",
    "    return {\"messages\":[llm_with_tools.invoke(state[\"messages\"])]}"
   ]
  },
  {
   "cell_type": "code",
   "execution_count": 19,
   "id": "d7095f8e",
   "metadata": {},
   "outputs": [
    {
     "data": {
      "image/png": "[encoded data removed]",
      "text/plain": [
       "<IPython.core.display.Image object>"
      ]
     },
     "metadata": {},
     "output_type": "display_data"
    }
   ],
   "source": [
    "# Build graph\n",
    "graph_builder = StateGraph(State)\n",
    "\n",
    "# Add Nodes\n",
    "graph_builder.add_node(node=\"tool_calling_llm\", action=tool_calling_llm)\n",
    "graph_builder.add_node(node=\"tools\", action=ToolNode(tools))\n",
    "\n",
    "# Add Edges\n",
    "graph_builder.add_edge(start_key=START, end_key=\"tool_calling_llm\")\n",
    "graph_builder.add_conditional_edges(\n",
    "    source=\"tool_calling_llm\",\n",
    "    # If the latest message (result) from assistant is a tool call -> tools_condition routes to tools\n",
    "    # If the latest message (result) from assistant is a not a tool call -> tools_condition routes to END\n",
    "    path=tools_condition,\n",
    ")\n",
    "graph_builder.add_edge(start_key=\"tools\", end_key=\"tool_calling_llm\")\n",
    "\n",
    "\n",
    "compiled_graph = graph_builder.compile()\n",
    "\n",
    "# View\n",
    "display(Image(compiled_graph.get_graph().draw_mermaid_png()))\n"
   ]
  },
  {
   "cell_type": "code",
   "execution_count": 23,
   "id": "28e38383",
   "metadata": {},
   "outputs": [
    {
     "name": "stdout",
     "output_type": "stream",
     "text": [
      "================================\u001b[1m Human Message \u001b[0m=================================\n",
      "\n",
      "What is the latest FIFA World Cup news, also add 5 plus 5 and then multiply by 10\n",
      "==================================\u001b[1m Ai Message \u001b[0m==================================\n",
      "Tool Calls:\n",
      "  tavily_search (p3jfrgz8m)\n",
      " Call ID: p3jfrgz8m\n",
      "  Args:\n",
      "    query: FIFA World Cup latest news\n",
      "=================================\u001b[1m Tool Message \u001b[0m=================================\n",
      "Name: tavily_search\n",
      "\n",
      "{\"query\": \"FIFA World Cup latest news\", \"follow_up_questions\": null, \"answer\": null, \"images\": [], \"results\": [{\"url\": \"https://www.cbsnews.com/tag/world-cup/\", \"title\": \"World Cup news - Today's latest updates\", \"content\": \"FIFA released its match schedule for the 2026 World Cup and announced the final will be played at the MetLife Stadium in New Jersey. U.S. Men's National Team\", \"score\": 0.7722049, \"raw_content\": null}, {\"url\": \"https://www.nbcnews.com/sports/world-cup\", \"title\": \"FIFA World Cup 2026: Latest News, Photo and Video\", \"content\": \"Chelsea beats PSG 3-0 for Club World Cup title as Cole Palmer scores twice and sets up third goal. The teams had to be separated after a near-brawl late in a\", \"score\": 0.6158511, \"raw_content\": null}, {\"url\": \"https://www.aljazeera.com/tag/world-cup/\", \"title\": \"World Cup | Today's latest from Al Jazeera\", \"content\": \"Spain run riot in Turkiye as Merino scores hat-trick in 6-0 victory · Merino grabs a hat-trick as Spain thrash Turkiye 6-0 – updates · Spain begin 2026 World Cup\", \"score\": 0.61196244, \"raw_content\": null}], \"response_time\": 1.14, \"request_id\": \"4e23a1db-8465-4917-8bde-0f11c86051c1\"}\n",
      "==================================\u001b[1m Ai Message \u001b[0m==================================\n",
      "\n",
      "The latest news from FIFA World Cup is that FIFA released the match schedule for the 2026 World Cup and announced the final will be played at the MetLife Stadium in New Jersey. U.S. Men's National Team  also Chelsea beats PSG 3-0 for Club World Cup title as Cole Palmer scores twice and sets up third goal. The teams had to be separated after a near-brawl late in a  and Spain run riot in Turkiye as Merino scores hat-trick in 6-0 victory.  Spain begin 2026 World Cup  and  Merino grabs a hat-trick as Spain thrash Turkiye 6-0 – updates.  \n",
      "100\n"
     ]
    }
   ],
   "source": [
    "query = \"What is the latest FIFA World Cup news, also add 5 plus 5 and then multiply by 10\"\n",
    "\n",
    "messages = compiled_graph.invoke({\"messages\":HumanMessage(content=query)})\n",
    "for message in messages['messages']:\n",
    "    message.pretty_print()"
   ]
  },
  {
   "cell_type": "code",
   "execution_count": 24,
   "id": "9c9eee88",
   "metadata": {},
   "outputs": [
    {
     "name": "stdout",
     "output_type": "stream",
     "text": [
      "================================\u001b[1m Human Message \u001b[0m=================================\n",
      "\n",
      "What is Machine Learning\n",
      "==================================\u001b[1m Ai Message \u001b[0m==================================\n",
      "Tool Calls:\n",
      "  wikipedia (kv6jmavpr)\n",
      " Call ID: kv6jmavpr\n",
      "  Args:\n",
      "    query: Machine Learning\n",
      "=================================\u001b[1m Tool Message \u001b[0m=================================\n",
      "Name: wikipedia\n",
      "\n",
      "Page: Machine learning\n",
      "Summary: Machine learning (ML) is a field of study in artificial intelligence concerned with the development and study of statistical algorithms that can learn from data and generalise to unseen data, and thus perform tasks without explicit instructions. Within a subdiscipline in machine learning, advances in the field of deep learning have allowed neural networks, a class of statistical algorithms, to surpass many previous machine learning approaches in performance.\n",
      "ML fi\n",
      "==================================\u001b[1m Ai Message \u001b[0m==================================\n",
      "\n",
      "Machine learning (ML) is a field of study in artificial intelligence concerned with the development and study of statistical algorithms that can learn from data and generalise to unseen data, and thus perform tasks without explicit instructions.\n"
     ]
    }
   ],
   "source": [
    "query = \"What is Machine Learning\"\n",
    "\n",
    "messages = compiled_graph.invoke({\"messages\":HumanMessage(content=query)})\n",
    "for message in messages['messages']:\n",
    "    message.pretty_print()"
   ]
  },
  {
   "cell_type": "code",
   "execution_count": null,
   "id": "5eeb3437",
   "metadata": {},
   "outputs": [],
   "source": []
  }
 ],
 "metadata": {
  "kernelspec": {
   "display_name": "RAG-Bootcamp",
   "language": "python",
   "name": "python3"
  },
  "language_info": {
   "codemirror_mode": {
    "name": "ipython",
    "version": 3
   },
   "file_extension": ".py",
   "mimetype": "text/x-python",
   "name": "python",
   "nbconvert_exporter": "python",
   "pygments_lexer": "ipython3",
   "version": "3.12.7"
  }
 },
 "nbformat": 4,
 "nbformat_minor": 5
}
