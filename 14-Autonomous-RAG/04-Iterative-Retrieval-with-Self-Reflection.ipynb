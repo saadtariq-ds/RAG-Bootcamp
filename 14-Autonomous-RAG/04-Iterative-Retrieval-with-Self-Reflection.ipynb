{
 "cells": [
  {
   "cell_type": "markdown",
   "id": "5c7b097c",
   "metadata": {},
   "source": [
    "# 🔁 What is Iterative Retrieval in Agentic RAG?\n",
    "Combined both Iterative And Self reflection\n",
    "\n",
    "✅ Definition:\n",
    "Iterative Retrieval is a dynamic strategy where an AI agent doesn't settle for the first batch of retrieved documents. Instead, it evaluates the adequacy of the initial context, and if necessary, it:\n",
    "\n",
    "- Refines the query,\n",
    "- Retrieves again,\n",
    "- Repeats the process until it’s confident enough to answer the original question.\n",
    "\n",
    "🧠 Why Use It?\n",
    "\n",
    "In standard RAG:\n",
    "\n",
    "- A single retrieval step is done, and the LLM uses it to answer.\n",
    "- If the documents were incomplete or irrelevant, the answer may fail.\n",
    "\n",
    "In Iterative RAG:\n",
    "\n",
    "- The agent reflects on the retrieved content and the answer it produced.\n",
    "- If it’s unsure, it can refine its search (like a human researcher would)."
   ]
  },
  {
   "cell_type": "markdown",
   "id": "af2b8438",
   "metadata": {},
   "source": [
    "## Setup and Import Libraries"
   ]
  },
  {
   "cell_type": "code",
   "execution_count": 1,
   "id": "630cc9da",
   "metadata": {},
   "outputs": [],
   "source": [
    "import os\n",
    "from typing import List\n",
    "from pydantic import BaseModel\n",
    "from langchain.chat_models import init_chat_model\n",
    "from langchain_openai import OpenAIEmbeddings\n",
    "from langchain.schema import Document\n",
    "from langchain.vectorstores import FAISS\n",
    "from langchain_community.document_loaders import TextLoader\n",
    "from langchain.text_splitter import RecursiveCharacterTextSplitter\n",
    "from langgraph.graph import StateGraph, END\n",
    "from dotenv import load_dotenv"
   ]
  },
  {
   "cell_type": "code",
   "execution_count": 2,
   "id": "5c05e648",
   "metadata": {},
   "outputs": [
    {
     "data": {
      "text/plain": [
       "True"
      ]
     },
     "execution_count": 2,
     "metadata": {},
     "output_type": "execute_result"
    }
   ],
   "source": [
    "load_dotenv()"
   ]
  },
  {
   "cell_type": "code",
   "execution_count": 3,
   "id": "e08e4842",
   "metadata": {},
   "outputs": [],
   "source": [
    "os.environ[\"OPENAI_API_KEY\"] = os.getenv(\"OPENAI_API_KEY\")"
   ]
  },
  {
   "cell_type": "code",
   "execution_count": 4,
   "id": "a3cb463c",
   "metadata": {},
   "outputs": [],
   "source": [
    "embeddings = OpenAIEmbeddings()\n",
    "llm = init_chat_model(\"openai:gpt-4o\")"
   ]
  },
  {
   "cell_type": "markdown",
   "id": "f59f3229",
   "metadata": {},
   "source": [
    "## Load and Embed Documents"
   ]
  },
  {
   "cell_type": "code",
   "execution_count": 5,
   "id": "bead3f40",
   "metadata": {},
   "outputs": [],
   "source": [
    "documents = TextLoader(\"internal_docs.txt\", encoding=\"utf-8\").load()\n",
    "\n",
    "chunks = RecursiveCharacterTextSplitter(\n",
    "    chunk_size=500, chunk_overlap=50\n",
    ").split_documents(documents=documents)"
   ]
  },
  {
   "cell_type": "code",
   "execution_count": 6,
   "id": "b74534e3",
   "metadata": {},
   "outputs": [],
   "source": [
    "vector_store = FAISS.from_documents(\n",
    "    documents=chunks, embedding=embeddings)\n",
    "\n",
    "retriever = vector_store.as_retriever()"
   ]
  },
  {
   "cell_type": "markdown",
   "id": "3e00043c",
   "metadata": {},
   "source": [
    "## Define Agent State"
   ]
  },
  {
   "cell_type": "code",
   "execution_count": 7,
   "id": "6171fbe3",
   "metadata": {},
   "outputs": [],
   "source": [
    "class IterativeRAGState(BaseModel):\n",
    "    question: str\n",
    "    refined_question: str = \"\"\n",
    "    retrieved_documents: List[Document] = []\n",
    "    answer: str = \"\"\n",
    "    verified: bool = False\n",
    "    attempts: int = 0"
   ]
  },
  {
   "cell_type": "markdown",
   "id": "4fae1f62",
   "metadata": {},
   "source": [
    "## Nodes"
   ]
  },
  {
   "cell_type": "markdown",
   "id": "be50f3ca",
   "metadata": {},
   "source": [
    "### Retrieve Node"
   ]
  },
  {
   "cell_type": "code",
   "execution_count": 8,
   "id": "24269d34",
   "metadata": {},
   "outputs": [],
   "source": [
    "def retrieve_documents(state: IterativeRAGState) -> IterativeRAGState:\n",
    "    query = state.refined_question or state.question\n",
    "    documents = retriever.invoke(query)\n",
    "    \n",
    "    return state.model_copy(update={\"retrieved_documents\": documents})"
   ]
  },
  {
   "cell_type": "markdown",
   "id": "89fabbca",
   "metadata": {},
   "source": [
    "### Reflect And Verify Node"
   ]
  },
  {
   "cell_type": "code",
   "execution_count": 9,
   "id": "d2f9c5df",
   "metadata": {},
   "outputs": [],
   "source": [
    "def generate_answer(state: IterativeRAGState) -> IterativeRAGState:\n",
    "    \n",
    "    context = \"\\n\\n\".join(doc.page_content for doc in state.retrieved_documents)\n",
    "    prompt = f\"\"\"\n",
    "    Use the following context to answer the question:\n",
    "\n",
    "    Context:\n",
    "    {context}\n",
    "\n",
    "    Question:\n",
    "    {state.question}\n",
    "    \"\"\"\n",
    "\n",
    "    response = llm.invoke(input=prompt.strip()).content.strip()\n",
    "    \n",
    "    return state.model_copy(update={\"answer\": response, \"attempts\": state.attempts + 1})"
   ]
  },
  {
   "cell_type": "markdown",
   "id": "ab3b8f06",
   "metadata": {},
   "source": [
    "### Reflect Node"
   ]
  },
  {
   "cell_type": "code",
   "execution_count": 10,
   "id": "858771c3",
   "metadata": {},
   "outputs": [],
   "source": [
    "def reflect_on_answer(state: IterativeRAGState) -> IterativeRAGState:\n",
    "    \n",
    "    prompt = f\"\"\"\n",
    "    Evaluate whether the answer below is factually sufficient and complete.\n",
    "\n",
    "    Question: {state.question}\n",
    "    Answer: {state.answer}\n",
    "\n",
    "    Respond 'YES' if it's complete, otherwise 'NO' with feedback.\n",
    "    \"\"\"\n",
    "\n",
    "    feedback = llm.invoke(input=prompt).content.lower()\n",
    "    verified = \"yes\" in feedback\n",
    "\n",
    "    return state.model_copy(update={\"verified\": verified})"
   ]
  },
  {
   "cell_type": "markdown",
   "id": "48ea62ce",
   "metadata": {},
   "source": [
    "### Refine Query Node"
   ]
  },
  {
   "cell_type": "code",
   "execution_count": 11,
   "id": "8c16da4e",
   "metadata": {},
   "outputs": [],
   "source": [
    "def refine_query(state: IterativeRAGState) -> IterativeRAGState:\n",
    "    \n",
    "    prompt = f\"\"\"\n",
    "    The answer appears incomplete. Suggest a better version of the query that would help retrieve more relevant context.\n",
    "\n",
    "    Original Question: {state.question}\n",
    "    Current Answer: {state.answer}\n",
    "    \"\"\"\n",
    "\n",
    "    new_query = llm.invoke(input=prompt).content.strip()\n",
    "    \n",
    "    return state.model_copy(update={\"refined_question\": new_query})"
   ]
  },
  {
   "cell_type": "markdown",
   "id": "d52ed66e",
   "metadata": {},
   "source": [
    "## Build Graph"
   ]
  },
  {
   "cell_type": "code",
   "execution_count": 12,
   "id": "8f563185",
   "metadata": {},
   "outputs": [
    {
     "data": {
      "image/png": "[encoded data removed]",
      "text/plain": [
       "<langgraph.graph.state.CompiledStateGraph object at 0x00000138CEED5100>"
      ]
     },
     "execution_count": 12,
     "metadata": {},
     "output_type": "execute_result"
    }
   ],
   "source": [
    "builder = StateGraph(IterativeRAGState)\n",
    "\n",
    "# Add Nodes\n",
    "builder.add_node(node=\"retrieve\", action=retrieve_documents)\n",
    "builder.add_node(node=\"answer\", action=generate_answer)\n",
    "builder.add_node(node=\"reflect\", action=reflect_on_answer)\n",
    "builder.add_node(node=\"refine\", action=refine_query)\n",
    "\n",
    "# Set Entry Point\n",
    "builder.set_entry_point(key=\"retrieve\")\n",
    "\n",
    "# Add Edges\n",
    "builder.add_edge(start_key=\"retrieve\", end_key=\"answer\")\n",
    "builder.add_edge(start_key=\"answer\", end_key=\"reflect\")\n",
    "builder.add_conditional_edges(\n",
    "    \"reflect\",\n",
    "    lambda s: END if s.verified or s.attempts >= 2 else \"refine\"\n",
    ")\n",
    "builder.add_edge(start_key=\"refine\", end_key=\"retrieve\")\n",
    "builder.add_edge(start_key=\"answer\", end_key=END)\n",
    "\n",
    "# Compile Graph\n",
    "graph = builder.compile()\n",
    "\n",
    "# Display\n",
    "graph"
   ]
  },
  {
   "cell_type": "markdown",
   "id": "7af4d8f3",
   "metadata": {},
   "source": [
    "## Query"
   ]
  },
  {
   "cell_type": "code",
   "execution_count": 13,
   "id": "3a09cc3d",
   "metadata": {},
   "outputs": [
    {
     "name": "stdout",
     "output_type": "stream",
     "text": [
      "✅ Final Answer:\n",
      " Your question seems to be asking about the relationship or use of agent loops in transformer-based systems. Although the provided context does not explicitly mention \"agent loops,\" it discusses various transformer models and their deployments.\n",
      "\n",
      "Agent loops generally refer to iterative processes in autonomous systems where an agent makes decisions based on inputs, performs actions, evaluates outcomes, and refines its understanding or strategy accordingly. Transformer-based systems can be part of such agent loops, particularly in applications involving natural language processing, vision, or other AI-driven tasks.\n",
      "\n",
      "For instance, in a chatbot system (like the one using LLAMA2 mentioned in the context), the model could be part of an agent loop where it continuously processes user inputs, generates responses, and updates its context or memory with every interaction, thus improving over time through a feedback loop. Similarly, Reformer and other transformer variants can be utilized efficiently in memory-constrained environments, enabling real-time response adjustments, a critical component of any closed-loop system that seeks to adapt based on continuous input.\n",
      "\n",
      "In summary, transformer-based systems can be integral to agent loops, especially when these systems require real-time processing and adaptation based on ongoing interactions or environmental changes.\n",
      "\n",
      "🧠 Verified: True\n",
      "🔁 Attempts: 1\n"
     ]
    }
   ],
   "source": [
    "query = \"agent loops  and transformer-based systems?\"\n",
    "\n",
    "initial_state = IterativeRAGState(question=query)\n",
    "final = graph.invoke(input=initial_state)\n",
    "\n",
    "\n",
    "print(\"✅ Final Answer:\\n\", final[\"answer\"])\n",
    "print(\"\\n🧠 Verified:\", final[\"verified\"])\n",
    "print(\"🔁 Attempts:\", final[\"attempts\"])"
   ]
  },
  {
   "cell_type": "code",
   "execution_count": 14,
   "id": "20e0778f",
   "metadata": {},
   "outputs": [
    {
     "data": {
      "text/plain": [
       "{'question': 'agent loops  and transformer-based systems?',\n",
       " 'refined_question': '',\n",
       " 'retrieved_documents': [Document(id='a8db37ae-5b37-4999-81f4-5a6df654148f', metadata={'source': 'internal_docs.txt'}, page_content='3. Reformer:\\n    - Tested for memory efficiency on embedded devices.\\n    - LSH attention led to 60% memory reduction.\\n    - Integration challenges with standard transformers due to bucket collisions.\\n    - Ongoing investigation for training stability and gradient clipping strategies.'),\n",
       "  Document(id='1fec296f-b984-4d57-af20-2d55912bc49d', metadata={'source': 'internal_docs.txt'}, page_content='Title: Transformer Variants for Production\\n\\nWe have used the following transformer variants in production deployments:\\n\\n1. EfficientFormer:\\n    - Optimized for mobile inference.\\n    - Deployed in multiple mobile and edge environments.\\n    - Quantized using ONNX and optimized via TensorRT.\\n    - Benchmarked with 1.2ms inference time on A72 CPUs.'),\n",
       "  Document(id='c990fcd4-096f-481e-8910-959a2d18b842', metadata={'source': 'internal_docs.txt'}, page_content='Additional Notes:\\n    - Vision transformers (ViT and Swin Transformer) evaluated in manufacturing QC tasks.\\n    - Speech transformers (Wav2Vec 2.0) benchmarked for voice assistant integrations.\\n    - Tokenizers: SentencePiece, BPE, and unigram tokenizers compared for multilingual tasks.\\n    - Significant improvements noted with FlashAttention and Rotary Positional Encoding.'),\n",
       "  Document(id='e47f352a-9845-4abb-89c2-cde67285286d', metadata={'source': 'internal_docs.txt'}, page_content='4. LLAMA2:\\n    - Integrated with proprietary instruction-tuned layer.\\n    - Combined with domain-specific knowledge graphs.\\n    - Used as base model in chat deployment.\\n    - Prompt format adapted with multi-turn chat memory and RAG backend.\\n\\n5. TinyBERT:\\n    - Fine-tuned for classification tasks on internal email triage system.\\n    - Integrated into Outlook plugin via TensorFlow Lite.')],\n",
       " 'answer': 'Your question seems to be asking about the relationship or use of agent loops in transformer-based systems. Although the provided context does not explicitly mention \"agent loops,\" it discusses various transformer models and their deployments.\\n\\nAgent loops generally refer to iterative processes in autonomous systems where an agent makes decisions based on inputs, performs actions, evaluates outcomes, and refines its understanding or strategy accordingly. Transformer-based systems can be part of such agent loops, particularly in applications involving natural language processing, vision, or other AI-driven tasks.\\n\\nFor instance, in a chatbot system (like the one using LLAMA2 mentioned in the context), the model could be part of an agent loop where it continuously processes user inputs, generates responses, and updates its context or memory with every interaction, thus improving over time through a feedback loop. Similarly, Reformer and other transformer variants can be utilized efficiently in memory-constrained environments, enabling real-time response adjustments, a critical component of any closed-loop system that seeks to adapt based on continuous input.\\n\\nIn summary, transformer-based systems can be integral to agent loops, especially when these systems require real-time processing and adaptation based on ongoing interactions or environmental changes.',\n",
       " 'verified': True,\n",
       " 'attempts': 1}"
      ]
     },
     "execution_count": 14,
     "metadata": {},
     "output_type": "execute_result"
    }
   ],
   "source": [
    "final"
   ]
  },
  {
   "cell_type": "code",
   "execution_count": null,
   "id": "cd8bca60",
   "metadata": {},
   "outputs": [],
   "source": []
  }
 ],
 "metadata": {
  "kernelspec": {
   "display_name": "RAG-Bootcamp",
   "language": "python",
   "name": "python3"
  },
  "language_info": {
   "codemirror_mode": {
    "name": "ipython",
    "version": 3
   },
   "file_extension": ".py",
   "mimetype": "text/x-python",
   "name": "python",
   "nbconvert_exporter": "python",
   "pygments_lexer": "ipython3",
   "version": "3.12.7"
  }
 },
 "nbformat": 4,
 "nbformat_minor": 5
}
