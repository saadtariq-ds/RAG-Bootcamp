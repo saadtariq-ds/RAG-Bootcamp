{
 "cells": [
  {
   "cell_type": "markdown",
   "id": "24eb1a7d",
   "metadata": {},
   "source": [
    "# Chain Of Thoughts With RAG\n",
    "\n",
    "What is Chain-of-Thought (CoT) in RAG?\n",
    "\n",
    "CoT reasoning breaks down a complex question into intermediate steps, and allows retrieval + reflection at each step before answering.\n",
    "\n",
    "User Query\n",
    "   ↓\n",
    "- Step 1: Decompose question → sub-steps (Reason)\n",
    "- Step 2: Retrieve docs per step (Act)\n",
    "- Step 3: Combine context (Observe)\n",
    "- Step 4: Final answer generation (Reflect)"
   ]
  },
  {
   "cell_type": "markdown",
   "id": "a538c385",
   "metadata": {},
   "source": [
    "## Setup and Import Libraries"
   ]
  },
  {
   "cell_type": "code",
   "execution_count": 1,
   "id": "21e14842",
   "metadata": {},
   "outputs": [],
   "source": [
    "import os\n",
    "from typing import List\n",
    "from pydantic import BaseModel\n",
    "from langchain.schema import Document\n",
    "from langchain_openai import OpenAIEmbeddings\n",
    "from langchain.chat_models import init_chat_model\n",
    "from langchain_community.document_loaders import TextLoader\n",
    "from langchain.vectorstores import FAISS\n",
    "from langchain.text_splitter import RecursiveCharacterTextSplitter\n",
    "from langgraph.graph import StateGraph, END\n",
    "from dotenv import load_dotenv"
   ]
  },
  {
   "cell_type": "code",
   "execution_count": 2,
   "id": "3c59f2b6",
   "metadata": {},
   "outputs": [
    {
     "data": {
      "text/plain": [
       "True"
      ]
     },
     "execution_count": 2,
     "metadata": {},
     "output_type": "execute_result"
    }
   ],
   "source": [
    "load_dotenv()"
   ]
  },
  {
   "cell_type": "code",
   "execution_count": null,
   "id": "442d32b7",
   "metadata": {},
   "outputs": [],
   "source": [
    "os.environ[\"OPENAI_API_KEY\"] = os.getenv(\"OPENAI_API_KEY\")"
   ]
  },
  {
   "cell_type": "code",
   "execution_count": null,
   "id": "1e6aa7e3",
   "metadata": {},
   "outputs": [],
   "source": [
    "embedding = OpenAIEmbeddings()\n",
    "llm = init_chat_model(\"openai:gpt-4o\")"
   ]
  },
  {
   "cell_type": "markdown",
   "id": "3d78d459",
   "metadata": {},
   "source": [
    "## Document Loading and Text Splitting"
   ]
  },
  {
   "cell_type": "code",
   "execution_count": 5,
   "id": "7112f9ad",
   "metadata": {},
   "outputs": [],
   "source": [
    "documents = TextLoader(\n",
    "    file_path=\"research_notes.txt\", encoding=\"utf-8\"\n",
    ").load()\n",
    "\n",
    "text_splitter = RecursiveCharacterTextSplitter(\n",
    "    chunk_size=500, chunk_overlap=50\n",
    ")\n",
    "\n",
    "chunks = text_splitter.split_documents(documents=documents)"
   ]
  },
  {
   "cell_type": "markdown",
   "id": "d880d076",
   "metadata": {},
   "source": [
    "## Create Vector Store Retriever"
   ]
  },
  {
   "cell_type": "code",
   "execution_count": 6,
   "id": "1cddd5d1",
   "metadata": {},
   "outputs": [],
   "source": [
    "vector_store = FAISS.from_documents(\n",
    "    documents=chunks,\n",
    "    embedding=embedding\n",
    ")\n",
    "\n",
    "retriever = vector_store.as_retriever()"
   ]
  },
  {
   "cell_type": "markdown",
   "id": "77f3860e",
   "metadata": {},
   "source": [
    "## LangGraph State Definition"
   ]
  },
  {
   "cell_type": "code",
   "execution_count": 7,
   "id": "7332ac48",
   "metadata": {},
   "outputs": [],
   "source": [
    "class RAGCotState(BaseModel):\n",
    "    question: str\n",
    "    sub_steps: List[str] = []\n",
    "    retrieved_documents: List[Document] = []\n",
    "    answer: str = \"\""
   ]
  },
  {
   "cell_type": "markdown",
   "id": "39b39149",
   "metadata": {},
   "source": [
    "## Nodes"
   ]
  },
  {
   "cell_type": "markdown",
   "id": "81494d64",
   "metadata": {},
   "source": [
    "### Plan Sub Questions"
   ]
  },
  {
   "cell_type": "code",
   "execution_count": 8,
   "id": "3a8f0552",
   "metadata": {},
   "outputs": [],
   "source": [
    "def plan_steps(state:RAGCotState) -> RAGCotState:\n",
    "    prompt = f\"Break the question into 2-3 reasoning steps: \\n\\n {state.question}\"\n",
    "    result = llm.invoke(input=prompt).content\n",
    "\n",
    "    sub_questions = [line.strip(\"-\") for line in result.split(\"\\n\") if line.strip]\n",
    "\n",
    "    return state.model_copy(update={\"sub_steps\":sub_questions})"
   ]
  },
  {
   "cell_type": "markdown",
   "id": "9bdf3db2",
   "metadata": {},
   "source": [
    "### Retrieve Each Step"
   ]
  },
  {
   "cell_type": "code",
   "execution_count": 9,
   "id": "7f2a5f8c",
   "metadata": {},
   "outputs": [],
   "source": [
    "def retrieve_per_step(state:RAGCotState) -> RAGCotState:\n",
    "    documents = []\n",
    "    for step in state.sub_steps:\n",
    "        document = retriever.invoke(input=step)\n",
    "        documents.extend(document)\n",
    "\n",
    "    return state.model_copy(update={\"retrieved_documents\": documents})"
   ]
  },
  {
   "cell_type": "markdown",
   "id": "fcc05198",
   "metadata": {},
   "source": [
    "### Generate Final Answer"
   ]
  },
  {
   "cell_type": "code",
   "execution_count": 16,
   "id": "cac8e64e",
   "metadata": {},
   "outputs": [],
   "source": [
    "def generate_answer(state:RAGCotState) -> RAGCotState:\n",
    "    context = \"\\n\\n\".join(document.page_content for document in state.retrieved_documents)\n",
    "    \n",
    "    prompt = f\"\"\" \n",
    "    You are answering a complex question using reasoning and retrieved documents.\n",
    "\n",
    "    Question: {state.question}\n",
    "\n",
    "    Relevant Information:\n",
    "    {context}\n",
    "\n",
    "    Now synthesize a well-reasoned final answer.\n",
    "    \"\"\"\n",
    "    \n",
    "    result = llm.invoke(input=prompt).content.strip()\n",
    "    return state.model_copy(update={\"answer\": result})"
   ]
  },
  {
   "cell_type": "markdown",
   "id": "28a2554a",
   "metadata": {},
   "source": [
    "## Create Graph"
   ]
  },
  {
   "cell_type": "code",
   "execution_count": 17,
   "id": "e7b1b7e6",
   "metadata": {},
   "outputs": [
    {
     "data": {
      "image/png": "[encoded data removed]",
      "text/plain": [
       "<langgraph.graph.state.CompiledStateGraph object at 0x0000028E2B115F10>"
      ]
     },
     "execution_count": 17,
     "metadata": {},
     "output_type": "execute_result"
    }
   ],
   "source": [
    "graph = StateGraph(RAGCotState)\n",
    "\n",
    "## Add Nodes\n",
    "graph.add_node(node=\"planner\", action=plan_steps)\n",
    "graph.add_node(node=\"retriever\", action=retrieve_per_step)\n",
    "graph.add_node(node=\"responder\", action=generate_answer)\n",
    "\n",
    "## Set Entry Point\n",
    "graph.set_entry_point(key=\"planner\")\n",
    "\n",
    "## Add Edges\n",
    "graph.add_edge(start_key=\"planner\", end_key=\"retriever\")\n",
    "graph.add_edge(start_key=\"retriever\", end_key=\"responder\")\n",
    "graph.add_edge(start_key=\"responder\", end_key=END)\n",
    "\n",
    "## Compile Graph\n",
    "compiled_graph = graph.compile()\n",
    "\n",
    "## Display Graph\n",
    "compiled_graph"
   ]
  },
  {
   "cell_type": "markdown",
   "id": "62a1db69",
   "metadata": {},
   "source": [
    "## Query"
   ]
  },
  {
   "cell_type": "code",
   "execution_count": 19,
   "id": "7742c700",
   "metadata": {},
   "outputs": [
    {
     "name": "stdout",
     "output_type": "stream",
     "text": [
      "\n",
      "🪜 Reasoning Steps: ['To evaluate Transformers more comprehensively, you can consider breaking the question into the following reasoning steps:', '', '1. **Identify Core Evaluation Metrics and Goals:**', '   - What are the primary objectives of evaluating a Transformer model? This typically includes understanding performance in terms of accuracy, efficiency, and generalization across different tasks.', '', '2. **Determine Additional Experimental Setups:**', '   - What additional experiments can provide deeper insights into Transformer capabilities? This could involve:', '     - **Ablation Studies:** Evaluating the impact of removing or altering different components of the model to understand their contributions.', \"     - **Hyperparameter Tuning:** Exploring different configurations to optimize performance and identify which parameters significantly impact the model's success.\", \"     - **Robustness Testing:** Assessing the model's ability to handle noise, adversarial attacks, or domain shifts to ensure its reliability in diverse scenarios.\", '', '3. **Explore Cross-Domain and Transfer Learning Evaluations:**', '   - How well does the Transformer model perform when applied to tasks or datasets different from the original training set? This includes:', \"     - **Cross-domain Evaluation:** Testing the model's adaptability to various types of data and tasks it wasn't explicitly trained on.\", '     - **Transfer Learning Performance:** Gauging its ability to leverage pre-trained knowledge to quickly adapt to new, related tasks with minimal additional training.', '', \"By following these steps, you gain a more well-rounded understanding of a Transformer model's strengths, weaknesses, and potential real-world applications.\"]\n",
      "\n",
      "✅ Final Answer:\n",
      " In the context of transformer evaluation, several additional experiments have been conducted to enhance and assess the performance, efficiency, and applicability of various models and techniques. Here's a synthesis of the main additional experiments:\n",
      "\n",
      "1. **FlashAttention2 Integration:**\n",
      "   - Integrated into LLaMA2 to significantly reduce context processing latency by approximately 50%. This improvement is critical for real-time applications where speed is crucial.\n",
      "\n",
      "2. **Chain-of-Thought Prompting:**\n",
      "   - This prompting technique has shown an 8% performance improvement over direct answer prompting in logic tasks. Reflective prompting further enhances accuracy by 3%. This approach supports the hypothesis that making models consider reasoning paths can lead to better problem-solving capabilities.\n",
      "\n",
      "3. **Tool-Augmented Prompting:**\n",
      "   - Involves the integration of LangGraph, Wikipedia, and SQL search to facilitate dynamic retrieval-agent reasoning. This experiment demonstrates the potential for enhancing model responses by leveraging external knowledge and databases, providing examples like extracting customer insights from SQL and validating them with Wikipedia.\n",
      "\n",
      "4. **Human Evaluation Protocol:**\n",
      "   - A dual evaluation approach involving internal annotators and GPT-4 as a synthetic evaluator to assess fluency, helpfulness, and correctness. This provides a comprehensive evaluation covering both human and AI perspectives on model performance.\n",
      "\n",
      "5. **Retrieval Experiments:**\n",
      "   - Investigated a hybrid dense + sparse retriever setup. The experiment compared Weaviate and FAISS with BM25 reranking, finding that while FAISS is more efficient, Weaviate offers slightly better recall due to its GraphQL integration, which is beneficial for filtering.\n",
      "\n",
      "6. **LoRA Tuning:**\n",
      "   - Adapter-based fine-tuning using LoRA is explored, offering a significant reduction of GPU memory footprint by 60%. This makes the tuning more compatible with resource-constrained environments and utilizes the PEFT library, suggesting broader applicability and efficiency.\n",
      "\n",
      "7. **Safety Experiments:**\n",
      "   - Includes toxicity detection via Detoxify, out-of-scope filtering using a zero-shot classifier, and adversarial prompt testing through red teaming, underscoring the importance of ensuring safe and reliable AI responses.\n",
      "\n",
      "8. **Reformer Training Challenges and Solutions:**\n",
      "   - Encountered issues like bucket collisions and inconsistent loss spikes. The solutions attempted included gradient clipping, the use of a warmup scheduler, and memory-efficient attention modules, indicating efforts to stabilize and optimize the training process.\n",
      "\n",
      "Overall, these additional experiments highlight a strong focus on reducing latency, improving reasoning through sophisticated prompting techniques, leveraging external tools for dynamic information retrieval, and ensuring robust model evaluations through both human and AI assessments. Additionally, emphasis on safety and efficient tuning reflects ongoing efforts to refine transformer performance and applicability across diverse and demanding use-cases.\n"
     ]
    }
   ],
   "source": [
    "query = \"what are the additional eperiments in Transformer eveluation?\"\n",
    "\n",
    "state = RAGCotState(question=query)\n",
    "final = compiled_graph.invoke(state)\n",
    "\n",
    "print(\"\\n🪜 Reasoning Steps:\", final[\"sub_steps\"])\n",
    "print(\"\\n✅ Final Answer:\\n\", final[\"answer\"])"
   ]
  },
  {
   "cell_type": "code",
   "execution_count": null,
   "id": "33dd11ee",
   "metadata": {},
   "outputs": [],
   "source": []
  }
 ],
 "metadata": {
  "kernelspec": {
   "display_name": ".venv",
   "language": "python",
   "name": "python3"
  },
  "language_info": {
   "codemirror_mode": {
    "name": "ipython",
    "version": 3
   },
   "file_extension": ".py",
   "mimetype": "text/x-python",
   "name": "python",
   "nbconvert_exporter": "python",
   "pygments_lexer": "ipython3",
   "version": "3.12.7"
  }
 },
 "nbformat": 4,
 "nbformat_minor": 5
}
