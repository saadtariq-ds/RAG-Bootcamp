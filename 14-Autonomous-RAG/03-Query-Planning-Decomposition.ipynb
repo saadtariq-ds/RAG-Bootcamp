{
 "cells": [
  {
   "cell_type": "markdown",
   "id": "7d969b27",
   "metadata": {},
   "source": [
    "# 🧠 What is Query Planning and Decomposition?\n",
    "Query Planning and Decomposition is a technique where a complex user query is broken down into simpler sub-questions or tasks, allowing a system (like a RAG agent) to:\n",
    "\n",
    "- Understand the question more deeply\n",
    "- Retrieve more precise and complete information\n",
    "- Execute step-by-step reasoning\n",
    "\n",
    "It's like reverse-engineering a question into manageable steps before answering.\n",
    "\n",
    "🧠 What's New in This Version?\n",
    "- ✅ Add a Query Planner Node\n",
    "- ✅ Break complex user queries into sub-questions\n",
    "- ✅ Retrieve docs per sub-question\n",
    "- ✅ Combine all retrieved contexts\n",
    "- ✅ Generate a final consolidated answer"
   ]
  },
  {
   "cell_type": "markdown",
   "id": "684c8c3a",
   "metadata": {},
   "source": [
    "## Setup and Import Libraries"
   ]
  },
  {
   "cell_type": "code",
   "execution_count": 1,
   "id": "89baff92",
   "metadata": {},
   "outputs": [
    {
     "name": "stderr",
     "output_type": "stream",
     "text": [
      "USER_AGENT environment variable not set, consider setting it to identify your requests.\n"
     ]
    }
   ],
   "source": [
    "import os\n",
    "from typing import List\n",
    "from pydantic import BaseModel\n",
    "from langchain.chat_models import init_chat_model\n",
    "from langchain_openai import OpenAIEmbeddings\n",
    "from langchain.schema import Document\n",
    "from langchain.text_splitter import RecursiveCharacterTextSplitter\n",
    "from langchain.vectorstores import FAISS\n",
    "from langchain_community.document_loaders import TextLoader,WebBaseLoader\n",
    "from langgraph.graph import StateGraph, END\n",
    "from dotenv import load_dotenv"
   ]
  },
  {
   "cell_type": "code",
   "execution_count": 2,
   "id": "f979d021",
   "metadata": {},
   "outputs": [
    {
     "data": {
      "text/plain": [
       "True"
      ]
     },
     "execution_count": 2,
     "metadata": {},
     "output_type": "execute_result"
    }
   ],
   "source": [
    "load_dotenv()"
   ]
  },
  {
   "cell_type": "code",
   "execution_count": 3,
   "id": "26e80314",
   "metadata": {},
   "outputs": [],
   "source": [
    "os.environ[\"OPENAI_API_KEY\"] = os.getenv(\"OPENAI_API_KEY\")"
   ]
  },
  {
   "cell_type": "code",
   "execution_count": 4,
   "id": "c3e6c1bc",
   "metadata": {},
   "outputs": [],
   "source": [
    "embeddings = OpenAIEmbeddings()\n",
    "llm = init_chat_model(\"openai:gpt-4o\")"
   ]
  },
  {
   "cell_type": "markdown",
   "id": "a5c60c4c",
   "metadata": {},
   "source": [
    "## Document Loading and Creating Vector Database"
   ]
  },
  {
   "cell_type": "code",
   "execution_count": 5,
   "id": "9e1040ca",
   "metadata": {},
   "outputs": [],
   "source": [
    "urls = [\n",
    "    \"https://lilianweng.github.io/posts/2023-06-23-agent/\",\n",
    "    \"https://lilianweng.github.io/posts/2024-04-12-diffusion-video/\"\n",
    "]\n",
    "\n",
    "documents = []\n",
    "for url in urls:\n",
    "    documents.extend(WebBaseLoader(url).load())"
   ]
  },
  {
   "cell_type": "code",
   "execution_count": null,
   "id": "3a1c4eba",
   "metadata": {},
   "outputs": [],
   "source": [
    "text_splitter = RecursiveCharacterTextSplitter(\n",
    "    chunk_size=500, chunk_overlap=50\n",
    ")\n",
    "\n",
    "chunks = text_splitter.split_documents(documents=documents)"
   ]
  },
  {
   "cell_type": "code",
   "execution_count": 7,
   "id": "6ebbfbbc",
   "metadata": {},
   "outputs": [],
   "source": [
    "vector_store = FAISS.from_documents(\n",
    "    documents=chunks, embedding=embeddings)\n",
    "\n",
    "retriever = vector_store.as_retriever()"
   ]
  },
  {
   "cell_type": "markdown",
   "id": "a1509a7f",
   "metadata": {},
   "source": [
    "## State Schema"
   ]
  },
  {
   "cell_type": "code",
   "execution_count": 10,
   "id": "9d618d51",
   "metadata": {},
   "outputs": [],
   "source": [
    "class RAGState(BaseModel):\n",
    "    question: str\n",
    "    sub_questions: List[str] = []\n",
    "    retrieved_documents: List[Document] = []\n",
    "    answer: str = \"\""
   ]
  },
  {
   "cell_type": "markdown",
   "id": "933fc288",
   "metadata": {},
   "source": [
    "## Nodes"
   ]
  },
  {
   "cell_type": "markdown",
   "id": "62342e5c",
   "metadata": {},
   "source": [
    "### Query Planner: splits input question"
   ]
  },
  {
   "cell_type": "code",
   "execution_count": 11,
   "id": "1f5145aa",
   "metadata": {},
   "outputs": [],
   "source": [
    "def plan_query(state: RAGState) -> RAGState:\n",
    "   \n",
    "    prompt = f\"\"\"\n",
    "    Break the following complex question into 2-3 sub-questions:\n",
    "\n",
    "    Question: {state.question}\n",
    "\n",
    "    Sub-questions:\n",
    "    \"\"\"\n",
    "\n",
    "    result = llm.invoke(prompt)\n",
    "    sub_questions = [line.strip(\"- \").strip() for line in result.content.strip().split(\"\\n\") if line.strip()]\n",
    "    \n",
    "    return RAGState(question=state.question, sub_questions=sub_questions)"
   ]
  },
  {
   "cell_type": "markdown",
   "id": "74885853",
   "metadata": {},
   "source": [
    "### Retrieve documents for each sub-question"
   ]
  },
  {
   "cell_type": "code",
   "execution_count": 12,
   "id": "7e52f919",
   "metadata": {},
   "outputs": [],
   "source": [
    "def retrieve_for_each(state: RAGState) -> RAGState:\n",
    "    documents = []\n",
    "    for sub in state.sub_questions:\n",
    "        document = retriever.invoke(sub)\n",
    "        documents.extend(document)\n",
    "        \n",
    "    return RAGState(question=state.question, sub_questions=state.sub_questions, retrieved_documents=documents)"
   ]
  },
  {
   "cell_type": "markdown",
   "id": "81471d97",
   "metadata": {},
   "source": [
    "### Generate final answer"
   ]
  },
  {
   "cell_type": "code",
   "execution_count": 13,
   "id": "0f28fce8",
   "metadata": {},
   "outputs": [],
   "source": [
    "def generate_final_answer(state: RAGState) -> RAGState:\n",
    "    context = \"\\n\\n\".join([document.page_content for document in state.retrieved_documents])\n",
    "\n",
    "    prompt = f\"\"\"\n",
    "    Use the context below to answer the question.\n",
    "\n",
    "    Context:\n",
    "    {context}\n",
    "\n",
    "    Question: {state.question}\n",
    "    \"\"\"\n",
    "    \n",
    "    answer = llm.invoke(prompt).content\n",
    "\n",
    "    return RAGState(question=state.question, sub_questions=state.sub_questions, retrieved_docs=state.retrieved_documents, answer=answer)"
   ]
  },
  {
   "cell_type": "markdown",
   "id": "8e5cdc5e",
   "metadata": {},
   "source": [
    "## Build Graph"
   ]
  },
  {
   "cell_type": "code",
   "execution_count": 14,
   "id": "1c04b639",
   "metadata": {},
   "outputs": [
    {
     "data": {
      "image/png": "[encoded data removed]",
      "text/plain": [
       "<langgraph.graph.state.CompiledStateGraph object at 0x00000164931951C0>"
      ]
     },
     "execution_count": 14,
     "metadata": {},
     "output_type": "execute_result"
    }
   ],
   "source": [
    "builder = StateGraph(RAGState)\n",
    "\n",
    "# Add Nodes\n",
    "builder.add_node(node=\"planner\", action=plan_query)\n",
    "builder.add_node(node=\"retriever\", action=retrieve_for_each)\n",
    "builder.add_node(node=\"responder\", action=generate_final_answer)\n",
    "\n",
    "# Set Entry Point\n",
    "builder.set_entry_point(key=\"planner\")\n",
    "\n",
    "# Add Edges\n",
    "builder.add_edge(start_key=\"planner\", end_key=\"retriever\")\n",
    "builder.add_edge(start_key=\"retriever\", end_key=\"responder\")\n",
    "builder.add_edge(start_key=\"responder\", end_key=END)\n",
    "\n",
    "# Compile Graph\n",
    "graph = builder.compile()\n",
    "\n",
    "# Display\n",
    "graph"
   ]
  },
  {
   "cell_type": "code",
   "execution_count": 15,
   "id": "66e8b397",
   "metadata": {},
   "outputs": [
    {
     "name": "stdout",
     "output_type": "stream",
     "text": [
      "{'question': 'Explain how agent loops work and what are the challenges in diffusion video generation?', 'sub_questions': ['1. How do agent loops function, and what are their key components and mechanisms in general?', '2. What is the process of diffusion video generation, and how are agent loops utilized in this context?', '3. What specific challenges are encountered in the diffusion video generation process, particularly in relation to agent loops?'], 'retrieved_documents': [], 'answer': '**Agent Loops:**\\n\\nAgent loops refer to the processes that combine large language models (LLMs) with memory, planning, and reflection mechanisms. These loops allow agents to perform tasks based on past experiences and interactions with other agents. For LLM-centered agents, agent loops typically involve:\\n\\n1. **Task Decomposition**: Breaking down a complex task into smaller, manageable steps that an agent can execute sequentially or in parallel.\\n2. **Memory Integration**: Using past interactions and experiences to inform current decision-making, enabling the agent to adapt and improve over time.\\n3. **Planning**: Anticipating future steps and potential challenges, which involves creating a strategy for completing tasks effectively.\\n4. **Reflection**: Assessing the outcomes of actions to refine approaches and improve future performance.\\n\\n**Challenges in Diffusion Video Generation:**\\n\\nDiffusion video generation is an advanced task that extends beyond simple image generation. Here are some of the challenges:\\n\\n1. **Multiple Steps of Upsampling**: Video generation requires the diffusion model to run multiple steps of upsampling. This is necessary to extend video length or increase frame rates, which entails generating additional frames that maintain the coherence and quality of the original sequence.\\n\\n2. **Conditional Sampling**: The process requires the capability of sampling new video segments conditioned on existing ones. For instance, generating a second video $\\\\mathbf{x}^b$ conditioned on the first video $\\\\mathbf{x}^a$, ensuring that $\\\\mathbf{x}^b$ fits seamlessly into the overall sequence without noticeable artifacts.\\n\\n3. **Autoregressive Extension**: In scenarios where continuation of a video is needed, the model must generate frames that logically extend the existing video, posing a challenge to maintain temporal consistency and narrative flow.\\n\\n4. **Filling Missing Frames**: When dealing with videos at low frame rates, it becomes necessary to generate intermediate frames to produce a smooth playback experience. This involves creating interpolated frames that align well with existing footage.\\n\\n5. **Progressive Distillation for Efficient Sampling**: Techniques like progressive distillation are employed to reduce the computational load, speeding up the sampling process to make it feasible and efficient, while ensuring there’s no perceptual quality loss.\\n\\nThese challenges make diffusion model-based video generation a complex but promising field worth exploring, pushing the boundaries of what generative models can achieve.'}\n",
      "\n",
      "🔍 Sub-questions:\n",
      "- 1. How do agent loops function, and what are their key components and mechanisms in general?\n",
      "- 2. What is the process of diffusion video generation, and how are agent loops utilized in this context?\n",
      "- 3. What specific challenges are encountered in the diffusion video generation process, particularly in relation to agent loops?\n",
      "\n",
      "✅ Final Answer:\n",
      " **Agent Loops:**\n",
      "\n",
      "Agent loops refer to the processes that combine large language models (LLMs) with memory, planning, and reflection mechanisms. These loops allow agents to perform tasks based on past experiences and interactions with other agents. For LLM-centered agents, agent loops typically involve:\n",
      "\n",
      "1. **Task Decomposition**: Breaking down a complex task into smaller, manageable steps that an agent can execute sequentially or in parallel.\n",
      "2. **Memory Integration**: Using past interactions and experiences to inform current decision-making, enabling the agent to adapt and improve over time.\n",
      "3. **Planning**: Anticipating future steps and potential challenges, which involves creating a strategy for completing tasks effectively.\n",
      "4. **Reflection**: Assessing the outcomes of actions to refine approaches and improve future performance.\n",
      "\n",
      "**Challenges in Diffusion Video Generation:**\n",
      "\n",
      "Diffusion video generation is an advanced task that extends beyond simple image generation. Here are some of the challenges:\n",
      "\n",
      "1. **Multiple Steps of Upsampling**: Video generation requires the diffusion model to run multiple steps of upsampling. This is necessary to extend video length or increase frame rates, which entails generating additional frames that maintain the coherence and quality of the original sequence.\n",
      "\n",
      "2. **Conditional Sampling**: The process requires the capability of sampling new video segments conditioned on existing ones. For instance, generating a second video $\\mathbf{x}^b$ conditioned on the first video $\\mathbf{x}^a$, ensuring that $\\mathbf{x}^b$ fits seamlessly into the overall sequence without noticeable artifacts.\n",
      "\n",
      "3. **Autoregressive Extension**: In scenarios where continuation of a video is needed, the model must generate frames that logically extend the existing video, posing a challenge to maintain temporal consistency and narrative flow.\n",
      "\n",
      "4. **Filling Missing Frames**: When dealing with videos at low frame rates, it becomes necessary to generate intermediate frames to produce a smooth playback experience. This involves creating interpolated frames that align well with existing footage.\n",
      "\n",
      "5. **Progressive Distillation for Efficient Sampling**: Techniques like progressive distillation are employed to reduce the computational load, speeding up the sampling process to make it feasible and efficient, while ensuring there’s no perceptual quality loss.\n",
      "\n",
      "These challenges make diffusion model-based video generation a complex but promising field worth exploring, pushing the boundaries of what generative models can achieve.\n"
     ]
    }
   ],
   "source": [
    "user_query = \"Explain how agent loops work and what are the challenges in diffusion video generation?\"\n",
    "\n",
    "initial_state = RAGState(question=user_query)\n",
    "final_state = graph.invoke(input=initial_state)\n",
    "print(final_state)\n",
    "\n",
    "print(\"\\n🔍 Sub-questions:\")\n",
    "for q in final_state['sub_questions']:\n",
    "    print(\"-\", q)\n",
    "\n",
    "print(\"\\n✅ Final Answer:\\n\", final_state['answer'])"
   ]
  },
  {
   "cell_type": "code",
   "execution_count": null,
   "id": "5cdbfbc8",
   "metadata": {},
   "outputs": [],
   "source": []
  }
 ],
 "metadata": {
  "kernelspec": {
   "display_name": "RAG-Bootcamp",
   "language": "python",
   "name": "python3"
  },
  "language_info": {
   "codemirror_mode": {
    "name": "ipython",
    "version": 3
   },
   "file_extension": ".py",
   "mimetype": "text/x-python",
   "name": "python",
   "nbconvert_exporter": "python",
   "pygments_lexer": "ipython3",
   "version": "3.12.7"
  }
 },
 "nbformat": 4,
 "nbformat_minor": 5
}
