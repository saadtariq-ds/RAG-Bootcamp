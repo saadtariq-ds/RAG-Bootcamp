{
 "cells": [
  {
   "cell_type": "markdown",
   "id": "d90f0697",
   "metadata": {},
   "source": [
    "# 🧠 What is Self-Reflection in RAG?\n",
    "Self-reflection = LLM evaluates its own output:\n",
    "“Is this clear, complete, and accurate?”\n",
    "\n",
    "## Self-Reflection in RAG using LangGraph, we’ll design a workflow where the agent:\n",
    "\n",
    "1. Generates an initial answer using retrieved context\n",
    "2. Reflects on that answer with a dedicated self-critic LLM step\n",
    "3. If unsatisfied, it can revise the query, retrieve again, or regenerate the answer"
   ]
  },
  {
   "cell_type": "markdown",
   "id": "e4db9832",
   "metadata": {},
   "source": [
    "## Setup and Import Libraries"
   ]
  },
  {
   "cell_type": "code",
   "execution_count": 1,
   "id": "62df7874",
   "metadata": {},
   "outputs": [],
   "source": [
    "import os\n",
    "from typing import List\n",
    "from pydantic import BaseModel\n",
    "from langchain.chat_models import init_chat_model\n",
    "from langchain_openai import OpenAIEmbeddings\n",
    "from langchain.schema import Document\n",
    "from langchain.text_splitter import RecursiveCharacterTextSplitter\n",
    "from langchain.vectorstores import FAISS\n",
    "from langchain_community.document_loaders import TextLoader\n",
    "from langgraph.graph import StateGraph, END\n",
    "from dotenv import load_dotenv"
   ]
  },
  {
   "cell_type": "code",
   "execution_count": 2,
   "id": "26ffd4fa",
   "metadata": {},
   "outputs": [
    {
     "data": {
      "text/plain": [
       "True"
      ]
     },
     "execution_count": 2,
     "metadata": {},
     "output_type": "execute_result"
    }
   ],
   "source": [
    "load_dotenv()"
   ]
  },
  {
   "cell_type": "code",
   "execution_count": 3,
   "id": "c109ea51",
   "metadata": {},
   "outputs": [],
   "source": [
    "os.environ[\"OPENAI_API_KEY\"] = os.getenv(\"OPENAI_API_KEY\")"
   ]
  },
  {
   "cell_type": "code",
   "execution_count": 4,
   "id": "c0052a92",
   "metadata": {},
   "outputs": [],
   "source": [
    "embedding = OpenAIEmbeddings()\n",
    "llm = init_chat_model(\"openai:gpt-4o\")"
   ]
  },
  {
   "cell_type": "markdown",
   "id": "591d788d",
   "metadata": {},
   "source": [
    "## Document Loading and Create Vector Database"
   ]
  },
  {
   "cell_type": "code",
   "execution_count": 5,
   "id": "aa58d73b",
   "metadata": {},
   "outputs": [],
   "source": [
    "documents = TextLoader(file_path=\"internal_docs.txt\").load()\n",
    "\n",
    "chunks = RecursiveCharacterTextSplitter(\n",
    "    chunk_size=500, chunk_overlap=50\n",
    ").split_documents(documents=documents)"
   ]
  },
  {
   "cell_type": "code",
   "execution_count": 6,
   "id": "48d906b4",
   "metadata": {},
   "outputs": [],
   "source": [
    "vector_store = FAISS.from_documents(\n",
    "    documents=chunks, embedding=embedding\n",
    ")\n",
    "\n",
    "retriever = vector_store.as_retriever()"
   ]
  },
  {
   "cell_type": "markdown",
   "id": "b2b99183",
   "metadata": {},
   "source": [
    "## State Definition"
   ]
  },
  {
   "cell_type": "code",
   "execution_count": 7,
   "id": "ed3fd135",
   "metadata": {},
   "outputs": [],
   "source": [
    "class RAGReflectionState(BaseModel):\n",
    "    question: str\n",
    "    retrieved_document: List[Document] = []\n",
    "    answer: str = \"\"\n",
    "    reflection: str = \"\"\n",
    "    revised: bool = False\n",
    "    attempts: int = 0"
   ]
  },
  {
   "cell_type": "markdown",
   "id": "33d26756",
   "metadata": {},
   "source": [
    "## Nodes"
   ]
  },
  {
   "cell_type": "markdown",
   "id": "73e3c269",
   "metadata": {},
   "source": [
    "### Retrieve"
   ]
  },
  {
   "cell_type": "code",
   "execution_count": 8,
   "id": "852166ba",
   "metadata": {},
   "outputs": [],
   "source": [
    "def retrieve_documents(state: RAGReflectionState)-> RAGReflectionState:\n",
    "    documents = retriever.invoke(state.question)\n",
    "    return state.model_copy(update={\"retrieved_document\": documents})"
   ]
  },
  {
   "cell_type": "markdown",
   "id": "c51ab0af",
   "metadata": {},
   "source": [
    "### Generate Answer"
   ]
  },
  {
   "cell_type": "code",
   "execution_count": 9,
   "id": "19c9e97a",
   "metadata": {},
   "outputs": [],
   "source": [
    "def generate_answer(state: RAGReflectionState)-> RAGReflectionState:\n",
    "    context = \"\\n\\n\".join([doc.page_content for doc in state.retrieved_document])\n",
    "    prompt = f\"\"\"\n",
    "    Use the following context to answer the question:\n",
    "\n",
    "    Context:\n",
    "    {context}\n",
    "\n",
    "    Question:\n",
    "    {state.question}\n",
    "    \"\"\"\n",
    "    \n",
    "    answer = llm.invoke(input=prompt).content.strip()\n",
    "    return state.model_copy(update={\"answer\": answer, \"attempts\" : state.attempts + 1})"
   ]
  },
  {
   "cell_type": "markdown",
   "id": "e7576f7a",
   "metadata": {},
   "source": [
    "### Self-Reflect"
   ]
  },
  {
   "cell_type": "code",
   "execution_count": 10,
   "id": "299a15e5",
   "metadata": {},
   "outputs": [],
   "source": [
    "def reflect_on_answer(state: RAGReflectionState) -> RAGReflectionState:\n",
    "    prompt = f\"\"\"\n",
    "    Reflect on the following answer to see if it fully addresses the question. \n",
    "    State YES if it is complete and correct, or NO with an explanation.\n",
    "\n",
    "    Question: {state.question}\n",
    "\n",
    "    Answer: {state.answer}\n",
    "\n",
    "    Respond like:\n",
    "    Reflection: YES or NO\n",
    "    Explanation: ...\n",
    "    \"\"\"\n",
    "\n",
    "    result = llm.invoke(input=prompt).content\n",
    "    is_ok = \"reflection: yes\" in result.lower()\n",
    "    return state.model_copy(update={\"reflection\": result, \"revised\": not is_ok})\n"
   ]
  },
  {
   "cell_type": "markdown",
   "id": "9b40b6a6",
   "metadata": {},
   "source": [
    "### Final Answer"
   ]
  },
  {
   "cell_type": "code",
   "execution_count": 11,
   "id": "631a9314",
   "metadata": {},
   "outputs": [],
   "source": [
    "def finalize(state: RAGReflectionState)-> RAGReflectionState:\n",
    "    return state"
   ]
  },
  {
   "cell_type": "markdown",
   "id": "49fa3568",
   "metadata": {},
   "source": [
    "## LangGraph Workflow"
   ]
  },
  {
   "cell_type": "code",
   "execution_count": 12,
   "id": "c724ce5f",
   "metadata": {},
   "outputs": [
    {
     "data": {
      "image/png": "[encoded data removed]",
      "text/plain": [
       "<langgraph.graph.state.CompiledStateGraph object at 0x000001905C678D10>"
      ]
     },
     "execution_count": 12,
     "metadata": {},
     "output_type": "execute_result"
    }
   ],
   "source": [
    "builder = StateGraph(RAGReflectionState)\n",
    "\n",
    "## Add Nodes\n",
    "builder.add_node(node=\"retriever\", action=retrieve_documents)\n",
    "builder.add_node(node=\"responder\", action=generate_answer)\n",
    "builder.add_node(node=\"reflector\", action=reflect_on_answer)\n",
    "builder.add_node(node=\"done\", action=finalize)\n",
    "\n",
    "## Set Entry Point\n",
    "builder.set_entry_point(key=\"retriever\")\n",
    "\n",
    "## Add Edges\n",
    "builder.add_edge(start_key=\"retriever\", end_key=\"responder\")\n",
    "builder.add_edge(start_key=\"responder\", end_key=\"reflector\")\n",
    "builder.add_conditional_edges(\n",
    "    source=\"reflector\",\n",
    "    path=lambda s: \"done\" if not s.revised or s.attempts >= 2 else \"retriever\"\n",
    ")\n",
    "\n",
    "builder.add_edge(start_key=\"done\", end_key=END)\n",
    "\n",
    "## Compile Graph\n",
    "graph = builder.compile()\n",
    "\n",
    "## Display Graph\n",
    "graph"
   ]
  },
  {
   "cell_type": "markdown",
   "id": "52cd0d35",
   "metadata": {},
   "source": [
    "## Query"
   ]
  },
  {
   "cell_type": "code",
   "execution_count": 13,
   "id": "d994dc7d",
   "metadata": {},
   "outputs": [
    {
     "name": "stdout",
     "output_type": "stream",
     "text": [
      "\n",
      "🧠 Final Answer:\n",
      " The transformer variants used in production deployments are:\n",
      "\n",
      "1. EfficientFormer\n",
      "2. Vision transformers (ViT and Swin Transformer)\n",
      "3. Speech transformers (Wav2Vec 2.0)\n",
      "4. Reformer\n",
      "\n",
      "🔁 Reflection Log:\n",
      " Reflection: NO  \n",
      "Explanation: While the answer lists some significant transformer variants used in production, it is not exhaustive and misses several other commonly deployed variants. Notably missing are BERT (and its derivatives like RoBERTa, DistilBERT), GPT (especially GPT-2 and GPT-3), T5, XLNet, and Longformer, which are widely used in natural language processing tasks. Additionally, other notable variants include transformers in different application domains like DETR for object detection and timeseries transformers. The answer should include a wider range of variants to fully address the question comprehensively.\n",
      "🔄 Total Attempts: 2\n"
     ]
    }
   ],
   "source": [
    "user_query = \"What are the transformer variants in production deployments?\"\n",
    "\n",
    "init_state = RAGReflectionState(question=user_query)\n",
    "result = graph.invoke(init_state)\n",
    "\n",
    "print(\"\\n🧠 Final Answer:\\n\", result[\"answer\"])\n",
    "print(\"\\n🔁 Reflection Log:\\n\", result[\"reflection\"])\n",
    "print(\"🔄 Total Attempts:\", result[\"attempts\"])"
   ]
  },
  {
   "cell_type": "code",
   "execution_count": null,
   "id": "6a289e79",
   "metadata": {},
   "outputs": [],
   "source": []
  }
 ],
 "metadata": {
  "kernelspec": {
   "display_name": ".venv",
   "language": "python",
   "name": "python3"
  },
  "language_info": {
   "codemirror_mode": {
    "name": "ipython",
    "version": 3
   },
   "file_extension": ".py",
   "mimetype": "text/x-python",
   "name": "python",
   "nbconvert_exporter": "python",
   "pygments_lexer": "ipython3",
   "version": "3.12.7"
  }
 },
 "nbformat": 4,
 "nbformat_minor": 5
}
