{
 "cells": [
  {
   "cell_type": "markdown",
   "id": "888b4009",
   "metadata": {},
   "source": [
    "# 🧠 Answer Synthesis from Multiple Sources\n",
    "✅ What Is It?\n",
    "\n",
    "Answer synthesis from multiple sources is the process where an AI agent collects information from different retrieval tools or knowledge bases, and merges that information into a single, coherent, and contextually rich answer.\n",
    "\n",
    "This is a core capability in Agentic RAG, where the system is more than just a simple retriever — it plans, retrieves, and then synthesizes an answer that draws from multiple sources.\n",
    "\n",
    "🎯 Why It’s Needed\n",
    "Most real-world queries are:\n",
    "- Multifaceted (require multiple types of information)\n",
    "- Ambiguous or incomplete (need refinement)\n",
    "- Open-ended (don’t map to a single document or source)\n",
    "\n",
    "🔍 This makes retrieving from a single vector DB insufficient.\n",
    "\n",
    "Instead, we want an agent that can:\n",
    "\n",
    "- Decide what to fetch from where (retrieval planning)\n",
    "- Retrieve content from multiple tools (e.g., Wikipedia, PDFs, APIs, SQL)\n",
    "- Evaluate and merge that context\n",
    "- Produce a single human-like response\n",
    "\n"
   ]
  },
  {
   "cell_type": "markdown",
   "id": "cb35f518",
   "metadata": {},
   "source": [
    "## Setup and Import Libraries"
   ]
  },
  {
   "cell_type": "code",
   "execution_count": 1,
   "id": "45c02900",
   "metadata": {},
   "outputs": [],
   "source": [
    "import os\n",
    "from typing import List\n",
    "from pydantic import BaseModel\n",
    "from langchain.chat_models import init_chat_model\n",
    "from langchain_openai import OpenAIEmbeddings\n",
    "from langchain.schema import Document\n",
    "from langchain.vectorstores import FAISS\n",
    "from langchain_community.document_loaders import TextLoader, ArxivLoader, WikipediaLoader\n",
    "from langchain_community.document_loaders.youtube import YoutubeLoader\n",
    "from langchain.text_splitter import RecursiveCharacterTextSplitter\n",
    "from langchain_community.tools import ArxivQueryRun, WikipediaQueryRun\n",
    "from langchain_community.utilities import WikipediaAPIWrapper, ArxivAPIWrapper\n",
    "from langgraph.graph import StateGraph, END\n",
    "from dotenv import load_dotenv"
   ]
  },
  {
   "cell_type": "code",
   "execution_count": 2,
   "id": "9a0f7da4",
   "metadata": {},
   "outputs": [
    {
     "data": {
      "text/plain": [
       "True"
      ]
     },
     "execution_count": 2,
     "metadata": {},
     "output_type": "execute_result"
    }
   ],
   "source": [
    "load_dotenv()"
   ]
  },
  {
   "cell_type": "code",
   "execution_count": 3,
   "id": "4f301d9a",
   "metadata": {},
   "outputs": [],
   "source": [
    "os.environ[\"OPENAI_API_KEY\"] = os.getenv(\"OPENAI_API_KEY\")"
   ]
  },
  {
   "cell_type": "code",
   "execution_count": 4,
   "id": "5168f8aa",
   "metadata": {},
   "outputs": [],
   "source": [
    "embeddings = OpenAIEmbeddings()\n",
    "llm = init_chat_model(\"openai:gpt-4o-mini\")"
   ]
  },
  {
   "cell_type": "markdown",
   "id": "ef6ca2cc",
   "metadata": {},
   "source": [
    "## Create Retrievers"
   ]
  },
  {
   "cell_type": "code",
   "execution_count": 5,
   "id": "208394c2",
   "metadata": {},
   "outputs": [],
   "source": [
    "def load_text_retriever(file_path):\n",
    "    documents = TextLoader(file_path, encoding=\"utf-8\").load()\n",
    "    text_splitter = RecursiveCharacterTextSplitter(chunk_size=500, chunk_overlap=50)\n",
    "    chunks = text_splitter.split_documents(documents=documents)\n",
    "    vector_store = FAISS.from_documents(documents=chunks, embedding=embeddings)\n",
    "    return vector_store.as_retriever()"
   ]
  },
  {
   "cell_type": "code",
   "execution_count": 6,
   "id": "60948464",
   "metadata": {},
   "outputs": [],
   "source": [
    "def load_youtube_retriever():\n",
    "    # Mocked YouTube transcript text\n",
    "    content = \"\"\"\n",
    "    This video explains how agentic AI systems rely on feedback loops, memory, and tool use.\n",
    "    It compares them to traditional pipeline-based LLMs. Temporal reasoning and autonomous tasking are emphasized.\n",
    "    \"\"\"\n",
    "    document = Document(page_content=content, metadata={\"source\": \"youtube\"})\n",
    "    vector_store = FAISS.from_documents(documents=[document], embedding=embeddings)\n",
    "    return vector_store.as_retriever()"
   ]
  },
  {
   "cell_type": "code",
   "execution_count": 7,
   "id": "20dd83e1",
   "metadata": {},
   "outputs": [],
   "source": [
    "def wikipedia_search(query: str) -> str:\n",
    "    print(\"🌐 Searching Wikipedia...\")\n",
    "    return WikipediaQueryRun(api_wrapper=WikipediaAPIWrapper())(query)"
   ]
  },
  {
   "cell_type": "code",
   "execution_count": null,
   "id": "4a73afe2",
   "metadata": {},
   "outputs": [],
   "source": [
    "def arxiv_search(query: str) -> str:\n",
    "    print(\"📄 Searching ArXiv...\")\n",
    "    arxiv_api_wrapper = ArxivAPIWrapper(\n",
    "        top_k_results=2, \n",
    "        doc_content_chars_max=500\n",
    "    )\n",
    "    return arxiv_api_wrapper.run(query=query)"
   ]
  },
  {
   "cell_type": "code",
   "execution_count": 9,
   "id": "4bd8bb69",
   "metadata": {},
   "outputs": [],
   "source": [
    "text_retriever = load_text_retriever(file_path=\"internal_docs.txt\")\n",
    "youtube_retriever = load_youtube_retriever()"
   ]
  },
  {
   "cell_type": "markdown",
   "id": "97c54318",
   "metadata": {},
   "source": [
    "## Create State"
   ]
  },
  {
   "cell_type": "code",
   "execution_count": 10,
   "id": "ea25fe05",
   "metadata": {},
   "outputs": [],
   "source": [
    "class MultiSourceRAGState(BaseModel):\n",
    "    question: str\n",
    "    text_documents: List[Document] = []\n",
    "    youtube_documents: List[Document] = []\n",
    "    wikipedia_context: str = \"\"\n",
    "    arxiv_context: str = \"\"\n",
    "    final_answer: str = \"\""
   ]
  },
  {
   "cell_type": "markdown",
   "id": "c98ed657",
   "metadata": {},
   "source": [
    "## Creating Nodes"
   ]
  },
  {
   "cell_type": "markdown",
   "id": "82b71594",
   "metadata": {},
   "source": [
    "### Retrieve Text Node"
   ]
  },
  {
   "cell_type": "code",
   "execution_count": 11,
   "id": "b9822099",
   "metadata": {},
   "outputs": [],
   "source": [
    "def retrieve_text(state: MultiSourceRAGState) -> MultiSourceRAGState:\n",
    "    documents = text_retriever.invoke(state.question)\n",
    "    return state.model_copy(update={\"text_documents\": documents})"
   ]
  },
  {
   "cell_type": "markdown",
   "id": "b32b99d6",
   "metadata": {},
   "source": [
    "### Retrieve Youtube Node"
   ]
  },
  {
   "cell_type": "code",
   "execution_count": 12,
   "id": "cf0b9b3b",
   "metadata": {},
   "outputs": [],
   "source": [
    "def retrieve_youtube(state: MultiSourceRAGState) -> MultiSourceRAGState:\n",
    "    documents = youtube_retriever.invoke(state.question)\n",
    "    return state.model_copy(update={\"youtube_documents\": documents})"
   ]
  },
  {
   "cell_type": "markdown",
   "id": "18a42cea",
   "metadata": {},
   "source": [
    "### Retrieve Wikipedia Node"
   ]
  },
  {
   "cell_type": "code",
   "execution_count": 13,
   "id": "a2352d8f",
   "metadata": {},
   "outputs": [],
   "source": [
    "def retrieve_wikipedia(state: MultiSourceRAGState) -> MultiSourceRAGState:\n",
    "    result = wikipedia_search(state.question)\n",
    "    return state.model_copy(update={\"wikipedia_context\": result})"
   ]
  },
  {
   "cell_type": "markdown",
   "id": "6f45eff4",
   "metadata": {},
   "source": [
    "### Retrieve Arxiv Node"
   ]
  },
  {
   "cell_type": "code",
   "execution_count": 14,
   "id": "c155041b",
   "metadata": {},
   "outputs": [],
   "source": [
    "def retrieve_arxiv(state: MultiSourceRAGState) -> MultiSourceRAGState:\n",
    "    result = arxiv_search(state.question)\n",
    "    return state.model_copy(update={\"arxiv_context\": result})"
   ]
  },
  {
   "cell_type": "markdown",
   "id": "0c2ede39",
   "metadata": {},
   "source": [
    "### Synthesize Answer Node"
   ]
  },
  {
   "cell_type": "code",
   "execution_count": 15,
   "id": "4c36a6eb",
   "metadata": {},
   "outputs": [],
   "source": [
    "def synthesize_answer(state: MultiSourceRAGState) -> MultiSourceRAGState:\n",
    "    \n",
    "    context = \"\"\n",
    "\n",
    "    context += \"\\n\\n[Internal Docs]\\n\" + \"\\n\".join([document.page_content for document in state.text_documents])\n",
    "    context += \"\\n\\n[YouTube Transcript]\\n\" + \"\\n\".join([document.page_content for document in state.youtube_documents])\n",
    "    context += \"\\n\\n[Wikipedia]\\n\" + state.wikipedia_context\n",
    "    context += \"\\n\\n[ArXiv]\\n\" + state.arxiv_context\n",
    "\n",
    "    prompt = f\"\"\"\n",
    "    You have retrieved relevant context from multiple sources. Now synthesize a complete and coherent answer.\n",
    "\n",
    "    Question: {state.question}\n",
    "\n",
    "    Context:\n",
    "    {context}\n",
    "\n",
    "    Final Answer:\n",
    "    \"\"\"\n",
    "\n",
    "    answer = llm.invoke(prompt).content.strip()\n",
    "    \n",
    "    return state.model_copy(update={\"final_answer\": answer})"
   ]
  },
  {
   "cell_type": "markdown",
   "id": "34a814fb",
   "metadata": {},
   "source": [
    "## Graph Builder"
   ]
  },
  {
   "cell_type": "code",
   "execution_count": 16,
   "id": "6c2f8aaa",
   "metadata": {},
   "outputs": [
    {
     "data": {
      "image/png": "[encoded data removed]",
      "text/plain": [
       "<langgraph.graph.state.CompiledStateGraph object at 0x000001FD8871DE20>"
      ]
     },
     "execution_count": 16,
     "metadata": {},
     "output_type": "execute_result"
    }
   ],
   "source": [
    "builder = StateGraph(MultiSourceRAGState)\n",
    "\n",
    "# Add Nodes\n",
    "builder.add_node(node=\"retrieve_text\", action=retrieve_text)\n",
    "builder.add_node(node=\"retrieve_youtube\", action=retrieve_youtube)\n",
    "builder.add_node(node=\"retrieve_wikipedia\", action=retrieve_wikipedia)\n",
    "builder.add_node(node=\"retrieve_arxiv\", action=retrieve_arxiv)\n",
    "builder.add_node(node=\"synthesize\", action=synthesize_answer)\n",
    "\n",
    "# Set Entry Point\n",
    "builder.set_entry_point(key=\"retrieve_text\")\n",
    "\n",
    "# Add Edges\n",
    "builder.add_edge(start_key=\"retrieve_text\", end_key=\"retrieve_youtube\")\n",
    "builder.add_edge(start_key=\"retrieve_youtube\", end_key=\"retrieve_wikipedia\")\n",
    "builder.add_edge(start_key=\"retrieve_wikipedia\", end_key=\"retrieve_arxiv\")\n",
    "builder.add_edge(start_key=\"retrieve_arxiv\", end_key=\"synthesize\")\n",
    "builder.add_edge(start_key=\"synthesize\", end_key=END)\n",
    "\n",
    "# Compile Graph\n",
    "graph = builder.compile()\n",
    "\n",
    "# Display Graph\n",
    "graph"
   ]
  },
  {
   "cell_type": "markdown",
   "id": "66aa394a",
   "metadata": {},
   "source": [
    "## Query"
   ]
  },
  {
   "cell_type": "code",
   "execution_count": 18,
   "id": "c2c2d48c",
   "metadata": {},
   "outputs": [
    {
     "name": "stdout",
     "output_type": "stream",
     "text": [
      "🌐 Searching Wikipedia...\n",
      "📄 Searching ArXiv...\n",
      "✅ Final Answer:\n",
      "\n",
      "Transformer agents represent a significant evolution in the field of artificial intelligence, particularly as they showcase the integration of feedback loops, memory, and autonomous tasking capabilities. These agents are essentially advanced AI systems built upon the foundational architecture of transformers, which excel in tasks ranging from natural language processing to image and audio generation.\n",
      "\n",
      "Recent research has led to substantial advancements and variants of the traditional transformer frameworks. One notable branch is vision transformers (ViT and Swin Transformers), which have been applied effectively in manufacturing quality control tasks. Similarly, speech transformers like Wav2Vec 2.0 are being benchmarked for voice assistant integrations, demonstrating the versatility of transformer models across different data types.\n",
      "\n",
      "Optimization techniques have also emerged to enhance the efficiency and functionality of transformers. For instance, the Reformer model focuses on memory efficiency, particularly on embedded devices, achieving a remarkable 60% reduction in memory usage through locality-sensitive hashing (LSH) attention. However, this has opened up challenges with standard transformers, especially with issues like bucket collisions. Addressing these challenges may involve ongoing investigations into training stability and sophisticated gradient clipping strategies.\n",
      "\n",
      "Moreover, lightweight variants such as EfficientFormer and TinyBERT have been optimized for mobile and edge environments. EfficientFormer, for instance, boasts rapid inference times and has been integrated into various mobile applications, while TinyBERT has shown particular effectiveness in classification tasks, such as those needed for internal email triage systems.\n",
      "\n",
      "In the context of generative models, the evolution of agents has also led to more sophisticated implementations. Models like LLAMA2, which integrates domain-specific knowledge into its generative capabilities, and advancements like FlashAttention and Rotary Positional Encoding are set to enhance performance further.\n",
      "\n",
      "Overall, the evolution of transformer agents signifies a growing trend toward creating AI systems that not only perform predefined tasks but also learn, adapt, and improve over time. This transition towards more agentic AI systems, which can leverage temporal reasoning and tool use, moves beyond static responses and into the realm of dynamic, intelligent behavior, reshaping how we interact with AI in various applications, from chatbots to autonomous systems. As transformers continue to evolve, their impact on AI capabilities is likely to increase, driving further research and applications across multiple domains.\n"
     ]
    }
   ],
   "source": [
    "question = \"What are transformer agents and how are they evolving in recent research?\"\n",
    "\n",
    "state = MultiSourceRAGState(question=question)\n",
    "result = graph.invoke(state)\n",
    "\n",
    "print(\"✅ Final Answer:\\n\")\n",
    "print(result[\"final_answer\"])"
   ]
  },
  {
   "cell_type": "code",
   "execution_count": 19,
   "id": "640c923f",
   "metadata": {},
   "outputs": [
    {
     "data": {
      "text/plain": [
       "{'question': 'What are transformer agents and how are they evolving in recent research?',\n",
       " 'text_documents': [Document(id='0ea1fb83-6dde-4290-8b22-12aef431cfe5', metadata={'source': 'internal_docs.txt'}, page_content='Additional Notes:\\n    - Vision transformers (ViT and Swin Transformer) evaluated in manufacturing QC tasks.\\n    - Speech transformers (Wav2Vec 2.0) benchmarked for voice assistant integrations.\\n    - Tokenizers: SentencePiece, BPE, and unigram tokenizers compared for multilingual tasks.\\n    - Significant improvements noted with FlashAttention and Rotary Positional Encoding.'),\n",
       "  Document(id='1e9e1b1b-3333-4c99-8403-ab8b071994f0', metadata={'source': 'internal_docs.txt'}, page_content='3. Reformer:\\n    - Tested for memory efficiency on embedded devices.\\n    - LSH attention led to 60% memory reduction.\\n    - Integration challenges with standard transformers due to bucket collisions.\\n    - Ongoing investigation for training stability and gradient clipping strategies.'),\n",
       "  Document(id='939a3081-088a-461b-85cf-bb7c4a682b4f', metadata={'source': 'internal_docs.txt'}, page_content='Title: Transformer Variants for Production\\n\\nWe have used the following transformer variants in production deployments:\\n\\n1. EfficientFormer:\\n    - Optimized for mobile inference.\\n    - Deployed in multiple mobile and edge environments.\\n    - Quantized using ONNX and optimized via TensorRT.\\n    - Benchmarked with 1.2ms inference time on A72 CPUs.'),\n",
       "  Document(id='6408d6f9-b209-428d-be32-5a93a9d4c64e', metadata={'source': 'internal_docs.txt'}, page_content='4. LLAMA2:\\n    - Integrated with proprietary instruction-tuned layer.\\n    - Combined with domain-specific knowledge graphs.\\n    - Used as base model in chat deployment.\\n    - Prompt format adapted with multi-turn chat memory and RAG backend.\\n\\n5. TinyBERT:\\n    - Fine-tuned for classification tasks on internal email triage system.\\n    - Integrated into Outlook plugin via TensorFlow Lite.')],\n",
       " 'youtube_documents': [Document(id='e199a3d9-20a8-4400-8502-f0d1e15b619a', metadata={'source': 'youtube'}, page_content='\\n    This video explains how agentic AI systems rely on feedback loops, memory, and tool use.\\n    It compares them to traditional pipeline-based LLMs. Temporal reasoning and autonomous tasking are emphasized.\\n    ')],\n",
       " 'wikipedia_context': 'Page: Generative pre-trained transformer\\nSummary: A generative pre-trained transformer (GPT) is a type of large language model (LLM) that is widely used in generative AI chatbots. GPTs are based on a deep learning architecture called the transformer. They are pre-trained on large datasets of unlabeled content, and able to generate novel content.\\nOpenAI was the first to apply generative pre-training (GP) to the transformer architecture, introducing the GPT-1 model in 2018. The company has since released many bigger GPT models. The popular chatbot ChatGPT, released in late 2022 (using GPT-3.5), was followed by many competitor chatbots using their own \"GPT\" models to generate text, such as Gemini, DeepSeek or Claude.\\nGPTs are primarily used to generate text, but can be trained to generate other kinds of data. For example, GPT-4o can process and generate text, images and audio. To improve performance on complex tasks, some GPTs, such as OpenAI o3, spend more time analyzing the problem before generating an output, and are called reasoning models. In 2025, GPT-5 was released with a router that automatically selects whether to use a faster model or slower reasoning model based on task.\\n\\nPage: Artificial intelligence\\nSummary: Artificial intelligence (AI) is the capability of computational systems to perform tasks typically associated with human intelligence, such as learning, reasoning, problem-solving, perception, and decision-making. It is a field of research in computer science that develops and studies methods and software that enable machines to perceive their environment and use learning and intelligence to take actions that maximize their chances of achieving defined goals.\\nHigh-profile applications of AI include advanced web search engines (e.g., Google Search); recommendation systems (used by YouTube, Amazon, and Netflix); virtual assistants (e.g., Google Assistant, Siri, and Alexa); autonomous vehicles (e.g., Waymo); generative and creative tools (e.g., language models and AI art); and superhuman play and analysis in strategy games (e.g., chess and Go). However, many AI applications are not perceived as AI: \"A lot of cutting edge AI has filtered into general applications, often without being called AI because once something becomes useful enough and common enough it\\'s not labeled AI anymore.\"\\nVarious subfields of AI research are centered around particular goals and the use of particular tools. The traditional goals of AI research include learning, reasoning, knowledge representation, planning, natural language processing, perception, and support for robotics. To reach these goals, AI researchers have adapted and integrated a wide range of techniques, including search and mathematical optimization, formal logic, artificial neural networks, and methods based on statistics, operations research, and economics. AI also draws upon psychology, linguistics, philosophy, neuroscience, and other fields. Some companies, such as OpenAI, Google DeepMind and Meta, aim to create artificial general intelligence (AGI)—AI that can complete virtually any cognitive task at least as well as a human.\\nArtificial intelligence was founded as an academic discipline in 1956, and the field went through multiple cycles of optimism throughout its history, followed by periods of disappointment and loss of funding, known as AI winters. Funding and interest vastly increased after 2012 when graphics processing units started being used to accelerate neural networks and deep learning outperformed previous AI techniques. This growth accelerated further after 2017 with the transformer architecture. In the 2020s, an ongoing period of rapid progress in advanced generative AI became known as the AI boom. Generative AI\\'s ability to create and modify content has led to several unintended consequences and harms, which has raised ethical concerns about AI\\'s long-term effects and potential existential risks, prompting discussions about regulatory policies to ensure the s',\n",
       " 'arxiv_context': \"Published: 2024-02-27\\nTitle: Researchy Questions: A Dataset of Multi-Perspective, Decompositional Questions for LLM Web Agents\\nAuthors: Corby Rosset, Ho-Lam Chung, Guanghui Qin, Ethan C. Chau, Zhuo Feng, Ahmed Awadallah, Jennifer Neville, Nikhil Rao\\nSummary: Existing question answering (QA) datasets are no longer challenging to most\\npowerful Large Language Models (LLMs). Traditional QA benchmarks like TriviaQA,\\nNaturalQuestions, ELI5 and HotpotQA mainly study ``known unknowns'' with clear\\nindica\",\n",
       " 'final_answer': 'Transformer agents represent a significant evolution in the field of artificial intelligence, particularly as they showcase the integration of feedback loops, memory, and autonomous tasking capabilities. These agents are essentially advanced AI systems built upon the foundational architecture of transformers, which excel in tasks ranging from natural language processing to image and audio generation.\\n\\nRecent research has led to substantial advancements and variants of the traditional transformer frameworks. One notable branch is vision transformers (ViT and Swin Transformers), which have been applied effectively in manufacturing quality control tasks. Similarly, speech transformers like Wav2Vec 2.0 are being benchmarked for voice assistant integrations, demonstrating the versatility of transformer models across different data types.\\n\\nOptimization techniques have also emerged to enhance the efficiency and functionality of transformers. For instance, the Reformer model focuses on memory efficiency, particularly on embedded devices, achieving a remarkable 60% reduction in memory usage through locality-sensitive hashing (LSH) attention. However, this has opened up challenges with standard transformers, especially with issues like bucket collisions. Addressing these challenges may involve ongoing investigations into training stability and sophisticated gradient clipping strategies.\\n\\nMoreover, lightweight variants such as EfficientFormer and TinyBERT have been optimized for mobile and edge environments. EfficientFormer, for instance, boasts rapid inference times and has been integrated into various mobile applications, while TinyBERT has shown particular effectiveness in classification tasks, such as those needed for internal email triage systems.\\n\\nIn the context of generative models, the evolution of agents has also led to more sophisticated implementations. Models like LLAMA2, which integrates domain-specific knowledge into its generative capabilities, and advancements like FlashAttention and Rotary Positional Encoding are set to enhance performance further.\\n\\nOverall, the evolution of transformer agents signifies a growing trend toward creating AI systems that not only perform predefined tasks but also learn, adapt, and improve over time. This transition towards more agentic AI systems, which can leverage temporal reasoning and tool use, moves beyond static responses and into the realm of dynamic, intelligent behavior, reshaping how we interact with AI in various applications, from chatbots to autonomous systems. As transformers continue to evolve, their impact on AI capabilities is likely to increase, driving further research and applications across multiple domains.'}"
      ]
     },
     "execution_count": 19,
     "metadata": {},
     "output_type": "execute_result"
    }
   ],
   "source": [
    "result"
   ]
  },
  {
   "cell_type": "code",
   "execution_count": null,
   "id": "3ecc7ff0",
   "metadata": {},
   "outputs": [],
   "source": []
  }
 ],
 "metadata": {
  "kernelspec": {
   "display_name": "RAG-Bootcamp",
   "language": "python",
   "name": "python3"
  },
  "language_info": {
   "codemirror_mode": {
    "name": "ipython",
    "version": 3
   },
   "file_extension": ".py",
   "mimetype": "text/x-python",
   "name": "python",
   "nbconvert_exporter": "python",
   "pygments_lexer": "ipython3",
   "version": "3.12.7"
  }
 },
 "nbformat": 4,
 "nbformat_minor": 5
}
