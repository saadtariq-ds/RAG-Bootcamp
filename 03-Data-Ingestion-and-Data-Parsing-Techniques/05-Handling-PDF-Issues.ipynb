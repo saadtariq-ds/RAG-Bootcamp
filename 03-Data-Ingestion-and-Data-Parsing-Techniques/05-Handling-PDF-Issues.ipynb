{
 "cells": [
  {
   "cell_type": "markdown",
   "id": "254717fd",
   "metadata": {},
   "source": [
    "## Handling PDF Challenges\n",
    "\n",
    "PDFs are notoriously difficult to parse because they:\n",
    "- Store text in complex ways (not just simple text)\n",
    "- Can have formatting issues\n",
    "- May contained scanned images (requiring OCR)\n",
    "- Often have extraction artifacts"
   ]
  },
  {
   "cell_type": "markdown",
   "id": "bfc9d39b",
   "metadata": {},
   "source": [
    "## Setup and Import Libraries"
   ]
  },
  {
   "cell_type": "code",
   "execution_count": 8,
   "id": "21065ac8",
   "metadata": {},
   "outputs": [],
   "source": [
    "from typing import List\n",
    "from langchain_core.documents import Document\n",
    "from langchain_community.document_loaders import PyPDFLoader\n",
    "from langchain_text_splitters import RecursiveCharacterTextSplitter"
   ]
  },
  {
   "cell_type": "markdown",
   "id": "dbb3e151",
   "metadata": {},
   "source": [
    "## Raw PDF Extraction"
   ]
  },
  {
   "cell_type": "code",
   "execution_count": null,
   "id": "dbab649d",
   "metadata": {},
   "outputs": [],
   "source": [
    "raw_pdf_text = \"\"\"Company Financial Report\n",
    "\n",
    "\n",
    "    The ﬁnancial performance for ﬁscal year 2024\n",
    "    shows signiﬁcant growth in proﬁtability.\n",
    "    \n",
    "    \n",
    "    \n",
    "    Revenue increased by 25%.\n",
    "    \n",
    "The company's efﬁciency improved due to workﬂow\n",
    "optimization.\n",
    "\n",
    "\n",
    "Page 1 of 10\n",
    "\"\"\""
   ]
  },
  {
   "cell_type": "code",
   "execution_count": 4,
   "id": "fa9c25a8",
   "metadata": {},
   "outputs": [],
   "source": [
    "def clean_text(text):\n",
    "    text = \" \".join(text.split())\n",
    "\n",
    "    # Fix ligatures\n",
    "    text = text.replace(\"ﬁ\", \"fi\")\n",
    "    text = text.replace(\"ﬂ\", \"fl\")\n",
    "    \n",
    "    return text"
   ]
  },
  {
   "cell_type": "code",
   "execution_count": 6,
   "id": "a3af99de",
   "metadata": {},
   "outputs": [
    {
     "name": "stdout",
     "output_type": "stream",
     "text": [
      "BEFORE\n",
      "\" Company Financial Report\\n\\n\\n\\n    The financial performance for fiscal year 2024\\n    shows significant growth in profitability,\\n\\n\\n\\n    Revenue increased by 25%\\n\\n\\nThe company's efficiency improved due to workflow \\noptimization\\n\\n\\nPage 1 of 10\\n\"\n",
      "AFTER\n",
      "\"Company Financial Report The financial performance for fiscal year 2024 shows significant growth in profitability, Revenue increased by 25% The company's efficiency improved due to workflow optimization Page 1 of 10\"\n"
     ]
    }
   ],
   "source": [
    "cleaned_text = clean_text(raw_pdf_text)\n",
    "print(\"BEFORE\")\n",
    "print(repr(raw_pdf_text))\n",
    "\n",
    "print(\"AFTER\")\n",
    "print(repr(cleaned_text))"
   ]
  },
  {
   "cell_type": "markdown",
   "id": "7d4155b4",
   "metadata": {},
   "source": [
    "## Common PDF Challenges"
   ]
  },
  {
   "cell_type": "code",
   "execution_count": 10,
   "id": "86ab43a6",
   "metadata": {},
   "outputs": [],
   "source": [
    "class SmartPDFProcessor:\n",
    "    \"\"\" \n",
    "    Advanced PDF Processing with Error Handling\n",
    "    \"\"\"\n",
    "    def __init__(self, chunk_size=1000, chunk_overlap=100):\n",
    "        self.chunk_size = chunk_size\n",
    "        self.chunk_overlap = chunk_overlap\n",
    "        self.text_splitter = RecursiveCharacterTextSplitter(\n",
    "            chunk_size=self.chunk_size,\n",
    "            chunk_overlap=self.chunk_overlap,\n",
    "            separators=[\" \"]\n",
    "        )\n",
    "\n",
    "    def process_pdf(self, pdf_path:str) -> List[Document]:\n",
    "        \"\"\" \n",
    "        Process PDF with Smart Chunking and Metadata Enhancement\n",
    "        \"\"\"\n",
    "        \n",
    "        # Load PDF\n",
    "        loader = PyPDFLoader(file_path=pdf_path)\n",
    "        pages = loader.load()\n",
    "\n",
    "        # Process Each Page\n",
    "        processed_chunks = []\n",
    "\n",
    "        for page_number, page in enumerate(pages):\n",
    "            cleaned_text = self._clean_text(page.page_content)\n",
    "\n",
    "            # Skip Nearly Empty Pages\n",
    "            if len(cleaned_text.strip()) < 50:\n",
    "                continue\n",
    "            \n",
    "            # Create Chunks with Enhanced Metadata\n",
    "            chunks = self.text_splitter.create_documents(\n",
    "                texts=[cleaned_text],\n",
    "                metadatas=[{\n",
    "                    **page.metadata,\n",
    "                    \"page\": page_number + 1,\n",
    "                    \"total_pages\": len(pages),\n",
    "                    \"chunk_method\": \"smart_pdf_processor\",\n",
    "                    \"char_count\": len(cleaned_text)\n",
    "                }]\n",
    "            )\n",
    "\n",
    "            processed_chunks.extend(chunks)\n",
    "\n",
    "        return processed_chunks\n",
    "    \n",
    "    def _clean_text(self, text:str) -> str:\n",
    "        \"\"\"\n",
    "        Clean Extracted Text\n",
    "        \"\"\"\n",
    "        text = \" \".join(text.split())\n",
    "\n",
    "        # Fix ligatures\n",
    "        text = text.replace(\"ﬁ\", \"fi\")\n",
    "        text = text.replace(\"ﬂ\", \"fl\")\n",
    "        \n",
    "        return text\n",
    "\n"
   ]
  },
  {
   "cell_type": "code",
   "execution_count": 12,
   "id": "d1ebafd8",
   "metadata": {},
   "outputs": [],
   "source": [
    "preprocessor = SmartPDFProcessor()"
   ]
  },
  {
   "cell_type": "code",
   "execution_count": 14,
   "id": "76c371f2",
   "metadata": {},
   "outputs": [
    {
     "name": "stdout",
     "output_type": "stream",
     "text": [
      "Processed into 49 Smart Chunks\n",
      "\n",
      "Sample Chunk Metadata\n",
      "producer:pdfTeX-1.40.25\n",
      "creator:LaTeX with hyperref\n",
      "creationdate:2024-04-10T21:11:43+00:00\n",
      "author:\n",
      "keywords:\n",
      "moddate:2024-04-10T21:11:43+00:00\n",
      "ptex.fullbanner:This is pdfTeX, Version 3.141592653-2.6-1.40.25 (TeX Live 2023) kpathsea version 6.3.5\n",
      "subject:\n",
      "title:\n",
      "trapped:/False\n",
      "source:data/pdf_files/attention_is_all_you_need.pdf\n",
      "total_pages:15\n",
      "page:1\n",
      "page_label:1\n",
      "chunk_method:smart_pdf_processor\n",
      "char_count:2857\n"
     ]
    }
   ],
   "source": [
    "try:\n",
    "    smart_chunks = preprocessor.process_pdf(pdf_path=\"data/pdf_files/attention_is_all_you_need.pdf\")\n",
    "    print(f\"Processed into {len(smart_chunks)} Smart Chunks\")\n",
    "\n",
    "    # Show Enhanced Metadata\n",
    "    if smart_chunks:\n",
    "        print(\"\\nSample Chunk Metadata\")\n",
    "        for key, value in smart_chunks[0].metadata.items():\n",
    "            print(f\"{key}:{value}\")\n",
    "            \n",
    "except Exception as e:\n",
    "    print(f\"Processing Error: {e}\")"
   ]
  },
  {
   "cell_type": "code",
   "execution_count": null,
   "id": "5290972c",
   "metadata": {},
   "outputs": [],
   "source": []
  }
 ],
 "metadata": {
  "kernelspec": {
   "display_name": "RAG-Bootcamp",
   "language": "python",
   "name": "python3"
  },
  "language_info": {
   "codemirror_mode": {
    "name": "ipython",
    "version": 3
   },
   "file_extension": ".py",
   "mimetype": "text/x-python",
   "name": "python",
   "nbconvert_exporter": "python",
   "pygments_lexer": "ipython3",
   "version": "3.12.7"
  }
 },
 "nbformat": 4,
 "nbformat_minor": 5
}
