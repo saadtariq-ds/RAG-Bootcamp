{
 "cells": [
  {
   "cell_type": "markdown",
   "id": "bcbb6c35",
   "metadata": {},
   "source": [
    "## Setup and Import Libraries"
   ]
  },
  {
   "cell_type": "code",
   "execution_count": 1,
   "id": "55b6176d",
   "metadata": {},
   "outputs": [],
   "source": [
    "from langchain_community.document_loaders import TextLoader, DirectoryLoader\n",
    "from langchain_text_splitters import (\n",
    "    RecursiveCharacterTextSplitter,\n",
    "    CharacterTextSplitter,\n",
    "    TokenTextSplitter\n",
    ")"
   ]
  },
  {
   "cell_type": "markdown",
   "id": "de95d3ad",
   "metadata": {},
   "source": [
    "## Document Loading"
   ]
  },
  {
   "cell_type": "code",
   "execution_count": 2,
   "id": "418c09f2",
   "metadata": {},
   "outputs": [],
   "source": [
    "loader = TextLoader(\"data/text_files/machine_learning.txt\", encoding=\"utf-8\")\n",
    "documents = loader.load()"
   ]
  },
  {
   "cell_type": "code",
   "execution_count": 3,
   "id": "ec6976e1",
   "metadata": {},
   "outputs": [
    {
     "data": {
      "text/plain": [
       "'Machine Learning (ML) is a subset of Artificial Intelligence (AI) that focuses on building systems that can learn from data and \\nimprove performance over time without being explicitly programmed. Instead of writing step-by-step instructions, ML models use patterns in data to make predictions, \\nclassifications, or decisions.\\n\\nKey Concepts\\n\\n- Data: The foundation of ML—models learn from examples (structured data like tables or unstructured data like text, images, audio).\\n- Features & Labels: Features are input variables; labels are the outcomes you want to predict.\\n- Model: A mathematical representation that maps input data to predictions.\\n- Training & Testing: Training teaches the model patterns; testing evaluates performance on unseen data.\\n\\nSupervised vs. Unsupervised Learning:\\n- Supervised: Learns from labeled data (e.g., predicting house prices).\\n- Unsupervised: Finds hidden patterns in unlabeled data (e.g., customer segmentation).\\n- Reinforcement Learning: Models learn by interacting with an environment and receiving feedback (rewards/penalties).\\n'"
      ]
     },
     "execution_count": 3,
     "metadata": {},
     "output_type": "execute_result"
    }
   ],
   "source": [
    "text = documents[0].page_content\n",
    "text"
   ]
  },
  {
   "cell_type": "markdown",
   "id": "55891cd7",
   "metadata": {},
   "source": [
    "## Text Splitter"
   ]
  },
  {
   "cell_type": "markdown",
   "id": "445861f4",
   "metadata": {},
   "source": [
    "### 1. Character Text Splitter"
   ]
  },
  {
   "cell_type": "code",
   "execution_count": 4,
   "id": "eaa83181",
   "metadata": {},
   "outputs": [],
   "source": [
    "character_text_splitter = CharacterTextSplitter(\n",
    "    separator=\"\\n\",\n",
    "    chunk_size=200,\n",
    "    chunk_overlap=20,\n",
    "    length_function=len\n",
    ")"
   ]
  },
  {
   "cell_type": "code",
   "execution_count": 5,
   "id": "af87bcbd",
   "metadata": {},
   "outputs": [
    {
     "name": "stdout",
     "output_type": "stream",
     "text": [
      "Created 7 Chunks\n",
      "First Chunk: Machine Learning (ML) is a subset of Artificial In\n"
     ]
    }
   ],
   "source": [
    "chunks = character_text_splitter.split_text(text=text)\n",
    "\n",
    "print(f\"Created {len(chunks)} Chunks\")\n",
    "print(f\"First Chunk: {chunks[0][:50]}\")"
   ]
  },
  {
   "cell_type": "code",
   "execution_count": 6,
   "id": "cf3a5420",
   "metadata": {},
   "outputs": [
    {
     "name": "stdout",
     "output_type": "stream",
     "text": [
      "Machine Learning (ML) is a subset of Artificial Intelligence (AI) that focuses on building systems that can learn from data and\n",
      "--------------------\n",
      "improve performance over time without being explicitly programmed. Instead of writing step-by-step instructions, ML models use patterns in data to make predictions, \n",
      "classifications, or decisions.\n",
      "--------------------\n",
      "Key Concepts\n",
      "- Data: The foundation of ML—models learn from examples (structured data like tables or unstructured data like text, images, audio).\n"
     ]
    }
   ],
   "source": [
    "print(chunks[0])\n",
    "print(\"--------------------\")\n",
    "print(chunks[1])\n",
    "print(\"--------------------\")\n",
    "print(chunks[2])"
   ]
  },
  {
   "cell_type": "markdown",
   "id": "d3930788",
   "metadata": {},
   "source": [
    "### 2. Recursive Character Text Splitter"
   ]
  },
  {
   "cell_type": "code",
   "execution_count": 7,
   "id": "247efea1",
   "metadata": {},
   "outputs": [],
   "source": [
    "recursive_splitter = RecursiveCharacterTextSplitter(\n",
    "    separators=[\"\\n\\n\", \"\\n\", \" \", \"\"],\n",
    "    chunk_size=200,\n",
    "    chunk_overlap=20,\n",
    "    length_function=len\n",
    ")"
   ]
  },
  {
   "cell_type": "code",
   "execution_count": 8,
   "id": "0bd7d3f9",
   "metadata": {},
   "outputs": [
    {
     "name": "stdout",
     "output_type": "stream",
     "text": [
      "Created 8 Chunks\n",
      "First Chunk: Machine Learning (ML) is a subset of Artificial In\n"
     ]
    }
   ],
   "source": [
    "recursive_chunks = recursive_splitter.split_text(text=text)\n",
    "\n",
    "print(f\"Created {len(recursive_chunks)} Chunks\")\n",
    "print(f\"First Chunk: {recursive_chunks[0][:50]}\")"
   ]
  },
  {
   "cell_type": "code",
   "execution_count": 9,
   "id": "74defc32",
   "metadata": {},
   "outputs": [
    {
     "name": "stdout",
     "output_type": "stream",
     "text": [
      "Machine Learning (ML) is a subset of Artificial Intelligence (AI) that focuses on building systems that can learn from data and\n",
      "--------------------\n",
      "improve performance over time without being explicitly programmed. Instead of writing step-by-step instructions, ML models use patterns in data to make predictions, \n",
      "classifications, or decisions.\n",
      "--------------------\n",
      "Key Concepts\n"
     ]
    }
   ],
   "source": [
    "print(recursive_chunks[0])\n",
    "print(\"--------------------\")\n",
    "print(recursive_chunks[1])\n",
    "print(\"--------------------\")\n",
    "print(recursive_chunks[2])"
   ]
  },
  {
   "cell_type": "markdown",
   "id": "a3b9d556",
   "metadata": {},
   "source": [
    "### 3. Token Text Splitter"
   ]
  },
  {
   "cell_type": "code",
   "execution_count": 10,
   "id": "e8c6193f",
   "metadata": {},
   "outputs": [],
   "source": [
    "token_splitter = TokenTextSplitter(\n",
    "    chunk_size=200,\n",
    "    chunk_overlap=20,\n",
    ")"
   ]
  },
  {
   "cell_type": "code",
   "execution_count": 11,
   "id": "778021c7",
   "metadata": {},
   "outputs": [
    {
     "name": "stdout",
     "output_type": "stream",
     "text": [
      "Created 2 Chunks\n",
      "First Chunk: Machine Learning (ML) is a subset of Artificial In\n"
     ]
    }
   ],
   "source": [
    "token_chunks = token_splitter.split_text(text=text)\n",
    "\n",
    "print(f\"Created {len(token_chunks)} Chunks\")\n",
    "print(f\"First Chunk: {token_chunks[0][:50]}\")"
   ]
  },
  {
   "cell_type": "code",
   "execution_count": 12,
   "id": "5f844bde",
   "metadata": {},
   "outputs": [
    {
     "name": "stdout",
     "output_type": "stream",
     "text": [
      "Machine Learning (ML) is a subset of Artificial Intelligence (AI) that focuses on building systems that can learn from data and \n",
      "improve performance over time without being explicitly programmed. Instead of writing step-by-step instructions, ML models use patterns in data to make predictions, \n",
      "classifications, or decisions.\n",
      "\n",
      "Key Concepts\n",
      "\n",
      "- Data: The foundation of ML—models learn from examples (structured data like tables or unstructured data like text, images, audio).\n",
      "- Features & Labels: Features are input variables; labels are the outcomes you want to predict.\n",
      "- Model: A mathematical representation that maps input data to predictions.\n",
      "- Training & Testing: Training teaches the model patterns; testing evaluates performance on unseen data.\n",
      "\n",
      "Supervised vs. Unsupervised Learning:\n",
      "- Supervised: Learns from labeled data (e.g., predicting house prices).\n",
      "- Unsupervised: Finds hidden patterns in unlabeled data (e\n",
      "--------------------\n",
      " house prices).\n",
      "- Unsupervised: Finds hidden patterns in unlabeled data (e.g., customer segmentation).\n",
      "- Reinforcement Learning: Models learn by interacting with an environment and receiving feedback (rewards/penalties).\n",
      "\n"
     ]
    }
   ],
   "source": [
    "print(token_chunks[0])\n",
    "print(\"--------------------\")\n",
    "print(token_chunks[1])"
   ]
  },
  {
   "cell_type": "markdown",
   "id": "02c45d9d",
   "metadata": {},
   "source": [
    "## Comparison"
   ]
  },
  {
   "cell_type": "code",
   "execution_count": 13,
   "id": "cb9df677",
   "metadata": {},
   "outputs": [
    {
     "name": "stdout",
     "output_type": "stream",
     "text": [
      "\n",
      "📊 Text Splitting Methods Comparison\n",
      "\n",
      "Character Text Splitter\n",
      "  ✅Simple and Predictable\n",
      "  ✅Good for Structured Text\n",
      "  ❌May break Mid-Sentences\n",
      "  Use When: Text has clear Delimiters\n",
      "\n",
      "Recursive Character Text Splitter\n",
      "  ✅Respects Text Structure\n",
      "  ✅Tries Multiple Separators\n",
      "  ✅Best General Purpose Splitter\n",
      "  ❌Slightly More Complex\n",
      "  Use When: Default Choice for Most Texts\n",
      "\n",
      "Token Text Splitter\n",
      "  ✅Respect Model Token Limits\n",
      "  ✅More Accurate for Embeddings\n",
      "  ❌Slower than Character-based\n",
      "  Use When: Working with Token-Limited Models\n"
     ]
    }
   ],
   "source": [
    "print(\"\\n📊 Text Splitting Methods Comparison\")\n",
    "print(\"\\nCharacter Text Splitter\")\n",
    "print(\"  ✅Simple and Predictable\")\n",
    "print(\"  ✅Good for Structured Text\")\n",
    "print(\"  ❌May break Mid-Sentences\")\n",
    "print(\"  Use When: Text has clear Delimiters\")\n",
    "\n",
    "\n",
    "print(\"\\nRecursive Character Text Splitter\")\n",
    "print(\"  ✅Respects Text Structure\")\n",
    "print(\"  ✅Tries Multiple Separators\")\n",
    "print(\"  ✅Best General Purpose Splitter\")\n",
    "print(\"  ❌Slightly More Complex\")\n",
    "print(\"  Use When: Default Choice for Most Texts\")\n",
    "\n",
    "\n",
    "print(\"\\nToken Text Splitter\")\n",
    "print(\"  ✅Respect Model Token Limits\")\n",
    "print(\"  ✅More Accurate for Embeddings\")\n",
    "print(\"  ❌Slower than Character-based\")\n",
    "print(\"  Use When: Working with Token-Limited Models\")"
   ]
  },
  {
   "cell_type": "code",
   "execution_count": null,
   "id": "108ea97c",
   "metadata": {},
   "outputs": [],
   "source": []
  }
 ],
 "metadata": {
  "kernelspec": {
   "display_name": "RAG-Bootcamp",
   "language": "python",
   "name": "python3"
  },
  "language_info": {
   "codemirror_mode": {
    "name": "ipython",
    "version": 3
   },
   "file_extension": ".py",
   "mimetype": "text/x-python",
   "name": "python",
   "nbconvert_exporter": "python",
   "pygments_lexer": "ipython3",
   "version": "3.12.7"
  }
 },
 "nbformat": 4,
 "nbformat_minor": 5
}
