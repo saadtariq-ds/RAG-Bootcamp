{
 "cells": [
  {
   "cell_type": "markdown",
   "id": "a61f8cd1",
   "metadata": {},
   "source": [
    "## Setup and Import Libraries"
   ]
  },
  {
   "cell_type": "code",
   "execution_count": 1,
   "id": "1a50afa1",
   "metadata": {},
   "outputs": [],
   "source": [
    "import os\n",
    "from langchain_community.document_loaders import TextLoader, DirectoryLoader"
   ]
  },
  {
   "cell_type": "markdown",
   "id": "35720735",
   "metadata": {},
   "source": [
    "## Create Text File"
   ]
  },
  {
   "cell_type": "code",
   "execution_count": 2,
   "id": "9063487e",
   "metadata": {},
   "outputs": [],
   "source": [
    "os.makedirs(\"data/text_files\", exist_ok=True)"
   ]
  },
  {
   "cell_type": "code",
   "execution_count": 3,
   "id": "4ab49fb1",
   "metadata": {},
   "outputs": [],
   "source": [
    "sample_texts={\n",
    "    \"data/text_files/python_intro.txt\":\"\"\"Python is a high-level, interpreted programming language that has become one of the most popular languages in the world due to its simplicity, readability, and versatility.\n",
    "\n",
    "Key Features\n",
    "\n",
    "- Readable & Simple Syntax: Python emphasizes code readability, using indentation instead of braces, making it beginner-friendly.\n",
    "- Interpreted & Dynamically Typed: No need to compile before running, and variable types are determined at runtime.\n",
    "- Extensive Libraries: Python has thousands of libraries for tasks like data science (pandas, numpy), AI/ML (scikit-learn, tensorflow, pytorch), web development (Django, Flask), automation (selenium, requests), and more.\n",
    "- Cross-Platform: Python code runs on Windows, Linux, macOS, and even embedded systems.\n",
    "- Community Support: A vast community and ecosystem make it easy to find tutorials, documentation, and open-source projects.\n",
    "\n",
    "Popular Uses\n",
    "\n",
    "1. Data Science & Machine Learning – analyzing data, training ML models, and building AI solutions.\n",
    "2. Web Development – creating websites and APIs with frameworks like Django and Flask.\n",
    "3. Automation & Scripting – writing scripts to automate repetitive tasks.\n",
    "4. Software Development – building desktop and mobile applications.\n",
    "5. Game Development – libraries like pygame enable 2D game creation.\n",
    "6. Cybersecurity – writing penetration testing and security tools.\n",
    "\"\"\",\n",
    "\n",
    "\"data/text_files/machine_learning.txt\":\"\"\"Machine Learning (ML) is a subset of Artificial Intelligence (AI) that focuses on building systems that can learn from data and \n",
    "improve performance over time without being explicitly programmed. Instead of writing step-by-step instructions, ML models use patterns in data to make predictions, \n",
    "classifications, or decisions.\n",
    "\n",
    "Key Concepts\n",
    "\n",
    "- Data: The foundation of ML—models learn from examples (structured data like tables or unstructured data like text, images, audio).\n",
    "- Features & Labels: Features are input variables; labels are the outcomes you want to predict.\n",
    "- Model: A mathematical representation that maps input data to predictions.\n",
    "- Training & Testing: Training teaches the model patterns; testing evaluates performance on unseen data.\n",
    "\n",
    "Supervised vs. Unsupervised Learning:\n",
    "- Supervised: Learns from labeled data (e.g., predicting house prices).\n",
    "- Unsupervised: Finds hidden patterns in unlabeled data (e.g., customer segmentation).\n",
    "- Reinforcement Learning: Models learn by interacting with an environment and receiving feedback (rewards/penalties).\n",
    "\"\"\",\n",
    "}"
   ]
  },
  {
   "cell_type": "code",
   "execution_count": 4,
   "id": "08fc1b63",
   "metadata": {},
   "outputs": [
    {
     "name": "stdout",
     "output_type": "stream",
     "text": [
      "Sample Text Files Created\n"
     ]
    }
   ],
   "source": [
    "for file_path, content in sample_texts.items():\n",
    "    with open(file=file_path, mode='w', encoding='utf-8') as file:\n",
    "        file.write(content)\n",
    "\n",
    "print(\"Sample Text Files Created\")"
   ]
  },
  {
   "cell_type": "markdown",
   "id": "c9cdaff4",
   "metadata": {},
   "source": [
    "## Text Loader - Read Single File"
   ]
  },
  {
   "cell_type": "code",
   "execution_count": 5,
   "id": "0a558e50",
   "metadata": {},
   "outputs": [
    {
     "data": {
      "text/plain": [
       "<langchain_community.document_loaders.text.TextLoader at 0x24062153ad0>"
      ]
     },
     "execution_count": 5,
     "metadata": {},
     "output_type": "execute_result"
    }
   ],
   "source": [
    "loader = TextLoader(\"data/text_files/python_intro.txt\", encoding=\"utf-8\")\n",
    "loader"
   ]
  },
  {
   "cell_type": "code",
   "execution_count": 6,
   "id": "66787bfd",
   "metadata": {},
   "outputs": [
    {
     "name": "stdout",
     "output_type": "stream",
     "text": [
      "<class 'list'>\n",
      "[Document(metadata={'source': 'data/text_files/python_intro.txt'}, page_content='Python is a high-level, interpreted programming language that has become one of the most popular languages in the world due to its simplicity, readability, and versatility.\\n\\nKey Features\\n\\n- Readable & Simple Syntax: Python emphasizes code readability, using indentation instead of braces, making it beginner-friendly.\\n- Interpreted & Dynamically Typed: No need to compile before running, and variable types are determined at runtime.\\n- Extensive Libraries: Python has thousands of libraries for tasks like data science (pandas, numpy), AI/ML (scikit-learn, tensorflow, pytorch), web development (Django, Flask), automation (selenium, requests), and more.\\n- Cross-Platform: Python code runs on Windows, Linux, macOS, and even embedded systems.\\n- Community Support: A vast community and ecosystem make it easy to find tutorials, documentation, and open-source projects.\\n\\nPopular Uses\\n\\n1. Data Science & Machine Learning – analyzing data, training ML models, and building AI solutions.\\n2. Web Development – creating websites and APIs with frameworks like Django and Flask.\\n3. Automation & Scripting – writing scripts to automate repetitive tasks.\\n4. Software Development – building desktop and mobile applications.\\n5. Game Development – libraries like pygame enable 2D game creation.\\n6. Cybersecurity – writing penetration testing and security tools.\\n')]\n"
     ]
    }
   ],
   "source": [
    "documents = loader.load()\n",
    "print(type(documents))\n",
    "print(documents)"
   ]
  },
  {
   "cell_type": "code",
   "execution_count": 7,
   "id": "d904b8ff",
   "metadata": {},
   "outputs": [
    {
     "name": "stdout",
     "output_type": "stream",
     "text": [
      "Loaded 1 Documents\n",
      "Content Preview: Python is a high-level, interpreted programming language that has become one of the most popular lan\n",
      "Metadata: {'source': 'data/text_files/python_intro.txt'}\n"
     ]
    }
   ],
   "source": [
    "print(f\"Loaded {len(documents)} Documents\")\n",
    "print(f\"Content Preview: {documents[0].page_content[:100]}\")\n",
    "print(f\"Metadata: {documents[0].metadata}\")"
   ]
  },
  {
   "cell_type": "markdown",
   "id": "ee13eef5",
   "metadata": {},
   "source": [
    "## Directory Loader - Multiple Text Files"
   ]
  },
  {
   "cell_type": "code",
   "execution_count": 8,
   "id": "7cc9941c",
   "metadata": {},
   "outputs": [],
   "source": [
    "directory_loader = DirectoryLoader(\n",
    "    path=\"data/text_files/\",\n",
    "    glob=\"**/*.txt\",\n",
    "    loader_cls=TextLoader,\n",
    "    loader_kwargs={\"encoding\":\"utf-8\"},\n",
    "    show_progress=True\n",
    ")"
   ]
  },
  {
   "cell_type": "code",
   "execution_count": 9,
   "id": "478582f0",
   "metadata": {},
   "outputs": [
    {
     "name": "stderr",
     "output_type": "stream",
     "text": [
      "100%|██████████| 2/2 [00:00<00:00, 285.72it/s]\n"
     ]
    }
   ],
   "source": [
    "documents = directory_loader.load()"
   ]
  },
  {
   "cell_type": "code",
   "execution_count": 10,
   "id": "a28e1f4f",
   "metadata": {},
   "outputs": [
    {
     "name": "stdout",
     "output_type": "stream",
     "text": [
      "Loaded 2 Documents\n",
      "\n",
      "Document 1\n",
      "\tLength 1067 Characters\n",
      "\tSource: data\\text_files\\machine_learning.txt\n",
      "\n",
      "Document 2\n",
      "\tLength 1348 Characters\n",
      "\tSource: data\\text_files\\python_intro.txt\n"
     ]
    }
   ],
   "source": [
    "print(f\"Loaded {len(documents)} Documents\")\n",
    "for i, document in enumerate(documents):\n",
    "    print(f\"\\nDocument {i+1}\")\n",
    "    print(f\"\\tLength {len(document.page_content)} Characters\")\n",
    "    print(f\"\\tSource: {document.metadata[\"source\"]}\")"
   ]
  },
  {
   "cell_type": "code",
   "execution_count": null,
   "id": "fd0c8952",
   "metadata": {},
   "outputs": [],
   "source": []
  }
 ],
 "metadata": {
  "kernelspec": {
   "display_name": "RAG-Bootcamp",
   "language": "python",
   "name": "python3"
  },
  "language_info": {
   "codemirror_mode": {
    "name": "ipython",
    "version": 3
   },
   "file_extension": ".py",
   "mimetype": "text/x-python",
   "name": "python",
   "nbconvert_exporter": "python",
   "pygments_lexer": "ipython3",
   "version": "3.12.7"
  }
 },
 "nbformat": 4,
 "nbformat_minor": 5
}
