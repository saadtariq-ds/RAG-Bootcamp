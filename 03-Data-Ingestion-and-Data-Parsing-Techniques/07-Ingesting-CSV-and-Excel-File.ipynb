{
 "cells": [
  {
   "cell_type": "markdown",
   "id": "0683a192",
   "metadata": {},
   "source": [
    "## Setup and Import Libraries"
   ]
  },
  {
   "cell_type": "code",
   "execution_count": 9,
   "id": "4e505d5c",
   "metadata": {},
   "outputs": [],
   "source": [
    "import os\n",
    "import pandas as pd\n",
    "from typing import List\n",
    "from langchain_core.documents import Document\n",
    "from langchain_community.document_loaders import (\n",
    "    CSVLoader, UnstructuredCSVLoader,\n",
    "    UnstructuredExcelLoader\n",
    ")"
   ]
  },
  {
   "cell_type": "markdown",
   "id": "7045635d",
   "metadata": {},
   "source": [
    "## Creating Directory and Saving Data"
   ]
  },
  {
   "cell_type": "markdown",
   "id": "8a8b0a2e",
   "metadata": {},
   "source": [
    "### Creating CSV Data"
   ]
  },
  {
   "cell_type": "code",
   "execution_count": 2,
   "id": "9376c6c3",
   "metadata": {},
   "outputs": [],
   "source": [
    "os.makedirs(\"data/structured_files\", exist_ok=True)"
   ]
  },
  {
   "cell_type": "code",
   "execution_count": 4,
   "id": "87154b73",
   "metadata": {},
   "outputs": [],
   "source": [
    "data = {\n",
    "    \"Product\": [\"Laptop\", \"Mouse\", \"Keyboard\", \"Monitor\", \"Webcam\"],\n",
    "    \"Category\": [\"Electronics\", \"Accessories\", \"Accessories\", \"Electronics\", \"Electronics\"],\n",
    "    \"Price\": [999.99, 29.99, 79.99, 299.99, 89.99],\n",
    "    \"Stock\": [50, 200, 150, 75, 100],\n",
    "    \"Description\": [\n",
    "        \"High-performance laptop with 16GB RAM and 512GB SSD\",\n",
    "        \"Wireless optical mouse with ergonomic design\",\n",
    "        \"Mechanical keyboard with RGB backlighting\",\n",
    "        \"27-inch 4K monitor with HDR support\",\n",
    "        \"1080p webcam with noise cancellation\",\n",
    "    ]\n",
    "}\n",
    "\n",
    "df = pd.DataFrame(data)\n",
    "df.to_csv(\"data/structured_files/products.csv\", index=False, header=True)"
   ]
  },
  {
   "cell_type": "markdown",
   "id": "4ecb082f",
   "metadata": {},
   "source": [
    "### Creating Excel Data"
   ]
  },
  {
   "cell_type": "code",
   "execution_count": 5,
   "id": "8bdfdbcb",
   "metadata": {},
   "outputs": [],
   "source": [
    "with pd.ExcelWriter(\"data/structured_files/inventory.xlsx\") as writer:\n",
    "    df.to_excel(excel_writer=writer, sheet_name=\"Products\", index=False, header=True)\n",
    "\n",
    "    # Add another sheet\n",
    "    summary_data = {\n",
    "        \"Category\": [\"Electronics\", \"Accessories\"],\n",
    "        \"Total_Items\": [3, 2],\n",
    "        \"Total_Value\": [1389.97, 109.98]\n",
    "    }\n",
    "\n",
    "    pd.DataFrame(data=summary_data).to_excel(\n",
    "        excel_writer=writer,\n",
    "        sheet_name=\"Summary\",\n",
    "        index=False,\n",
    "        header=True\n",
    "    )"
   ]
  },
  {
   "cell_type": "markdown",
   "id": "adf8241c",
   "metadata": {},
   "source": [
    "## Processing CSV Files"
   ]
  },
  {
   "cell_type": "markdown",
   "id": "d7fd9cb0",
   "metadata": {},
   "source": [
    "### Processing CSV File"
   ]
  },
  {
   "cell_type": "code",
   "execution_count": 8,
   "id": "60556c91",
   "metadata": {},
   "outputs": [
    {
     "name": "stdout",
     "output_type": "stream",
     "text": [
      "  Loaded 5 documents (one per row)\n",
      "\n",
      "First Document\n",
      "Content Preview: Product: Laptop\n",
      "Category: Electronics\n",
      "Price: 999.99\n",
      "Stock: 50\n",
      "Description: High-performance laptop w\n",
      "Metadata: {'source': 'data/structured_files/products.csv', 'row': 0}\n"
     ]
    }
   ],
   "source": [
    "loader = CSVLoader(\n",
    "    file_path=\"data/structured_files/products.csv\",\n",
    "    encoding=\"utf-8\",\n",
    "    csv_args={\n",
    "        \"delimiter\": \",\",\n",
    "        \"quotechar\": '\"',\n",
    "    })\n",
    "\n",
    "csv_documents = loader.load()\n",
    "\n",
    "print(f\"  Loaded {len(csv_documents)} documents (one per row)\")\n",
    "print(\"\\nFirst Document\")\n",
    "print(f\"Content Preview: {csv_documents[0].page_content[:100]}\")\n",
    "print(f\"Metadata: {csv_documents[0].metadata}\")"
   ]
  },
  {
   "cell_type": "markdown",
   "id": "4dac21c4",
   "metadata": {},
   "source": [
    "### Custom CSV Processing for Better Control"
   ]
  },
  {
   "cell_type": "code",
   "execution_count": 12,
   "id": "c2786b31",
   "metadata": {},
   "outputs": [],
   "source": [
    "def process_csv_intelligently(file_path:str) -> List[Document]:\n",
    "    \"\"\" \n",
    "    Process CSV with Intellient Document Creation\n",
    "    \"\"\"\n",
    "    df = pd.read_csv(file_path)\n",
    "    documents = []\n",
    "\n",
    "    for idx, row in df.iterrows():\n",
    "        # Create Structured Content\n",
    "        content = f\"\"\" Product Information:\n",
    "        Name: {row[\"Product\"]}\n",
    "        Category: {row[\"Category\"]}\n",
    "        Price: ${row[\"Price\"]}\n",
    "        Stock: {row[\"Stock\"]} units\n",
    "        Description: {row[\"Description\"]}\n",
    "        \"\"\"\n",
    "\n",
    "        doc = Document(\n",
    "            page_content=content,\n",
    "            metadata={\n",
    "                \"source\": file_path,\n",
    "                \"row_index\": idx,\n",
    "                \"product_name\": row['Product'],\n",
    "                \"category\": row[\"Category\"],\n",
    "                \"price\": row[\"Price\"],\n",
    "                \"data_type\": \"product_info\"\n",
    "            }\n",
    "        )\n",
    "\n",
    "        documents.append(doc)\n",
    "\n",
    "    return documents"
   ]
  },
  {
   "cell_type": "code",
   "execution_count": 13,
   "id": "d5b3f3e4",
   "metadata": {},
   "outputs": [
    {
     "data": {
      "text/plain": [
       "[Document(metadata={'source': 'data/structured_files/products.csv', 'row_index': 0, 'product_name': 'Laptop', 'category': 'Electronics', 'price': 999.99, 'data_type': 'product_info'}, page_content=' Product Information:\\n        Name: Laptop\\n        Category: Electronics\\n        Price: $999.99\\n        Stock: 50 units\\n        Description: High-performance laptop with 16GB RAM and 512GB SSD\\n        '),\n",
       " Document(metadata={'source': 'data/structured_files/products.csv', 'row_index': 1, 'product_name': 'Mouse', 'category': 'Accessories', 'price': 29.99, 'data_type': 'product_info'}, page_content=' Product Information:\\n        Name: Mouse\\n        Category: Accessories\\n        Price: $29.99\\n        Stock: 200 units\\n        Description: Wireless optical mouse with ergonomic design\\n        '),\n",
       " Document(metadata={'source': 'data/structured_files/products.csv', 'row_index': 2, 'product_name': 'Keyboard', 'category': 'Accessories', 'price': 79.99, 'data_type': 'product_info'}, page_content=' Product Information:\\n        Name: Keyboard\\n        Category: Accessories\\n        Price: $79.99\\n        Stock: 150 units\\n        Description: Mechanical keyboard with RGB backlighting\\n        '),\n",
       " Document(metadata={'source': 'data/structured_files/products.csv', 'row_index': 3, 'product_name': 'Monitor', 'category': 'Electronics', 'price': 299.99, 'data_type': 'product_info'}, page_content=' Product Information:\\n        Name: Monitor\\n        Category: Electronics\\n        Price: $299.99\\n        Stock: 75 units\\n        Description: 27-inch 4K monitor with HDR support\\n        '),\n",
       " Document(metadata={'source': 'data/structured_files/products.csv', 'row_index': 4, 'product_name': 'Webcam', 'category': 'Electronics', 'price': 89.99, 'data_type': 'product_info'}, page_content=' Product Information:\\n        Name: Webcam\\n        Category: Electronics\\n        Price: $89.99\\n        Stock: 100 units\\n        Description: 1080p webcam with noise cancellation\\n        ')]"
      ]
     },
     "execution_count": 13,
     "metadata": {},
     "output_type": "execute_result"
    }
   ],
   "source": [
    "documents = process_csv_intelligently(file_path=\"data/structured_files/products.csv\")\n",
    "documents"
   ]
  },
  {
   "cell_type": "markdown",
   "id": "cce8d849",
   "metadata": {},
   "source": [
    "## CSV Processing Strategies"
   ]
  },
  {
   "cell_type": "code",
   "execution_count": 15,
   "id": "2cbf13d6",
   "metadata": {},
   "outputs": [
    {
     "name": "stdout",
     "output_type": "stream",
     "text": [
      "\n",
      "📊 CSV Processing Strategies\n",
      "\n",
      "1. Row-based (CSVLoader)\n",
      "  ✅ Simple one-row-one-document\n",
      "  ✅ Good for record lookups\n",
      "  ❌ Loses table context\n",
      "\n",
      "2. Intelligent Processing\n",
      "  ✅ Preserves relationship\n",
      "  ✅ Create summaries\n",
      "  ✅ Rich metadata\n",
      "  ✅ Better for Q&A\n"
     ]
    }
   ],
   "source": [
    "print(\"\\n📊 CSV Processing Strategies\")\n",
    "print(\"\\n1. Row-based (CSVLoader)\")\n",
    "print(\"  ✅ Simple one-row-one-document\")\n",
    "print(\"  ✅ Good for record lookups\")\n",
    "print(\"  ❌ Loses table context\")\n",
    "\n",
    "\n",
    "print(\"\\n2. Intelligent Processing\")\n",
    "print(\"  ✅ Preserves relationship\")\n",
    "print(\"  ✅ Create summaries\")\n",
    "print(\"  ✅ Rich metadata\")\n",
    "print(\"  ✅ Better for Q&A\")\n"
   ]
  },
  {
   "cell_type": "markdown",
   "id": "28c3f1c8",
   "metadata": {},
   "source": [
    "## Processing Excel Files"
   ]
  },
  {
   "cell_type": "code",
   "execution_count": 16,
   "id": "86ce6bfd",
   "metadata": {},
   "outputs": [],
   "source": [
    "def process_excel_with_pandas(file_path:str) -> List[Document]:\n",
    "    \"\"\" \n",
    "    Process Excel with Sheet Awareness\n",
    "    \"\"\"\n",
    "    excel_file = pd.ExcelFile(file_path)\n",
    "    documents = []\n",
    "\n",
    "    for sheet_name in excel_file.sheet_names:\n",
    "        df = pd.read_excel(file_path, sheet_name=sheet_name)\n",
    "        \n",
    "        # Create Document for Each Sheet\n",
    "        sheet_content = f\"Sheet: {sheet_name}\\n\"\n",
    "        sheet_content += f\"Column: {', '.join(df.columns)}\\n\"\n",
    "        sheet_content += f\"Rows: {len(df)}\\n\\n\"\n",
    "        sheet_content += df.to_string(index=False)\n",
    "        \n",
    "\n",
    "        doc = Document(\n",
    "            page_content=sheet_content,\n",
    "            metadata={\n",
    "                \"source\": file_path,\n",
    "                \"sheet_name\": sheet_name,\n",
    "                \"num_rows\": len(df),\n",
    "                \"num_columns\": len(df.columns),\n",
    "                \"data_type\": \"excel_sheet\"\n",
    "            }\n",
    "        )\n",
    "\n",
    "        documents.append(doc)\n",
    "\n",
    "    return documents"
   ]
  },
  {
   "cell_type": "code",
   "execution_count": 18,
   "id": "0b2f2d2c",
   "metadata": {},
   "outputs": [
    {
     "data": {
      "text/plain": [
       "[Document(metadata={'source': 'data/structured_files/inventory.xlsx', 'sheet_name': 'Products', 'num_rows': 5, 'num_columns': 5, 'data_type': 'excel_sheet'}, page_content='Sheet: Products\\nColumn: Product, Category, Price, Stock, Description\\nRows: 5\\n\\n Product    Category  Price  Stock                                         Description\\n  Laptop Electronics 999.99     50 High-performance laptop with 16GB RAM and 512GB SSD\\n   Mouse Accessories  29.99    200        Wireless optical mouse with ergonomic design\\nKeyboard Accessories  79.99    150           Mechanical keyboard with RGB backlighting\\n Monitor Electronics 299.99     75                 27-inch 4K monitor with HDR support\\n  Webcam Electronics  89.99    100                1080p webcam with noise cancellation'),\n",
       " Document(metadata={'source': 'data/structured_files/inventory.xlsx', 'sheet_name': 'Summary', 'num_rows': 2, 'num_columns': 3, 'data_type': 'excel_sheet'}, page_content='Sheet: Summary\\nColumn: Category, Total_Items, Total_Value\\nRows: 2\\n\\n   Category  Total_Items  Total_Value\\nElectronics            3      1389.97\\nAccessories            2       109.98')]"
      ]
     },
     "execution_count": 18,
     "metadata": {},
     "output_type": "execute_result"
    }
   ],
   "source": [
    "excel_documents = process_excel_with_pandas(file_path=\"data/structured_files/inventory.xlsx\")\n",
    "excel_documents"
   ]
  },
  {
   "cell_type": "markdown",
   "id": "7e564cc7",
   "metadata": {},
   "source": [
    "## Unstructured Excel Loader"
   ]
  },
  {
   "cell_type": "code",
   "execution_count": 21,
   "id": "0a7d8ac4",
   "metadata": {},
   "outputs": [
    {
     "name": "stdout",
     "output_type": "stream",
     "text": [
      "  ✅ Handles complex Excel features\n",
      "  ✅ Preserves formatting Info\n",
      "  ❌ Requires unstructued library\n"
     ]
    }
   ],
   "source": [
    "excel_loader = UnstructuredExcelLoader(\n",
    "    file_path=\"data/structured_files/inventory.xlsx\",\n",
    "    mode=\"elements\"\n",
    ")\n",
    "unstructed_docs = excel_loader.load()\n",
    "\n",
    "print(\"  ✅ Handles complex Excel features\")\n",
    "print(\"  ✅ Preserves formatting Info\")\n",
    "print(\"  ❌ Requires unstructued library\")"
   ]
  },
  {
   "cell_type": "code",
   "execution_count": 22,
   "id": "43eb38b9",
   "metadata": {},
   "outputs": [
    {
     "data": {
      "text/plain": [
       "[Document(metadata={'source': 'data/structured_files/inventory.xlsx', 'file_directory': 'data/structured_files', 'filename': 'inventory.xlsx', 'last_modified': '2025-08-28T13:44:20', 'page_name': 'Products', 'page_number': 1, 'text_as_html': '<table><tr><td>Product</td><td>Category</td><td>Price</td><td>Stock</td><td>Description</td></tr><tr><td>Laptop</td><td>Electronics</td><td>999.99</td><td>50</td><td>High-performance laptop with 16GB RAM and 512GB SSD</td></tr><tr><td>Mouse</td><td>Accessories</td><td>29.99</td><td>200</td><td>Wireless optical mouse with ergonomic design</td></tr><tr><td>Keyboard</td><td>Accessories</td><td>79.99</td><td>150</td><td>Mechanical keyboard with RGB backlighting</td></tr><tr><td>Monitor</td><td>Electronics</td><td>299.99</td><td>75</td><td>27-inch 4K monitor with HDR support</td></tr><tr><td>Webcam</td><td>Electronics</td><td>89.99</td><td>100</td><td>1080p webcam with noise cancellation</td></tr></table>', 'languages': ['eng'], 'filetype': 'application/vnd.openxmlformats-officedocument.spreadsheetml.sheet', 'category': 'Table', 'element_id': '6c3514d8bca67e1cbfa020192b595264'}, page_content='Product Category Price Stock Description Laptop Electronics 999.99 50 High-performance laptop with 16GB RAM and 512GB SSD Mouse Accessories 29.99 200 Wireless optical mouse with ergonomic design Keyboard Accessories 79.99 150 Mechanical keyboard with RGB backlighting Monitor Electronics 299.99 75 27-inch 4K monitor with HDR support Webcam Electronics 89.99 100 1080p webcam with noise cancellation'),\n",
       " Document(metadata={'source': 'data/structured_files/inventory.xlsx', 'file_directory': 'data/structured_files', 'filename': 'inventory.xlsx', 'last_modified': '2025-08-28T13:44:20', 'page_name': 'Summary', 'page_number': 2, 'text_as_html': '<table><tr><td>Category</td><td>Total_Items</td><td>Total_Value</td></tr><tr><td>Electronics</td><td>3</td><td>1389.97</td></tr><tr><td>Accessories</td><td>2</td><td>109.98</td></tr></table>', 'languages': ['eng'], 'filetype': 'application/vnd.openxmlformats-officedocument.spreadsheetml.sheet', 'category': 'Table', 'element_id': 'dcf57c06f0490353601c69aaefb62f83'}, page_content='Category Total_Items Total_Value Electronics 3 1389.97 Accessories 2 109.98')]"
      ]
     },
     "execution_count": 22,
     "metadata": {},
     "output_type": "execute_result"
    }
   ],
   "source": [
    "unstructed_docs"
   ]
  },
  {
   "cell_type": "code",
   "execution_count": null,
   "id": "fd0abdf1",
   "metadata": {},
   "outputs": [],
   "source": []
  }
 ],
 "metadata": {
  "kernelspec": {
   "display_name": "RAG-Bootcamp",
   "language": "python",
   "name": "python3"
  },
  "language_info": {
   "codemirror_mode": {
    "name": "ipython",
    "version": 3
   },
   "file_extension": ".py",
   "mimetype": "text/x-python",
   "name": "python",
   "nbconvert_exporter": "python",
   "pygments_lexer": "ipython3",
   "version": "3.12.7"
  }
 },
 "nbformat": 4,
 "nbformat_minor": 5
}
