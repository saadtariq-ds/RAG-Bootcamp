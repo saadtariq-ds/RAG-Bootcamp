{
 "cells": [
  {
   "cell_type": "markdown",
   "id": "0885e9b9",
   "metadata": {},
   "source": [
    "## Setup and Import Libraries"
   ]
  },
  {
   "cell_type": "code",
   "execution_count": 1,
   "id": "a2b15fb2",
   "metadata": {},
   "outputs": [],
   "source": [
    "from langchain_community.document_loaders import Docx2txtLoader, UnstructuredWordDocumentLoader"
   ]
  },
  {
   "cell_type": "markdown",
   "id": "ec5f7926",
   "metadata": {},
   "source": [
    "## Method 1: Using DocxTxtLoader"
   ]
  },
  {
   "cell_type": "code",
   "execution_count": 2,
   "id": "4c94a966",
   "metadata": {},
   "outputs": [
    {
     "name": "stdout",
     "output_type": "stream",
     "text": [
      "  Loaded 1 documents\n",
      "  Content Preview: Project Proposal: RAG Implementation\n",
      "\n",
      "Executive Summary\n",
      "\n",
      "This proposal outlines the implementation o\n",
      "  Metadata: {'source': 'data/word_files/proposal.docx'}\n"
     ]
    }
   ],
   "source": [
    "try:\n",
    "    loader = Docx2txtLoader(\"data/word_files/proposal.docx\")\n",
    "    documents = loader.load()\n",
    "    print(f\"  Loaded {len(documents)} documents\")\n",
    "    print(f\"  Content Preview: {documents[0].page_content[:100]}\")\n",
    "    print(f\"  Metadata: {documents[0].metadata}\")\n",
    "except Exception as e:\n",
    "    print(f\"Error: {e}\")"
   ]
  },
  {
   "cell_type": "markdown",
   "id": "04329429",
   "metadata": {},
   "source": [
    "## Method 2: Unstructured Word Document Loader"
   ]
  },
  {
   "cell_type": "code",
   "execution_count": 5,
   "id": "d7ced508",
   "metadata": {},
   "outputs": [
    {
     "name": "stdout",
     "output_type": "stream",
     "text": [
      "Loaded 20 documents\n",
      "  \n",
      "Element 1\n",
      "  Content Preview: Project Proposal: RAG Implementation\n",
      "  Type: Title\n",
      "  \n",
      "Element 2\n",
      "  Content Preview: Executive Summary\n",
      "  Type: Title\n",
      "  \n",
      "Element 3\n",
      "  Content Preview: This proposal outlines the implementation of a Retrieval-Augmented Generation system for our organiz\n",
      "  Type: NarrativeText\n"
     ]
    }
   ],
   "source": [
    "try:\n",
    "    loader = UnstructuredWordDocumentLoader(\n",
    "        file_path=\"data/word_files/proposal.docx\", mode=\"elements\")\n",
    "    documents = loader.load()\n",
    "\n",
    "    print(f\"Loaded {len(documents)} documents\")\n",
    "    for i, document in enumerate(documents[:3]):\n",
    "        print(f\"  \\nElement {i + 1}\")\n",
    "        print(f\"  Content Preview: {document.page_content[:100]}\")\n",
    "        print(f\"  Type: {document.metadata.get('category', 'unknown')}\")\n",
    "except Exception as e:\n",
    "    print(f\"Error: {e}\")"
   ]
  },
  {
   "cell_type": "code",
   "execution_count": null,
   "id": "3852d884",
   "metadata": {},
   "outputs": [],
   "source": []
  }
 ],
 "metadata": {
  "kernelspec": {
   "display_name": "RAG-Bootcamp",
   "language": "python",
   "name": "python3"
  },
  "language_info": {
   "codemirror_mode": {
    "name": "ipython",
    "version": 3
   },
   "file_extension": ".py",
   "mimetype": "text/x-python",
   "name": "python",
   "nbconvert_exporter": "python",
   "pygments_lexer": "ipython3",
   "version": "3.12.7"
  }
 },
 "nbformat": 4,
 "nbformat_minor": 5
}
