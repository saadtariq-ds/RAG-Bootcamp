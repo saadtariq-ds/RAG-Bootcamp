{
 "cells": [
  {
   "cell_type": "markdown",
   "id": "b4dad7ab",
   "metadata": {},
   "source": [
    "# Hierarchical Agent Teams With RAG\n",
    "\n",
    "In our previous example (Agent Supervisor), we introduced the concept of a single supervisor node to route work between different worker nodes.\n",
    "\n",
    "But what if the job for a single worker becomes too complex? What if the number of workers becomes too large?\n",
    "\n",
    "For some applications, the system may be more effective if work is distributed hierarchically.\n",
    "\n",
    "You can do this by composing different subgraphs and creating a top-level supervisor, along with mid-level supervisors."
   ]
  },
  {
   "cell_type": "markdown",
   "id": "b9197cf4",
   "metadata": {},
   "source": [
    "## Setup and Import Libraries"
   ]
  },
  {
   "cell_type": "code",
   "execution_count": 1,
   "id": "756434cf",
   "metadata": {},
   "outputs": [
    {
     "name": "stderr",
     "output_type": "stream",
     "text": [
      "USER_AGENT environment variable not set, consider setting it to identify your requests.\n"
     ]
    }
   ],
   "source": [
    "import os\n",
    "from pathlib import Path\n",
    "from tempfile import TemporaryDirectory\n",
    "from typing import Dict, Optional, List, Literal, Annotated\n",
    "from typing_extensions import TypedDict\n",
    "from langchain_openai import OpenAIEmbeddings\n",
    "from langchain.document_loaders import TextLoader, WebBaseLoader\n",
    "from langchain.text_splitter import RecursiveCharacterTextSplitter\n",
    "from langchain.vectorstores import FAISS\n",
    "from langchain.chat_models import init_chat_model\n",
    "from langchain.agents import Tool\n",
    "from langchain_core.messages import HumanMessage, trim_messages\n",
    "from langchain_core.language_models.chat_models import BaseChatModel\n",
    "from langchain_core.tools import tool\n",
    "from langchain_tavily import TavilySearch\n",
    "from langchain_experimental.utilities import PythonREPL\n",
    "from langgraph.prebuilt import create_react_agent\n",
    "from langgraph.graph import StateGraph, MessagesState, START, END\n",
    "from langgraph.types import Command\n",
    "from dotenv import load_dotenv"
   ]
  },
  {
   "cell_type": "code",
   "execution_count": 2,
   "id": "afcfe844",
   "metadata": {},
   "outputs": [
    {
     "data": {
      "text/plain": [
       "True"
      ]
     },
     "execution_count": 2,
     "metadata": {},
     "output_type": "execute_result"
    }
   ],
   "source": [
    "load_dotenv()"
   ]
  },
  {
   "cell_type": "code",
   "execution_count": 3,
   "id": "5d1b60ec",
   "metadata": {},
   "outputs": [],
   "source": [
    "os.environ[\"TAVILY_API_KEY\"] = os.getenv(\"TAVILY_API_KEY\")\n",
    "os.environ[\"OPENAI_API_KEY\"] = os.getenv(\"OPENAI_API_KEY\")"
   ]
  },
  {
   "cell_type": "code",
   "execution_count": 4,
   "id": "1f46f413",
   "metadata": {},
   "outputs": [],
   "source": [
    "embeddings = OpenAIEmbeddings()\n",
    "llm = init_chat_model(\"openai:gpt-4o-mini\")"
   ]
  },
  {
   "cell_type": "markdown",
   "id": "7f3d7920",
   "metadata": {},
   "source": [
    "## CREATE TOOLS"
   ]
  },
  {
   "cell_type": "code",
   "execution_count": 5,
   "id": "00a4c114",
   "metadata": {},
   "outputs": [],
   "source": [
    "tavily_tool = TavilySearch(max_results=5)"
   ]
  },
  {
   "cell_type": "code",
   "execution_count": 6,
   "id": "7ca22f34",
   "metadata": {},
   "outputs": [],
   "source": [
    "@tool\n",
    "def scrape_webpages(urls:List[str]) -> str:\n",
    "    \"\"\" \n",
    "    Use Requests and BS4 to scrap the provided web pages for detailed information\n",
    "    \"\"\"\n",
    "    documents = WebBaseLoader(urls).load()\n",
    "    return \"\\n\\n\".join(\n",
    "        [\n",
    "            f\"<Document name='{document.metadata.get(\"title\", \"\")}'>\\n{document.page_content}\\n</Document>\"\n",
    "            for document in documents\n",
    "        ]\n",
    "    )"
   ]
  },
  {
   "cell_type": "code",
   "execution_count": 7,
   "id": "bf2e97d2",
   "metadata": {},
   "outputs": [],
   "source": [
    "_TEMP_DIRECTORY = TemporaryDirectory()\n",
    "WORKING_DIRECTORY = Path(_TEMP_DIRECTORY.name)\n",
    "\n",
    "# Document Writer\n",
    "@tool\n",
    "def create_outline(\n",
    "    points: Annotated[List[str], \"List of main points or sections.\"],\n",
    "    file_name: Annotated[str, \"File path to save the outline.\"], \n",
    ") -> Annotated[str, \"Path of the saved outline file.\"]:\n",
    "    \"\"\"\n",
    "    Create and save an outline.\n",
    "    \"\"\"\n",
    "    with (WORKING_DIRECTORY / file_name).open(mode=\"w\") as file:\n",
    "        for i, point in enumerate(points):\n",
    "            file.write(f\"{i + 1}. {point}\\n\")\n",
    "    return f\"Outline saved to {file_name}\"\n",
    "\n",
    "\n",
    "@tool\n",
    "def write_document(\n",
    "    content: Annotated[str, \"Text content to be written into the document.\"],\n",
    "    file_name: Annotated[str, \"File path to save the document.\"],\n",
    ") -> Annotated[str, \"Path of the saved document file.\"]:\n",
    "    \"\"\"\n",
    "    Create and save a text document.\n",
    "    \"\"\"\n",
    "    with (WORKING_DIRECTORY / file_name).open(mode=\"w\") as file:\n",
    "        file.write(content)\n",
    "\n",
    "    return f\"Document saved to {file_name}\"\n",
    "\n",
    "\n",
    "@tool\n",
    "def edit_document(\n",
    "    file_name: Annotated[str, \"Path of the document to be edited.\"],\n",
    "    inserts: Annotated[\n",
    "        Dict[int, str],\n",
    "        \"Dictionary where key is the line number (1-indexed) and value is the text to be inserted at that line.\",\n",
    "    ],\n",
    ") -> Annotated[str, \"Path of the edited document file.\"]:\n",
    "    \"\"\"Edit a document by inserting text at specific line numbers.\"\"\"\n",
    "\n",
    "    with (WORKING_DIRECTORY / file_name).open(mode=\"r\") as file:\n",
    "        lines = file.readlines()\n",
    "\n",
    "    sorted_inserts = sorted(inserts.items())\n",
    "\n",
    "    for line_number, text in sorted_inserts:\n",
    "        if 1 <= line_number <= len(lines) + 1:\n",
    "            lines.insert(line_number - 1, text + \"\\n\")\n",
    "        else:\n",
    "            return f\"Error: Line number {line_number} is out of range.\"\n",
    "\n",
    "    with (WORKING_DIRECTORY / file_name).open(mode=\"w\") as file:\n",
    "        file.writelines(lines)\n",
    "\n",
    "    return f\"Document edited and saved to {file_name}\"\n",
    "\n",
    "@tool\n",
    "def read_document(\n",
    "    file_name: Annotated[str, \"File path to read the document from.\"],\n",
    "    start: Annotated[Optional[int], \"The start line. Default is 0\"] = None,\n",
    "    end: Annotated[Optional[int], \"The end line. Default is None\"] = None,\n",
    ") -> str:\n",
    "    \"\"\"Read the specified document.\"\"\"\n",
    "    with (WORKING_DIRECTORY / file_name).open(\"r\") as file:\n",
    "        lines = file.readlines()\n",
    "    if start is None:\n",
    "        start = 0\n",
    "    return \"\\n\".join(lines[start:end])"
   ]
  },
  {
   "cell_type": "code",
   "execution_count": 8,
   "id": "f7f5752b",
   "metadata": {},
   "outputs": [],
   "source": [
    "# WORKING_DIRECTORY"
   ]
  },
  {
   "cell_type": "markdown",
   "id": "9efbadc5",
   "metadata": {},
   "source": [
    "### Chart Generator Tool"
   ]
  },
  {
   "cell_type": "code",
   "execution_count": 9,
   "id": "85b42e57",
   "metadata": {},
   "outputs": [],
   "source": [
    "repl = PythonREPL()\n",
    "\n",
    "\n",
    "@tool\n",
    "def python_repl_tool(\n",
    "    code: Annotated[str, \"The python code to execute to generate your chart.\"],\n",
    "):\n",
    "    \"\"\"Use this to execute python code. If you want to see the output of a value,\n",
    "    you should print it out with `print(...)`. This is visible to the user.\"\"\"\n",
    "    try:\n",
    "        result = repl.run(code)\n",
    "    except BaseException as e:\n",
    "        return f\"Failed to execute. Error: {repr(e)}\"\n",
    "    return f\"Successfully executed:\\n```python\\n{code}\\n```\\nStdout: {result}\""
   ]
  },
  {
   "cell_type": "markdown",
   "id": "00b40680",
   "metadata": {},
   "source": [
    "### Create Retriver Tool"
   ]
  },
  {
   "cell_type": "code",
   "execution_count": 10,
   "id": "6039e1ed",
   "metadata": {},
   "outputs": [
    {
     "data": {
      "text/plain": [
       "Tool(name='InternalResearchNotes', description='Search internal research notes for experimental results', func=<function make_retriever_tool_from_text.<locals>.tool_function at 0x00000115ACD062A0>)"
      ]
     },
     "execution_count": 10,
     "metadata": {},
     "output_type": "execute_result"
    }
   ],
   "source": [
    "def make_retriever_tool_from_text(file, name, description, chunk_size=500, chunk_overlap=50):\n",
    "    documents = TextLoader(file_path=file, encoding=\"utf-8\").load()\n",
    "    chunks = RecursiveCharacterTextSplitter(\n",
    "        chunk_size=chunk_size, chunk_overlap=chunk_overlap).split_documents(documents=documents)\n",
    "    \n",
    "    vector_store = FAISS.from_documents(\n",
    "        documents=chunks, \n",
    "        embedding=embeddings\n",
    "    )\n",
    "\n",
    "    retriever = vector_store.as_retriever()\n",
    "\n",
    "    def tool_function(query:str) -> str:\n",
    "        print(f\"📚 Using Tool: {name}\")\n",
    "        results = retriever.invoke(input=query)\n",
    "        return \"\\n\\n\".join(result.page_content for result in results)\n",
    "    \n",
    "    return Tool(name=name, description=description, func=tool_function)\n",
    "\n",
    "\n",
    "internal_document_tool = make_retriever_tool_from_text(\n",
    "    file=\"internal_docs.txt\",\n",
    "    name=\"InternalResearchNotes\", \n",
    "    description=\"Search internal research notes for experimental results\"\n",
    ")\n",
    "\n",
    "internal_document_tool"
   ]
  },
  {
   "cell_type": "markdown",
   "id": "1181ecbe",
   "metadata": {},
   "source": [
    "## Create State Message"
   ]
  },
  {
   "cell_type": "code",
   "execution_count": 11,
   "id": "abe79f70",
   "metadata": {},
   "outputs": [],
   "source": [
    "class State(MessagesState):\n",
    "    next: str"
   ]
  },
  {
   "cell_type": "markdown",
   "id": "fc8bb391",
   "metadata": {},
   "source": [
    "## Create Nodes"
   ]
  },
  {
   "cell_type": "markdown",
   "id": "722d12fc",
   "metadata": {},
   "source": [
    "### Create Supervisor Node"
   ]
  },
  {
   "cell_type": "code",
   "execution_count": 12,
   "id": "d649429d",
   "metadata": {},
   "outputs": [],
   "source": [
    "def make_supervisor_node(llm: BaseChatModel, members: list[str]) -> str:\n",
    "    options = [\"FINISH\"] + members\n",
    "    system_prompt = (\n",
    "        \"You are a supervisor tasked with managing a conversation between the\"\n",
    "        f\" following workers: {members}. Given the following user request,\"\n",
    "        \" respond with the worker to act next. Each worker will perform a\"\n",
    "        \" task and respond with their results and status. When finished,\"\n",
    "        \" respond with FINISH.\"\n",
    "    )\n",
    "\n",
    "    class Router(TypedDict):\n",
    "        \"\"\"Worker to route to next. If no workers needed, route to FINISH.\"\"\"\n",
    "\n",
    "        next: Literal[*options]\n",
    "\n",
    "    def supervisor_node(state: State) -> Command[Literal[*members, \"__end__\"]]:\n",
    "        \"\"\"An LLM-based router.\"\"\"\n",
    "        messages = [\n",
    "            {\"role\": \"system\", \"content\": system_prompt},\n",
    "        ] + state[\"messages\"]\n",
    "        response = llm.with_structured_output(Router).invoke(messages)\n",
    "        goto = response[\"next\"]\n",
    "        if goto == \"FINISH\":\n",
    "            goto = END\n",
    "\n",
    "        return Command(goto=goto, update={\"next\": goto})\n",
    "\n",
    "    return supervisor_node"
   ]
  },
  {
   "cell_type": "markdown",
   "id": "f5c0aa7d",
   "metadata": {},
   "source": [
    "## Create Research Team"
   ]
  },
  {
   "cell_type": "markdown",
   "id": "1bbab6e5",
   "metadata": {},
   "source": [
    "### Create Search Node"
   ]
  },
  {
   "cell_type": "code",
   "execution_count": 13,
   "id": "210686a9",
   "metadata": {},
   "outputs": [],
   "source": [
    "search_agent = create_react_agent(\n",
    "    model=llm, tools=[tavily_tool, internal_document_tool]\n",
    ")\n",
    "\n",
    "def search_node(state: State) -> Command[Literal[\"supervisor\"]]:\n",
    "    result = search_agent.invoke(input=state)\n",
    "    return Command(\n",
    "        update={\n",
    "            \"messages\": [\n",
    "                HumanMessage(content=result[\"messages\"][-1].content, name=\"search\")\n",
    "            ]\n",
    "        },\n",
    "        goto=\"supervisor\"\n",
    "    )"
   ]
  },
  {
   "cell_type": "markdown",
   "id": "d2e38918",
   "metadata": {},
   "source": [
    "### Create WebScraper Node"
   ]
  },
  {
   "cell_type": "code",
   "execution_count": 14,
   "id": "ba5b6d57",
   "metadata": {},
   "outputs": [],
   "source": [
    "web_scraper_agent = create_react_agent(\n",
    "    model=llm, tools=[scrape_webpages]\n",
    ")\n",
    "\n",
    "def web_scraper_node(state: State) -> Command[Literal[\"supervisor\"]]:\n",
    "    result = web_scraper_agent.invoke(input=state)\n",
    "    return Command(\n",
    "        update={\n",
    "            \"messages\": [\n",
    "                HumanMessage(content=result[\"messages\"][-1].content, name=\"web_scraper\")\n",
    "            ]\n",
    "        },\n",
    "        goto=\"supervisor\",\n",
    "    )"
   ]
  },
  {
   "cell_type": "markdown",
   "id": "19347852",
   "metadata": {},
   "source": [
    "### Build Research Team Graph"
   ]
  },
  {
   "cell_type": "code",
   "execution_count": 15,
   "id": "e1369eb8",
   "metadata": {},
   "outputs": [],
   "source": [
    "research_supervisor_node = make_supervisor_node(\n",
    "    llm=llm, members=[\"search\", \"web_scraper\"]\n",
    ")"
   ]
  },
  {
   "cell_type": "code",
   "execution_count": 16,
   "id": "cdd83eab",
   "metadata": {},
   "outputs": [
    {
     "data": {
      "image/png": "[encoded data removed]",
      "text/plain": [
       "<langgraph.graph.state.CompiledStateGraph object at 0x00000115CEDBA7E0>"
      ]
     },
     "execution_count": 16,
     "metadata": {},
     "output_type": "execute_result"
    }
   ],
   "source": [
    "research_builder = StateGraph(State)\n",
    "\n",
    "# Add Nodes\n",
    "research_builder.add_node(node=\"supervisor\", action=research_supervisor_node)\n",
    "research_builder.add_node(node=\"search\", action=search_node)\n",
    "research_builder.add_node(node=\"web_scraper\", action=web_scraper_node)\n",
    "\n",
    "# Add Edges\n",
    "research_builder.add_edge(start_key=START, end_key=\"supervisor\")\n",
    "\n",
    "# Compile Graph\n",
    "research_graph = research_builder.compile()\n",
    "\n",
    "research_graph"
   ]
  },
  {
   "cell_type": "markdown",
   "id": "93e80a22",
   "metadata": {},
   "source": [
    "## Create Document Team"
   ]
  },
  {
   "cell_type": "markdown",
   "id": "74a09240",
   "metadata": {},
   "source": [
    "### Document Writing Node"
   ]
  },
  {
   "cell_type": "code",
   "execution_count": 17,
   "id": "9c0b8fe4",
   "metadata": {},
   "outputs": [],
   "source": [
    "doc_writer_agent = create_react_agent(\n",
    "    model=llm,\n",
    "    tools=[write_document, edit_document, read_document],\n",
    "    prompt=(\n",
    "        \"You can read, write and edit documents based on note-taker's outlines. \"\n",
    "        \"Don't ask follow-up questions.\"\n",
    "    ),\n",
    ")\n",
    "\n",
    "def doc_writing_node(state: State) -> Command[Literal[\"supervisor\"]]:\n",
    "    result = doc_writer_agent.invoke(input=state)\n",
    "    return Command(\n",
    "        update={\n",
    "            \"messages\": [\n",
    "                HumanMessage(content=result[\"messages\"][-1].content, name=\"doc_writer\")\n",
    "            ]\n",
    "        },\n",
    "        goto=\"supervisor\",\n",
    "    )"
   ]
  },
  {
   "cell_type": "markdown",
   "id": "c4d3839c",
   "metadata": {},
   "source": [
    "### Create Note Taking Node"
   ]
  },
  {
   "cell_type": "code",
   "execution_count": 18,
   "id": "7b761f5a",
   "metadata": {},
   "outputs": [],
   "source": [
    "note_taking_agent = create_react_agent(\n",
    "    model=llm,\n",
    "    tools=[create_outline, read_document],\n",
    "    prompt=(\n",
    "        \"You can read documents and create outlines for the document writer. \"\n",
    "        \"Don't ask follow-up questions.\"\n",
    "    ),\n",
    ")\n",
    "\n",
    "def note_taking_node(state: State) -> Command[Literal[\"supervisor\"]]:\n",
    "    result = note_taking_agent.invoke(input=state)\n",
    "    return Command(\n",
    "        update={\n",
    "            \"messages\": [\n",
    "                HumanMessage(content=result[\"messages\"][-1].content, name=\"note_taker\")\n",
    "            ]\n",
    "        },\n",
    "        goto=\"supervisor\",\n",
    "    )"
   ]
  },
  {
   "cell_type": "markdown",
   "id": "12f28d0c",
   "metadata": {},
   "source": [
    "### Create Chart Generator Node"
   ]
  },
  {
   "cell_type": "code",
   "execution_count": 19,
   "id": "cae428b9",
   "metadata": {},
   "outputs": [],
   "source": [
    "chart_generating_agent = create_react_agent(\n",
    "    model=llm, tools=[read_document, python_repl_tool]\n",
    ")\n",
    "\n",
    "def chart_generating_node(state: State) -> Command[Literal[\"supervisor\"]]:\n",
    "    result = chart_generating_agent.invoke(input=state)\n",
    "    return Command(\n",
    "        update={\n",
    "            \"messages\": [\n",
    "                HumanMessage(\n",
    "                    content=result[\"messages\"][-1].content, name=\"chart_generator\"\n",
    "                )\n",
    "            ]\n",
    "        },\n",
    "        goto=\"supervisor\",\n",
    "    )"
   ]
  },
  {
   "cell_type": "markdown",
   "id": "b77380bb",
   "metadata": {},
   "source": [
    "### Build Document Team Graph"
   ]
  },
  {
   "cell_type": "code",
   "execution_count": 20,
   "id": "45f09a5a",
   "metadata": {},
   "outputs": [],
   "source": [
    "document_supervisor_node = make_supervisor_node(\n",
    "    llm=llm, members=[\"doc_writer\", \"note_taker\", \"chart_generator\"]\n",
    ")"
   ]
  },
  {
   "cell_type": "code",
   "execution_count": 21,
   "id": "7244b78b",
   "metadata": {},
   "outputs": [
    {
     "data": {
      "image/png": "[encoded data removed]",
      "text/plain": [
       "<langgraph.graph.state.CompiledStateGraph object at 0x00000115CF35E300>"
      ]
     },
     "execution_count": 21,
     "metadata": {},
     "output_type": "execute_result"
    }
   ],
   "source": [
    "document_builder = StateGraph(State)\n",
    "\n",
    "# Add Nodes\n",
    "document_builder.add_node(node=\"supervisor\", action=document_supervisor_node)\n",
    "document_builder.add_node(node=\"doc_writer\", action=doc_writing_node)\n",
    "document_builder.add_node(node=\"note_taker\", action=note_taking_node)\n",
    "document_builder.add_node(node=\"chart_generator\", action=chart_generating_node)\n",
    "\n",
    "# Add Edges\n",
    "document_builder.add_edge(start_key=START, end_key=\"supervisor\")\n",
    "\n",
    "# Compile Graph\n",
    "document_graph = document_builder.compile()\n",
    "\n",
    "document_graph"
   ]
  },
  {
   "cell_type": "markdown",
   "id": "4295f4dd",
   "metadata": {},
   "source": [
    "## Create Team Supervisor Node"
   ]
  },
  {
   "cell_type": "code",
   "execution_count": 22,
   "id": "1e995aa2",
   "metadata": {},
   "outputs": [],
   "source": [
    "teams_supervisor_node = make_supervisor_node(\n",
    "    llm=llm, members=[\"research_team\", \"document_team\"]\n",
    ")"
   ]
  },
  {
   "cell_type": "code",
   "execution_count": 23,
   "id": "7d721c88",
   "metadata": {},
   "outputs": [],
   "source": [
    "def call_research_team(state: State) -> Command[Literal[\"supervisor\"]]:\n",
    "    response = research_graph.invoke({\"messages\": state[\"messages\"][-1]})\n",
    "    return Command(\n",
    "        update={\n",
    "            \"messages\": [\n",
    "                HumanMessage(\n",
    "                    content=response[\"messages\"][-1].content, name=\"research_team\"\n",
    "                )\n",
    "            ]\n",
    "        },\n",
    "        goto=\"supervisor\",\n",
    "    )\n",
    "\n",
    "\n",
    "def call_document_team(state: State) -> Command[Literal[\"supervisor\"]]:\n",
    "    response = document_graph.invoke({\"messages\": state[\"messages\"][-1]})\n",
    "    return Command(\n",
    "        update={\n",
    "            \"messages\": [\n",
    "                HumanMessage(\n",
    "                    content=response[\"messages\"][-1].content, name=\"document_team\"\n",
    "                )\n",
    "            ]\n",
    "        },\n",
    "        goto=\"supervisor\",\n",
    "    )"
   ]
  },
  {
   "cell_type": "code",
   "execution_count": 24,
   "id": "7a6300c6",
   "metadata": {},
   "outputs": [
    {
     "data": {
      "image/png": "[encoded data removed]",
      "text/plain": [
       "<langgraph.graph.state.CompiledStateGraph object at 0x00000115CF35F710>"
      ]
     },
     "execution_count": 24,
     "metadata": {},
     "output_type": "execute_result"
    }
   ],
   "source": [
    "super_builder = StateGraph(State)\n",
    "\n",
    "# Add Nodes\n",
    "super_builder.add_node(node=\"supervisor\", action=teams_supervisor_node)\n",
    "super_builder.add_node(node=\"research_team\", action=call_research_team)\n",
    "super_builder.add_node(node=\"document_team\", action=call_document_team)\n",
    "\n",
    "# Add Edges\n",
    "super_builder.add_edge(start_key=START, end_key=\"supervisor\")\n",
    "\n",
    "# Compile Graph\n",
    "super_graph = super_builder.compile()\n",
    "super_graph"
   ]
  },
  {
   "cell_type": "markdown",
   "id": "6d5b5519",
   "metadata": {},
   "source": [
    "## Query Graph"
   ]
  },
  {
   "cell_type": "code",
   "execution_count": 25,
   "id": "f0ca7386",
   "metadata": {},
   "outputs": [],
   "source": [
    "response = super_graph.invoke(\n",
    "    {\n",
    "        \"messages\": [\n",
    "            (\"user\", \"Write about transformer variants in production deployments.\")\n",
    "        ],\n",
    "    }\n",
    ")"
   ]
  },
  {
   "cell_type": "code",
   "execution_count": 26,
   "id": "a781f9c0",
   "metadata": {},
   "outputs": [
    {
     "data": {
      "text/plain": [
       "{'messages': [HumanMessage(content='Write about transformer variants in production deployments.', additional_kwargs={}, response_metadata={}, id='17b9e678-e585-48f1-8a7b-36e788baa375'),\n",
       "  HumanMessage(content='Transformer variants have significantly influenced the landscape of machine learning and natural language processing (NLP). Here are some prominent variants and considerations in their production deployments based on the insights gathered:\\n\\n### 1. **BERT (Bidirectional Encoder Representations from Transformers)**\\n   - **Overview**: BERT excels in understanding the context of words and phrases in language, making it suitable for various NLP tasks such as question answering and sentiment analysis.\\n   - **Challenges**: Its large size and computational demands can lead to latency issues, particularly in real-time applications.\\n\\n### 2. **GPT (Generative Pre-trained Transformer)**\\n   - **Overview**: GPT models are optimized for text generation tasks, enabling capabilities like conversational agents and content creation.\\n   - **Considerations**: Deploying GPT models typically requires powerful hardware, especially when aiming for quick response times.\\n\\n### 3. **DistilBERT and Other Smaller Variants**\\n   - **Overview**: DistilBERT is a compact version of BERT, designed to operate efficiently while retaining much of the model’s accuracy.\\n   - **Benefits**: For applications with resource constraints or where speed is crucial, lighter variants enable faster inference times and lower memory consumption.\\n\\n### 4. **Optimization Engines**\\n   - **Triton Inference Server & ONNX Runtime**: Integrating transformers with optimization tools enhances performance. These engines can amplify the efficiency of transformer models in production, improving throughput and responsiveness under varying loads.\\n\\n### 5. **Deployment Strategies**\\n   - **Scalability**: Effective deployment of transformer models involves techniques like container orchestration and serverless architectures.\\n   - **Real-time Performance Monitoring**: Continuous monitoring of model performance is necessary to ensure that they respond swiftly as usage escalates.\\n\\n### 6. **Best Practices for Deployment**\\n   - Utilize model formats compatible with serving frameworks (e.g., TensorFlow Serving) for efficient deployment.\\n   - Employ A/B testing to assess user satisfaction and model performance, which can guide critical refinements post-deployment.\\n\\n### Conclusion\\nIn summary, transformer variants like BERT, GPT, and DistilBERT offer tailored solutions for various NLP tasks. However, successfully deploying these models in production involves a blend of optimizing hardware utilization, adopting robust deployment strategies, and conducting ongoing performance evaluations. Such thorough approaches ensure that transformer models can effectively meet real-world application demands.', additional_kwargs={}, response_metadata={}, name='research_team', id='5ec81a10-eb84-4303-a7ac-f505df5ca30f'),\n",
       "  HumanMessage(content='Great! If you need any further assistance with the document or would like to expand on any sections, feel free to let me know!', additional_kwargs={}, response_metadata={}, name='document_team', id='238154a1-40f0-4d17-ad11-c78d79b34d65')],\n",
       " 'next': '__end__'}"
      ]
     },
     "execution_count": 26,
     "metadata": {},
     "output_type": "execute_result"
    }
   ],
   "source": [
    "response"
   ]
  },
  {
   "cell_type": "code",
   "execution_count": 27,
   "id": "6bd53cee",
   "metadata": {},
   "outputs": [
    {
     "data": {
      "text/plain": [
       "'Great! If you need any further assistance with the document or would like to expand on any sections, feel free to let me know!'"
      ]
     },
     "execution_count": 27,
     "metadata": {},
     "output_type": "execute_result"
    }
   ],
   "source": [
    "response[\"messages\"][-1].content"
   ]
  },
  {
   "cell_type": "code",
   "execution_count": null,
   "id": "a86bb6d5",
   "metadata": {},
   "outputs": [],
   "source": []
  }
 ],
 "metadata": {
  "kernelspec": {
   "display_name": "RAG-Bootcamp",
   "language": "python",
   "name": "python3"
  },
  "language_info": {
   "codemirror_mode": {
    "name": "ipython",
    "version": 3
   },
   "file_extension": ".py",
   "mimetype": "text/x-python",
   "name": "python",
   "nbconvert_exporter": "python",
   "pygments_lexer": "ipython3",
   "version": "3.12.7"
  }
 },
 "nbformat": 4,
 "nbformat_minor": 5
}
