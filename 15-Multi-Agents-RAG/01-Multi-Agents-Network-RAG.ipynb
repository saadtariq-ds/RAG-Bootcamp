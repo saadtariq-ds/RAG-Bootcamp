{
 "cells": [
  {
   "cell_type": "markdown",
   "id": "3ced162d",
   "metadata": {},
   "source": [
    "### 🤖 What are Multi-Agent RAG Systems?\n",
    "A Multi-Agent RAG System splits the RAG pipeline into multiple specialized agents — each responsible for a specific role — and enables them to collaborate on a single query or task.\n",
    "\n",
    "## 📋 Multi-Agent Network RAG System with LangGraph\n",
    "Project Overview\n",
    "\n",
    "A beginner-friendly Retrieval-Augmented Generation (RAG) system that uses a multi-agent architecture to intelligently answer questions from your documents. Built with LangGraph v0.3 for workflow orchestration and OpenAI for language understanding.\n",
    "\n",
    "What It Does\n",
    "\n",
    "Transforms your documents (PDFs, text files) into a searchable knowledge base that can answer questions intelligently using AI. Simply upload documents and ask questions in natural language - the system finds relevant information and generates comprehensive answers.\n",
    "Key Features\n",
    "\n",
    "- 📚 Multi-Format Support: Handles PDF and text documents\n",
    "- 🤖 3-Agent Architecture: Specialized agents for document processing, retrieval, and answer generation\n",
    "- 🔍 Smart Search: Vector-based semantic search finds relevant information\n",
    "- 💬 Natural Language Q&A: Ask questions in plain English\n"
   ]
  },
  {
   "cell_type": "markdown",
   "id": "5572cd1a",
   "metadata": {},
   "source": [
    "## Setup and Import Libraries"
   ]
  },
  {
   "cell_type": "code",
   "execution_count": 1,
   "id": "6103f984",
   "metadata": {},
   "outputs": [],
   "source": [
    "import os\n",
    "from typing import Annotated, Literal\n",
    "from langchain.chat_models import init_chat_model\n",
    "from langchain_tavily import TavilySearch\n",
    "from langchain_core.tools import tool\n",
    "from langchain.agents import Tool\n",
    "from langchain_community.tools import WikipediaQueryRun\n",
    "from langchain.utilities import WikipediaAPIWrapper\n",
    "from langchain.document_loaders import TextLoader\n",
    "from langchain.vectorstores import FAISS\n",
    "from langchain_openai import OpenAIEmbeddings\n",
    "from langchain.text_splitter import RecursiveCharacterTextSplitter\n",
    "from langchain_core.messages import BaseMessage, HumanMessage\n",
    "from langgraph.prebuilt import create_react_agent\n",
    "from langgraph.graph import START, StateGraph, MessagesState, END\n",
    "from langgraph.types import Command\n",
    "from dotenv import load_dotenv\n"
   ]
  },
  {
   "cell_type": "code",
   "execution_count": 2,
   "id": "3df5dd47",
   "metadata": {},
   "outputs": [
    {
     "data": {
      "text/plain": [
       "True"
      ]
     },
     "execution_count": 2,
     "metadata": {},
     "output_type": "execute_result"
    }
   ],
   "source": [
    "load_dotenv()"
   ]
  },
  {
   "cell_type": "code",
   "execution_count": 3,
   "id": "507bf871",
   "metadata": {},
   "outputs": [],
   "source": [
    "os.environ[\"TAVILY_API_KEY\"] = os.getenv(\"TAVILY_API_KEY\")\n",
    "os.environ[\"OPENAI_API_KEY\"] = os.getenv(\"OPENAI_API_KEY\")"
   ]
  },
  {
   "cell_type": "code",
   "execution_count": 4,
   "id": "9036baaa",
   "metadata": {},
   "outputs": [],
   "source": [
    "embeddings = OpenAIEmbeddings()\n",
    "llm = init_chat_model(\"openai:gpt-4o-mini\")"
   ]
  },
  {
   "cell_type": "markdown",
   "id": "40a6781d",
   "metadata": {},
   "source": [
    "## Create Tools"
   ]
  },
  {
   "cell_type": "markdown",
   "id": "2b0a268e",
   "metadata": {},
   "source": [
    "### Tavily Tool"
   ]
  },
  {
   "cell_type": "code",
   "execution_count": 5,
   "id": "da36a2f7",
   "metadata": {},
   "outputs": [],
   "source": [
    "tavily_tool = TavilySearch(max_results=5)"
   ]
  },
  {
   "cell_type": "markdown",
   "id": "732f2acf",
   "metadata": {},
   "source": [
    "### Retriever Tool"
   ]
  },
  {
   "cell_type": "code",
   "execution_count": 6,
   "id": "13af3b23",
   "metadata": {},
   "outputs": [
    {
     "data": {
      "text/plain": [
       "Tool(name='InternalResearchNotes', description='Search internal research notes for experimental results', func=<function make_retriever_tool_from_text.<locals>.tool_function at 0x000002A62E9D1A80>)"
      ]
     },
     "execution_count": 6,
     "metadata": {},
     "output_type": "execute_result"
    }
   ],
   "source": [
    "def make_retriever_tool_from_text(file, name, description, chunk_size=500, chunk_overlap=50):\n",
    "    documents = TextLoader(file_path=file, encoding=\"utf-8\").load()\n",
    "    chunks = RecursiveCharacterTextSplitter(\n",
    "        chunk_size=chunk_size, chunk_overlap=chunk_overlap).split_documents(documents=documents)\n",
    "    \n",
    "    vector_store = FAISS.from_documents(\n",
    "        documents=chunks, \n",
    "        embedding=embeddings\n",
    "    )\n",
    "\n",
    "    retriever = vector_store.as_retriever()\n",
    "\n",
    "    def tool_function(query:str) -> str:\n",
    "        print(f\"📚 Using Tool: {name}\")\n",
    "        results = retriever.invoke(input=query)\n",
    "        return \"\\n\\n\".join(result.page_content for result in results)\n",
    "    \n",
    "    return Tool(name=name, description=description, func=tool_function)\n",
    "\n",
    "\n",
    "internal_document_tool = make_retriever_tool_from_text(\n",
    "    file=\"internal_docs.txt\",\n",
    "    name=\"InternalResearchNotes\", \n",
    "    description=\"Search internal research notes for experimental results\"\n",
    ")\n",
    "\n",
    "internal_document_tool"
   ]
  },
  {
   "cell_type": "markdown",
   "id": "16e94274",
   "metadata": {},
   "source": [
    "## Creating Node"
   ]
  },
  {
   "cell_type": "code",
   "execution_count": 7,
   "id": "7e003215",
   "metadata": {},
   "outputs": [],
   "source": [
    "def get_next_node(last_message: BaseMessage, goto_node: str):\n",
    "    if \"FINAL ANSWER\" in last_message.content:\n",
    "        return END\n",
    "    return goto_node"
   ]
  },
  {
   "cell_type": "code",
   "execution_count": 8,
   "id": "f1889536",
   "metadata": {},
   "outputs": [],
   "source": [
    "def make_system_prompt(suffix: str) -> str:\n",
    "    return (\n",
    "        \"You are a helpful AI assistant, collaborating with other assistants.\"\n",
    "        \" Use the provided tools to progress towards answering the question.\"\n",
    "        \" If you are unable to fully answer, that's OK, another assistant with different tools \"\n",
    "        \" will help where you left off. Execute what you can to make progress.\"\n",
    "        \" If you or any of the other assistants have the final answer or deliverable,\"\n",
    "        \" prefix your response with FINAL ANSWER so the team knows to stop.\"\n",
    "        f\"\\n{suffix}\"\n",
    "    )"
   ]
  },
  {
   "cell_type": "markdown",
   "id": "d7868f38",
   "metadata": {},
   "source": [
    "### Research Agent"
   ]
  },
  {
   "cell_type": "code",
   "execution_count": 9,
   "id": "a02ac0fa",
   "metadata": {},
   "outputs": [
    {
     "data": {
      "image/png": "[encoded data removed]",
      "text/plain": [
       "<langgraph.graph.state.CompiledStateGraph object at 0x000002A6308C7590>"
      ]
     },
     "execution_count": 9,
     "metadata": {},
     "output_type": "execute_result"
    }
   ],
   "source": [
    "research_agent = create_react_agent(\n",
    "    model=llm,\n",
    "    tools=[internal_document_tool, tavily_tool],\n",
    "    prompt=make_system_prompt(suffix=\"\"\"You can only do research. Use the tool that you are binded with, you can use both of them\n",
    "    You are working with a content writer colleague.\"\"\")\n",
    ")\n",
    "\n",
    "research_agent"
   ]
  },
  {
   "cell_type": "markdown",
   "id": "141792bb",
   "metadata": {},
   "source": [
    "### Research Node"
   ]
  },
  {
   "cell_type": "code",
   "execution_count": 10,
   "id": "9c0f009b",
   "metadata": {},
   "outputs": [],
   "source": [
    "def research_node(state:MessagesState) -> Command[Literal[\"blog_generator\", END]]:\n",
    "    result = research_agent.invoke(input=state)\n",
    "    goto_node = get_next_node(last_message=result[\"messages\"][-1], goto_node=\"blog_generator\")\n",
    "\n",
    "    result[\"messages\"][-1] = HumanMessage(\n",
    "        content=result[\"messages\"][-1].content,\n",
    "        name=\"researcher\"\n",
    "    )\n",
    "\n",
    "    return Command(\n",
    "        update={\n",
    "            # share internal message history of research agent with other agents\n",
    "            \"messages\": result[\"messages\"],\n",
    "        },\n",
    "        goto=goto_node,\n",
    "    )"
   ]
  },
  {
   "cell_type": "markdown",
   "id": "43d39362",
   "metadata": {},
   "source": [
    "### Blog Writer Agent"
   ]
  },
  {
   "cell_type": "code",
   "execution_count": 11,
   "id": "089523c2",
   "metadata": {},
   "outputs": [],
   "source": [
    "blog_agent = create_react_agent(\n",
    "    model=llm,\n",
    "    tools=[tavily_tool],\n",
    "    prompt=make_system_prompt(\n",
    "        suffix=\"You can only write a detailed blog. You are working with a researcher colleague.\"\n",
    "    )\n",
    ")"
   ]
  },
  {
   "cell_type": "markdown",
   "id": "0034cc1c",
   "metadata": {},
   "source": [
    "### Blog Writer Node"
   ]
  },
  {
   "cell_type": "code",
   "execution_count": 12,
   "id": "5dfb8f06",
   "metadata": {},
   "outputs": [],
   "source": [
    "def blog_node(state: MessagesState) -> Command[Literal[\"researcher\", END]]:\n",
    "    result = blog_agent.invoke(input=state)\n",
    "    goto_node = get_next_node(last_message=result[\"messages\"][-1], goto_node=\"researcher\")\n",
    "\n",
    "    result[\"messages\"][-1] = HumanMessage(\n",
    "        content=result[\"messages\"][-1].content, \n",
    "        name=\"blog_generator\"\n",
    "    )\n",
    "\n",
    "    return Command(\n",
    "        update={\n",
    "            # share internal message history of chart agent with other agents\n",
    "            \"messages\": result[\"messages\"],\n",
    "        },\n",
    "        goto=goto_node,\n",
    "    )"
   ]
  },
  {
   "cell_type": "markdown",
   "id": "704207f7",
   "metadata": {},
   "source": [
    "## Create Graph"
   ]
  },
  {
   "cell_type": "code",
   "execution_count": 13,
   "id": "56e16595",
   "metadata": {},
   "outputs": [
    {
     "data": {
      "image/png": "[encoded data removed]",
      "text/plain": [
       "<langgraph.graph.state.CompiledStateGraph object at 0x000002A630BE94F0>"
      ]
     },
     "execution_count": 13,
     "metadata": {},
     "output_type": "execute_result"
    }
   ],
   "source": [
    "builder = StateGraph(MessagesState)\n",
    "\n",
    "# Add Nodes\n",
    "builder.add_node(node=\"researcher\", action=research_node)\n",
    "builder.add_node(node=\"blog_generator\", action=blog_node)\n",
    "\n",
    "# Add Edges\n",
    "builder.add_edge(start_key=START, end_key=\"researcher\")\n",
    "\n",
    "# Compile Graph\n",
    "graph = builder.compile()\n",
    "graph"
   ]
  },
  {
   "cell_type": "code",
   "execution_count": 14,
   "id": "eb18d6b2",
   "metadata": {},
   "outputs": [
    {
     "name": "stdout",
     "output_type": "stream",
     "text": [
      "📚 Using Tool: InternalResearchNotes\n"
     ]
    }
   ],
   "source": [
    "response = graph.invoke({\"messages\":\"Write a detailed blog on transformer variants in production deployments\"})"
   ]
  },
  {
   "cell_type": "code",
   "execution_count": 15,
   "id": "555cc02b",
   "metadata": {},
   "outputs": [
    {
     "data": {
      "text/plain": [
       "'FINAL ANSWER\\n\\n### Transformer Variants in Production Deployments\\n\\nThe deployment of transformer models in production environments is a pivotal aspect of harnessing their potential for various applications, including natural language processing, computer vision, and more. As organizations increasingly adopt machine learning, understanding the variants of transformer models and their specific deployment strategies becomes essential. This blog post explores several notable transformer variants, their deployment considerations, and best practices to ensure successful implementation.\\n\\n#### Notable Transformer Variants\\n\\n1. **BERT (Bidirectional Encoder Representations from Transformers)**:\\n   - BERT revolutionized NLP by using bidirectional training, allowing the model to consider the context of words from both left and right.\\n   - **Use Cases**: Question answering, sentiment analysis, and language translation.\\n\\n2. **GPT (Generative Pre-trained Transformer)**:\\n   - GPT employs an autoregressive approach where it predicts the next word by considering all previous words in the input.\\n   - **Use Cases**: Text generation, dialogue systems, and creative writing.\\n\\n3. **DistilBERT**:\\n   - A distilled version of BERT, offering a smaller, faster model with slightly reduced accuracy but significantly improved efficiency.\\n   - **Use Cases**: Scenarios where speed and resource usage are critical, such as on mobile devices.\\n\\n4. **Reformer**:\\n   - Enhances efficiency by using locality-sensitive hashing (LSH) to approximate the attention mechanism, reducing memory consumption significantly.\\n   - **Use Cases**: Tasks needing large contextual models, particularly under tight memory constraints.\\n\\n5. **EfficientFormer**:\\n   - Designed for resource-constrained environments, it utilizes quantization and optimization techniques for rapid inference on mobile and edge devices.\\n   - **Key Feature**: Offers a remarkable inference speed, making it suitable for applications requiring real-time processing, such as in autonomous systems.\\n\\n#### Best Practices for Deploying Transformer Models\\n\\nDeploying transformer models effectively requires careful planning and consideration of several aspects:\\n\\n1. **Model Export and Optimization**: \\n   - Export models in a production-ready format (e.g., ONNX) to enhance compatibility and performance across different platforms.\\n   - Use optimization techniques like quantization and pruning to reduce model size and inference time.\\n\\n2. **Infrastructure Choices**:\\n   - Choose cloud providers or hardware that support high-memory instances and GPUs (e.g., AWS, Azure, Google Cloud).\\n   - Utilize serverless computing solutions for scaling and managing infrastructure dynamically based on traffic.\\n\\n3. **Deployment Strategies**:\\n   - Implement CI/CD pipelines to automate the testing and deployment of models to ensure code quality and quick rollouts.\\n   - Engage in canary releases, wherein a new model is deployed to a small subset of users to monitor performance before a full rollout.\\n\\n4. **Monitoring and Performance Metrics**:\\n   - Integrate monitoring tools to track model performance and user interaction, identifying any anomalies in real-time.\\n   - Focus on key performance indicators such as latency, throughput, and error rates to assess the overall efficiency of the deployed models.\\n\\n5. **Handling Latency and Scalability**:\\n   - Optimize for lower latency by using techniques like caching and preloading models.\\n   - Scale horizontally by adding more instances of the model to handle increased user demand without degrading performance.\\n\\n6. **Ensuring Robustness**:\\n   - Regularly retrain models with updated datasets to maintain relevance and accuracy.\\n   - Implement robust error handling and fallback mechanisms to ensure user experience is uninterrupted in the event of failures.\\n\\n7. **Experiment Tracking**:\\n   - Utilize tools like DVC and MLflow for tracking experiments and maintaining attempt logs, enabling easier reproduction of results and model deployments.\\n\\n#### Conclusion\\n\\nThe deployment of transformer variants in production requires a thoughtful approach considering their inherent complexities and operational challenges. By selecting the right model variant, optimizing deployment strategies, and ensuring robust monitoring and testing practices, organizations can leverage the power of transformers to enhance their applications effectively. As technology evolves, keeping abreast of best practices and emerging tools in model deployment will be crucial for sustaining a competitive edge in machine learning initiatives. \\n\\nFor an in-depth guide on strategies and frameworks for deployment, refer to articles on [Medium](https://medium.com/@kaushalsinh73/the-right-way-to-deploy-transformers-in-production-27499aaf2af7) and [AWS’ tutorials on deploying transformer models](https://aws.plainenglish.io/deploying-transformer-models-distilbert-on-aws-for-production-a-step-by-step-tutorial-with-2c5c3fa9fbcf). \\n\\nLet’s embrace the potential of transformers and ensure they are deployed effectively in production environments!'"
      ]
     },
     "execution_count": 15,
     "metadata": {},
     "output_type": "execute_result"
    }
   ],
   "source": [
    "response[\"messages\"][-1].content"
   ]
  },
  {
   "cell_type": "code",
   "execution_count": null,
   "id": "5cdace6c",
   "metadata": {},
   "outputs": [],
   "source": []
  }
 ],
 "metadata": {
  "kernelspec": {
   "display_name": "RAG-Bootcamp",
   "language": "python",
   "name": "python3"
  },
  "language_info": {
   "codemirror_mode": {
    "name": "ipython",
    "version": 3
   },
   "file_extension": ".py",
   "mimetype": "text/x-python",
   "name": "python",
   "nbconvert_exporter": "python",
   "pygments_lexer": "ipython3",
   "version": "3.12.7"
  }
 },
 "nbformat": 4,
 "nbformat_minor": 5
}
