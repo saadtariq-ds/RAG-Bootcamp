{
 "cells": [
  {
   "cell_type": "markdown",
   "id": "7161837f",
   "metadata": {},
   "source": [
    "# Multi Agent Suprvisor With RAG\n",
    "\n",
    "Supervisor is a multi-agent architecture where specialized agents are coordinated by a central supervisor agent. The supervisor agent controls all communication flow and task delegation, making decisions about which agent to invoke based on the current context and task requirements.\n",
    "\n",
    "In this tutorial, you will build a supervisor system with two agents — a research and a math expert. By the end of the tutorial you will:\n",
    "\n",
    "1. Build specialized research and math agents\n",
    "2. Build a supervisor for orchestrating them with the prebuilt langgraph-supervisor\n",
    "3. Build a supervisor \n",
    "4. Implement advanced task delegation\n"
   ]
  },
  {
   "cell_type": "code",
   "execution_count": 1,
   "id": "2bd82734",
   "metadata": {},
   "outputs": [],
   "source": [
    "import os\n",
    "from typing import Annotated, Literal\n",
    "from langchain.chat_models import init_chat_model\n",
    "from langchain_tavily import TavilySearch\n",
    "from langchain_core.tools import tool\n",
    "from langchain.agents import Tool\n",
    "from langchain_community.tools import WikipediaQueryRun\n",
    "from langchain.utilities import WikipediaAPIWrapper\n",
    "from langchain.document_loaders import TextLoader\n",
    "from langchain.vectorstores import FAISS\n",
    "from langchain_openai import OpenAIEmbeddings\n",
    "from langchain.text_splitter import RecursiveCharacterTextSplitter\n",
    "from langchain_core.messages import BaseMessage, HumanMessage\n",
    "from langgraph.prebuilt import create_react_agent\n",
    "from langgraph_supervisor import create_supervisor\n",
    "from langgraph.graph import START, StateGraph, MessagesState, END\n",
    "from langgraph.types import Command\n",
    "from dotenv import load_dotenv\n"
   ]
  },
  {
   "cell_type": "code",
   "execution_count": 2,
   "id": "79a765d4",
   "metadata": {},
   "outputs": [
    {
     "data": {
      "text/plain": [
       "True"
      ]
     },
     "execution_count": 2,
     "metadata": {},
     "output_type": "execute_result"
    }
   ],
   "source": [
    "load_dotenv()"
   ]
  },
  {
   "cell_type": "code",
   "execution_count": 3,
   "id": "93482774",
   "metadata": {},
   "outputs": [],
   "source": [
    "os.environ[\"TAVILY_API_KEY\"] = os.getenv(\"TAVILY_API_KEY\")\n",
    "os.environ[\"OPENAI_API_KEY\"] = os.getenv(\"OPENAI_API_KEY\")"
   ]
  },
  {
   "cell_type": "code",
   "execution_count": 4,
   "id": "7b9a43e2",
   "metadata": {},
   "outputs": [],
   "source": [
    "embeddings = OpenAIEmbeddings()\n",
    "llm = init_chat_model(\"openai:gpt-4o-mini\")"
   ]
  },
  {
   "cell_type": "markdown",
   "id": "ac167969",
   "metadata": {},
   "source": [
    "## Create Tools"
   ]
  },
  {
   "cell_type": "code",
   "execution_count": 5,
   "id": "59aeb38e",
   "metadata": {},
   "outputs": [
    {
     "data": {
      "text/plain": [
       "TavilySearch(max_results=3, api_wrapper=TavilySearchAPIWrapper(tavily_api_key=SecretStr('**********'), api_base_url=None))"
      ]
     },
     "execution_count": 5,
     "metadata": {},
     "output_type": "execute_result"
    }
   ],
   "source": [
    "web_search = TavilySearch(max_results=3)\n",
    "web_search"
   ]
  },
  {
   "cell_type": "code",
   "execution_count": 6,
   "id": "1c6f98d7",
   "metadata": {},
   "outputs": [
    {
     "data": {
      "text/plain": [
       "Tool(name='InternalResearchNotes', description='Search internal research notes for experimental results', func=<function make_retriever_tool_from_text.<locals>.tool_function at 0x000001C2F10377E0>)"
      ]
     },
     "execution_count": 6,
     "metadata": {},
     "output_type": "execute_result"
    }
   ],
   "source": [
    "def make_retriever_tool_from_text(file, name, description, chunk_size=500, chunk_overlap=50):\n",
    "    documents = TextLoader(file_path=file, encoding=\"utf-8\").load()\n",
    "    chunks = RecursiveCharacterTextSplitter(\n",
    "        chunk_size=chunk_size, chunk_overlap=chunk_overlap).split_documents(documents=documents)\n",
    "    \n",
    "    vector_store = FAISS.from_documents(\n",
    "        documents=chunks, \n",
    "        embedding=embeddings\n",
    "    )\n",
    "\n",
    "    retriever = vector_store.as_retriever()\n",
    "\n",
    "    def tool_function(query:str) -> str:\n",
    "        print(f\"📚 Using Tool: {name}\")\n",
    "        results = retriever.invoke(input=query)\n",
    "        return \"\\n\\n\".join(result.page_content for result in results)\n",
    "    \n",
    "    return Tool(name=name, description=description, func=tool_function)\n",
    "\n",
    "\n",
    "internal_document_tool = make_retriever_tool_from_text(\n",
    "    file=\"internal_docs.txt\",\n",
    "    name=\"InternalResearchNotes\", \n",
    "    description=\"Search internal research notes for experimental results\"\n",
    ")\n",
    "\n",
    "internal_document_tool"
   ]
  },
  {
   "cell_type": "markdown",
   "id": "f8b751f2",
   "metadata": {},
   "source": [
    "## Create Custom Tools"
   ]
  },
  {
   "cell_type": "code",
   "execution_count": 7,
   "id": "6eb77ac3",
   "metadata": {},
   "outputs": [],
   "source": [
    "def add(a: float, b: float):\n",
    "    \"\"\"Add two numbers.\"\"\"\n",
    "    return a + b\n",
    "\n",
    "def subtract(a: float, b: float):\n",
    "    \"\"\"Subtract two numbers.\"\"\"\n",
    "    return a - b\n",
    "\n",
    "\n",
    "def multiply(a: float, b: float):\n",
    "    \"\"\"Multiply two numbers.\"\"\"\n",
    "    return a * b\n",
    "\n",
    "\n",
    "def divide(a: float, b: float):\n",
    "    \"\"\"Divide two numbers.\"\"\"\n",
    "    return a / b"
   ]
  },
  {
   "cell_type": "markdown",
   "id": "182196ac",
   "metadata": {},
   "source": [
    "## Create Agents"
   ]
  },
  {
   "cell_type": "markdown",
   "id": "7bdb7893",
   "metadata": {},
   "source": [
    "### Research Agent"
   ]
  },
  {
   "cell_type": "code",
   "execution_count": 8,
   "id": "5819ecd9",
   "metadata": {},
   "outputs": [
    {
     "data": {
      "image/png": "[encoded data removed]",
      "text/plain": [
       "<langgraph.graph.state.CompiledStateGraph object at 0x000001C2F1D734A0>"
      ]
     },
     "execution_count": 8,
     "metadata": {},
     "output_type": "execute_result"
    }
   ],
   "source": [
    "research_agent = create_react_agent(\n",
    "    model=llm,\n",
    "    tools=[web_search, internal_document_tool],\n",
    "    prompt=(\n",
    "        \"You are a research agent.\\n\\n\"\n",
    "        \"INSTRUCTIONS:\\n\"\n",
    "        \"- Assist ONLY with research-related tasks, DO NOT do any math\\n\"\n",
    "        \"- After you're done with your tasks, respond to the supervisor directly\\n\"\n",
    "        \"- Respond ONLY with the results of your work, do NOT include ANY other text.\"\n",
    "    ),\n",
    "    name=\"research_agent\"\n",
    ")\n",
    "\n",
    "research_agent"
   ]
  },
  {
   "cell_type": "markdown",
   "id": "1414f128",
   "metadata": {},
   "source": [
    "### Maths Agent"
   ]
  },
  {
   "cell_type": "code",
   "execution_count": 9,
   "id": "d823ec2d",
   "metadata": {},
   "outputs": [
    {
     "data": {
      "image/png": "[encoded data removed]",
      "text/plain": [
       "<langgraph.graph.state.CompiledStateGraph object at 0x000001C2F1D73320>"
      ]
     },
     "execution_count": 9,
     "metadata": {},
     "output_type": "execute_result"
    }
   ],
   "source": [
    "math_agent = create_react_agent(\n",
    "    model=llm,\n",
    "    tools=[add, subtract, multiply, divide],\n",
    "    prompt=(\n",
    "        \"You are a math agent.\\n\\n\"\n",
    "        \"INSTRUCTIONS:\\n\"\n",
    "        \"- Assist ONLY with math-related tasks\\n\"\n",
    "        \"- After you're done with your tasks, respond to the supervisor directly\\n\"\n",
    "        \"- Respond ONLY with the results of your work, do NOT include ANY other text.\"\n",
    "    ),\n",
    "    name=\"math_agent\"\n",
    ")\n",
    "\n",
    "math_agent"
   ]
  },
  {
   "cell_type": "markdown",
   "id": "47e43f6f",
   "metadata": {},
   "source": [
    "## Create Supervisor Agent"
   ]
  },
  {
   "cell_type": "code",
   "execution_count": 10,
   "id": "9384c142",
   "metadata": {},
   "outputs": [
    {
     "data": {
      "image/png": "[encoded data removed]",
      "text/plain": [
       "<langgraph.graph.state.CompiledStateGraph object at 0x000001C2F1D7ADB0>"
      ]
     },
     "execution_count": 10,
     "metadata": {},
     "output_type": "execute_result"
    }
   ],
   "source": [
    "supervisor_agent = create_supervisor(\n",
    "    model=llm,\n",
    "    agents=[research_agent, math_agent],\n",
    "    prompt=(\n",
    "         \"You are a supervisor managing two agents:\\n\"\n",
    "        \"- a research agent. Assign research-related tasks to this agent\\n\"\n",
    "        \"- a math agent. Assign math-related tasks to this agent\\n\"\n",
    "        \"Assign work to one agent at a time, do not call agents in parallel.\\n\"\n",
    "        \"Do not do any work yourself.\"\n",
    "\n",
    "    ),\n",
    "    add_handoff_back_messages=True,\n",
    "    output_mode=\"full_history\"\n",
    ").compile()\n",
    "\n",
    "supervisor_agent"
   ]
  },
  {
   "cell_type": "code",
   "execution_count": 11,
   "id": "23fbadb4",
   "metadata": {},
   "outputs": [
    {
     "name": "stdout",
     "output_type": "stream",
     "text": [
      "📚 Using Tool: InternalResearchNotes\n"
     ]
    }
   ],
   "source": [
    "query = \"list all the transformer variants in production deployments from the retriever and then tell me what is 5 plus 10\"\n",
    "\n",
    "response = supervisor_agent.invoke({\"messages\":query})"
   ]
  },
  {
   "cell_type": "code",
   "execution_count": 12,
   "id": "1ed1ec3e",
   "metadata": {},
   "outputs": [
    {
     "data": {
      "text/plain": [
       "{'messages': [HumanMessage(content='list all the transformer variants in production deployments from the retriever and then tell me what is 5 plus 10', additional_kwargs={}, response_metadata={}, id='02e25d04-46b4-4840-bbab-88037ef196d3'),\n",
       "  AIMessage(content='', additional_kwargs={'tool_calls': [{'id': 'call_79Bno6XGZuHAQFLHLdEeVZ4y', 'function': {'arguments': '{}', 'name': 'transfer_to_research_agent'}, 'type': 'function'}], 'refusal': None}, response_metadata={'token_usage': {'completion_tokens': 13, 'prompt_tokens': 142, 'total_tokens': 155, 'completion_tokens_details': {'accepted_prediction_tokens': 0, 'audio_tokens': 0, 'reasoning_tokens': 0, 'rejected_prediction_tokens': 0}, 'prompt_tokens_details': {'audio_tokens': 0, 'cached_tokens': 0}}, 'model_name': 'gpt-4o-mini-2024-07-18', 'system_fingerprint': 'fp_51db84afab', 'id': 'chatcmpl-CMDV8uJioH30gRdG3TNec9NkrTOyf', 'service_tier': 'default', 'finish_reason': 'tool_calls', 'logprobs': None}, name='supervisor', id='run--8e7d87d9-883c-4197-aeda-b66c4473ff45-0', tool_calls=[{'name': 'transfer_to_research_agent', 'args': {}, 'id': 'call_79Bno6XGZuHAQFLHLdEeVZ4y', 'type': 'tool_call'}], usage_metadata={'input_tokens': 142, 'output_tokens': 13, 'total_tokens': 155, 'input_token_details': {'audio': 0, 'cache_read': 0}, 'output_token_details': {'audio': 0, 'reasoning': 0}}),\n",
       "  ToolMessage(content='Successfully transferred to research_agent', name='transfer_to_research_agent', id='4ca654c1-d6ca-4b52-a12a-79412c050ffd', tool_call_id='call_79Bno6XGZuHAQFLHLdEeVZ4y'),\n",
       "  AIMessage(content='', additional_kwargs={'tool_calls': [{'id': 'call_cQW1M8A8fNQwKM7TvO8HcYd3', 'function': {'arguments': '{\"__arg1\":\"transformer variants in production deployments\"}', 'name': 'InternalResearchNotes'}, 'type': 'function'}], 'refusal': None}, response_metadata={'token_usage': {'completion_tokens': 22, 'prompt_tokens': 1407, 'total_tokens': 1429, 'completion_tokens_details': {'accepted_prediction_tokens': 0, 'audio_tokens': 0, 'reasoning_tokens': 0, 'rejected_prediction_tokens': 0}, 'prompt_tokens_details': {'audio_tokens': 0, 'cached_tokens': 0}}, 'model_name': 'gpt-4o-mini-2024-07-18', 'system_fingerprint': 'fp_560af6e559', 'id': 'chatcmpl-CMDV94QoB7mOc3zkucfbEoycaxw0a', 'service_tier': 'default', 'finish_reason': 'tool_calls', 'logprobs': None}, name='research_agent', id='run--e43e8fe1-d751-4388-a5e1-2d191b205443-0', tool_calls=[{'name': 'InternalResearchNotes', 'args': {'__arg1': 'transformer variants in production deployments'}, 'id': 'call_cQW1M8A8fNQwKM7TvO8HcYd3', 'type': 'tool_call'}], usage_metadata={'input_tokens': 1407, 'output_tokens': 22, 'total_tokens': 1429, 'input_token_details': {'audio': 0, 'cache_read': 0}, 'output_token_details': {'audio': 0, 'reasoning': 0}}),\n",
       "  ToolMessage(content='Title: Transformer Variants for Production\\n\\nWe have used the following transformer variants in production deployments:\\n\\n1. EfficientFormer:\\n    - Optimized for mobile inference.\\n    - Deployed in multiple mobile and edge environments.\\n    - Quantized using ONNX and optimized via TensorRT.\\n    - Benchmarked with 1.2ms inference time on A72 CPUs.\\n\\nAdditional Notes:\\n    - Vision transformers (ViT and Swin Transformer) evaluated in manufacturing QC tasks.\\n    - Speech transformers (Wav2Vec 2.0) benchmarked for voice assistant integrations.\\n    - Tokenizers: SentencePiece, BPE, and unigram tokenizers compared for multilingual tasks.\\n    - Significant improvements noted with FlashAttention and Rotary Positional Encoding.\\n\\n3. Reformer:\\n    - Tested for memory efficiency on embedded devices.\\n    - LSH attention led to 60% memory reduction.\\n    - Integration challenges with standard transformers due to bucket collisions.\\n    - Ongoing investigation for training stability and gradient clipping strategies.\\n\\nOptimizations:\\n    - Distillation of teacher-student models using response alignment\\n    - Knowledge injection via adapters\\n    - Mixed-precision training (AMP) with Nvidia A100s\\n    - Use of DVC and MLflow for experiment tracking\\n    - Canary rollout strategy for model updates\\n    - CI/CD: GitHub Actions Docker EKS with Helm charts', name='InternalResearchNotes', id='bbea86e8-7f33-43db-848e-e1bc4bc90ffe', tool_call_id='call_cQW1M8A8fNQwKM7TvO8HcYd3'),\n",
       "  AIMessage(content='1. EfficientFormer\\n   - Optimized for mobile inference, deployed in various mobile and edge environments.\\n   - Quantized using ONNX and optimized via TensorRT.\\n   - Benchmark: 1.2ms inference time on A72 CPUs.\\n\\n2. Reformer\\n   - Tested for memory efficiency on embedded devices.\\n   - LSH attention achieved a 60% memory reduction.\\n   - Investigated for training stability and gradient clipping strategies.\\n\\nAdditional Notes:\\n   - Various vision transformers (ViT and Swin Transformer) in use for manufacturing QC tasks.\\n   - Wav2Vec 2.0 evaluated for voice assistant integrations.\\n   - Tokenizers compared for multilingual tasks included SentencePiece, BPE, and unigram.\\n   - Improvements noted with FlashAttention and Rotary Positional Encoding.', additional_kwargs={'refusal': None}, response_metadata={'token_usage': {'completion_tokens': 162, 'prompt_tokens': 1718, 'total_tokens': 1880, 'completion_tokens_details': {'accepted_prediction_tokens': 0, 'audio_tokens': 0, 'reasoning_tokens': 0, 'rejected_prediction_tokens': 0}, 'prompt_tokens_details': {'audio_tokens': 0, 'cached_tokens': 0}}, 'model_name': 'gpt-4o-mini-2024-07-18', 'system_fingerprint': 'fp_560af6e559', 'id': 'chatcmpl-CMDVCmlXyRynxAp9lNRewY881tRlC', 'service_tier': 'default', 'finish_reason': 'stop', 'logprobs': None}, name='research_agent', id='run--46b9d7d4-ad9e-49c2-966f-9a7e64e0ca7b-0', usage_metadata={'input_tokens': 1718, 'output_tokens': 162, 'total_tokens': 1880, 'input_token_details': {'audio': 0, 'cache_read': 0}, 'output_token_details': {'audio': 0, 'reasoning': 0}}),\n",
       "  AIMessage(content='Transferring back to supervisor', additional_kwargs={}, response_metadata={'__is_handoff_back': True}, name='research_agent', id='48517854-805f-48db-bbac-c9300d490499', tool_calls=[{'name': 'transfer_back_to_supervisor', 'args': {}, 'id': 'b50dbae7-00fe-46ee-b7db-437c68bd125d', 'type': 'tool_call'}]),\n",
       "  ToolMessage(content='Successfully transferred back to supervisor', name='transfer_back_to_supervisor', id='a3c401e5-3811-45f8-9897-17965592c37f', tool_call_id='b50dbae7-00fe-46ee-b7db-437c68bd125d'),\n",
       "  AIMessage(content='', additional_kwargs={'tool_calls': [{'id': 'call_NgehSVDKHkbfxf5cEK53jZVa', 'function': {'arguments': '{}', 'name': 'transfer_to_math_agent'}, 'type': 'function'}], 'refusal': None}, response_metadata={'token_usage': {'completion_tokens': 12, 'prompt_tokens': 698, 'total_tokens': 710, 'completion_tokens_details': {'accepted_prediction_tokens': 0, 'audio_tokens': 0, 'reasoning_tokens': 0, 'rejected_prediction_tokens': 0}, 'prompt_tokens_details': {'audio_tokens': 0, 'cached_tokens': 0}}, 'model_name': 'gpt-4o-mini-2024-07-18', 'system_fingerprint': 'fp_51db84afab', 'id': 'chatcmpl-CMDVIkXcUzn4AADB8BzorOgZM2RB9', 'service_tier': 'default', 'finish_reason': 'tool_calls', 'logprobs': None}, name='supervisor', id='run--2c7d1233-258d-4f6c-897f-d0a7963ae273-0', tool_calls=[{'name': 'transfer_to_math_agent', 'args': {}, 'id': 'call_NgehSVDKHkbfxf5cEK53jZVa', 'type': 'tool_call'}], usage_metadata={'input_tokens': 698, 'output_tokens': 12, 'total_tokens': 710, 'input_token_details': {'audio': 0, 'cache_read': 0}, 'output_token_details': {'audio': 0, 'reasoning': 0}}),\n",
       "  ToolMessage(content='Successfully transferred to math_agent', name='transfer_to_math_agent', id='df71bf28-da88-40dd-bd5d-b594c862a38b', tool_call_id='call_NgehSVDKHkbfxf5cEK53jZVa'),\n",
       "  AIMessage(content='', additional_kwargs={'tool_calls': [{'id': 'call_qHyebkWK6yzPo1hRcZ1TptnG', 'function': {'arguments': '{\"a\":5,\"b\":10}', 'name': 'add'}, 'type': 'function'}], 'refusal': None}, response_metadata={'token_usage': {'completion_tokens': 17, 'prompt_tokens': 765, 'total_tokens': 782, 'completion_tokens_details': {'accepted_prediction_tokens': 0, 'audio_tokens': 0, 'reasoning_tokens': 0, 'rejected_prediction_tokens': 0}, 'prompt_tokens_details': {'audio_tokens': 0, 'cached_tokens': 0}}, 'model_name': 'gpt-4o-mini-2024-07-18', 'system_fingerprint': 'fp_560af6e559', 'id': 'chatcmpl-CMDVJEKxqAfEpywJVFh7SrRNZBoxy', 'service_tier': 'default', 'finish_reason': 'tool_calls', 'logprobs': None}, name='math_agent', id='run--d1275f09-c767-4c94-a4f9-608473d13521-0', tool_calls=[{'name': 'add', 'args': {'a': 5, 'b': 10}, 'id': 'call_qHyebkWK6yzPo1hRcZ1TptnG', 'type': 'tool_call'}], usage_metadata={'input_tokens': 765, 'output_tokens': 17, 'total_tokens': 782, 'input_token_details': {'audio': 0, 'cache_read': 0}, 'output_token_details': {'audio': 0, 'reasoning': 0}}),\n",
       "  ToolMessage(content='15.0', name='add', id='d5604f54-3b77-4bec-bc87-70174be8b657', tool_call_id='call_qHyebkWK6yzPo1hRcZ1TptnG'),\n",
       "  AIMessage(content='15.0', additional_kwargs={'refusal': None}, response_metadata={'token_usage': {'completion_tokens': 4, 'prompt_tokens': 795, 'total_tokens': 799, 'completion_tokens_details': {'accepted_prediction_tokens': 0, 'audio_tokens': 0, 'reasoning_tokens': 0, 'rejected_prediction_tokens': 0}, 'prompt_tokens_details': {'audio_tokens': 0, 'cached_tokens': 0}}, 'model_name': 'gpt-4o-mini-2024-07-18', 'system_fingerprint': 'fp_560af6e559', 'id': 'chatcmpl-CMDVKT9ib4odknMp1x6zJQnWSwf6v', 'service_tier': 'default', 'finish_reason': 'stop', 'logprobs': None}, name='math_agent', id='run--dc1aa96e-3983-4b53-b32b-e2d9b9fb9ee4-0', usage_metadata={'input_tokens': 795, 'output_tokens': 4, 'total_tokens': 799, 'input_token_details': {'audio': 0, 'cache_read': 0}, 'output_token_details': {'audio': 0, 'reasoning': 0}}),\n",
       "  AIMessage(content='Transferring back to supervisor', additional_kwargs={}, response_metadata={'__is_handoff_back': True}, name='math_agent', id='699acbe1-95cb-4a78-baeb-d06ae5158a53', tool_calls=[{'name': 'transfer_back_to_supervisor', 'args': {}, 'id': '2931fa25-f366-47ca-8f98-e14274292f5c', 'type': 'tool_call'}]),\n",
       "  ToolMessage(content='Successfully transferred back to supervisor', name='transfer_back_to_supervisor', id='0071bc28-320e-46e9-8685-ba9cc3aa3199', tool_call_id='2931fa25-f366-47ca-8f98-e14274292f5c'),\n",
       "  AIMessage(content='The transformer variants in production deployments are:\\n\\n1. **EfficientFormer**\\n   - Optimized for mobile inference.\\n   - Deployed in mobile and edge environments.\\n   - Quantized using ONNX and optimized via TensorRT.\\n   - Benchmark: 1.2ms inference time on A72 CPUs.\\n\\n2. **Reformer**\\n   - Tested for memory efficiency on embedded devices.\\n   - LSH attention achieved a 60% memory reduction.\\n   - Investigated for training stability and gradient clipping strategies.\\n\\nAdditionally, various vision and speech transformers have been evaluated for specific tasks, and improvements have been made with techniques like FlashAttention and Rotary Positional Encoding.\\n\\nRegarding the math question, 5 plus 10 equals **15**.', additional_kwargs={'refusal': None}, response_metadata={'token_usage': {'completion_tokens': 149, 'prompt_tokens': 813, 'total_tokens': 962, 'completion_tokens_details': {'accepted_prediction_tokens': 0, 'audio_tokens': 0, 'reasoning_tokens': 0, 'rejected_prediction_tokens': 0}, 'prompt_tokens_details': {'audio_tokens': 0, 'cached_tokens': 0}}, 'model_name': 'gpt-4o-mini-2024-07-18', 'system_fingerprint': 'fp_51db84afab', 'id': 'chatcmpl-CMDVLUNoTaad1r2tYRVhdpAk6aOeU', 'service_tier': 'default', 'finish_reason': 'stop', 'logprobs': None}, name='supervisor', id='run--f2a98f83-fb98-4483-ac00-ebee9d0e54fe-0', usage_metadata={'input_tokens': 813, 'output_tokens': 149, 'total_tokens': 962, 'input_token_details': {'audio': 0, 'cache_read': 0}, 'output_token_details': {'audio': 0, 'reasoning': 0}})]}"
      ]
     },
     "execution_count": 12,
     "metadata": {},
     "output_type": "execute_result"
    }
   ],
   "source": [
    "response"
   ]
  },
  {
   "cell_type": "code",
   "execution_count": 13,
   "id": "edb0a3b7",
   "metadata": {},
   "outputs": [
    {
     "data": {
      "text/plain": [
       "'The transformer variants in production deployments are:\\n\\n1. **EfficientFormer**\\n   - Optimized for mobile inference.\\n   - Deployed in mobile and edge environments.\\n   - Quantized using ONNX and optimized via TensorRT.\\n   - Benchmark: 1.2ms inference time on A72 CPUs.\\n\\n2. **Reformer**\\n   - Tested for memory efficiency on embedded devices.\\n   - LSH attention achieved a 60% memory reduction.\\n   - Investigated for training stability and gradient clipping strategies.\\n\\nAdditionally, various vision and speech transformers have been evaluated for specific tasks, and improvements have been made with techniques like FlashAttention and Rotary Positional Encoding.\\n\\nRegarding the math question, 5 plus 10 equals **15**.'"
      ]
     },
     "execution_count": 13,
     "metadata": {},
     "output_type": "execute_result"
    }
   ],
   "source": [
    "response[\"messages\"][-1].content"
   ]
  },
  {
   "cell_type": "code",
   "execution_count": null,
   "id": "bb2123c7",
   "metadata": {},
   "outputs": [],
   "source": []
  }
 ],
 "metadata": {
  "kernelspec": {
   "display_name": "RAG-Bootcamp",
   "language": "python",
   "name": "python3"
  },
  "language_info": {
   "codemirror_mode": {
    "name": "ipython",
    "version": 3
   },
   "file_extension": ".py",
   "mimetype": "text/x-python",
   "name": "python",
   "nbconvert_exporter": "python",
   "pygments_lexer": "ipython3",
   "version": "3.12.7"
  }
 },
 "nbformat": 4,
 "nbformat_minor": 5
}
