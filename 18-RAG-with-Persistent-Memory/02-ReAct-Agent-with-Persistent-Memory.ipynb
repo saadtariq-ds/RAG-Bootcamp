{
 "cells": [
  {
   "cell_type": "markdown",
   "id": "fc106700",
   "metadata": {},
   "source": [
    "## Setup and Import Libraries"
   ]
  },
  {
   "cell_type": "code",
   "execution_count": 1,
   "id": "b6ab89f1",
   "metadata": {},
   "outputs": [
    {
     "name": "stderr",
     "output_type": "stream",
     "text": [
      "USER_AGENT environment variable not set, consider setting it to identify your requests.\n"
     ]
    }
   ],
   "source": [
    "import os\n",
    "import bs4\n",
    "from typing_extensions import List, TypedDict\n",
    "from langchain_community.vectorstores import FAISS\n",
    "from langchain_community.document_loaders import WebBaseLoader\n",
    "from langchain_core.documents import Document\n",
    "from langchain_text_splitters import RecursiveCharacterTextSplitter\n",
    "from langchain.chat_models import init_chat_model\n",
    "from langchain_openai import OpenAIEmbeddings\n",
    "from langchain.agents import tool\n",
    "from langchain_core.messages import SystemMessage\n",
    "from langgraph.checkpoint.memory import MemorySaver\n",
    "from langgraph.graph import END, MessagesState, StateGraph\n",
    "from langgraph.prebuilt import ToolNode, tools_condition, create_react_agent\n",
    "from dotenv import load_dotenv"
   ]
  },
  {
   "cell_type": "code",
   "execution_count": 2,
   "id": "579f8249",
   "metadata": {},
   "outputs": [
    {
     "data": {
      "text/plain": [
       "True"
      ]
     },
     "execution_count": 2,
     "metadata": {},
     "output_type": "execute_result"
    }
   ],
   "source": [
    "load_dotenv()"
   ]
  },
  {
   "cell_type": "code",
   "execution_count": 3,
   "id": "99a9e89d",
   "metadata": {},
   "outputs": [],
   "source": [
    "os.environ[\"OPENAI_API_KEY\"] = os.getenv(\"OPENAI_API_KEY\")"
   ]
  },
  {
   "cell_type": "code",
   "execution_count": 4,
   "id": "55d4d322",
   "metadata": {},
   "outputs": [],
   "source": [
    "embeddings = OpenAIEmbeddings()\n",
    "llm = init_chat_model(\"openai:gpt-5\")"
   ]
  },
  {
   "cell_type": "markdown",
   "id": "de9adc1e",
   "metadata": {},
   "source": [
    "## Creating Vector Store"
   ]
  },
  {
   "cell_type": "code",
   "execution_count": 5,
   "id": "4735fb0b",
   "metadata": {},
   "outputs": [],
   "source": [
    "def create_vector_store(web_paths, chunk_size=1000, chunk_overlap=200):\n",
    "\n",
    "    loader = WebBaseLoader(\n",
    "        web_paths=(web_paths,),\n",
    "        bs_kwargs=dict(\n",
    "            parse_only=bs4.SoupStrainer(\n",
    "                class_=(\"post-content\", \"post-title\", \"post-header\")\n",
    "            )\n",
    "        ),\n",
    "    )\n",
    "\n",
    "    documents = loader.load()\n",
    "\n",
    "    text_splitter = RecursiveCharacterTextSplitter(\n",
    "        chunk_size=chunk_size, chunk_overlap=chunk_overlap\n",
    "    )\n",
    "\n",
    "    chunks = text_splitter.split_documents(documents=documents)\n",
    "\n",
    "    vector_store = FAISS.from_documents(\n",
    "        documents=chunks,\n",
    "        embedding=embeddings\n",
    "    )\n",
    "\n",
    "    print(f\"Vector store created with {vector_store.index.ntotal} vectors\")\n",
    "\n",
    "    return vector_store"
   ]
  },
  {
   "cell_type": "code",
   "execution_count": 6,
   "id": "34d34120",
   "metadata": {},
   "outputs": [
    {
     "name": "stdout",
     "output_type": "stream",
     "text": [
      "Vector store created with 63 vectors\n"
     ]
    },
    {
     "data": {
      "text/plain": [
       "<langchain_community.vectorstores.faiss.FAISS at 0x1f0240f3050>"
      ]
     },
     "execution_count": 6,
     "metadata": {},
     "output_type": "execute_result"
    }
   ],
   "source": [
    "web_paths = \"https://lilianweng.github.io/posts/2023-06-23-agent/\"\n",
    "\n",
    "vector_store = create_vector_store(web_paths=web_paths, chunk_size=1000, chunk_overlap=200)\n",
    "vector_store"
   ]
  },
  {
   "cell_type": "code",
   "execution_count": 7,
   "id": "84ecbf0c",
   "metadata": {},
   "outputs": [
    {
     "data": {
      "text/plain": [
       "[Document(id='d51fa750-0b2a-44eb-b5cc-b81852841bc0', metadata={'source': 'https://lilianweng.github.io/posts/2023-06-23-agent/'}, page_content='Component One: Planning#\\nA complicated task usually involves many steps. An agent needs to know what they are and plan ahead.\\nTask Decomposition#\\nChain of thought (CoT; Wei et al. 2022) has become a standard prompting technique for enhancing model performance on complex tasks. The model is instructed to “think step by step” to utilize more test-time computation to decompose hard tasks into smaller and simpler steps. CoT transforms big tasks into multiple manageable tasks and shed lights into an interpretation of the model’s thinking process.\\nTree of Thoughts (Yao et al. 2023) extends CoT by exploring multiple reasoning possibilities at each step. It first decomposes the problem into multiple thought steps and generates multiple thoughts per step, creating a tree structure. The search process can be BFS (breadth-first search) or DFS (depth-first search) with each state evaluated by a classifier (via a prompt) or majority vote.'),\n",
       " Document(id='58a409f5-f211-4792-a37e-284211f085f3', metadata={'source': 'https://lilianweng.github.io/posts/2023-06-23-agent/'}, page_content='Task decomposition can be done (1) by LLM with simple prompting like \"Steps for XYZ.\\\\n1.\", \"What are the subgoals for achieving XYZ?\", (2) by using task-specific instructions; e.g. \"Write a story outline.\" for writing a novel, or (3) with human inputs.\\nAnother quite distinct approach, LLM+P (Liu et al. 2023), involves relying on an external classical planner to do long-horizon planning. This approach utilizes the Planning Domain Definition Language (PDDL) as an intermediate interface to describe the planning problem. In this process, LLM (1) translates the problem into “Problem PDDL”, then (2) requests a classical planner to generate a PDDL plan based on an existing “Domain PDDL”, and finally (3) translates the PDDL plan back into natural language. Essentially, the planning step is outsourced to an external tool, assuming the availability of domain-specific PDDL and a suitable planner which is common in certain robotic setups but not in many other domains.\\nSelf-Reflection#'),\n",
       " Document(id='c9fbf810-34e0-4407-82cc-ee693033c945', metadata={'source': 'https://lilianweng.github.io/posts/2023-06-23-agent/'}, page_content='Illustration of how HuggingGPT works. (Image source: Shen et al. 2023)\\n\\nThe system comprises of 4 stages:\\n(1) Task planning: LLM works as the brain and parses the user requests into multiple tasks. There are four attributes associated with each task: task type, ID, dependencies, and arguments. They use few-shot examples to guide LLM to do task parsing and planning.\\nInstruction:'),\n",
       " Document(id='1613a51f-89de-4248-8ddc-d1faa5e30836', metadata={'source': 'https://lilianweng.github.io/posts/2023-06-23-agent/'}, page_content='The AI assistant can parse user input to several tasks: [{\"task\": task, \"id\", task_id, \"dep\": dependency_task_ids, \"args\": {\"text\": text, \"image\": URL, \"audio\": URL, \"video\": URL}}]. The \"dep\" field denotes the id of the previous task which generates a new resource that the current task relies on. A special tag \"-task_id\" refers to the generated text image, audio and video in the dependency task with id as task_id. The task MUST be selected from the following options: {{ Available Task List }}. There is a logical relationship between tasks, please note their order. If the user input can\\'t be parsed, you need to reply empty JSON. Here are several cases for your reference: {{ Demonstrations }}. The chat history is recorded as {{ Chat History }}. From this chat history, you can find the path of the user-mentioned resources for your task planning.')]"
      ]
     },
     "execution_count": 7,
     "metadata": {},
     "output_type": "execute_result"
    }
   ],
   "source": [
    "vector_store.similarity_search(\"What is Task Decomposition\")"
   ]
  },
  {
   "cell_type": "markdown",
   "id": "ac7ea514",
   "metadata": {},
   "source": [
    "## Creating Tool"
   ]
  },
  {
   "cell_type": "code",
   "execution_count": 8,
   "id": "d29d44e4",
   "metadata": {},
   "outputs": [],
   "source": [
    "@tool()\n",
    "def retrieve(query:str):\n",
    "    \"\"\"\n",
    "    Retrieve the information related to the query\n",
    "    \"\"\"\n",
    "    retrieved_documents = vector_store.similarity_search(query, k=2)\n",
    "    serialized_document = \"\\n\\n\".join(\n",
    "        (f\"Source: {retrieved_document.metadata}\\nContent: {retrieved_document.page_content}\")\n",
    "        for retrieved_document in retrieved_documents\n",
    "    )\n",
    "    return serialized_document, retrieved_documents"
   ]
  },
  {
   "cell_type": "code",
   "execution_count": 9,
   "id": "a10d538b",
   "metadata": {},
   "outputs": [
    {
     "data": {
      "text/plain": [
       "StructuredTool(name='retrieve', description='Retrieve the information related to the query', args_schema=<class 'langchain_core.utils.pydantic.retrieve'>, func=<function retrieve at 0x000001F0240CD800>)"
      ]
     },
     "execution_count": 9,
     "metadata": {},
     "output_type": "execute_result"
    }
   ],
   "source": [
    "retrieve"
   ]
  },
  {
   "cell_type": "markdown",
   "id": "b7ac8f5e",
   "metadata": {},
   "source": [
    "## Creating Agent"
   ]
  },
  {
   "cell_type": "code",
   "execution_count": 10,
   "id": "52b0b004",
   "metadata": {},
   "outputs": [
    {
     "data": {
      "image/png": "[encoded data removed]",
      "text/plain": [
       "<langgraph.graph.state.CompiledStateGraph object at 0x000001F0240D8890>"
      ]
     },
     "execution_count": 10,
     "metadata": {},
     "output_type": "execute_result"
    }
   ],
   "source": [
    "memory = MemorySaver()\n",
    "\n",
    "agent_executor = create_react_agent(\n",
    "    model=llm,\n",
    "    tools=[retrieve],\n",
    "    checkpointer=memory\n",
    ")\n",
    "\n",
    "agent_executor"
   ]
  },
  {
   "cell_type": "code",
   "execution_count": 11,
   "id": "e5ce145e",
   "metadata": {},
   "outputs": [],
   "source": [
    "config = {\"configurable\": {\"thread_id\": \"thread2\"}}"
   ]
  },
  {
   "cell_type": "code",
   "execution_count": 12,
   "id": "2067ff8a",
   "metadata": {},
   "outputs": [],
   "source": [
    "input_message = (\n",
    "    \"What is the standard method for Task Decomposition?\\n\\n\"\n",
    "    \"Once you get the answer, look up common extensions of that method.\"\n",
    ")"
   ]
  },
  {
   "cell_type": "code",
   "execution_count": 13,
   "id": "d62073f1",
   "metadata": {},
   "outputs": [
    {
     "name": "stdout",
     "output_type": "stream",
     "text": [
      "================================\u001b[1m Human Message \u001b[0m=================================\n",
      "\n",
      "What is the standard method for Task Decomposition?\n",
      "\n",
      "Once you get the answer, look up common extensions of that method.\n",
      "==================================\u001b[1m Ai Message \u001b[0m==================================\n",
      "Tool Calls:\n",
      "  retrieve (call_lZQOYMoeZiKInmowkCYdiEjy)\n",
      " Call ID: call_lZQOYMoeZiKInmowkCYdiEjy\n",
      "  Args:\n",
      "    query: standard method for Task Decomposition\n",
      "=================================\u001b[1m Tool Message \u001b[0m=================================\n",
      "Name: retrieve\n",
      "\n",
      "('Source: {\\'source\\': \\'https://lilianweng.github.io/posts/2023-06-23-agent/\\'}\\nContent: Component One: Planning#\\nA complicated task usually involves many steps. An agent needs to know what they are and plan ahead.\\nTask Decomposition#\\nChain of thought (CoT; Wei et al. 2022) has become a standard prompting technique for enhancing model performance on complex tasks. The model is instructed to “think step by step” to utilize more test-time computation to decompose hard tasks into smaller and simpler steps. CoT transforms big tasks into multiple manageable tasks and shed lights into an interpretation of the model’s thinking process.\\nTree of Thoughts (Yao et al. 2023) extends CoT by exploring multiple reasoning possibilities at each step. It first decomposes the problem into multiple thought steps and generates multiple thoughts per step, creating a tree structure. The search process can be BFS (breadth-first search) or DFS (depth-first search) with each state evaluated by a classifier (via a prompt) or majority vote.\\n\\nSource: {\\'source\\': \\'https://lilianweng.github.io/posts/2023-06-23-agent/\\'}\\nContent: Task decomposition can be done (1) by LLM with simple prompting like \"Steps for XYZ.\\\\n1.\", \"What are the subgoals for achieving XYZ?\", (2) by using task-specific instructions; e.g. \"Write a story outline.\" for writing a novel, or (3) with human inputs.\\nAnother quite distinct approach, LLM+P (Liu et al. 2023), involves relying on an external classical planner to do long-horizon planning. This approach utilizes the Planning Domain Definition Language (PDDL) as an intermediate interface to describe the planning problem. In this process, LLM (1) translates the problem into “Problem PDDL”, then (2) requests a classical planner to generate a PDDL plan based on an existing “Domain PDDL”, and finally (3) translates the PDDL plan back into natural language. Essentially, the planning step is outsourced to an external tool, assuming the availability of domain-specific PDDL and a suitable planner which is common in certain robotic setups but not in many other domains.\\nSelf-Reflection#', [Document(id='d51fa750-0b2a-44eb-b5cc-b81852841bc0', metadata={'source': 'https://lilianweng.github.io/posts/2023-06-23-agent/'}, page_content='Component One: Planning#\\nA complicated task usually involves many steps. An agent needs to know what they are and plan ahead.\\nTask Decomposition#\\nChain of thought (CoT; Wei et al. 2022) has become a standard prompting technique for enhancing model performance on complex tasks. The model is instructed to “think step by step” to utilize more test-time computation to decompose hard tasks into smaller and simpler steps. CoT transforms big tasks into multiple manageable tasks and shed lights into an interpretation of the model’s thinking process.\\nTree of Thoughts (Yao et al. 2023) extends CoT by exploring multiple reasoning possibilities at each step. It first decomposes the problem into multiple thought steps and generates multiple thoughts per step, creating a tree structure. The search process can be BFS (breadth-first search) or DFS (depth-first search) with each state evaluated by a classifier (via a prompt) or majority vote.'), Document(id='58a409f5-f211-4792-a37e-284211f085f3', metadata={'source': 'https://lilianweng.github.io/posts/2023-06-23-agent/'}, page_content='Task decomposition can be done (1) by LLM with simple prompting like \"Steps for XYZ.\\\\n1.\", \"What are the subgoals for achieving XYZ?\", (2) by using task-specific instructions; e.g. \"Write a story outline.\" for writing a novel, or (3) with human inputs.\\nAnother quite distinct approach, LLM+P (Liu et al. 2023), involves relying on an external classical planner to do long-horizon planning. This approach utilizes the Planning Domain Definition Language (PDDL) as an intermediate interface to describe the planning problem. In this process, LLM (1) translates the problem into “Problem PDDL”, then (2) requests a classical planner to generate a PDDL plan based on an existing “Domain PDDL”, and finally (3) translates the PDDL plan back into natural language. Essentially, the planning step is outsourced to an external tool, assuming the availability of domain-specific PDDL and a suitable planner which is common in certain robotic setups but not in many other domains.\\nSelf-Reflection#')])\n",
      "==================================\u001b[1m Ai Message \u001b[0m==================================\n",
      "Tool Calls:\n",
      "  retrieve (call_4894U5E79QUxpWd0iWUS0s4u)\n",
      " Call ID: call_4894U5E79QUxpWd0iWUS0s4u\n",
      "  Args:\n",
      "    query: Chain-of-thought prompting standard method task decomposition\n",
      "  retrieve (call_CBSg8S6FIDV4JKPTRQI5eguK)\n",
      " Call ID: call_CBSg8S6FIDV4JKPTRQI5eguK\n",
      "  Args:\n",
      "    query: Tree of Thoughts Yao 2023 chain-of-thought extension\n",
      "  retrieve (call_ioiJ3IUh4UZSlwer7tVR6RVb)\n",
      " Call ID: call_ioiJ3IUh4UZSlwer7tVR6RVb\n",
      "  Args:\n",
      "    query: Self-Consistency with Chain of Thought Wang 2022\n",
      "  retrieve (call_3Cq8DYwa600N8fZemaWutLI3)\n",
      " Call ID: call_3Cq8DYwa600N8fZemaWutLI3\n",
      "  Args:\n",
      "    query: Least-to-most prompting Zhou 2023 task decomposition\n",
      "  retrieve (call_LwboHnHzlF6BOAkag0wTL2d1)\n",
      " Call ID: call_LwboHnHzlF6BOAkag0wTL2d1\n",
      "  Args:\n",
      "    query: ReAct reasoning and acting Shinn 2023 paper\n",
      "  retrieve (call_HpSHyPY5ws279Ok2rZEoDwDU)\n",
      " Call ID: call_HpSHyPY5ws279Ok2rZEoDwDU\n",
      "  Args:\n",
      "    query: Program of Thoughts prompting Chen 2022\n",
      "  retrieve (call_M0ycu1YW6v0I8gPXqaWfswRP)\n",
      " Call ID: call_M0ycu1YW6v0I8gPXqaWfswRP\n",
      "  Args:\n",
      "    query: Plan-and-Solve prompting Gao 2023\n",
      "  retrieve (call_mKYOCjWHNsxdE86OfZw9aAwc)\n",
      " Call ID: call_mKYOCjWHNsxdE86OfZw9aAwc\n",
      "  Args:\n",
      "    query: Graph of Thoughts Besta 2024 paper\n",
      "  retrieve (call_ouof4HvL3i1BrS0UVsNlW85V)\n",
      " Call ID: call_ouof4HvL3i1BrS0UVsNlW85V\n",
      "  Args:\n",
      "    query: survey extensions of chain-of-thought prompting overview\n",
      "=================================\u001b[1m Tool Message \u001b[0m=================================\n",
      "Name: retrieve\n",
      "\n",
      "(\"Source: {'source': 'https://lilianweng.github.io/posts/2023-06-23-agent/'}\\nContent: Component One: Planning#\\nA complicated task usually involves many steps. An agent needs to know what they are and plan ahead.\\nTask Decomposition#\\nChain of thought (CoT; Wei et al. 2022) has become a standard prompting technique for enhancing model performance on complex tasks. The model is instructed to “think step by step” to utilize more test-time computation to decompose hard tasks into smaller and simpler steps. CoT transforms big tasks into multiple manageable tasks and shed lights into an interpretation of the model’s thinking process.\\nTree of Thoughts (Yao et al. 2023) extends CoT by exploring multiple reasoning possibilities at each step. It first decomposes the problem into multiple thought steps and generates multiple thoughts per step, creating a tree structure. The search process can be BFS (breadth-first search) or DFS (depth-first search) with each state evaluated by a classifier (via a prompt) or majority vote.\\n\\nSource: {'source': 'https://lilianweng.github.io/posts/2023-06-23-agent/'}\\nContent: Prompt LM with 100 most recent observations and to generate 3 most salient high-level questions given a set of observations/statements. Then ask LM to answer those questions.\\n\\n\\nPlanning & Reacting: translate the reflections and the environment information into actions\\n\\nPlanning is essentially in order to optimize believability at the moment vs in time.\\nPrompt template: {Intro of an agent X}. Here is X's plan today in broad strokes: 1)\\nRelationships between agents and observations of one agent by another are all taken into consideration for planning and reacting.\\nEnvironment information is present in a tree structure.\\n\\n\\n\\n\\n\\nThe generative agent architecture. (Image source: Park et al. 2023)\", [Document(id='d51fa750-0b2a-44eb-b5cc-b81852841bc0', metadata={'source': 'https://lilianweng.github.io/posts/2023-06-23-agent/'}, page_content='Component One: Planning#\\nA complicated task usually involves many steps. An agent needs to know what they are and plan ahead.\\nTask Decomposition#\\nChain of thought (CoT; Wei et al. 2022) has become a standard prompting technique for enhancing model performance on complex tasks. The model is instructed to “think step by step” to utilize more test-time computation to decompose hard tasks into smaller and simpler steps. CoT transforms big tasks into multiple manageable tasks and shed lights into an interpretation of the model’s thinking process.\\nTree of Thoughts (Yao et al. 2023) extends CoT by exploring multiple reasoning possibilities at each step. It first decomposes the problem into multiple thought steps and generates multiple thoughts per step, creating a tree structure. The search process can be BFS (breadth-first search) or DFS (depth-first search) with each state evaluated by a classifier (via a prompt) or majority vote.'), Document(id='e0d43892-eb9c-47b7-a9f7-414bfd7fb14f', metadata={'source': 'https://lilianweng.github.io/posts/2023-06-23-agent/'}, page_content=\"Prompt LM with 100 most recent observations and to generate 3 most salient high-level questions given a set of observations/statements. Then ask LM to answer those questions.\\n\\n\\nPlanning & Reacting: translate the reflections and the environment information into actions\\n\\nPlanning is essentially in order to optimize believability at the moment vs in time.\\nPrompt template: {Intro of an agent X}. Here is X's plan today in broad strokes: 1)\\nRelationships between agents and observations of one agent by another are all taken into consideration for planning and reacting.\\nEnvironment information is present in a tree structure.\\n\\n\\n\\n\\n\\nThe generative agent architecture. (Image source: Park et al. 2023)\")])\n",
      "==================================\u001b[1m Ai Message \u001b[0m==================================\n",
      "\n",
      "- Standard method: Chain-of-Thought (CoT) prompting. You instruct the model to “think step by step” so it decomposes a complex task into smaller, sequential substeps before answering.\n",
      "\n",
      "Common extensions of CoT:\n",
      "- Tree-of-Thoughts (ToT): Explores multiple reasoning branches per step and searches over a tree of thoughts (e.g., BFS/DFS) with scoring or majority vote.\n",
      "- Self-Consistency: Samples multiple CoT traces and aggregates (e.g., majority vote) to improve robustness.\n",
      "- Least-to-Most: Decomposes a problem into simpler subproblems solved in increasing difficulty, using earlier solutions to tackle later parts.\n",
      "- ReAct: Interleaves thoughts with actions and observations, enabling tool use and environment interaction during reasoning.\n",
      "- Plan-and-Solve: First produces an explicit high-level plan, then executes it step-by-step.\n",
      "- Program-of-Thoughts / PAL: Uses code-like programs or external executors to structure and run parts of the reasoning.\n",
      "- Graph-of-Thoughts: Generalizes beyond linear chains to graph-structured reasoning that can branch, merge, and coordinate multiple thought paths.\n",
      "- LLM+P (planning with PDDL): Offloads long-horizon planning to a classical planner via PDDL, with the LLM translating between natural language and formal plans.\n",
      "- Reflexion / Self-Refine: Adds self-evaluation and iterative revision loops to critique and improve initial CoT outputs.\n"
     ]
    }
   ],
   "source": [
    "for event in agent_executor.stream(\n",
    "    input={\"messages\": [{\"role\": \"user\", \"content\": input_message}]},\n",
    "    stream_mode=\"values\",\n",
    "    config=config\n",
    "):\n",
    "    event[\"messages\"][-1].pretty_print()"
   ]
  },
  {
   "cell_type": "code",
   "execution_count": null,
   "id": "746763ef",
   "metadata": {},
   "outputs": [],
   "source": []
  }
 ],
 "metadata": {
  "kernelspec": {
   "display_name": "RAG-Bootcamp",
   "language": "python",
   "name": "python3"
  },
  "language_info": {
   "codemirror_mode": {
    "name": "ipython",
    "version": 3
   },
   "file_extension": ".py",
   "mimetype": "text/x-python",
   "name": "python",
   "nbconvert_exporter": "python",
   "pygments_lexer": "ipython3",
   "version": "3.12.7"
  }
 },
 "nbformat": 4,
 "nbformat_minor": 5
}
